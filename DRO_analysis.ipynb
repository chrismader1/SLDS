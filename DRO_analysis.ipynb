{
 "cells": [
  {
   "cell_type": "code",
   "execution_count": 12,
   "id": "188e075e-79f2-4614-9716-9ff9fec1dd0b",
   "metadata": {},
   "outputs": [],
   "source": [
    "# DRO analysis"
   ]
  },
  {
   "cell_type": "code",
   "execution_count": 14,
   "id": "27605cf3-8f1c-446e-9d47-c7ebb7d00ffc",
   "metadata": {},
   "outputs": [
    {
     "name": "stdout",
     "output_type": "stream",
     "text": [
      "GPU=False\n"
     ]
    }
   ],
   "source": [
    "import numpy as np, pandas as pd\n",
    "import matplotlib.pyplot as plt\n",
    "import pickle, gzip, os\n",
    "from dro import *"
   ]
  },
  {
   "cell_type": "code",
   "execution_count": 18,
   "id": "9dde4290-62ca-49f7-a20b-5a303a420ebc",
   "metadata": {},
   "outputs": [],
   "source": [
    "# Import DRO results\n",
    "out = load_out(\"/Users/chrismader/Python/SLDS/Output/dro_run.pkl.gz\")"
   ]
  },
  {
   "cell_type": "code",
   "execution_count": 20,
   "id": "4190d3e0-deb5-454d-abf4-a4f214291070",
   "metadata": {},
   "outputs": [
    {
     "data": {
      "text/html": [
       "<div>\n",
       "<style scoped>\n",
       "    .dataframe tbody tr th:only-of-type {\n",
       "        vertical-align: middle;\n",
       "    }\n",
       "\n",
       "    .dataframe tbody tr th {\n",
       "        vertical-align: top;\n",
       "    }\n",
       "\n",
       "    .dataframe thead th {\n",
       "        text-align: right;\n",
       "    }\n",
       "</style>\n",
       "<table border=\"1\" class=\"dataframe\">\n",
       "  <thead>\n",
       "    <tr style=\"text-align: right;\">\n",
       "      <th></th>\n",
       "      <th>MVO</th>\n",
       "      <th>DRO (Static)</th>\n",
       "      <th>Regime-DRO</th>\n",
       "    </tr>\n",
       "  </thead>\n",
       "  <tbody>\n",
       "    <tr>\n",
       "      <th>mu_ann</th>\n",
       "      <td>0.3012</td>\n",
       "      <td>0.3021</td>\n",
       "      <td>NaN</td>\n",
       "    </tr>\n",
       "    <tr>\n",
       "      <th>sigma_ann</th>\n",
       "      <td>0.3426</td>\n",
       "      <td>0.3426</td>\n",
       "      <td>237.6533</td>\n",
       "    </tr>\n",
       "    <tr>\n",
       "      <th>sharpe_ann</th>\n",
       "      <td>0.8259</td>\n",
       "      <td>0.8277</td>\n",
       "      <td>1.1622</td>\n",
       "    </tr>\n",
       "    <tr>\n",
       "      <th>vol_breach</th>\n",
       "      <td>0.0426</td>\n",
       "      <td>0.0426</td>\n",
       "      <td>237.3533</td>\n",
       "    </tr>\n",
       "    <tr>\n",
       "      <th>max_drawdown</th>\n",
       "      <td>-0.5868</td>\n",
       "      <td>-0.5868</td>\n",
       "      <td>NaN</td>\n",
       "    </tr>\n",
       "  </tbody>\n",
       "</table>\n",
       "</div>"
      ],
      "text/plain": [
       "                  MVO DRO (Static) Regime-DRO\n",
       "mu_ann         0.3012       0.3021        NaN\n",
       "sigma_ann      0.3426       0.3426   237.6533\n",
       "sharpe_ann     0.8259       0.8277     1.1622\n",
       "vol_breach     0.0426       0.0426   237.3533\n",
       "max_drawdown  -0.5868      -0.5868        NaN"
      ]
     },
     "metadata": {},
     "output_type": "display_data"
    }
   ],
   "source": [
    "# Print results\n",
    "results = {\n",
    "    \"MVO\":          pd.DataFrame([out[\"MVO\"][\"summary\"]]),\n",
    "    \"DRO (Static)\": pd.DataFrame([out[\"PartA\"][\"summary\"]]),\n",
    "    \"Regime-DRO\":   pd.DataFrame([out[\"PartB\"][\"summary\"]]),\n",
    "}\n",
    "\n",
    "tbl = oos_summary(results, model_order=[\"MVO\",\"DRO (Static)\",\"Regime-DRO\"])\n",
    "display(tbl.loc[[\"mu_ann\",\"sigma_ann\",\"sharpe_ann\",\"vol_breach\",\"max_drawdown\"]])"
   ]
  },
  {
   "cell_type": "code",
   "execution_count": 22,
   "id": "c8ecadf3-df7a-4707-9769-592855e91a29",
   "metadata": {},
   "outputs": [
    {
     "name": "stderr",
     "output_type": "stream",
     "text": [
      "/opt/anaconda3/lib/python3.12/site-packages/numpy/core/fromnumeric.py:59: RuntimeWarning: overflow encountered in accumulate\n",
      "  return bound(*args, **kwds)\n"
     ]
    },
    {
     "data": {
      "text/plain": [
       "<matplotlib.legend.Legend at 0x305688ec0>"
      ]
     },
     "execution_count": 22,
     "metadata": {},
     "output_type": "execute_result"
    },
    {
     "data": {
      "image/png": "[encoded data removed]",
      "text/plain": [
       "<Figure size 800x400 with 1 Axes>"
      ]
     },
     "metadata": {},
     "output_type": "display_data"
    }
   ],
   "source": [
    "# Plot Portfolio A vs Portfolio B\n",
    "\n",
    "# pull series safely\n",
    "sA = pd.Series(out[\"series\"].get(\"PartA_daily\", pd.Series(dtype=float))).sort_index()\n",
    "sB = pd.Series(out[\"series\"].get(\"PartB_daily\", pd.Series(dtype=float))).sort_index()\n",
    "\n",
    "if sA.empty or sB.empty:\n",
    "    raise ValueError(\"Missing series in `out['series']`. Expected 'PartA_daily' and 'PartB_daily'.\")\n",
    "\n",
    "# cumulative returns\n",
    "cumA = (1 + sA).cumprod() - 1\n",
    "cumB = (1 + sB).cumprod() - 1\n",
    "\n",
    "# --- cumulative on one chart ---\n",
    "fig, ax = plt.subplots(figsize=(8, 4))\n",
    "cumA.plot(ax=ax, label=\"Portfolio A (Static)\")\n",
    "cumB.plot(ax=ax, label=\"Portfolio B (Regime)\")\n",
    "ax.set_title(\"Cumulative Return\")\n",
    "ax.set_xlabel(\"Date\")\n",
    "ax.set_ylabel(\"Cumulative return\")\n",
    "ax.grid(True, alpha=0.3)\n",
    "ax.legend()"
   ]
  },
  {
   "cell_type": "code",
   "execution_count": 24,
   "id": "3744fe1c-07b7-4481-9c1b-80558e421f55",
   "metadata": {},
   "outputs": [
    {
     "data": {
      "text/html": [
       "<div>\n",
       "<style scoped>\n",
       "    .dataframe tbody tr th:only-of-type {\n",
       "        vertical-align: middle;\n",
       "    }\n",
       "\n",
       "    .dataframe tbody tr th {\n",
       "        vertical-align: top;\n",
       "    }\n",
       "\n",
       "    .dataframe thead th {\n",
       "        text-align: right;\n",
       "    }\n",
       "</style>\n",
       "<table border=\"1\" class=\"dataframe\">\n",
       "  <thead>\n",
       "    <tr style=\"text-align: right;\">\n",
       "      <th></th>\n",
       "      <th>Static δ (Part A)</th>\n",
       "      <th>Regime δ_k (Part B)</th>\n",
       "    </tr>\n",
       "  </thead>\n",
       "  <tbody>\n",
       "    <tr>\n",
       "      <th>0</th>\n",
       "      <td>NaN</td>\n",
       "      <td>{'count': 446.0, 'mean': 0.0018515380316184026...</td>\n",
       "    </tr>\n",
       "  </tbody>\n",
       "</table>\n",
       "</div>"
      ],
      "text/plain": [
       "   Static δ (Part A)                                Regime δ_k (Part B)\n",
       "0                NaN  {'count': 446.0, 'mean': 0.0018515380316184026..."
      ]
     },
     "metadata": {},
     "output_type": "display_data"
    }
   ],
   "source": [
    "# Show deltas got tighter\n",
    "\n",
    "summA = pd.Series(out[\"PartA\"][\"summary\"])\n",
    "summB = pd.Series(out[\"PartB\"][\"summary\"])\n",
    "\n",
    "# pull delta and per-segment deltas\n",
    "delta_A = float(summA.get(\"delta\", float(\"nan\")))\n",
    "delta_ks = [summB[k] for k in summB.index if str(k).startswith(\"delta_k\")]\n",
    "display(pd.DataFrame({\n",
    "    \"Static δ (Part A)\": [delta_A],\n",
    "    \"Regime δ_k (Part B)\": [pd.Series(delta_ks, dtype=float).describe()[[\"count\",\"mean\",\"min\",\"25%\",\"50%\",\"75%\",\"max\"]].to_dict()]\n",
    "}))\n"
   ]
  },
  {
   "cell_type": "code",
   "execution_count": 26,
   "id": "c5912259-bd1b-4edc-b43e-302228bd1341",
   "metadata": {},
   "outputs": [
    {
     "data": {
      "text/html": [
       "<div>\n",
       "<style scoped>\n",
       "    .dataframe tbody tr th:only-of-type {\n",
       "        vertical-align: middle;\n",
       "    }\n",
       "\n",
       "    .dataframe tbody tr th {\n",
       "        vertical-align: top;\n",
       "    }\n",
       "\n",
       "    .dataframe thead th {\n",
       "        text-align: right;\n",
       "    }\n",
       "</style>\n",
       "<table border=\"1\" class=\"dataframe\">\n",
       "  <thead>\n",
       "    <tr style=\"text-align: right;\">\n",
       "      <th></th>\n",
       "      <th>DRO (Static)</th>\n",
       "      <th>Regime-DRO</th>\n",
       "    </tr>\n",
       "  </thead>\n",
       "  <tbody>\n",
       "    <tr>\n",
       "      <th>mu_ann</th>\n",
       "      <td>0.3021</td>\n",
       "      <td>NaN</td>\n",
       "    </tr>\n",
       "    <tr>\n",
       "      <th>sigma_ann</th>\n",
       "      <td>0.3426</td>\n",
       "      <td>237.6533</td>\n",
       "    </tr>\n",
       "    <tr>\n",
       "      <th>sharpe_ann</th>\n",
       "      <td>0.8277</td>\n",
       "      <td>1.1622</td>\n",
       "    </tr>\n",
       "    <tr>\n",
       "      <th>vol_breach</th>\n",
       "      <td>0.0426</td>\n",
       "      <td>237.3533</td>\n",
       "    </tr>\n",
       "    <tr>\n",
       "      <th>max_drawdown</th>\n",
       "      <td>-0.5868</td>\n",
       "      <td>NaN</td>\n",
       "    </tr>\n",
       "  </tbody>\n",
       "</table>\n",
       "</div>"
      ],
      "text/plain": [
       "             DRO (Static) Regime-DRO\n",
       "mu_ann             0.3021        NaN\n",
       "sigma_ann          0.3426   237.6533\n",
       "sharpe_ann         0.8277     1.1622\n",
       "vol_breach         0.0426   237.3533\n",
       "max_drawdown      -0.5868        NaN"
      ]
     },
     "metadata": {},
     "output_type": "display_data"
    }
   ],
   "source": [
    "# Compare OOS performance\n",
    "\n",
    "from dro import oos_summary\n",
    "\n",
    "results = {\n",
    "    \"DRO (Static)\": pd.DataFrame([out[\"PartA\"][\"summary\"]]),\n",
    "    \"Regime-DRO\":   pd.DataFrame([out[\"PartB\"][\"summary\"]]),\n",
    "}\n",
    "tbl = oos_summary(results, model_order=[\"DRO (Static)\",\"Regime-DRO\"])\n",
    "display(tbl.loc[[\"mu_ann\",\"sigma_ann\",\"sharpe_ann\",\"vol_breach\",\"max_drawdown\"]])\n"
   ]
  },
  {
   "cell_type": "code",
   "execution_count": 28,
   "id": "a1c0e7b0-3a0d-43b6-8136-2997ae1fcba9",
   "metadata": {},
   "outputs": [
    {
     "name": "stdout",
     "output_type": "stream",
     "text": [
      "\n",
      "========================================================================\n",
      "HYPOTHESIS TESTS  (alpha = 0.05, confidence = 95%)\n",
      "========================================================================\n",
      "\n",
      "[1] Risk-budget breaches (vol_breach)\n",
      "\n",
      "1A) Regime-DRO vs DRO (Static) — vol_breach (paired t-test, one-sided)\n",
      "   H0: mean(Regime-DRO_vol_breach - DRO (Static)_vol_breach) = 0\n",
      "   H1: mean(Regime-DRO_vol_breach - DRO (Static)_vol_breach) < 0\n",
      "   Test: Paired t-test on differences (Regime-DRO - DRO (Static))\n",
      "   alpha=0.05, t=nan, p(one-sided)=nan, mean diff=237.310699\n",
      "   Conclusion: FAIL TO REJECT H0 — No significant reduction in breaches.\n",
      "\n",
      "[2] Performance\n",
      "\n",
      "2A) Superiority: Regime-DRO vs DRO (Static) — Sharpe (paired t-test)\n",
      "   H0: mean(Regime-DRO_sharpe - DRO (Static)_sharpe) ≤ 0\n",
      "   H1: mean(Regime-DRO_sharpe - DRO (Static)_sharpe) > 0\n",
      "   alpha=0.05, t=nan, p(one-sided)=nan, mean diff=0.334468\n",
      "   Conclusion: FAIL TO REJECT H0 — No significant Sharpe improvement detected.\n"
     ]
    },
    {
     "name": "stderr",
     "output_type": "stream",
     "text": [
      "/opt/anaconda3/lib/python3.12/site-packages/scipy/stats/_stats_py.py:1243: RuntimeWarning: divide by zero encountered in divide\n",
      "  var *= np.divide(n, n-ddof)  # to avoid error on division by zero\n",
      "/opt/anaconda3/lib/python3.12/site-packages/scipy/stats/_stats_py.py:1243: RuntimeWarning: invalid value encountered in scalar multiply\n",
      "  var *= np.divide(n, n-ddof)  # to avoid error on division by zero\n"
     ]
    }
   ],
   "source": [
    "# Quick hypothesis checks (paired tests work with m=1; p’s will be NaN—ok for a single trial; for multiple trials, they’ll be informative)\n",
    "\n",
    "from dro import hypothesis_tests\n",
    "\n",
    "hypothesis_tests(\n",
    "    results,\n",
    "    tests=[\n",
    "        {\"kind\":\"breach_less\",        \"A\":\"Regime-DRO\", \"B\":\"DRO (Static)\"},\n",
    "        {\"kind\":\"superiority_sharpe\", \"A\":\"Regime-DRO\", \"B\":\"DRO (Static)\"},\n",
    "    ],\n",
    "    alpha=0.05,\n",
    ")\n",
    "\n",
    "# Optional: add MVO baseline with fit_mvo(...) exactly like Part-A (set delta=0) and append to results."
   ]
  },
  {
   "cell_type": "code",
   "execution_count": null,
   "id": "e66cb51b-dbad-445c-a329-c4663f0c0715",
   "metadata": {},
   "outputs": [],
   "source": [
    "# Confirm:\n",
    "# Expecting to see: the distribution of delta_k in Part B is typically below Part A. When regimes are stationary → tighter radii.\n",
    "# OOS: higher Sharpe / lower breach and often lower drawdown for Regime-DRO vs static DRO (and vs MVO), on the same risk budget."
   ]
  }
 ],
 "metadata": {
  "kernelspec": {
   "display_name": "Python [conda env:base] *",
   "language": "python",
   "name": "conda-base-py"
  },
  "language_info": {
   "codemirror_mode": {
    "name": "ipython",
    "version": 3
   },
   "file_extension": ".py",
   "mimetype": "text/x-python",
   "name": "python",
   "nbconvert_exporter": "python",
   "pygments_lexer": "ipython3",
   "version": "3.12.2"
  }
 },
 "nbformat": 4,
 "nbformat_minor": 5
}
