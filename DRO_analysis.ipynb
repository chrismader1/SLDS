{
 "cells": [
  {
   "cell_type": "code",
   "execution_count": null,
   "id": "188e075e-79f2-4614-9716-9ff9fec1dd0b",
   "metadata": {},
   "outputs": [],
   "source": [
    "# DRO analysis"
   ]
  },
  {
   "cell_type": "code",
   "execution_count": null,
   "id": "27605cf3-8f1c-446e-9d47-c7ebb7d00ffc",
   "metadata": {},
   "outputs": [],
   "source": [
    "import numpy as np, pandas as pd, \n",
    "import matplotlib.pyplot as plt\n",
    "import pickle, gzip, os"
   ]
  },
  {
   "cell_type": "code",
   "execution_count": null,
   "id": "9dde4290-62ca-49f7-a20b-5a303a420ebc",
   "metadata": {},
   "outputs": [],
   "source": [
    "# Import DRO results\n",
    "out = load_out(\"/Output/dro_run.pkl.gz\")"
   ]
  },
  {
   "cell_type": "code",
   "execution_count": null,
   "id": "4190d3e0-deb5-454d-abf4-a4f214291070",
   "metadata": {},
   "outputs": [],
   "source": [
    "# Print results\n",
    "results = {\n",
    "    \"MVO\":          pd.DataFrame([out[\"MVO\"][\"summary\"]]),\n",
    "    \"DRO (Static)\": pd.DataFrame([out[\"PartA\"][\"summary\"]]),\n",
    "    \"Regime-DRO\":   pd.DataFrame([out[\"PartB\"][\"summary\"]]),\n",
    "}\n",
    "\n",
    "tbl = oos_summary(results, model_order=[\"MVO\",\"DRO (Static)\",\"Regime-DRO\"])\n",
    "display(tbl.loc[[\"mu_ann\",\"sigma_ann\",\"sharpe_ann\",\"vol_breach\",\"max_drawdown\"]])"
   ]
  },
  {
   "cell_type": "code",
   "execution_count": null,
   "id": "c8ecadf3-df7a-4707-9769-592855e91a29",
   "metadata": {},
   "outputs": [],
   "source": [
    "# Plot Portfolio A vs Portfolio B\n",
    "\n",
    "# pull series safely\n",
    "sA = pd.Series(out[\"series\"].get(\"PartA_daily\", pd.Series(dtype=float))).sort_index()\n",
    "sB = pd.Series(out[\"series\"].get(\"PartB_daily\", pd.Series(dtype=float))).sort_index()\n",
    "\n",
    "if sA.empty or sB.empty:\n",
    "    raise ValueError(\"Missing series in `out['series']`. Expected 'PartA_daily' and 'PartB_daily'.\")\n",
    "\n",
    "# cumulative returns\n",
    "cumA = (1 + sA).cumprod() - 1\n",
    "cumB = (1 + sB).cumprod() - 1\n",
    "\n",
    "# --- cumulative on one chart ---\n",
    "fig, ax = plt.subplots(figsize=(8, 4))\n",
    "cumA.plot(ax=ax, label=\"Portfolio A (Static)\")\n",
    "cumB.plot(ax=ax, label=\"Portfolio B (Regime)\")\n",
    "ax.set_title(\"Cumulative Return\")\n",
    "ax.set_xlabel(\"Date\")\n",
    "ax.set_ylabel(\"Cumulative return\")\n",
    "ax.grid(True, alpha=0.3)\n",
    "ax.legend()"
   ]
  },
  {
   "cell_type": "code",
   "execution_count": null,
   "id": "3744fe1c-07b7-4481-9c1b-80558e421f55",
   "metadata": {},
   "outputs": [],
   "source": [
    "# Show deltas got tighter\n",
    "\n",
    "summA = pd.Series(out[\"PartA\"][\"summary\"])\n",
    "summB = pd.Series(out[\"PartB\"][\"summary\"])\n",
    "\n",
    "# pull delta and per-segment deltas\n",
    "delta_A = float(summA.get(\"delta\", float(\"nan\")))\n",
    "delta_ks = [summB[k] for k in summB.index if str(k).startswith(\"delta_k\")]\n",
    "display(pd.DataFrame({\n",
    "    \"Static δ (Part A)\": [delta_A],\n",
    "    \"Regime δ_k (Part B)\": [pd.Series(delta_ks, dtype=float).describe()[[\"count\",\"mean\",\"min\",\"25%\",\"50%\",\"75%\",\"max\"]].to_dict()]\n",
    "}))\n"
   ]
  },
  {
   "cell_type": "code",
   "execution_count": null,
   "id": "c5912259-bd1b-4edc-b43e-302228bd1341",
   "metadata": {},
   "outputs": [],
   "source": [
    "# Compare OOS performance\n",
    "\n",
    "from dro import oos_summary\n",
    "\n",
    "results = {\n",
    "    \"DRO (Static)\": pd.DataFrame([out[\"PartA\"][\"summary\"]]),\n",
    "    \"Regime-DRO\":   pd.DataFrame([out[\"PartB\"][\"summary\"]]),\n",
    "}\n",
    "tbl = oos_summary(results, model_order=[\"DRO (Static)\",\"Regime-DRO\"])\n",
    "display(tbl.loc[[\"mu_ann\",\"sigma_ann\",\"sharpe_ann\",\"vol_breach\",\"max_drawdown\"]])\n"
   ]
  },
  {
   "cell_type": "code",
   "execution_count": null,
   "id": "a1c0e7b0-3a0d-43b6-8136-2997ae1fcba9",
   "metadata": {},
   "outputs": [],
   "source": [
    "# Quick hypothesis checks (paired tests work with m=1; p’s will be NaN—ok for a single trial; for multiple trials, they’ll be informative)\n",
    "\n",
    "from dro import hypothesis_tests\n",
    "\n",
    "hypothesis_tests(\n",
    "    results,\n",
    "    tests=[\n",
    "        {\"kind\":\"breach_less\",        \"A\":\"Regime-DRO\", \"B\":\"DRO (Static)\"},\n",
    "        {\"kind\":\"superiority_sharpe\", \"A\":\"Regime-DRO\", \"B\":\"DRO (Static)\"},\n",
    "    ],\n",
    "    alpha=0.05,\n",
    ")\n",
    "\n",
    "# Optional: add MVO baseline with fit_mvo(...) exactly like Part-A (set delta=0) and append to results."
   ]
  },
  {
   "cell_type": "code",
   "execution_count": null,
   "id": "e66cb51b-dbad-445c-a329-c4663f0c0715",
   "metadata": {},
   "outputs": [],
   "source": [
    "# Confirm:\n",
    "# Expecting to see: the distribution of delta_k in Part B is typically below Part A. When regimes are stationary → tighter radii.\n",
    "# OOS: higher Sharpe / lower breach and often lower drawdown for Regime-DRO vs static DRO (and vs MVO), on the same risk budget."
   ]
  }
 ],
 "metadata": {
  "kernelspec": {
   "display_name": "Python [conda env:base] *",
   "language": "python",
   "name": "conda-base-py"
  },
  "language_info": {
   "codemirror_mode": {
    "name": "ipython",
    "version": 3
   },
   "file_extension": ".py",
   "mimetype": "text/x-python",
   "name": "python",
   "nbconvert_exporter": "python",
   "pygments_lexer": "ipython3",
   "version": "3.12.2"
  }
 },
 "nbformat": 4,
 "nbformat_minor": 5
}
