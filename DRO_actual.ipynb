{
 "cells": [
  {
   "cell_type": "code",
   "execution_count": 2,
   "id": "188e075e-79f2-4614-9716-9ff9fec1dd0b",
   "metadata": {},
   "outputs": [],
   "source": [
    "# DRO actual data "
   ]
  },
  {
   "cell_type": "code",
   "execution_count": 3,
   "id": "0fbf7e72-690a-4972-a119-06358bcff833",
   "metadata": {},
   "outputs": [],
   "source": [
    "IN_COLAB = False\n",
    "REMOUNT = False"
   ]
  },
  {
   "cell_type": "code",
   "execution_count": 4,
   "id": "8be9334d-ef15-465a-a8cf-d5f8939d6853",
   "metadata": {},
   "outputs": [],
   "source": [
    "# RUN IN COLAB ONLY: mount Google drive\n",
    "if IN_COLAB:\n",
    "    from google.colab import drive\n",
    "    drive.mount('/content/drive')"
   ]
  },
  {
   "cell_type": "code",
   "execution_count": 5,
   "id": "591443f8-a593-46b4-aa25-1a4377dac01f",
   "metadata": {},
   "outputs": [],
   "source": [
    "# RUN IN COLAB ONLY: unmount, remount Google drive - if required\n",
    "if REMOUNT:\n",
    "    !fusermount -u /content/drive 2>/dev/null || true\n",
    "    !rm -rf /content/drive\n",
    "    from google.colab import auth\n",
    "    auth.authenticate_user()\n",
    "    from google.colab import drive\n",
    "    drive.mount('/content/drive', force_remount=True)"
   ]
  },
  {
   "cell_type": "code",
   "execution_count": 6,
   "id": "67c0c92b-1d1b-4dca-9cba-28d3e9520bd3",
   "metadata": {},
   "outputs": [],
   "source": [
    "# RUN IN COLAB ONLY: force-fetch latest files from GitHub (overwrite local copies)\n",
    "if IN_COLAB:\n",
    "    !rm -rf /content/SLDS\n",
    "    !git clone --depth=1 https://github.com/chrismader1/SLDS.git /content/SLDS\n",
    "    import sys\n",
    "    sys.path.append(\"/content/SLDS\")"
   ]
  },
  {
   "cell_type": "code",
   "execution_count": 7,
   "id": "e26ef41f-d8a5-4518-8ecb-9fc759476dcb",
   "metadata": {},
   "outputs": [],
   "source": [
    "# RUN IN COLAB ONLY: prevent timeouts\n",
    "if IN_COLAB:\n",
    "    from IPython.display import Javascript, display\n",
    "    display(Javascript(\"\"\"\n",
    "    (function keepAlive(){\n",
    "      function clickConnect(){\n",
    "        // Try shadow-root button (newer Colab)\n",
    "        const el = document.querySelector('colab-connect-button');\n",
    "        if (el && el.shadowRoot){\n",
    "          const btn = el.shadowRoot.querySelector('#connect');\n",
    "          if (btn){ btn.click(); console.log('keepAlive: clicked shadow connect'); return; }\n",
    "        }\n",
    "        // Fallbacks\n",
    "        const btn2 = document.querySelector('#connect, button#connect');\n",
    "        if (btn2){ btn2.click(); console.log('keepAlive: clicked #connect'); return; }\n",
    "        console.log('keepAlive: connect button not found');\n",
    "      }\n",
    "      setInterval(clickConnect, 60 * 1000);\n",
    "      console.log('keepAlive: armed');\n",
    "    })();\n",
    "    \"\"\"))"
   ]
  },
  {
   "cell_type": "code",
   "execution_count": 8,
   "id": "1b7322c9-41a3-4ca5-b9c7-f441f8dd36cf",
   "metadata": {},
   "outputs": [],
   "source": [
    "# RUN IN COLAB ONLY: clear cache\n",
    "if IN_COLAB:\n",
    "    !rm -f \"/content/drive/MyDrive/Colab Notebooks/SLDS/Data/gridsearch_results.csv\"\n",
    "    !rm -f \"/content/drive/MyDrive/Colab Notebooks/SLDS/Data/gridsearch_segments.csv\"\n",
    "    !echo \"Reset done.\""
   ]
  },
  {
   "cell_type": "code",
   "execution_count": 9,
   "id": "25a07c9a-2391-44b4-b262-7041049ff74c",
   "metadata": {},
   "outputs": [],
   "source": [
    "if IN_COLAB:\n",
    "    !pip -q install -U \"cupy-cuda12x>=13.0.0\"\n",
    "    !pip -q install -U cvxpy clarabel"
   ]
  },
  {
   "cell_type": "code",
   "execution_count": 10,
   "id": "c058756c-7cd1-4692-82e1-dad06bdd4b67",
   "metadata": {},
   "outputs": [],
   "source": [
    "if IN_COLAB:\n",
    "    import cupy as cp\n",
    "    assert cp.cuda.runtime.getDeviceCount() > 0\n",
    "    print(cp.cuda.runtime.getDeviceProperties(0)['name'])"
   ]
  },
  {
   "cell_type": "code",
   "execution_count": 11,
   "id": "8f1017d1-2f8c-4bbd-bfb1-02913d37990d",
   "metadata": {},
   "outputs": [
    {
     "name": "stdout",
     "output_type": "stream",
     "text": [
      "GPU=False\n"
     ]
    }
   ],
   "source": [
    "import numpy as np\n",
    "import pandas as pd\n",
    "import matplotlib.pyplot as plt\n",
    "import itertools, warnings, os\n",
    "from dro import *\n",
    "\n",
    "# import warnings\n",
    "# warnings.filterwarnings(\"ignore\", message=r\"Argument (sub|subj) .* Incorrect array format causing data to be copied\")\n",
    "# pd.set_option('future.no_silent_downcasting', True)"
   ]
  },
  {
   "cell_type": "code",
   "execution_count": 12,
   "id": "02b6377d-fd20-47e2-8a95-c0dae09afa62",
   "metadata": {},
   "outputs": [],
   "source": [
    "# paths\n",
    "\n",
    "res = \"gridsearch_results1\"\n",
    "par = \"gridsearch_segments1\"\n",
    "\n",
    "COLAB_PATHS = {\n",
    "    \"data_excel\": \"/content/drive/MyDrive/Colab Notebooks/SLDS/Data/bbg_data.xlsx\",  # Google Drive\n",
    "    \"results_csv\": f\"/content/drive/MyDrive/Colab Notebooks/SLDS/Out/{res}.csv\",            # Google Drive\n",
    "    \"segments_parquet\": f\"/content/drive/MyDrive/Colab Notebooks/SLDS/Out/{par}.parquet\",  # Google Drive\n",
    "    \"dro_pickle\": \"/content/drive/MyDrive/Colab Notebooks/SLDS/Out/dro_run.pkl.gz\"\n",
    "}\n",
    "\n",
    "LOCAL_PATHS = {\n",
    "    \"data_excel\": \"/Users/chrismader/Python/SLDS/Data/bbg_data.xlsx\",\n",
    "    \"results_csv\": f\"/Users/chrismader/Python/SLDS/Output/{res}.csv\",\n",
    "    \"segments_parquet\": f\"/Users/chrismader/Python/SLDS/Output/{par}.parquet\",\n",
    "    \"dro_pickle\": \"/Users/chrismader/Python/SLDS/Output/dro_run.pkl.gz\"\n",
    "}"
   ]
  },
  {
   "cell_type": "code",
   "execution_count": 13,
   "id": "bc089055-a415-4653-8c80-d04fec68cd5d",
   "metadata": {},
   "outputs": [],
   "source": [
    "# -------------------------\n",
    "# CONFIG\n",
    "# -------------------------\n",
    "\n",
    "CONFIG = {\n",
    "    # rSLDS model preferences\n",
    "    \"prefer_configs\": [\n",
    "        # {'config': '[g,v,h]',        'n_regimes': 3, 'dim_latent': 2},\n",
    "        # {'config': '[g,v]',          'n_regimes': 3, 'dim_latent': 2},\n",
    "        # {'config': '[y,g,v,h]',      'n_regimes': 3, 'dim_latent': 3},\n",
    "        # {'config': '[y,h]',          'n_regimes': 3, 'dim_latent': 2},\n",
    "        # {'config': '[y]',            'n_regimes': 3, 'dim_latent': 1},\n",
    "        # {'config': 'factor1',        'n_regimes': 3, 'dim_latent': 2},\n",
    "        # {'config': 'factor1_vix',    'n_regimes': 3, 'dim_latent': 3},\n",
    "        {'config': 'factor2_ff3',    'n_regimes': 3, 'dim_latent': 3},\n",
    "        # {'config': 'factor2_ff3mom', 'n_regimes': 3, 'dim_latent': 4},\n",
    "        # {'config': 'factor2_ff5',    'n_regimes': 3, 'dim_latent': 5},\n",
    "        # {'config': 'factor2_ff5mom', 'n_regimes': 3, 'dim_latent': 6},\n",
    "        # {'config': 'fund1',          'n_regimes': 3, 'dim_latent': 2},\n",
    "        # {'config': 'fund1_vix',      'n_regimes': 3, 'dim_latent': 3},\n",
    "        # {'config': 'fund2',          'n_regimes': 3, 'dim_latent': 2},\n",
    "        # {'config': 'fund2_vix',      'n_regimes': 3, 'dim_latent': 3},\n",
    "        # {'config': 'fund3',          'n_regimes': 3, 'dim_latent': 2},\n",
    "        # {'config': 'fund3_vix',      'n_regimes': 3, 'dim_latent': 3},\n",
    "    ],\n",
    "\n",
    "    # Optimizer\n",
    "    \"seed\": None,\n",
    "    \"start_dt\": None,\n",
    "    \"end_dt\": None,\n",
    "    \"min_assets\": 3,\n",
    "    \"GLOBAL\": {\"risk_budget\": 0.30, \"risk_free_rate\": 0.0, \"epsilon_sigma\": 1e-6},\n",
    "    \"delta_name\": \"bootstrap_gaussian\",\n",
    "\n",
    "    # Delta defaults (flat under CONFIG)\n",
    "    \"delta_defaults\": {\n",
    "        \"kappa_l2\":           {\"delta_method\": \"kappa_l2\",           \"kappa\": 1.0},\n",
    "        \"kappa_rate\":         {\"delta_method\": \"kappa_rate\",         \"kappa\": 1.0},\n",
    "        \"bound_ek\":           {\"delta_method\": \"bound_ek\",           \"alpha\": 0.05, \"c1\": 3.0, \"c2\": 1.0, \"a\": 2.0},\n",
    "        \"bootstrap_np\":       {\"delta_method\": \"bootstrap_np\",       \"alpha\": 0.05, \"B\": 100, \"seed\": 0},\n",
    "        \"bootstrap_gaussian\": {\"delta_method\": \"bootstrap_gaussian\", \"alpha\": 0.05, \"B\": 100, \"seed\": 0},\n",
    "    },}\n",
    "\n",
    "PATHS = COLAB_PATHS if IN_COLAB else LOCAL_PATHS\n",
    "for k, v in PATHS.items(): \n",
    "    CONFIG[k] = v\n"
   ]
  },
  {
   "cell_type": "code",
   "execution_count": 14,
   "id": "3a61ed89-6a80-4b31-bcf0-6fe577869f31",
   "metadata": {},
   "outputs": [
    {
     "name": "stdout",
     "output_type": "stream",
     "text": [
      "[AAPL] raw segments: [0, 1308, 1569, 1831, 2092, 2353, 2613, 2734, 2735, 2833, 2834, 2835, 2875, 2893, 2923, 2957, 2967, 3079, 3105, 3137, 3400, 3463, 3464, 3521]\n",
      "[ACN] raw segments: [0, 1308, 1569, 1831, 2092, 2353, 2367, 2370, 2388, 2389, 2391, 2442, 2443, 2587, 2588, 2613, 2834, 2835, 2893, 2897, 2919, 2923, 2958, 2964, 3080, 3096, 3137, 3400, 3463, 3464, 3521]\n",
      "[ADBE] raw segments: [0, 1308, 1569, 1831, 2353, 2613, 3137, 3209, 3255, 3273, 3283, 3284, 3287, 3383, 3400, 3463, 3464, 3521]\n",
      "[AMAT] raw segments: [0, 1308, 1831, 2125, 2127, 2128, 2130, 2135, 2137, 2138, 2141, 2144, 2147, 2148, 2149, 2155, 2156, 2166, 2167, 2875, 3137, 3272, 3274, 3277, 3279, 3285, 3287, 3308, 3352, 3355, 3382, 3384, 3521]\n",
      "[AMD] raw segments: [0, 1308, 1569, 2092, 2140, 2141, 2148, 2150, 2353, 2613, 3209, 3273, 3283, 3284, 3285, 3384, 3400, 3463, 3464, 3521]\n",
      "[AMZN] raw segments: [0, 1569, 1831, 2135, 2137, 2138, 2142, 2367, 2372, 2388, 2391, 2442, 2445, 2490, 2492, 2535, 2537, 2589, 2613, 2875, 3137, 3209, 3242, 3273, 3283, 3284, 3287, 3383, 3462, 3464, 3521]\n",
      "[AVGO] raw segments: [0, 1569, 2092, 2125, 2131, 2132, 2138, 2140, 2142, 2144, 2147, 2148, 2149, 2152, 2154, 2155, 2156, 2166, 2168, 2174, 2175, 2182, 2183, 2203, 2205, 2212, 2213, 2268, 2302, 2303, 2353, 2367, 2373, 2388, 2396, 2442, 2445, 2541, 2543, 2594, 2612, 2875, 3137, 3400, 3521]\n",
      "[BKNG] raw segments: [0, 1308, 1831, 2092, 2125, 2127, 2128, 2130, 2135, 2137, 2138, 2140, 2141, 2142, 2144, 2147, 2148, 2149, 2155, 2156, 2166, 2167, 2174, 2175, 2302, 2303, 2353, 2613, 2834, 2835, 2875, 2893, 2923, 2957, 2967, 3033, 3117, 3137, 3400, 3463, 3464, 3521]\n",
      "[COST] raw segments: [0, 1308, 1569, 2092, 2125, 2127, 2128, 2131, 2135, 2137, 2138, 2142, 2146, 2147, 2148, 2149, 2155, 2156, 2166, 2167, 2302, 2303, 2613, 2875, 3137, 3400, 3463, 3464, 3521]\n",
      "[CRM] raw segments: [0, 1569, 1831, 2092, 2125, 2127, 2128, 2131, 2135, 2137, 2138, 2140, 2141, 2142, 2146, 2147, 2148, 2149, 2155, 2156, 2194, 2203, 2204, 2214, 2224, 2263, 2274, 2302, 2303, 2353, 2367, 2368, 2388, 2390, 2392, 2396, 2437, 2440, 2442, 2444, 2541, 2544, 2585, 2587, 2590, 2612, 2875, 3137, 3209, 3245, 3273, 3283, 3284, 3288, 3383, 3400, 3521]\n",
      "[CSCO] raw segments: [0, 1308, 1569, 1831, 2092, 2135, 2136, 2138, 2142, 2875, 2893, 2923, 2957, 2967, 3059, 3113, 3137, 3400, 3463, 3464, 3521]\n",
      "[DIS] raw segments: [0, 1308, 1831, 2092, 2125, 2131, 2132, 2142, 2144, 2149, 2152, 2154, 2155, 2156, 2161, 2162, 2166, 2168, 2174, 2176, 2181, 2183, 2203, 2205, 2212, 2214, 2268, 2302, 2304, 2353, 2613, 2834, 2835, 2920, 2924, 3400, 3463, 3464, 3521]\n",
      "[GOOGL] raw segments: [0, 1569, 1831, 2092, 2105, 2107, 2125, 2149, 2150, 2154, 2155, 2165, 2166, 2168, 2172, 2173, 2174, 2178, 2181, 2184, 2203, 2205, 2212, 2216, 2263, 2269, 2277, 2279, 2300, 2304, 2353, 2388, 2389, 2392, 2395, 2437, 2439, 2541, 2543, 2612, 2613, 3353, 3354, 3400, 3463, 3464, 3521]\n",
      "[HD] raw segments: [0, 1308, 1569, 1831, 2177, 2180, 2353, 2613, 2630, 2632, 2648, 2650, 2691, 2692, 2698, 2699, 2700, 2701, 2707, 2708, 2725, 2726, 2728, 2732, 2733, 2735, 2779, 2780, 2791, 2792, 2809, 2810, 2833, 2834, 2835, 2875, 2920, 2925, 3137, 3521]\n",
      "[IBM] raw segments: [0, 1308, 1569, 2092, 2125, 2147, 2148, 2156, 2157, 2178, 2182, 2203, 2208, 2212, 2218, 2263, 2272, 2277, 2281, 2302, 2311, 2353, 2367, 2370, 2388, 2391, 2393, 2395, 2397, 2437, 2440, 2442, 2444, 2490, 2492, 2588, 2612, 2613, 2629, 2630, 2638, 2639, 2648, 2654, 2657, 2659, 2661, 2662, 2666, 2677, 2691, 2699, 2703, 2714, 2719, 2723, 2728, 2733, 2751, 2753, 2757, 2759, 2768, 2775, 2803, 2804, 2805, 2806, 2815, 2818, 2833, 2834, 2847, 2851, 2874, 2875, 3400, 3521]\n",
      "[INTU] raw segments: [0, 1569, 1831, 2092, 2125, 2129, 2135, 2137, 2138, 2140, 2141, 2142, 2146, 2147, 2148, 2149, 2152, 2153, 2155, 2156, 2353, 2367, 2370, 2373, 2388, 2391, 2393, 2395, 2403, 2405, 2442, 2444, 2446, 2490, 2492, 2535, 2537, 2589, 2590, 2591, 2593, 2612, 2613, 2875, 3137, 3209, 3234, 3273, 3283, 3284, 3287, 3383, 3463, 3464, 3521]\n",
      "[KO] raw segments: [0, 1569, 1831, 2092, 2125, 2127, 2128, 2131, 2135, 2137, 2138, 2141, 2145, 2147, 2148, 2149, 2152, 2153, 2156, 2161, 2613, 2725, 2726, 2791, 2792, 2833, 2835, 2875, 3137, 3209, 3257, 3273, 3283, 3284, 3288, 3383, 3463, 3464, 3521]\n",
      "[MCD] raw segments: [0, 1569, 2092, 2139, 2140, 2353, 2367, 2368, 2389, 2394, 2541, 2543, 2587, 2588, 2612, 2613, 2875, 2920, 2923, 3137, 3209, 3259, 3273, 3283, 3284, 3288, 3383, 3400, 3521]\n",
      "[META] raw segments: [0, 1929, 2451, 2691, 2692, 2707, 2708, 2711, 2719, 2723, 2728, 2734, 2751, 2753, 2757, 2759, 2767, 2775, 2803, 2804, 2805, 2806, 2814, 2816, 2833, 2834, 2837, 2851, 2874, 2893, 2923, 2957, 2967, 2973, 3285, 3287, 3458, 3461, 3462, 3465, 3499, 3521]\n",
      "[MSFT] raw segments: [0, 1308, 1569, 1831, 2092, 2125, 2127, 2135, 2136, 2138, 2139, 2146, 2147, 2353, 2396, 2397, 2613, 2834, 2835, 3137, 3400, 3521]\n",
      "[NFLX] raw segments: [0, 1308, 1569, 1831, 2092, 2139, 2140, 2142, 2143, 2149, 2150, 2353, 2390, 2391, 2587, 2588, 2613, 2834, 2835, 2875, 3137, 3463, 3464, 3521]\n",
      "[NOW] raw segments: [0, 1960, 2221, 2725, 2726, 2743, 3005, 3267, 3521]\n",
      "[NVDA] raw segments: [0, 1569, 2125, 2127, 2128, 2130, 2135, 2137, 2138, 2142, 2146, 2147, 2148, 2149, 2155, 2156, 2166, 2167, 2302, 2303, 2588, 2613, 2725, 2726, 2834, 2835, 2875, 3287, 3288, 3400, 3463, 3464, 3521]\n",
      "[ORCL] raw segments: [0, 1308, 2092, 2125, 2141, 2142, 2147, 2148, 2156, 2157, 2180, 2182, 2203, 2208, 2212, 2218, 2263, 2272, 2277, 2282, 2302, 2311, 2353, 2367, 2371, 2388, 2391, 2396, 2442, 2444, 2541, 2543, 2589, 2590, 2612, 2875, 2893, 2923, 2957, 2967, 3079, 3101, 3137, 3209, 3269, 3273, 3283, 3284, 3287, 3383, 3400, 3463, 3464, 3521]\n",
      "[PG] raw segments: [0, 1308, 2092, 2125, 2127, 2135, 2137, 2138, 2139, 2140, 2141, 2142, 2146, 2147, 2148, 2149, 2155, 2156, 2393, 2397, 2541, 2546, 2612, 2613, 2875, 3137, 3463, 3464, 3521]\n",
      "[PLTR] raw segments: [0, 3521]\n",
      "[PM] raw segments: [0, 1308, 1569, 1831, 2092, 2125, 2133, 2135, 2142, 2146, 2147, 2148, 2149, 2152, 2154, 2155, 2156, 2166, 2168, 2174, 2176, 2203, 2205, 2302, 2304, 2353, 2389, 2391, 2392, 2395, 2442, 2470, 2541, 2546, 2587, 2589, 2592, 2601, 2612, 2613, 2875, 2920, 2925, 3137, 3463, 3464, 3521]\n",
      "[QCOM] raw segments: [0, 1308, 1831, 2092, 2138, 2139, 2140, 2141, 2142, 2353, 2613, 2629, 2630, 2638, 2639, 2648, 2655, 2657, 2659, 2661, 2662, 2666, 2677, 2687, 2689, 2691, 2699, 2703, 2708, 2719, 2723, 2728, 2734, 2751, 2753, 2757, 2758, 2767, 2775, 2803, 2804, 2805, 2806, 2814, 2816, 2833, 2834, 2835, 2841, 2851, 2874, 2875, 2893, 2923, 2958, 2967, 3083, 3096, 3400, 3521]\n",
      "[T] raw segments: [0, 1569, 1831, 2092, 2125, 2138, 2142, 2147, 2148, 2156, 2157, 2180, 2185, 2194, 2203, 2209, 2212, 2223, 2263, 2274, 2277, 2283, 2287, 2291, 2302, 2312, 2353, 2389, 2391, 2392, 2395, 2541, 2546, 2587, 2589, 2592, 2598, 2893, 2923, 2957, 2981, 3033, 3117, 3137, 3400, 3521]\n",
      "[TSLA] raw segments: [0, 1308, 1569, 2092, 2125, 2131, 2135, 2142, 2144, 2147, 2148, 2149, 2152, 2154, 2155, 2156, 2161, 2166, 2167, 2174, 2176, 2203, 2205, 2267, 2302, 2303, 2353, 2354, 2385, 2386, 2394, 2397, 2436, 2439, 2540, 2543, 2580, 2582, 2589, 2590, 2611, 2613, 2648, 2650, 2875, 3137, 3400, 3521]\n",
      "[TXN] raw segments: [0, 1308, 1569, 1831, 2125, 2127, 2128, 2131, 2135, 2137, 2138, 2142, 2146, 2147, 2148, 2149, 2155, 2156, 2166, 2167, 2203, 2205, 2302, 2303, 2353, 2613, 2875, 3137, 3209, 3250, 3273, 3283, 3284, 3285, 3286, 3288, 3383, 3400, 3459, 3460, 3463, 3464, 3521]\n",
      "[VZ] raw segments: [0, 1308, 1569, 1831, 2092, 2138, 2140, 2141, 2142, 2146, 2147, 2148, 2149, 2353, 2392, 2395, 2541, 2546, 2587, 2589, 2592, 2601, 2612, 2834, 2835, 2875, 3400, 3463, 3464, 3521]\n",
      "[WMT] raw segments: [0, 1569, 1831, 2105, 2107, 2125, 2131, 2132, 2140, 2141, 2142, 2143, 2144, 2149, 2150, 2151, 2152, 2154, 2155, 2156, 2157, 2158, 2161, 2164, 2166, 2168, 2174, 2176, 2177, 2181, 2184, 2188, 2203, 2205, 2212, 2216, 2217, 2263, 2268, 2270, 2277, 2279, 2302, 2304, 2306, 2307, 2308, 2309, 2313, 2353, 2369, 2374, 2392, 2400, 2490, 2491, 2612, 2613, 2626, 2627, 2630, 2632, 2633, 2634, 2648, 2650, 2655, 2656, 2661, 2665, 2689, 2692, 2694, 2695, 2698, 2699, 2700, 2701, 2702, 2703, 2704, 2706, 2707, 2708, 2724, 2726, 2728, 2735, 2779, 2780, 2791, 2792, 2809, 2810, 2815, 2817, 2827, 2828, 2833, 2834, 2847, 2848, 2858, 2859, 2893, 2923, 2957, 2967, 3079, 3108, 3137, 3400, 3459, 3461, 3521]\n",
      "\n",
      "[UNION] segments: [0, 1308, 1569, 1831, 1929, 1960, 2092, 2105, 2107, 2125, 2127, 2128, 2129, 2130, 2131, 2132, 2133, 2135, 2136, 2137, 2138, 2139, 2140, 2141, 2142, 2143, 2144, 2145, 2146, 2147, 2148, 2149, 2150, 2151, 2152, 2153, 2154, 2155, 2156, 2157, 2158, 2161, 2162, 2164, 2165, 2166, 2167, 2168, 2172, 2173, 2174, 2175, 2176, 2177, 2178, 2180, 2181, 2182, 2183, 2184, 2185, 2188, 2194, 2203, 2204, 2205, 2208, 2209, 2212, 2213, 2214, 2216, 2217, 2218, 2221, 2223, 2224, 2263, 2267, 2268, 2269, 2270, 2272, 2274, 2277, 2279, 2281, 2282, 2283, 2287, 2291, 2300, 2302, 2303, 2304, 2306, 2307, 2308, 2309, 2311, 2312, 2313, 2353, 2354, 2367, 2368, 2369, 2370, 2371, 2372, 2373, 2374, 2385, 2386, 2388, 2389, 2390, 2391, 2392, 2393, 2394, 2395, 2396, 2397, 2400, 2403, 2405, 2436, 2437, 2439, 2440, 2442, 2443, 2444, 2445, 2446, 2451, 2470, 2490, 2491, 2492, 2535, 2537, 2540, 2541, 2543, 2544, 2546, 2580, 2582, 2585, 2587, 2588, 2589, 2590, 2591, 2592, 2593, 2594, 2598, 2601, 2611, 2612, 2613, 2626, 2627, 2629, 2630, 2632, 2633, 2634, 2638, 2639, 2648, 2650, 2654, 2655, 2656, 2657, 2659, 2661, 2662, 2665, 2666, 2677, 2687, 2689, 2691, 2692, 2694, 2695, 2698, 2699, 2700, 2701, 2702, 2703, 2704, 2706, 2707, 2708, 2711, 2714, 2719, 2723, 2724, 2725, 2726, 2728, 2732, 2733, 2734, 2735, 2743, 2751, 2753, 2757, 2758, 2759, 2767, 2768, 2775, 2779, 2780, 2791, 2792, 2803, 2804, 2805, 2806, 2809, 2810, 2814, 2815, 2816, 2817, 2818, 2827, 2828, 2833, 2834, 2835, 2837, 2841, 2847, 2848, 2851, 2858, 2859, 2874, 2875, 2893, 2897, 2919, 2920, 2923, 2924, 2925, 2957, 2958, 2964, 2967, 2973, 2981, 3005, 3033, 3059, 3079, 3080, 3083, 3096, 3101, 3105, 3108, 3113, 3117, 3137, 3209, 3234, 3242, 3245, 3250, 3255, 3257, 3259, 3267, 3269, 3272, 3273, 3274, 3277, 3279, 3283, 3284, 3285, 3286, 3287, 3288, 3308, 3352, 3353, 3354, 3355, 3382, 3383, 3384, 3400, 3458, 3459, 3460, 3461, 3462, 3463, 3464, 3465, 3499, 3521]\n",
      "[t=0 | 2012-01-02] active: []\n",
      "[WARN][t=0 | 2012-01-02] only 0 active assets (<3).\n",
      "[t=1308 | 2017-01-05] active: ['AAPL', 'ACN', 'ADBE', 'AMAT', 'AMD', 'AMZN', 'AVGO', 'BKNG', 'COST', 'CRM', 'CSCO', 'DIS', 'GOOGL', 'HD', 'IBM', 'INTU', 'KO', 'MCD', 'META', 'MSFT', 'NFLX', 'NOW', 'NVDA', 'ORCL', 'PG', 'PM', 'QCOM', 'T', 'TSLA', 'TXN', 'VZ', 'WMT']\n"
     ]
    },
    {
     "name": "stderr",
     "output_type": "stream",
     "text": [
      "/opt/anaconda3/lib/python3.12/site-packages/cvxpy/reductions/solvers/solving_chain.py:356: FutureWarning: \n",
      "    You specified your problem should be solved by ECOS. Starting in\n",
      "    CXVPY 1.6.0, ECOS will no longer be installed by default with CVXPY.\n",
      "    Please either add ECOS as an explicit install dependency to your project\n",
      "    or switch to our new default solver, Clarabel, by either not specifying a\n",
      "    solver argument or specifying ``solver=cp.CLARABEL``. To suppress this\n",
      "    warning while continuing to use ECOS, you can filter this warning using\n",
      "    Python's ``warnings`` module until you are using 1.6.0.\n",
      "    \n",
      "  warnings.warn(ECOS_DEP_DEPRECATION_MSG, FutureWarning)\n",
      "/opt/anaconda3/lib/python3.12/site-packages/cvxpy/problems/problem.py:1407: UserWarning: Solution may be inaccurate. Try another solver, adjusting the solver settings, or solve with verbose=True for more information.\n",
      "  warnings.warn(\n"
     ]
    },
    {
     "name": "stdout",
     "output_type": "stream",
     "text": [
      "[t=1569 | 2018-01-05] active: ['AAPL', 'ACN', 'ADBE', 'AMAT', 'AMD', 'AMZN', 'AVGO', 'BKNG', 'COST', 'CRM', 'CSCO', 'DIS', 'GOOGL', 'HD', 'IBM', 'INTU', 'KO', 'MCD', 'META', 'MSFT', 'NFLX', 'NOW', 'NVDA', 'ORCL', 'PG', 'PM', 'QCOM', 'T', 'TSLA', 'TXN', 'VZ', 'WMT']\n"
     ]
    },
    {
     "name": "stderr",
     "output_type": "stream",
     "text": [
      "/opt/anaconda3/lib/python3.12/site-packages/cvxpy/reductions/solvers/solving_chain.py:356: FutureWarning: \n",
      "    You specified your problem should be solved by ECOS. Starting in\n",
      "    CXVPY 1.6.0, ECOS will no longer be installed by default with CVXPY.\n",
      "    Please either add ECOS as an explicit install dependency to your project\n",
      "    or switch to our new default solver, Clarabel, by either not specifying a\n",
      "    solver argument or specifying ``solver=cp.CLARABEL``. To suppress this\n",
      "    warning while continuing to use ECOS, you can filter this warning using\n",
      "    Python's ``warnings`` module until you are using 1.6.0.\n",
      "    \n",
      "  warnings.warn(ECOS_DEP_DEPRECATION_MSG, FutureWarning)\n",
      "/opt/anaconda3/lib/python3.12/site-packages/cvxpy/problems/problem.py:1407: UserWarning: Solution may be inaccurate. Try another solver, adjusting the solver settings, or solve with verbose=True for more information.\n",
      "  warnings.warn(\n"
     ]
    },
    {
     "name": "stdout",
     "output_type": "stream",
     "text": [
      "[t=1831 | 2019-01-08] active: ['AAPL', 'ACN', 'ADBE', 'AMAT', 'AMD', 'AMZN', 'AVGO', 'BKNG', 'COST', 'CRM', 'CSCO', 'DIS', 'GOOGL', 'HD', 'IBM', 'INTU', 'KO', 'MCD', 'META', 'MSFT', 'NFLX', 'NOW', 'NVDA', 'ORCL', 'PG', 'PM', 'QCOM', 'T', 'TSLA', 'TXN', 'VZ', 'WMT']\n"
     ]
    },
    {
     "name": "stderr",
     "output_type": "stream",
     "text": [
      "/opt/anaconda3/lib/python3.12/site-packages/cvxpy/reductions/solvers/solving_chain.py:356: FutureWarning: \n",
      "    You specified your problem should be solved by ECOS. Starting in\n",
      "    CXVPY 1.6.0, ECOS will no longer be installed by default with CVXPY.\n",
      "    Please either add ECOS as an explicit install dependency to your project\n",
      "    or switch to our new default solver, Clarabel, by either not specifying a\n",
      "    solver argument or specifying ``solver=cp.CLARABEL``. To suppress this\n",
      "    warning while continuing to use ECOS, you can filter this warning using\n",
      "    Python's ``warnings`` module until you are using 1.6.0.\n",
      "    \n",
      "  warnings.warn(ECOS_DEP_DEPRECATION_MSG, FutureWarning)\n",
      "/opt/anaconda3/lib/python3.12/site-packages/cvxpy/problems/problem.py:1407: UserWarning: Solution may be inaccurate. Try another solver, adjusting the solver settings, or solve with verbose=True for more information.\n",
      "  warnings.warn(\n"
     ]
    },
    {
     "name": "stdout",
     "output_type": "stream",
     "text": [
      "[t=1929 | 2019-05-24] active: ['AAPL', 'ACN', 'ADBE', 'AMAT', 'AMD', 'AMZN', 'AVGO', 'BKNG', 'COST', 'CRM', 'CSCO', 'DIS', 'GOOGL', 'HD', 'IBM', 'INTU', 'KO', 'MCD', 'META', 'MSFT', 'NFLX', 'NOW', 'NVDA', 'ORCL', 'PG', 'PM', 'QCOM', 'T', 'TSLA', 'TXN', 'VZ', 'WMT']\n"
     ]
    },
    {
     "name": "stderr",
     "output_type": "stream",
     "text": [
      "/opt/anaconda3/lib/python3.12/site-packages/cvxpy/reductions/solvers/solving_chain.py:356: FutureWarning: \n",
      "    You specified your problem should be solved by ECOS. Starting in\n",
      "    CXVPY 1.6.0, ECOS will no longer be installed by default with CVXPY.\n",
      "    Please either add ECOS as an explicit install dependency to your project\n",
      "    or switch to our new default solver, Clarabel, by either not specifying a\n",
      "    solver argument or specifying ``solver=cp.CLARABEL``. To suppress this\n",
      "    warning while continuing to use ECOS, you can filter this warning using\n",
      "    Python's ``warnings`` module until you are using 1.6.0.\n",
      "    \n",
      "  warnings.warn(ECOS_DEP_DEPRECATION_MSG, FutureWarning)\n",
      "/opt/anaconda3/lib/python3.12/site-packages/cvxpy/problems/problem.py:1407: UserWarning: Solution may be inaccurate. Try another solver, adjusting the solver settings, or solve with verbose=True for more information.\n",
      "  warnings.warn(\n"
     ]
    },
    {
     "name": "stdout",
     "output_type": "stream",
     "text": [
      "[t=1960 | 2019-07-08] active: ['AAPL', 'ACN', 'ADBE', 'AMAT', 'AMD', 'AMZN', 'AVGO', 'BKNG', 'COST', 'CRM', 'CSCO', 'DIS', 'GOOGL', 'HD', 'IBM', 'INTU', 'KO', 'MCD', 'META', 'MSFT', 'NFLX', 'NOW', 'NVDA', 'ORCL', 'PG', 'PM', 'QCOM', 'T', 'TSLA', 'TXN', 'VZ', 'WMT']\n"
     ]
    },
    {
     "name": "stderr",
     "output_type": "stream",
     "text": [
      "/opt/anaconda3/lib/python3.12/site-packages/cvxpy/reductions/solvers/solving_chain.py:356: FutureWarning: \n",
      "    You specified your problem should be solved by ECOS. Starting in\n",
      "    CXVPY 1.6.0, ECOS will no longer be installed by default with CVXPY.\n",
      "    Please either add ECOS as an explicit install dependency to your project\n",
      "    or switch to our new default solver, Clarabel, by either not specifying a\n",
      "    solver argument or specifying ``solver=cp.CLARABEL``. To suppress this\n",
      "    warning while continuing to use ECOS, you can filter this warning using\n",
      "    Python's ``warnings`` module until you are using 1.6.0.\n",
      "    \n",
      "  warnings.warn(ECOS_DEP_DEPRECATION_MSG, FutureWarning)\n",
      "/opt/anaconda3/lib/python3.12/site-packages/cvxpy/problems/problem.py:1407: UserWarning: Solution may be inaccurate. Try another solver, adjusting the solver settings, or solve with verbose=True for more information.\n",
      "  warnings.warn(\n"
     ]
    },
    {
     "name": "stdout",
     "output_type": "stream",
     "text": [
      "[t=2092 | 2020-01-08] active: ['AAPL', 'ACN', 'ADBE', 'AMAT', 'AMD', 'AMZN', 'AVGO', 'BKNG', 'COST', 'CRM', 'CSCO', 'DIS', 'GOOGL', 'HD', 'IBM', 'INTU', 'KO', 'MCD', 'META', 'MSFT', 'NFLX', 'NOW', 'NVDA', 'ORCL', 'PG', 'PM', 'QCOM', 'T', 'TSLA', 'TXN', 'VZ', 'WMT']\n"
     ]
    },
    {
     "name": "stderr",
     "output_type": "stream",
     "text": [
      "/opt/anaconda3/lib/python3.12/site-packages/cvxpy/reductions/solvers/solving_chain.py:356: FutureWarning: \n",
      "    You specified your problem should be solved by ECOS. Starting in\n",
      "    CXVPY 1.6.0, ECOS will no longer be installed by default with CVXPY.\n",
      "    Please either add ECOS as an explicit install dependency to your project\n",
      "    or switch to our new default solver, Clarabel, by either not specifying a\n",
      "    solver argument or specifying ``solver=cp.CLARABEL``. To suppress this\n",
      "    warning while continuing to use ECOS, you can filter this warning using\n",
      "    Python's ``warnings`` module until you are using 1.6.0.\n",
      "    \n",
      "  warnings.warn(ECOS_DEP_DEPRECATION_MSG, FutureWarning)\n",
      "/opt/anaconda3/lib/python3.12/site-packages/cvxpy/problems/problem.py:1407: UserWarning: Solution may be inaccurate. Try another solver, adjusting the solver settings, or solve with verbose=True for more information.\n",
      "  warnings.warn(\n"
     ]
    },
    {
     "name": "stdout",
     "output_type": "stream",
     "text": [
      "[t=2105 | 2020-01-27] active: ['AAPL', 'ACN', 'ADBE', 'AMAT', 'AMD', 'AMZN', 'AVGO', 'BKNG', 'COST', 'CRM', 'CSCO', 'DIS', 'GOOGL', 'HD', 'IBM', 'INTU', 'KO', 'MCD', 'META', 'MSFT', 'NFLX', 'NOW', 'NVDA', 'ORCL', 'PG', 'PM', 'QCOM', 'T', 'TSLA', 'TXN', 'VZ', 'WMT']\n"
     ]
    },
    {
     "name": "stderr",
     "output_type": "stream",
     "text": [
      "/opt/anaconda3/lib/python3.12/site-packages/cvxpy/reductions/solvers/solving_chain.py:356: FutureWarning: \n",
      "    You specified your problem should be solved by ECOS. Starting in\n",
      "    CXVPY 1.6.0, ECOS will no longer be installed by default with CVXPY.\n",
      "    Please either add ECOS as an explicit install dependency to your project\n",
      "    or switch to our new default solver, Clarabel, by either not specifying a\n",
      "    solver argument or specifying ``solver=cp.CLARABEL``. To suppress this\n",
      "    warning while continuing to use ECOS, you can filter this warning using\n",
      "    Python's ``warnings`` module until you are using 1.6.0.\n",
      "    \n",
      "  warnings.warn(ECOS_DEP_DEPRECATION_MSG, FutureWarning)\n",
      "/opt/anaconda3/lib/python3.12/site-packages/cvxpy/problems/problem.py:1407: UserWarning: Solution may be inaccurate. Try another solver, adjusting the solver settings, or solve with verbose=True for more information.\n",
      "  warnings.warn(\n"
     ]
    },
    {
     "name": "stdout",
     "output_type": "stream",
     "text": [
      "[t=2107 | 2020-01-29] active: ['AAPL', 'ACN', 'ADBE', 'AMAT', 'AMD', 'AMZN', 'AVGO', 'BKNG', 'COST', 'CRM', 'CSCO', 'DIS', 'GOOGL', 'HD', 'IBM', 'INTU', 'KO', 'MCD', 'META', 'MSFT', 'NFLX', 'NOW', 'NVDA', 'ORCL', 'PG', 'PM', 'QCOM', 'T', 'TSLA', 'TXN', 'VZ', 'WMT']\n"
     ]
    },
    {
     "name": "stderr",
     "output_type": "stream",
     "text": [
      "/opt/anaconda3/lib/python3.12/site-packages/cvxpy/reductions/solvers/solving_chain.py:356: FutureWarning: \n",
      "    You specified your problem should be solved by ECOS. Starting in\n",
      "    CXVPY 1.6.0, ECOS will no longer be installed by default with CVXPY.\n",
      "    Please either add ECOS as an explicit install dependency to your project\n",
      "    or switch to our new default solver, Clarabel, by either not specifying a\n",
      "    solver argument or specifying ``solver=cp.CLARABEL``. To suppress this\n",
      "    warning while continuing to use ECOS, you can filter this warning using\n",
      "    Python's ``warnings`` module until you are using 1.6.0.\n",
      "    \n",
      "  warnings.warn(ECOS_DEP_DEPRECATION_MSG, FutureWarning)\n",
      "/opt/anaconda3/lib/python3.12/site-packages/cvxpy/problems/problem.py:1407: UserWarning: Solution may be inaccurate. Try another solver, adjusting the solver settings, or solve with verbose=True for more information.\n",
      "  warnings.warn(\n"
     ]
    },
    {
     "name": "stdout",
     "output_type": "stream",
     "text": [
      "[t=2125 | 2020-02-24] active: ['AAPL', 'ACN', 'ADBE', 'AMAT', 'AMD', 'AMZN', 'AVGO', 'BKNG', 'COST', 'CRM', 'CSCO', 'DIS', 'GOOGL', 'HD', 'IBM', 'INTU', 'KO', 'MCD', 'META', 'MSFT', 'NFLX', 'NOW', 'NVDA', 'ORCL', 'PG', 'PM', 'QCOM', 'T', 'TSLA', 'TXN', 'VZ', 'WMT']\n"
     ]
    },
    {
     "name": "stderr",
     "output_type": "stream",
     "text": [
      "/opt/anaconda3/lib/python3.12/site-packages/cvxpy/reductions/solvers/solving_chain.py:356: FutureWarning: \n",
      "    You specified your problem should be solved by ECOS. Starting in\n",
      "    CXVPY 1.6.0, ECOS will no longer be installed by default with CVXPY.\n",
      "    Please either add ECOS as an explicit install dependency to your project\n",
      "    or switch to our new default solver, Clarabel, by either not specifying a\n",
      "    solver argument or specifying ``solver=cp.CLARABEL``. To suppress this\n",
      "    warning while continuing to use ECOS, you can filter this warning using\n",
      "    Python's ``warnings`` module until you are using 1.6.0.\n",
      "    \n",
      "  warnings.warn(ECOS_DEP_DEPRECATION_MSG, FutureWarning)\n",
      "/opt/anaconda3/lib/python3.12/site-packages/cvxpy/problems/problem.py:1407: UserWarning: Solution may be inaccurate. Try another solver, adjusting the solver settings, or solve with verbose=True for more information.\n",
      "  warnings.warn(\n"
     ]
    },
    {
     "name": "stdout",
     "output_type": "stream",
     "text": [
      "[t=2127 | 2020-02-26] active: ['AAPL', 'ACN', 'ADBE', 'AMAT', 'AMD', 'AMZN', 'AVGO', 'BKNG', 'COST', 'CRM', 'CSCO', 'DIS', 'GOOGL', 'HD', 'IBM', 'INTU', 'KO', 'MCD', 'META', 'MSFT', 'NFLX', 'NOW', 'NVDA', 'ORCL', 'PG', 'PM', 'QCOM', 'T', 'TSLA', 'TXN', 'VZ', 'WMT']\n"
     ]
    },
    {
     "name": "stderr",
     "output_type": "stream",
     "text": [
      "/opt/anaconda3/lib/python3.12/site-packages/cvxpy/reductions/solvers/solving_chain.py:356: FutureWarning: \n",
      "    You specified your problem should be solved by ECOS. Starting in\n",
      "    CXVPY 1.6.0, ECOS will no longer be installed by default with CVXPY.\n",
      "    Please either add ECOS as an explicit install dependency to your project\n",
      "    or switch to our new default solver, Clarabel, by either not specifying a\n",
      "    solver argument or specifying ``solver=cp.CLARABEL``. To suppress this\n",
      "    warning while continuing to use ECOS, you can filter this warning using\n",
      "    Python's ``warnings`` module until you are using 1.6.0.\n",
      "    \n",
      "  warnings.warn(ECOS_DEP_DEPRECATION_MSG, FutureWarning)\n",
      "/opt/anaconda3/lib/python3.12/site-packages/cvxpy/problems/problem.py:1407: UserWarning: Solution may be inaccurate. Try another solver, adjusting the solver settings, or solve with verbose=True for more information.\n",
      "  warnings.warn(\n"
     ]
    },
    {
     "name": "stdout",
     "output_type": "stream",
     "text": [
      "[t=2128 | 2020-02-27] active: ['AAPL', 'ACN', 'ADBE', 'AMAT', 'AMD', 'AMZN', 'AVGO', 'BKNG', 'COST', 'CRM', 'CSCO', 'DIS', 'GOOGL', 'HD', 'IBM', 'INTU', 'KO', 'MCD', 'META', 'MSFT', 'NFLX', 'NOW', 'NVDA', 'ORCL', 'PG', 'PM', 'QCOM', 'T', 'TSLA', 'TXN', 'VZ', 'WMT']\n"
     ]
    },
    {
     "name": "stderr",
     "output_type": "stream",
     "text": [
      "/opt/anaconda3/lib/python3.12/site-packages/cvxpy/reductions/solvers/solving_chain.py:356: FutureWarning: \n",
      "    You specified your problem should be solved by ECOS. Starting in\n",
      "    CXVPY 1.6.0, ECOS will no longer be installed by default with CVXPY.\n",
      "    Please either add ECOS as an explicit install dependency to your project\n",
      "    or switch to our new default solver, Clarabel, by either not specifying a\n",
      "    solver argument or specifying ``solver=cp.CLARABEL``. To suppress this\n",
      "    warning while continuing to use ECOS, you can filter this warning using\n",
      "    Python's ``warnings`` module until you are using 1.6.0.\n",
      "    \n",
      "  warnings.warn(ECOS_DEP_DEPRECATION_MSG, FutureWarning)\n",
      "/opt/anaconda3/lib/python3.12/site-packages/cvxpy/problems/problem.py:1407: UserWarning: Solution may be inaccurate. Try another solver, adjusting the solver settings, or solve with verbose=True for more information.\n",
      "  warnings.warn(\n"
     ]
    },
    {
     "name": "stdout",
     "output_type": "stream",
     "text": [
      "[t=2129 | 2020-02-28] active: ['AAPL', 'ACN', 'ADBE', 'AMAT', 'AMD', 'AMZN', 'AVGO', 'BKNG', 'COST', 'CRM', 'CSCO', 'DIS', 'GOOGL', 'HD', 'IBM', 'INTU', 'KO', 'MCD', 'META', 'MSFT', 'NFLX', 'NOW', 'NVDA', 'ORCL', 'PG', 'PM', 'QCOM', 'T', 'TSLA', 'TXN', 'VZ', 'WMT']\n"
     ]
    },
    {
     "name": "stderr",
     "output_type": "stream",
     "text": [
      "/opt/anaconda3/lib/python3.12/site-packages/cvxpy/reductions/solvers/solving_chain.py:356: FutureWarning: \n",
      "    You specified your problem should be solved by ECOS. Starting in\n",
      "    CXVPY 1.6.0, ECOS will no longer be installed by default with CVXPY.\n",
      "    Please either add ECOS as an explicit install dependency to your project\n",
      "    or switch to our new default solver, Clarabel, by either not specifying a\n",
      "    solver argument or specifying ``solver=cp.CLARABEL``. To suppress this\n",
      "    warning while continuing to use ECOS, you can filter this warning using\n",
      "    Python's ``warnings`` module until you are using 1.6.0.\n",
      "    \n",
      "  warnings.warn(ECOS_DEP_DEPRECATION_MSG, FutureWarning)\n",
      "/opt/anaconda3/lib/python3.12/site-packages/cvxpy/problems/problem.py:1407: UserWarning: Solution may be inaccurate. Try another solver, adjusting the solver settings, or solve with verbose=True for more information.\n",
      "  warnings.warn(\n"
     ]
    },
    {
     "name": "stdout",
     "output_type": "stream",
     "text": [
      "[t=2130 | 2020-03-02] active: ['AAPL', 'ACN', 'ADBE', 'AMAT', 'AMD', 'AMZN', 'AVGO', 'BKNG', 'COST', 'CRM', 'CSCO', 'DIS', 'GOOGL', 'HD', 'IBM', 'INTU', 'KO', 'MCD', 'META', 'MSFT', 'NFLX', 'NOW', 'NVDA', 'ORCL', 'PG', 'PM', 'QCOM', 'T', 'TSLA', 'TXN', 'VZ', 'WMT']\n"
     ]
    },
    {
     "name": "stderr",
     "output_type": "stream",
     "text": [
      "/opt/anaconda3/lib/python3.12/site-packages/cvxpy/reductions/solvers/solving_chain.py:356: FutureWarning: \n",
      "    You specified your problem should be solved by ECOS. Starting in\n",
      "    CXVPY 1.6.0, ECOS will no longer be installed by default with CVXPY.\n",
      "    Please either add ECOS as an explicit install dependency to your project\n",
      "    or switch to our new default solver, Clarabel, by either not specifying a\n",
      "    solver argument or specifying ``solver=cp.CLARABEL``. To suppress this\n",
      "    warning while continuing to use ECOS, you can filter this warning using\n",
      "    Python's ``warnings`` module until you are using 1.6.0.\n",
      "    \n",
      "  warnings.warn(ECOS_DEP_DEPRECATION_MSG, FutureWarning)\n",
      "/opt/anaconda3/lib/python3.12/site-packages/cvxpy/problems/problem.py:1407: UserWarning: Solution may be inaccurate. Try another solver, adjusting the solver settings, or solve with verbose=True for more information.\n",
      "  warnings.warn(\n"
     ]
    },
    {
     "name": "stdout",
     "output_type": "stream",
     "text": [
      "[t=2131 | 2020-03-03] active: ['AAPL', 'ACN', 'ADBE', 'AMAT', 'AMD', 'AMZN', 'AVGO', 'BKNG', 'COST', 'CRM', 'CSCO', 'DIS', 'GOOGL', 'HD', 'IBM', 'INTU', 'KO', 'MCD', 'META', 'MSFT', 'NFLX', 'NOW', 'NVDA', 'ORCL', 'PG', 'PM', 'QCOM', 'T', 'TSLA', 'TXN', 'VZ', 'WMT']\n"
     ]
    },
    {
     "name": "stderr",
     "output_type": "stream",
     "text": [
      "/opt/anaconda3/lib/python3.12/site-packages/cvxpy/reductions/solvers/solving_chain.py:356: FutureWarning: \n",
      "    You specified your problem should be solved by ECOS. Starting in\n",
      "    CXVPY 1.6.0, ECOS will no longer be installed by default with CVXPY.\n",
      "    Please either add ECOS as an explicit install dependency to your project\n",
      "    or switch to our new default solver, Clarabel, by either not specifying a\n",
      "    solver argument or specifying ``solver=cp.CLARABEL``. To suppress this\n",
      "    warning while continuing to use ECOS, you can filter this warning using\n",
      "    Python's ``warnings`` module until you are using 1.6.0.\n",
      "    \n",
      "  warnings.warn(ECOS_DEP_DEPRECATION_MSG, FutureWarning)\n",
      "/opt/anaconda3/lib/python3.12/site-packages/cvxpy/problems/problem.py:1407: UserWarning: Solution may be inaccurate. Try another solver, adjusting the solver settings, or solve with verbose=True for more information.\n",
      "  warnings.warn(\n"
     ]
    },
    {
     "name": "stdout",
     "output_type": "stream",
     "text": [
      "[t=2132 | 2020-03-04] active: ['AAPL', 'ACN', 'ADBE', 'AMAT', 'AMD', 'AMZN', 'AVGO', 'BKNG', 'COST', 'CRM', 'CSCO', 'DIS', 'GOOGL', 'HD', 'IBM', 'INTU', 'KO', 'MCD', 'META', 'MSFT', 'NFLX', 'NOW', 'NVDA', 'ORCL', 'PG', 'PM', 'QCOM', 'T', 'TSLA', 'TXN', 'VZ', 'WMT']\n"
     ]
    },
    {
     "name": "stderr",
     "output_type": "stream",
     "text": [
      "/opt/anaconda3/lib/python3.12/site-packages/cvxpy/reductions/solvers/solving_chain.py:356: FutureWarning: \n",
      "    You specified your problem should be solved by ECOS. Starting in\n",
      "    CXVPY 1.6.0, ECOS will no longer be installed by default with CVXPY.\n",
      "    Please either add ECOS as an explicit install dependency to your project\n",
      "    or switch to our new default solver, Clarabel, by either not specifying a\n",
      "    solver argument or specifying ``solver=cp.CLARABEL``. To suppress this\n",
      "    warning while continuing to use ECOS, you can filter this warning using\n",
      "    Python's ``warnings`` module until you are using 1.6.0.\n",
      "    \n",
      "  warnings.warn(ECOS_DEP_DEPRECATION_MSG, FutureWarning)\n",
      "/opt/anaconda3/lib/python3.12/site-packages/cvxpy/problems/problem.py:1407: UserWarning: Solution may be inaccurate. Try another solver, adjusting the solver settings, or solve with verbose=True for more information.\n",
      "  warnings.warn(\n"
     ]
    },
    {
     "name": "stdout",
     "output_type": "stream",
     "text": [
      "[t=2133 | 2020-03-05] active: ['AAPL', 'ACN', 'ADBE', 'AMAT', 'AMD', 'AMZN', 'AVGO', 'BKNG', 'COST', 'CRM', 'CSCO', 'DIS', 'GOOGL', 'HD', 'IBM', 'INTU', 'KO', 'MCD', 'META', 'MSFT', 'NFLX', 'NOW', 'NVDA', 'ORCL', 'PG', 'PM', 'QCOM', 'T', 'TSLA', 'TXN', 'VZ', 'WMT']\n"
     ]
    },
    {
     "name": "stderr",
     "output_type": "stream",
     "text": [
      "/opt/anaconda3/lib/python3.12/site-packages/cvxpy/reductions/solvers/solving_chain.py:356: FutureWarning: \n",
      "    You specified your problem should be solved by ECOS. Starting in\n",
      "    CXVPY 1.6.0, ECOS will no longer be installed by default with CVXPY.\n",
      "    Please either add ECOS as an explicit install dependency to your project\n",
      "    or switch to our new default solver, Clarabel, by either not specifying a\n",
      "    solver argument or specifying ``solver=cp.CLARABEL``. To suppress this\n",
      "    warning while continuing to use ECOS, you can filter this warning using\n",
      "    Python's ``warnings`` module until you are using 1.6.0.\n",
      "    \n",
      "  warnings.warn(ECOS_DEP_DEPRECATION_MSG, FutureWarning)\n",
      "/opt/anaconda3/lib/python3.12/site-packages/cvxpy/problems/problem.py:1407: UserWarning: Solution may be inaccurate. Try another solver, adjusting the solver settings, or solve with verbose=True for more information.\n",
      "  warnings.warn(\n"
     ]
    },
    {
     "name": "stdout",
     "output_type": "stream",
     "text": [
      "[t=2135 | 2020-03-09] active: ['AAPL', 'ACN', 'ADBE', 'AMAT', 'AMD', 'AMZN', 'AVGO', 'BKNG', 'COST', 'CRM', 'CSCO', 'DIS', 'GOOGL', 'HD', 'IBM', 'INTU', 'KO', 'MCD', 'META', 'MSFT', 'NFLX', 'NOW', 'NVDA', 'ORCL', 'PG', 'PM', 'QCOM', 'T', 'TSLA', 'TXN', 'VZ', 'WMT']\n"
     ]
    },
    {
     "name": "stderr",
     "output_type": "stream",
     "text": [
      "/opt/anaconda3/lib/python3.12/site-packages/cvxpy/reductions/solvers/solving_chain.py:356: FutureWarning: \n",
      "    You specified your problem should be solved by ECOS. Starting in\n",
      "    CXVPY 1.6.0, ECOS will no longer be installed by default with CVXPY.\n",
      "    Please either add ECOS as an explicit install dependency to your project\n",
      "    or switch to our new default solver, Clarabel, by either not specifying a\n",
      "    solver argument or specifying ``solver=cp.CLARABEL``. To suppress this\n",
      "    warning while continuing to use ECOS, you can filter this warning using\n",
      "    Python's ``warnings`` module until you are using 1.6.0.\n",
      "    \n",
      "  warnings.warn(ECOS_DEP_DEPRECATION_MSG, FutureWarning)\n",
      "/opt/anaconda3/lib/python3.12/site-packages/cvxpy/problems/problem.py:1407: UserWarning: Solution may be inaccurate. Try another solver, adjusting the solver settings, or solve with verbose=True for more information.\n",
      "  warnings.warn(\n"
     ]
    },
    {
     "name": "stdout",
     "output_type": "stream",
     "text": [
      "[t=2136 | 2020-03-10] active: ['AAPL', 'ACN', 'ADBE', 'AMAT', 'AMD', 'AMZN', 'AVGO', 'BKNG', 'COST', 'CRM', 'CSCO', 'DIS', 'GOOGL', 'HD', 'IBM', 'INTU', 'KO', 'MCD', 'META', 'MSFT', 'NFLX', 'NOW', 'NVDA', 'ORCL', 'PG', 'PM', 'QCOM', 'T', 'TSLA', 'TXN', 'VZ', 'WMT']\n"
     ]
    },
    {
     "name": "stderr",
     "output_type": "stream",
     "text": [
      "/opt/anaconda3/lib/python3.12/site-packages/cvxpy/reductions/solvers/solving_chain.py:356: FutureWarning: \n",
      "    You specified your problem should be solved by ECOS. Starting in\n",
      "    CXVPY 1.6.0, ECOS will no longer be installed by default with CVXPY.\n",
      "    Please either add ECOS as an explicit install dependency to your project\n",
      "    or switch to our new default solver, Clarabel, by either not specifying a\n",
      "    solver argument or specifying ``solver=cp.CLARABEL``. To suppress this\n",
      "    warning while continuing to use ECOS, you can filter this warning using\n",
      "    Python's ``warnings`` module until you are using 1.6.0.\n",
      "    \n",
      "  warnings.warn(ECOS_DEP_DEPRECATION_MSG, FutureWarning)\n",
      "/opt/anaconda3/lib/python3.12/site-packages/cvxpy/problems/problem.py:1407: UserWarning: Solution may be inaccurate. Try another solver, adjusting the solver settings, or solve with verbose=True for more information.\n",
      "  warnings.warn(\n"
     ]
    },
    {
     "name": "stdout",
     "output_type": "stream",
     "text": [
      "[t=2137 | 2020-03-11] active: ['AAPL', 'ACN', 'ADBE', 'AMAT', 'AMD', 'AMZN', 'AVGO', 'BKNG', 'COST', 'CRM', 'CSCO', 'DIS', 'GOOGL', 'HD', 'IBM', 'INTU', 'KO', 'MCD', 'META', 'MSFT', 'NFLX', 'NOW', 'NVDA', 'ORCL', 'PG', 'PM', 'QCOM', 'T', 'TSLA', 'TXN', 'VZ', 'WMT']\n"
     ]
    },
    {
     "name": "stderr",
     "output_type": "stream",
     "text": [
      "/opt/anaconda3/lib/python3.12/site-packages/cvxpy/reductions/solvers/solving_chain.py:356: FutureWarning: \n",
      "    You specified your problem should be solved by ECOS. Starting in\n",
      "    CXVPY 1.6.0, ECOS will no longer be installed by default with CVXPY.\n",
      "    Please either add ECOS as an explicit install dependency to your project\n",
      "    or switch to our new default solver, Clarabel, by either not specifying a\n",
      "    solver argument or specifying ``solver=cp.CLARABEL``. To suppress this\n",
      "    warning while continuing to use ECOS, you can filter this warning using\n",
      "    Python's ``warnings`` module until you are using 1.6.0.\n",
      "    \n",
      "  warnings.warn(ECOS_DEP_DEPRECATION_MSG, FutureWarning)\n",
      "/opt/anaconda3/lib/python3.12/site-packages/cvxpy/problems/problem.py:1407: UserWarning: Solution may be inaccurate. Try another solver, adjusting the solver settings, or solve with verbose=True for more information.\n",
      "  warnings.warn(\n"
     ]
    },
    {
     "name": "stdout",
     "output_type": "stream",
     "text": [
      "[t=2138 | 2020-03-12] active: ['AAPL', 'ACN', 'ADBE', 'AMAT', 'AMD', 'AMZN', 'AVGO', 'BKNG', 'COST', 'CRM', 'CSCO', 'DIS', 'GOOGL', 'HD', 'IBM', 'INTU', 'KO', 'MCD', 'META', 'MSFT', 'NFLX', 'NOW', 'NVDA', 'ORCL', 'PG', 'PM', 'QCOM', 'T', 'TSLA', 'TXN', 'VZ', 'WMT']\n"
     ]
    },
    {
     "name": "stderr",
     "output_type": "stream",
     "text": [
      "/opt/anaconda3/lib/python3.12/site-packages/cvxpy/reductions/solvers/solving_chain.py:356: FutureWarning: \n",
      "    You specified your problem should be solved by ECOS. Starting in\n",
      "    CXVPY 1.6.0, ECOS will no longer be installed by default with CVXPY.\n",
      "    Please either add ECOS as an explicit install dependency to your project\n",
      "    or switch to our new default solver, Clarabel, by either not specifying a\n",
      "    solver argument or specifying ``solver=cp.CLARABEL``. To suppress this\n",
      "    warning while continuing to use ECOS, you can filter this warning using\n",
      "    Python's ``warnings`` module until you are using 1.6.0.\n",
      "    \n",
      "  warnings.warn(ECOS_DEP_DEPRECATION_MSG, FutureWarning)\n",
      "/opt/anaconda3/lib/python3.12/site-packages/cvxpy/problems/problem.py:1407: UserWarning: Solution may be inaccurate. Try another solver, adjusting the solver settings, or solve with verbose=True for more information.\n",
      "  warnings.warn(\n"
     ]
    },
    {
     "name": "stdout",
     "output_type": "stream",
     "text": [
      "[t=2139 | 2020-03-13] active: ['AAPL', 'ACN', 'ADBE', 'AMAT', 'AMD', 'AMZN', 'AVGO', 'BKNG', 'COST', 'CRM', 'CSCO', 'DIS', 'GOOGL', 'HD', 'IBM', 'INTU', 'KO', 'MCD', 'META', 'MSFT', 'NFLX', 'NOW', 'NVDA', 'ORCL', 'PG', 'PM', 'QCOM', 'T', 'TSLA', 'TXN', 'VZ', 'WMT']\n"
     ]
    },
    {
     "name": "stderr",
     "output_type": "stream",
     "text": [
      "/opt/anaconda3/lib/python3.12/site-packages/cvxpy/reductions/solvers/solving_chain.py:356: FutureWarning: \n",
      "    You specified your problem should be solved by ECOS. Starting in\n",
      "    CXVPY 1.6.0, ECOS will no longer be installed by default with CVXPY.\n",
      "    Please either add ECOS as an explicit install dependency to your project\n",
      "    or switch to our new default solver, Clarabel, by either not specifying a\n",
      "    solver argument or specifying ``solver=cp.CLARABEL``. To suppress this\n",
      "    warning while continuing to use ECOS, you can filter this warning using\n",
      "    Python's ``warnings`` module until you are using 1.6.0.\n",
      "    \n",
      "  warnings.warn(ECOS_DEP_DEPRECATION_MSG, FutureWarning)\n",
      "/opt/anaconda3/lib/python3.12/site-packages/cvxpy/problems/problem.py:1407: UserWarning: Solution may be inaccurate. Try another solver, adjusting the solver settings, or solve with verbose=True for more information.\n",
      "  warnings.warn(\n"
     ]
    },
    {
     "name": "stdout",
     "output_type": "stream",
     "text": [
      "[t=2140 | 2020-03-16] active: ['AAPL', 'ACN', 'ADBE', 'AMAT', 'AMD', 'AMZN', 'AVGO', 'BKNG', 'COST', 'CRM', 'CSCO', 'DIS', 'GOOGL', 'HD', 'IBM', 'INTU', 'KO', 'MCD', 'META', 'MSFT', 'NFLX', 'NOW', 'NVDA', 'ORCL', 'PG', 'PM', 'QCOM', 'T', 'TSLA', 'TXN', 'VZ', 'WMT']\n"
     ]
    },
    {
     "name": "stderr",
     "output_type": "stream",
     "text": [
      "/opt/anaconda3/lib/python3.12/site-packages/cvxpy/reductions/solvers/solving_chain.py:356: FutureWarning: \n",
      "    You specified your problem should be solved by ECOS. Starting in\n",
      "    CXVPY 1.6.0, ECOS will no longer be installed by default with CVXPY.\n",
      "    Please either add ECOS as an explicit install dependency to your project\n",
      "    or switch to our new default solver, Clarabel, by either not specifying a\n",
      "    solver argument or specifying ``solver=cp.CLARABEL``. To suppress this\n",
      "    warning while continuing to use ECOS, you can filter this warning using\n",
      "    Python's ``warnings`` module until you are using 1.6.0.\n",
      "    \n",
      "  warnings.warn(ECOS_DEP_DEPRECATION_MSG, FutureWarning)\n",
      "/opt/anaconda3/lib/python3.12/site-packages/cvxpy/problems/problem.py:1407: UserWarning: Solution may be inaccurate. Try another solver, adjusting the solver settings, or solve with verbose=True for more information.\n",
      "  warnings.warn(\n"
     ]
    },
    {
     "name": "stdout",
     "output_type": "stream",
     "text": [
      "[t=2141 | 2020-03-17] active: ['AAPL', 'ACN', 'ADBE', 'AMAT', 'AMD', 'AMZN', 'AVGO', 'BKNG', 'COST', 'CRM', 'CSCO', 'DIS', 'GOOGL', 'HD', 'IBM', 'INTU', 'KO', 'MCD', 'META', 'MSFT', 'NFLX', 'NOW', 'NVDA', 'ORCL', 'PG', 'PM', 'QCOM', 'T', 'TSLA', 'TXN', 'VZ', 'WMT']\n"
     ]
    },
    {
     "name": "stderr",
     "output_type": "stream",
     "text": [
      "/opt/anaconda3/lib/python3.12/site-packages/cvxpy/reductions/solvers/solving_chain.py:356: FutureWarning: \n",
      "    You specified your problem should be solved by ECOS. Starting in\n",
      "    CXVPY 1.6.0, ECOS will no longer be installed by default with CVXPY.\n",
      "    Please either add ECOS as an explicit install dependency to your project\n",
      "    or switch to our new default solver, Clarabel, by either not specifying a\n",
      "    solver argument or specifying ``solver=cp.CLARABEL``. To suppress this\n",
      "    warning while continuing to use ECOS, you can filter this warning using\n",
      "    Python's ``warnings`` module until you are using 1.6.0.\n",
      "    \n",
      "  warnings.warn(ECOS_DEP_DEPRECATION_MSG, FutureWarning)\n",
      "/opt/anaconda3/lib/python3.12/site-packages/cvxpy/problems/problem.py:1407: UserWarning: Solution may be inaccurate. Try another solver, adjusting the solver settings, or solve with verbose=True for more information.\n",
      "  warnings.warn(\n"
     ]
    },
    {
     "name": "stdout",
     "output_type": "stream",
     "text": [
      "[t=2142 | 2020-03-18] active: ['AAPL', 'ACN', 'ADBE', 'AMAT', 'AMD', 'AMZN', 'AVGO', 'BKNG', 'COST', 'CRM', 'CSCO', 'DIS', 'GOOGL', 'HD', 'IBM', 'INTU', 'KO', 'MCD', 'META', 'MSFT', 'NFLX', 'NOW', 'NVDA', 'ORCL', 'PG', 'PM', 'QCOM', 'T', 'TSLA', 'TXN', 'VZ', 'WMT']\n"
     ]
    },
    {
     "name": "stderr",
     "output_type": "stream",
     "text": [
      "/opt/anaconda3/lib/python3.12/site-packages/cvxpy/reductions/solvers/solving_chain.py:356: FutureWarning: \n",
      "    You specified your problem should be solved by ECOS. Starting in\n",
      "    CXVPY 1.6.0, ECOS will no longer be installed by default with CVXPY.\n",
      "    Please either add ECOS as an explicit install dependency to your project\n",
      "    or switch to our new default solver, Clarabel, by either not specifying a\n",
      "    solver argument or specifying ``solver=cp.CLARABEL``. To suppress this\n",
      "    warning while continuing to use ECOS, you can filter this warning using\n",
      "    Python's ``warnings`` module until you are using 1.6.0.\n",
      "    \n",
      "  warnings.warn(ECOS_DEP_DEPRECATION_MSG, FutureWarning)\n",
      "/opt/anaconda3/lib/python3.12/site-packages/cvxpy/problems/problem.py:1407: UserWarning: Solution may be inaccurate. Try another solver, adjusting the solver settings, or solve with verbose=True for more information.\n",
      "  warnings.warn(\n"
     ]
    },
    {
     "name": "stdout",
     "output_type": "stream",
     "text": [
      "[t=2143 | 2020-03-19] active: ['AAPL', 'ACN', 'ADBE', 'AMAT', 'AMD', 'AMZN', 'AVGO', 'BKNG', 'COST', 'CRM', 'CSCO', 'DIS', 'GOOGL', 'HD', 'IBM', 'INTU', 'KO', 'MCD', 'META', 'MSFT', 'NFLX', 'NOW', 'NVDA', 'ORCL', 'PG', 'PM', 'QCOM', 'T', 'TSLA', 'TXN', 'VZ', 'WMT']\n"
     ]
    },
    {
     "name": "stderr",
     "output_type": "stream",
     "text": [
      "/opt/anaconda3/lib/python3.12/site-packages/cvxpy/reductions/solvers/solving_chain.py:356: FutureWarning: \n",
      "    You specified your problem should be solved by ECOS. Starting in\n",
      "    CXVPY 1.6.0, ECOS will no longer be installed by default with CVXPY.\n",
      "    Please either add ECOS as an explicit install dependency to your project\n",
      "    or switch to our new default solver, Clarabel, by either not specifying a\n",
      "    solver argument or specifying ``solver=cp.CLARABEL``. To suppress this\n",
      "    warning while continuing to use ECOS, you can filter this warning using\n",
      "    Python's ``warnings`` module until you are using 1.6.0.\n",
      "    \n",
      "  warnings.warn(ECOS_DEP_DEPRECATION_MSG, FutureWarning)\n",
      "/opt/anaconda3/lib/python3.12/site-packages/cvxpy/problems/problem.py:1407: UserWarning: Solution may be inaccurate. Try another solver, adjusting the solver settings, or solve with verbose=True for more information.\n",
      "  warnings.warn(\n"
     ]
    },
    {
     "name": "stdout",
     "output_type": "stream",
     "text": [
      "[t=2144 | 2020-03-20] active: ['AAPL', 'ACN', 'ADBE', 'AMAT', 'AMD', 'AMZN', 'AVGO', 'BKNG', 'COST', 'CRM', 'CSCO', 'DIS', 'GOOGL', 'HD', 'IBM', 'INTU', 'KO', 'MCD', 'META', 'MSFT', 'NFLX', 'NOW', 'NVDA', 'ORCL', 'PG', 'PM', 'QCOM', 'T', 'TSLA', 'TXN', 'VZ', 'WMT']\n"
     ]
    },
    {
     "name": "stderr",
     "output_type": "stream",
     "text": [
      "/opt/anaconda3/lib/python3.12/site-packages/cvxpy/reductions/solvers/solving_chain.py:356: FutureWarning: \n",
      "    You specified your problem should be solved by ECOS. Starting in\n",
      "    CXVPY 1.6.0, ECOS will no longer be installed by default with CVXPY.\n",
      "    Please either add ECOS as an explicit install dependency to your project\n",
      "    or switch to our new default solver, Clarabel, by either not specifying a\n",
      "    solver argument or specifying ``solver=cp.CLARABEL``. To suppress this\n",
      "    warning while continuing to use ECOS, you can filter this warning using\n",
      "    Python's ``warnings`` module until you are using 1.6.0.\n",
      "    \n",
      "  warnings.warn(ECOS_DEP_DEPRECATION_MSG, FutureWarning)\n",
      "/opt/anaconda3/lib/python3.12/site-packages/cvxpy/problems/problem.py:1407: UserWarning: Solution may be inaccurate. Try another solver, adjusting the solver settings, or solve with verbose=True for more information.\n",
      "  warnings.warn(\n"
     ]
    },
    {
     "name": "stdout",
     "output_type": "stream",
     "text": [
      "[t=2145 | 2020-03-23] active: ['AAPL', 'ACN', 'ADBE', 'AMAT', 'AMD', 'AMZN', 'AVGO', 'BKNG', 'COST', 'CRM', 'CSCO', 'DIS', 'GOOGL', 'HD', 'IBM', 'INTU', 'KO', 'MCD', 'META', 'MSFT', 'NFLX', 'NOW', 'NVDA', 'ORCL', 'PG', 'PM', 'QCOM', 'T', 'TSLA', 'TXN', 'VZ', 'WMT']\n"
     ]
    },
    {
     "name": "stderr",
     "output_type": "stream",
     "text": [
      "/opt/anaconda3/lib/python3.12/site-packages/cvxpy/reductions/solvers/solving_chain.py:356: FutureWarning: \n",
      "    You specified your problem should be solved by ECOS. Starting in\n",
      "    CXVPY 1.6.0, ECOS will no longer be installed by default with CVXPY.\n",
      "    Please either add ECOS as an explicit install dependency to your project\n",
      "    or switch to our new default solver, Clarabel, by either not specifying a\n",
      "    solver argument or specifying ``solver=cp.CLARABEL``. To suppress this\n",
      "    warning while continuing to use ECOS, you can filter this warning using\n",
      "    Python's ``warnings`` module until you are using 1.6.0.\n",
      "    \n",
      "  warnings.warn(ECOS_DEP_DEPRECATION_MSG, FutureWarning)\n",
      "/opt/anaconda3/lib/python3.12/site-packages/cvxpy/problems/problem.py:1407: UserWarning: Solution may be inaccurate. Try another solver, adjusting the solver settings, or solve with verbose=True for more information.\n",
      "  warnings.warn(\n"
     ]
    },
    {
     "name": "stdout",
     "output_type": "stream",
     "text": [
      "[t=2146 | 2020-03-24] active: ['AAPL', 'ACN', 'ADBE', 'AMAT', 'AMD', 'AMZN', 'AVGO', 'BKNG', 'COST', 'CRM', 'CSCO', 'DIS', 'GOOGL', 'HD', 'IBM', 'INTU', 'KO', 'MCD', 'META', 'MSFT', 'NFLX', 'NOW', 'NVDA', 'ORCL', 'PG', 'PM', 'QCOM', 'T', 'TSLA', 'TXN', 'VZ', 'WMT']\n"
     ]
    },
    {
     "name": "stderr",
     "output_type": "stream",
     "text": [
      "/opt/anaconda3/lib/python3.12/site-packages/cvxpy/reductions/solvers/solving_chain.py:356: FutureWarning: \n",
      "    You specified your problem should be solved by ECOS. Starting in\n",
      "    CXVPY 1.6.0, ECOS will no longer be installed by default with CVXPY.\n",
      "    Please either add ECOS as an explicit install dependency to your project\n",
      "    or switch to our new default solver, Clarabel, by either not specifying a\n",
      "    solver argument or specifying ``solver=cp.CLARABEL``. To suppress this\n",
      "    warning while continuing to use ECOS, you can filter this warning using\n",
      "    Python's ``warnings`` module until you are using 1.6.0.\n",
      "    \n",
      "  warnings.warn(ECOS_DEP_DEPRECATION_MSG, FutureWarning)\n",
      "/opt/anaconda3/lib/python3.12/site-packages/cvxpy/problems/problem.py:1407: UserWarning: Solution may be inaccurate. Try another solver, adjusting the solver settings, or solve with verbose=True for more information.\n",
      "  warnings.warn(\n"
     ]
    },
    {
     "name": "stdout",
     "output_type": "stream",
     "text": [
      "[t=2147 | 2020-03-25] active: ['AAPL', 'ACN', 'ADBE', 'AMAT', 'AMD', 'AMZN', 'AVGO', 'BKNG', 'COST', 'CRM', 'CSCO', 'DIS', 'GOOGL', 'HD', 'IBM', 'INTU', 'KO', 'MCD', 'META', 'MSFT', 'NFLX', 'NOW', 'NVDA', 'ORCL', 'PG', 'PM', 'QCOM', 'T', 'TSLA', 'TXN', 'VZ', 'WMT']\n"
     ]
    },
    {
     "name": "stderr",
     "output_type": "stream",
     "text": [
      "/opt/anaconda3/lib/python3.12/site-packages/cvxpy/reductions/solvers/solving_chain.py:356: FutureWarning: \n",
      "    You specified your problem should be solved by ECOS. Starting in\n",
      "    CXVPY 1.6.0, ECOS will no longer be installed by default with CVXPY.\n",
      "    Please either add ECOS as an explicit install dependency to your project\n",
      "    or switch to our new default solver, Clarabel, by either not specifying a\n",
      "    solver argument or specifying ``solver=cp.CLARABEL``. To suppress this\n",
      "    warning while continuing to use ECOS, you can filter this warning using\n",
      "    Python's ``warnings`` module until you are using 1.6.0.\n",
      "    \n",
      "  warnings.warn(ECOS_DEP_DEPRECATION_MSG, FutureWarning)\n",
      "/opt/anaconda3/lib/python3.12/site-packages/cvxpy/problems/problem.py:1407: UserWarning: Solution may be inaccurate. Try another solver, adjusting the solver settings, or solve with verbose=True for more information.\n",
      "  warnings.warn(\n"
     ]
    },
    {
     "name": "stdout",
     "output_type": "stream",
     "text": [
      "[t=2148 | 2020-03-26] active: ['AAPL', 'ACN', 'ADBE', 'AMAT', 'AMD', 'AMZN', 'AVGO', 'BKNG', 'COST', 'CRM', 'CSCO', 'DIS', 'GOOGL', 'HD', 'IBM', 'INTU', 'KO', 'MCD', 'META', 'MSFT', 'NFLX', 'NOW', 'NVDA', 'ORCL', 'PG', 'PM', 'QCOM', 'T', 'TSLA', 'TXN', 'VZ', 'WMT']\n"
     ]
    },
    {
     "name": "stderr",
     "output_type": "stream",
     "text": [
      "/opt/anaconda3/lib/python3.12/site-packages/cvxpy/reductions/solvers/solving_chain.py:356: FutureWarning: \n",
      "    You specified your problem should be solved by ECOS. Starting in\n",
      "    CXVPY 1.6.0, ECOS will no longer be installed by default with CVXPY.\n",
      "    Please either add ECOS as an explicit install dependency to your project\n",
      "    or switch to our new default solver, Clarabel, by either not specifying a\n",
      "    solver argument or specifying ``solver=cp.CLARABEL``. To suppress this\n",
      "    warning while continuing to use ECOS, you can filter this warning using\n",
      "    Python's ``warnings`` module until you are using 1.6.0.\n",
      "    \n",
      "  warnings.warn(ECOS_DEP_DEPRECATION_MSG, FutureWarning)\n",
      "/opt/anaconda3/lib/python3.12/site-packages/cvxpy/problems/problem.py:1407: UserWarning: Solution may be inaccurate. Try another solver, adjusting the solver settings, or solve with verbose=True for more information.\n",
      "  warnings.warn(\n"
     ]
    },
    {
     "name": "stdout",
     "output_type": "stream",
     "text": [
      "[t=2149 | 2020-03-27] active: ['AAPL', 'ACN', 'ADBE', 'AMAT', 'AMD', 'AMZN', 'AVGO', 'BKNG', 'COST', 'CRM', 'CSCO', 'DIS', 'GOOGL', 'HD', 'IBM', 'INTU', 'KO', 'MCD', 'META', 'MSFT', 'NFLX', 'NOW', 'NVDA', 'ORCL', 'PG', 'PM', 'QCOM', 'T', 'TSLA', 'TXN', 'VZ', 'WMT']\n"
     ]
    },
    {
     "name": "stderr",
     "output_type": "stream",
     "text": [
      "/opt/anaconda3/lib/python3.12/site-packages/cvxpy/reductions/solvers/solving_chain.py:356: FutureWarning: \n",
      "    You specified your problem should be solved by ECOS. Starting in\n",
      "    CXVPY 1.6.0, ECOS will no longer be installed by default with CVXPY.\n",
      "    Please either add ECOS as an explicit install dependency to your project\n",
      "    or switch to our new default solver, Clarabel, by either not specifying a\n",
      "    solver argument or specifying ``solver=cp.CLARABEL``. To suppress this\n",
      "    warning while continuing to use ECOS, you can filter this warning using\n",
      "    Python's ``warnings`` module until you are using 1.6.0.\n",
      "    \n",
      "  warnings.warn(ECOS_DEP_DEPRECATION_MSG, FutureWarning)\n",
      "/opt/anaconda3/lib/python3.12/site-packages/cvxpy/problems/problem.py:1407: UserWarning: Solution may be inaccurate. Try another solver, adjusting the solver settings, or solve with verbose=True for more information.\n",
      "  warnings.warn(\n"
     ]
    },
    {
     "name": "stdout",
     "output_type": "stream",
     "text": [
      "[t=2150 | 2020-03-30] active: ['AAPL', 'ACN', 'ADBE', 'AMAT', 'AMD', 'AMZN', 'AVGO', 'BKNG', 'COST', 'CRM', 'CSCO', 'DIS', 'GOOGL', 'HD', 'IBM', 'INTU', 'KO', 'MCD', 'META', 'MSFT', 'NFLX', 'NOW', 'NVDA', 'ORCL', 'PG', 'PM', 'QCOM', 'T', 'TSLA', 'TXN', 'VZ', 'WMT']\n"
     ]
    },
    {
     "name": "stderr",
     "output_type": "stream",
     "text": [
      "/opt/anaconda3/lib/python3.12/site-packages/cvxpy/reductions/solvers/solving_chain.py:356: FutureWarning: \n",
      "    You specified your problem should be solved by ECOS. Starting in\n",
      "    CXVPY 1.6.0, ECOS will no longer be installed by default with CVXPY.\n",
      "    Please either add ECOS as an explicit install dependency to your project\n",
      "    or switch to our new default solver, Clarabel, by either not specifying a\n",
      "    solver argument or specifying ``solver=cp.CLARABEL``. To suppress this\n",
      "    warning while continuing to use ECOS, you can filter this warning using\n",
      "    Python's ``warnings`` module until you are using 1.6.0.\n",
      "    \n",
      "  warnings.warn(ECOS_DEP_DEPRECATION_MSG, FutureWarning)\n",
      "/opt/anaconda3/lib/python3.12/site-packages/cvxpy/problems/problem.py:1407: UserWarning: Solution may be inaccurate. Try another solver, adjusting the solver settings, or solve with verbose=True for more information.\n",
      "  warnings.warn(\n"
     ]
    },
    {
     "name": "stdout",
     "output_type": "stream",
     "text": [
      "[t=2151 | 2020-03-31] active: ['AAPL', 'ACN', 'ADBE', 'AMAT', 'AMD', 'AMZN', 'AVGO', 'BKNG', 'COST', 'CRM', 'CSCO', 'DIS', 'GOOGL', 'HD', 'IBM', 'INTU', 'KO', 'MCD', 'META', 'MSFT', 'NFLX', 'NOW', 'NVDA', 'ORCL', 'PG', 'PM', 'QCOM', 'T', 'TSLA', 'TXN', 'VZ', 'WMT']\n"
     ]
    },
    {
     "name": "stderr",
     "output_type": "stream",
     "text": [
      "/opt/anaconda3/lib/python3.12/site-packages/cvxpy/reductions/solvers/solving_chain.py:356: FutureWarning: \n",
      "    You specified your problem should be solved by ECOS. Starting in\n",
      "    CXVPY 1.6.0, ECOS will no longer be installed by default with CVXPY.\n",
      "    Please either add ECOS as an explicit install dependency to your project\n",
      "    or switch to our new default solver, Clarabel, by either not specifying a\n",
      "    solver argument or specifying ``solver=cp.CLARABEL``. To suppress this\n",
      "    warning while continuing to use ECOS, you can filter this warning using\n",
      "    Python's ``warnings`` module until you are using 1.6.0.\n",
      "    \n",
      "  warnings.warn(ECOS_DEP_DEPRECATION_MSG, FutureWarning)\n",
      "/opt/anaconda3/lib/python3.12/site-packages/cvxpy/problems/problem.py:1407: UserWarning: Solution may be inaccurate. Try another solver, adjusting the solver settings, or solve with verbose=True for more information.\n",
      "  warnings.warn(\n"
     ]
    },
    {
     "name": "stdout",
     "output_type": "stream",
     "text": [
      "[t=2152 | 2020-04-01] active: ['AAPL', 'ACN', 'ADBE', 'AMAT', 'AMD', 'AMZN', 'AVGO', 'BKNG', 'COST', 'CRM', 'CSCO', 'DIS', 'GOOGL', 'HD', 'IBM', 'INTU', 'KO', 'MCD', 'META', 'MSFT', 'NFLX', 'NOW', 'NVDA', 'ORCL', 'PG', 'PM', 'QCOM', 'T', 'TSLA', 'TXN', 'VZ', 'WMT']\n"
     ]
    },
    {
     "name": "stderr",
     "output_type": "stream",
     "text": [
      "/opt/anaconda3/lib/python3.12/site-packages/cvxpy/reductions/solvers/solving_chain.py:356: FutureWarning: \n",
      "    You specified your problem should be solved by ECOS. Starting in\n",
      "    CXVPY 1.6.0, ECOS will no longer be installed by default with CVXPY.\n",
      "    Please either add ECOS as an explicit install dependency to your project\n",
      "    or switch to our new default solver, Clarabel, by either not specifying a\n",
      "    solver argument or specifying ``solver=cp.CLARABEL``. To suppress this\n",
      "    warning while continuing to use ECOS, you can filter this warning using\n",
      "    Python's ``warnings`` module until you are using 1.6.0.\n",
      "    \n",
      "  warnings.warn(ECOS_DEP_DEPRECATION_MSG, FutureWarning)\n",
      "/opt/anaconda3/lib/python3.12/site-packages/cvxpy/problems/problem.py:1407: UserWarning: Solution may be inaccurate. Try another solver, adjusting the solver settings, or solve with verbose=True for more information.\n",
      "  warnings.warn(\n"
     ]
    },
    {
     "name": "stdout",
     "output_type": "stream",
     "text": [
      "[t=2153 | 2020-04-02] active: ['AAPL', 'ACN', 'ADBE', 'AMAT', 'AMD', 'AMZN', 'AVGO', 'BKNG', 'COST', 'CRM', 'CSCO', 'DIS', 'GOOGL', 'HD', 'IBM', 'INTU', 'KO', 'MCD', 'META', 'MSFT', 'NFLX', 'NOW', 'NVDA', 'ORCL', 'PG', 'PM', 'QCOM', 'T', 'TSLA', 'TXN', 'VZ', 'WMT']\n"
     ]
    },
    {
     "name": "stderr",
     "output_type": "stream",
     "text": [
      "/opt/anaconda3/lib/python3.12/site-packages/cvxpy/reductions/solvers/solving_chain.py:356: FutureWarning: \n",
      "    You specified your problem should be solved by ECOS. Starting in\n",
      "    CXVPY 1.6.0, ECOS will no longer be installed by default with CVXPY.\n",
      "    Please either add ECOS as an explicit install dependency to your project\n",
      "    or switch to our new default solver, Clarabel, by either not specifying a\n",
      "    solver argument or specifying ``solver=cp.CLARABEL``. To suppress this\n",
      "    warning while continuing to use ECOS, you can filter this warning using\n",
      "    Python's ``warnings`` module until you are using 1.6.0.\n",
      "    \n",
      "  warnings.warn(ECOS_DEP_DEPRECATION_MSG, FutureWarning)\n",
      "/opt/anaconda3/lib/python3.12/site-packages/cvxpy/problems/problem.py:1407: UserWarning: Solution may be inaccurate. Try another solver, adjusting the solver settings, or solve with verbose=True for more information.\n",
      "  warnings.warn(\n"
     ]
    },
    {
     "name": "stdout",
     "output_type": "stream",
     "text": [
      "[t=2154 | 2020-04-03] active: ['AAPL', 'ACN', 'ADBE', 'AMAT', 'AMD', 'AMZN', 'AVGO', 'BKNG', 'COST', 'CRM', 'CSCO', 'DIS', 'GOOGL', 'HD', 'IBM', 'INTU', 'KO', 'MCD', 'META', 'MSFT', 'NFLX', 'NOW', 'NVDA', 'ORCL', 'PG', 'PM', 'QCOM', 'T', 'TSLA', 'TXN', 'VZ', 'WMT']\n"
     ]
    },
    {
     "name": "stderr",
     "output_type": "stream",
     "text": [
      "/opt/anaconda3/lib/python3.12/site-packages/cvxpy/reductions/solvers/solving_chain.py:356: FutureWarning: \n",
      "    You specified your problem should be solved by ECOS. Starting in\n",
      "    CXVPY 1.6.0, ECOS will no longer be installed by default with CVXPY.\n",
      "    Please either add ECOS as an explicit install dependency to your project\n",
      "    or switch to our new default solver, Clarabel, by either not specifying a\n",
      "    solver argument or specifying ``solver=cp.CLARABEL``. To suppress this\n",
      "    warning while continuing to use ECOS, you can filter this warning using\n",
      "    Python's ``warnings`` module until you are using 1.6.0.\n",
      "    \n",
      "  warnings.warn(ECOS_DEP_DEPRECATION_MSG, FutureWarning)\n",
      "/opt/anaconda3/lib/python3.12/site-packages/cvxpy/problems/problem.py:1407: UserWarning: Solution may be inaccurate. Try another solver, adjusting the solver settings, or solve with verbose=True for more information.\n",
      "  warnings.warn(\n"
     ]
    },
    {
     "name": "stdout",
     "output_type": "stream",
     "text": [
      "[t=2155 | 2020-04-06] active: ['AAPL', 'ACN', 'ADBE', 'AMAT', 'AMD', 'AMZN', 'AVGO', 'BKNG', 'COST', 'CRM', 'CSCO', 'DIS', 'GOOGL', 'HD', 'IBM', 'INTU', 'KO', 'MCD', 'META', 'MSFT', 'NFLX', 'NOW', 'NVDA', 'ORCL', 'PG', 'PM', 'QCOM', 'T', 'TSLA', 'TXN', 'VZ', 'WMT']\n"
     ]
    },
    {
     "name": "stderr",
     "output_type": "stream",
     "text": [
      "/opt/anaconda3/lib/python3.12/site-packages/cvxpy/reductions/solvers/solving_chain.py:356: FutureWarning: \n",
      "    You specified your problem should be solved by ECOS. Starting in\n",
      "    CXVPY 1.6.0, ECOS will no longer be installed by default with CVXPY.\n",
      "    Please either add ECOS as an explicit install dependency to your project\n",
      "    or switch to our new default solver, Clarabel, by either not specifying a\n",
      "    solver argument or specifying ``solver=cp.CLARABEL``. To suppress this\n",
      "    warning while continuing to use ECOS, you can filter this warning using\n",
      "    Python's ``warnings`` module until you are using 1.6.0.\n",
      "    \n",
      "  warnings.warn(ECOS_DEP_DEPRECATION_MSG, FutureWarning)\n",
      "/opt/anaconda3/lib/python3.12/site-packages/cvxpy/problems/problem.py:1407: UserWarning: Solution may be inaccurate. Try another solver, adjusting the solver settings, or solve with verbose=True for more information.\n",
      "  warnings.warn(\n"
     ]
    },
    {
     "name": "stdout",
     "output_type": "stream",
     "text": [
      "[t=2156 | 2020-04-07] active: ['AAPL', 'ACN', 'ADBE', 'AMAT', 'AMD', 'AMZN', 'AVGO', 'BKNG', 'COST', 'CRM', 'CSCO', 'DIS', 'GOOGL', 'HD', 'IBM', 'INTU', 'KO', 'MCD', 'META', 'MSFT', 'NFLX', 'NOW', 'NVDA', 'ORCL', 'PG', 'PM', 'QCOM', 'T', 'TSLA', 'TXN', 'VZ', 'WMT']\n"
     ]
    },
    {
     "name": "stderr",
     "output_type": "stream",
     "text": [
      "/opt/anaconda3/lib/python3.12/site-packages/cvxpy/reductions/solvers/solving_chain.py:356: FutureWarning: \n",
      "    You specified your problem should be solved by ECOS. Starting in\n",
      "    CXVPY 1.6.0, ECOS will no longer be installed by default with CVXPY.\n",
      "    Please either add ECOS as an explicit install dependency to your project\n",
      "    or switch to our new default solver, Clarabel, by either not specifying a\n",
      "    solver argument or specifying ``solver=cp.CLARABEL``. To suppress this\n",
      "    warning while continuing to use ECOS, you can filter this warning using\n",
      "    Python's ``warnings`` module until you are using 1.6.0.\n",
      "    \n",
      "  warnings.warn(ECOS_DEP_DEPRECATION_MSG, FutureWarning)\n",
      "/opt/anaconda3/lib/python3.12/site-packages/cvxpy/problems/problem.py:1407: UserWarning: Solution may be inaccurate. Try another solver, adjusting the solver settings, or solve with verbose=True for more information.\n",
      "  warnings.warn(\n"
     ]
    },
    {
     "name": "stdout",
     "output_type": "stream",
     "text": [
      "[t=2157 | 2020-04-08] active: ['AAPL', 'ACN', 'ADBE', 'AMAT', 'AMD', 'AMZN', 'AVGO', 'BKNG', 'COST', 'CRM', 'CSCO', 'DIS', 'GOOGL', 'HD', 'IBM', 'INTU', 'KO', 'MCD', 'META', 'MSFT', 'NFLX', 'NOW', 'NVDA', 'ORCL', 'PG', 'PM', 'QCOM', 'T', 'TSLA', 'TXN', 'VZ', 'WMT']\n"
     ]
    },
    {
     "name": "stderr",
     "output_type": "stream",
     "text": [
      "/opt/anaconda3/lib/python3.12/site-packages/cvxpy/reductions/solvers/solving_chain.py:356: FutureWarning: \n",
      "    You specified your problem should be solved by ECOS. Starting in\n",
      "    CXVPY 1.6.0, ECOS will no longer be installed by default with CVXPY.\n",
      "    Please either add ECOS as an explicit install dependency to your project\n",
      "    or switch to our new default solver, Clarabel, by either not specifying a\n",
      "    solver argument or specifying ``solver=cp.CLARABEL``. To suppress this\n",
      "    warning while continuing to use ECOS, you can filter this warning using\n",
      "    Python's ``warnings`` module until you are using 1.6.0.\n",
      "    \n",
      "  warnings.warn(ECOS_DEP_DEPRECATION_MSG, FutureWarning)\n",
      "/opt/anaconda3/lib/python3.12/site-packages/cvxpy/problems/problem.py:1407: UserWarning: Solution may be inaccurate. Try another solver, adjusting the solver settings, or solve with verbose=True for more information.\n",
      "  warnings.warn(\n"
     ]
    },
    {
     "name": "stdout",
     "output_type": "stream",
     "text": [
      "[t=2158 | 2020-04-09] active: ['AAPL', 'ACN', 'ADBE', 'AMAT', 'AMD', 'AMZN', 'AVGO', 'BKNG', 'COST', 'CRM', 'CSCO', 'DIS', 'GOOGL', 'HD', 'IBM', 'INTU', 'KO', 'MCD', 'META', 'MSFT', 'NFLX', 'NOW', 'NVDA', 'ORCL', 'PG', 'PM', 'QCOM', 'T', 'TSLA', 'TXN', 'VZ', 'WMT']\n"
     ]
    },
    {
     "name": "stderr",
     "output_type": "stream",
     "text": [
      "/opt/anaconda3/lib/python3.12/site-packages/cvxpy/reductions/solvers/solving_chain.py:356: FutureWarning: \n",
      "    You specified your problem should be solved by ECOS. Starting in\n",
      "    CXVPY 1.6.0, ECOS will no longer be installed by default with CVXPY.\n",
      "    Please either add ECOS as an explicit install dependency to your project\n",
      "    or switch to our new default solver, Clarabel, by either not specifying a\n",
      "    solver argument or specifying ``solver=cp.CLARABEL``. To suppress this\n",
      "    warning while continuing to use ECOS, you can filter this warning using\n",
      "    Python's ``warnings`` module until you are using 1.6.0.\n",
      "    \n",
      "  warnings.warn(ECOS_DEP_DEPRECATION_MSG, FutureWarning)\n",
      "/opt/anaconda3/lib/python3.12/site-packages/cvxpy/problems/problem.py:1407: UserWarning: Solution may be inaccurate. Try another solver, adjusting the solver settings, or solve with verbose=True for more information.\n",
      "  warnings.warn(\n"
     ]
    },
    {
     "name": "stdout",
     "output_type": "stream",
     "text": [
      "[t=2161 | 2020-04-14] active: ['AAPL', 'ACN', 'ADBE', 'AMAT', 'AMD', 'AMZN', 'AVGO', 'BKNG', 'COST', 'CRM', 'CSCO', 'DIS', 'GOOGL', 'HD', 'IBM', 'INTU', 'KO', 'MCD', 'META', 'MSFT', 'NFLX', 'NOW', 'NVDA', 'ORCL', 'PG', 'PM', 'QCOM', 'T', 'TSLA', 'TXN', 'VZ', 'WMT']\n"
     ]
    },
    {
     "name": "stderr",
     "output_type": "stream",
     "text": [
      "/opt/anaconda3/lib/python3.12/site-packages/cvxpy/reductions/solvers/solving_chain.py:356: FutureWarning: \n",
      "    You specified your problem should be solved by ECOS. Starting in\n",
      "    CXVPY 1.6.0, ECOS will no longer be installed by default with CVXPY.\n",
      "    Please either add ECOS as an explicit install dependency to your project\n",
      "    or switch to our new default solver, Clarabel, by either not specifying a\n",
      "    solver argument or specifying ``solver=cp.CLARABEL``. To suppress this\n",
      "    warning while continuing to use ECOS, you can filter this warning using\n",
      "    Python's ``warnings`` module until you are using 1.6.0.\n",
      "    \n",
      "  warnings.warn(ECOS_DEP_DEPRECATION_MSG, FutureWarning)\n",
      "/opt/anaconda3/lib/python3.12/site-packages/cvxpy/problems/problem.py:1407: UserWarning: Solution may be inaccurate. Try another solver, adjusting the solver settings, or solve with verbose=True for more information.\n",
      "  warnings.warn(\n"
     ]
    },
    {
     "name": "stdout",
     "output_type": "stream",
     "text": [
      "[t=2162 | 2020-04-15] active: ['AAPL', 'ACN', 'ADBE', 'AMAT', 'AMD', 'AMZN', 'AVGO', 'BKNG', 'COST', 'CRM', 'CSCO', 'DIS', 'GOOGL', 'HD', 'IBM', 'INTU', 'KO', 'MCD', 'META', 'MSFT', 'NFLX', 'NOW', 'NVDA', 'ORCL', 'PG', 'PM', 'QCOM', 'T', 'TSLA', 'TXN', 'VZ', 'WMT']\n"
     ]
    },
    {
     "name": "stderr",
     "output_type": "stream",
     "text": [
      "/opt/anaconda3/lib/python3.12/site-packages/cvxpy/reductions/solvers/solving_chain.py:356: FutureWarning: \n",
      "    You specified your problem should be solved by ECOS. Starting in\n",
      "    CXVPY 1.6.0, ECOS will no longer be installed by default with CVXPY.\n",
      "    Please either add ECOS as an explicit install dependency to your project\n",
      "    or switch to our new default solver, Clarabel, by either not specifying a\n",
      "    solver argument or specifying ``solver=cp.CLARABEL``. To suppress this\n",
      "    warning while continuing to use ECOS, you can filter this warning using\n",
      "    Python's ``warnings`` module until you are using 1.6.0.\n",
      "    \n",
      "  warnings.warn(ECOS_DEP_DEPRECATION_MSG, FutureWarning)\n",
      "/opt/anaconda3/lib/python3.12/site-packages/cvxpy/problems/problem.py:1407: UserWarning: Solution may be inaccurate. Try another solver, adjusting the solver settings, or solve with verbose=True for more information.\n",
      "  warnings.warn(\n"
     ]
    },
    {
     "name": "stdout",
     "output_type": "stream",
     "text": [
      "[t=2164 | 2020-04-17] active: ['AAPL', 'ACN', 'ADBE', 'AMAT', 'AMD', 'AMZN', 'AVGO', 'BKNG', 'COST', 'CRM', 'CSCO', 'DIS', 'GOOGL', 'HD', 'IBM', 'INTU', 'KO', 'MCD', 'META', 'MSFT', 'NFLX', 'NOW', 'NVDA', 'ORCL', 'PG', 'PM', 'QCOM', 'T', 'TSLA', 'TXN', 'VZ', 'WMT']\n"
     ]
    },
    {
     "name": "stderr",
     "output_type": "stream",
     "text": [
      "/opt/anaconda3/lib/python3.12/site-packages/cvxpy/reductions/solvers/solving_chain.py:356: FutureWarning: \n",
      "    You specified your problem should be solved by ECOS. Starting in\n",
      "    CXVPY 1.6.0, ECOS will no longer be installed by default with CVXPY.\n",
      "    Please either add ECOS as an explicit install dependency to your project\n",
      "    or switch to our new default solver, Clarabel, by either not specifying a\n",
      "    solver argument or specifying ``solver=cp.CLARABEL``. To suppress this\n",
      "    warning while continuing to use ECOS, you can filter this warning using\n",
      "    Python's ``warnings`` module until you are using 1.6.0.\n",
      "    \n",
      "  warnings.warn(ECOS_DEP_DEPRECATION_MSG, FutureWarning)\n",
      "/opt/anaconda3/lib/python3.12/site-packages/cvxpy/problems/problem.py:1407: UserWarning: Solution may be inaccurate. Try another solver, adjusting the solver settings, or solve with verbose=True for more information.\n",
      "  warnings.warn(\n"
     ]
    },
    {
     "name": "stdout",
     "output_type": "stream",
     "text": [
      "[t=2165 | 2020-04-20] active: ['AAPL', 'ACN', 'ADBE', 'AMAT', 'AMD', 'AMZN', 'AVGO', 'BKNG', 'COST', 'CRM', 'CSCO', 'DIS', 'GOOGL', 'HD', 'IBM', 'INTU', 'KO', 'MCD', 'META', 'MSFT', 'NFLX', 'NOW', 'NVDA', 'ORCL', 'PG', 'PM', 'QCOM', 'T', 'TSLA', 'TXN', 'VZ', 'WMT']\n"
     ]
    },
    {
     "name": "stderr",
     "output_type": "stream",
     "text": [
      "/opt/anaconda3/lib/python3.12/site-packages/cvxpy/reductions/solvers/solving_chain.py:356: FutureWarning: \n",
      "    You specified your problem should be solved by ECOS. Starting in\n",
      "    CXVPY 1.6.0, ECOS will no longer be installed by default with CVXPY.\n",
      "    Please either add ECOS as an explicit install dependency to your project\n",
      "    or switch to our new default solver, Clarabel, by either not specifying a\n",
      "    solver argument or specifying ``solver=cp.CLARABEL``. To suppress this\n",
      "    warning while continuing to use ECOS, you can filter this warning using\n",
      "    Python's ``warnings`` module until you are using 1.6.0.\n",
      "    \n",
      "  warnings.warn(ECOS_DEP_DEPRECATION_MSG, FutureWarning)\n",
      "/opt/anaconda3/lib/python3.12/site-packages/cvxpy/problems/problem.py:1407: UserWarning: Solution may be inaccurate. Try another solver, adjusting the solver settings, or solve with verbose=True for more information.\n",
      "  warnings.warn(\n"
     ]
    },
    {
     "name": "stdout",
     "output_type": "stream",
     "text": [
      "[t=2166 | 2020-04-21] active: ['AAPL', 'ACN', 'ADBE', 'AMAT', 'AMD', 'AMZN', 'AVGO', 'BKNG', 'COST', 'CRM', 'CSCO', 'DIS', 'GOOGL', 'HD', 'IBM', 'INTU', 'KO', 'MCD', 'META', 'MSFT', 'NFLX', 'NOW', 'NVDA', 'ORCL', 'PG', 'PM', 'QCOM', 'T', 'TSLA', 'TXN', 'VZ', 'WMT']\n"
     ]
    },
    {
     "name": "stderr",
     "output_type": "stream",
     "text": [
      "/opt/anaconda3/lib/python3.12/site-packages/cvxpy/reductions/solvers/solving_chain.py:356: FutureWarning: \n",
      "    You specified your problem should be solved by ECOS. Starting in\n",
      "    CXVPY 1.6.0, ECOS will no longer be installed by default with CVXPY.\n",
      "    Please either add ECOS as an explicit install dependency to your project\n",
      "    or switch to our new default solver, Clarabel, by either not specifying a\n",
      "    solver argument or specifying ``solver=cp.CLARABEL``. To suppress this\n",
      "    warning while continuing to use ECOS, you can filter this warning using\n",
      "    Python's ``warnings`` module until you are using 1.6.0.\n",
      "    \n",
      "  warnings.warn(ECOS_DEP_DEPRECATION_MSG, FutureWarning)\n",
      "/opt/anaconda3/lib/python3.12/site-packages/cvxpy/problems/problem.py:1407: UserWarning: Solution may be inaccurate. Try another solver, adjusting the solver settings, or solve with verbose=True for more information.\n",
      "  warnings.warn(\n"
     ]
    },
    {
     "name": "stdout",
     "output_type": "stream",
     "text": [
      "[t=2167 | 2020-04-22] active: ['AAPL', 'ACN', 'ADBE', 'AMAT', 'AMD', 'AMZN', 'AVGO', 'BKNG', 'COST', 'CRM', 'CSCO', 'DIS', 'GOOGL', 'HD', 'IBM', 'INTU', 'KO', 'MCD', 'META', 'MSFT', 'NFLX', 'NOW', 'NVDA', 'ORCL', 'PG', 'PM', 'QCOM', 'T', 'TSLA', 'TXN', 'VZ', 'WMT']\n"
     ]
    },
    {
     "name": "stderr",
     "output_type": "stream",
     "text": [
      "/opt/anaconda3/lib/python3.12/site-packages/cvxpy/reductions/solvers/solving_chain.py:356: FutureWarning: \n",
      "    You specified your problem should be solved by ECOS. Starting in\n",
      "    CXVPY 1.6.0, ECOS will no longer be installed by default with CVXPY.\n",
      "    Please either add ECOS as an explicit install dependency to your project\n",
      "    or switch to our new default solver, Clarabel, by either not specifying a\n",
      "    solver argument or specifying ``solver=cp.CLARABEL``. To suppress this\n",
      "    warning while continuing to use ECOS, you can filter this warning using\n",
      "    Python's ``warnings`` module until you are using 1.6.0.\n",
      "    \n",
      "  warnings.warn(ECOS_DEP_DEPRECATION_MSG, FutureWarning)\n",
      "/opt/anaconda3/lib/python3.12/site-packages/cvxpy/problems/problem.py:1407: UserWarning: Solution may be inaccurate. Try another solver, adjusting the solver settings, or solve with verbose=True for more information.\n",
      "  warnings.warn(\n"
     ]
    },
    {
     "name": "stdout",
     "output_type": "stream",
     "text": [
      "[t=2168 | 2020-04-23] active: ['AAPL', 'ACN', 'ADBE', 'AMAT', 'AMD', 'AMZN', 'AVGO', 'BKNG', 'COST', 'CRM', 'CSCO', 'DIS', 'GOOGL', 'HD', 'IBM', 'INTU', 'KO', 'MCD', 'META', 'MSFT', 'NFLX', 'NOW', 'NVDA', 'ORCL', 'PG', 'PM', 'QCOM', 'T', 'TSLA', 'TXN', 'VZ', 'WMT']\n"
     ]
    },
    {
     "name": "stderr",
     "output_type": "stream",
     "text": [
      "/opt/anaconda3/lib/python3.12/site-packages/cvxpy/reductions/solvers/solving_chain.py:356: FutureWarning: \n",
      "    You specified your problem should be solved by ECOS. Starting in\n",
      "    CXVPY 1.6.0, ECOS will no longer be installed by default with CVXPY.\n",
      "    Please either add ECOS as an explicit install dependency to your project\n",
      "    or switch to our new default solver, Clarabel, by either not specifying a\n",
      "    solver argument or specifying ``solver=cp.CLARABEL``. To suppress this\n",
      "    warning while continuing to use ECOS, you can filter this warning using\n",
      "    Python's ``warnings`` module until you are using 1.6.0.\n",
      "    \n",
      "  warnings.warn(ECOS_DEP_DEPRECATION_MSG, FutureWarning)\n",
      "/opt/anaconda3/lib/python3.12/site-packages/cvxpy/problems/problem.py:1407: UserWarning: Solution may be inaccurate. Try another solver, adjusting the solver settings, or solve with verbose=True for more information.\n",
      "  warnings.warn(\n"
     ]
    },
    {
     "name": "stdout",
     "output_type": "stream",
     "text": [
      "[t=2172 | 2020-04-29] active: ['AAPL', 'ACN', 'ADBE', 'AMAT', 'AMD', 'AMZN', 'AVGO', 'BKNG', 'COST', 'CRM', 'CSCO', 'DIS', 'GOOGL', 'HD', 'IBM', 'INTU', 'KO', 'MCD', 'META', 'MSFT', 'NFLX', 'NOW', 'NVDA', 'ORCL', 'PG', 'PM', 'QCOM', 'T', 'TSLA', 'TXN', 'VZ', 'WMT']\n"
     ]
    },
    {
     "name": "stderr",
     "output_type": "stream",
     "text": [
      "/opt/anaconda3/lib/python3.12/site-packages/cvxpy/reductions/solvers/solving_chain.py:356: FutureWarning: \n",
      "    You specified your problem should be solved by ECOS. Starting in\n",
      "    CXVPY 1.6.0, ECOS will no longer be installed by default with CVXPY.\n",
      "    Please either add ECOS as an explicit install dependency to your project\n",
      "    or switch to our new default solver, Clarabel, by either not specifying a\n",
      "    solver argument or specifying ``solver=cp.CLARABEL``. To suppress this\n",
      "    warning while continuing to use ECOS, you can filter this warning using\n",
      "    Python's ``warnings`` module until you are using 1.6.0.\n",
      "    \n",
      "  warnings.warn(ECOS_DEP_DEPRECATION_MSG, FutureWarning)\n",
      "/opt/anaconda3/lib/python3.12/site-packages/cvxpy/problems/problem.py:1407: UserWarning: Solution may be inaccurate. Try another solver, adjusting the solver settings, or solve with verbose=True for more information.\n",
      "  warnings.warn(\n"
     ]
    },
    {
     "name": "stdout",
     "output_type": "stream",
     "text": [
      "[t=2173 | 2020-04-30] active: ['AAPL', 'ACN', 'ADBE', 'AMAT', 'AMD', 'AMZN', 'AVGO', 'BKNG', 'COST', 'CRM', 'CSCO', 'DIS', 'GOOGL', 'HD', 'IBM', 'INTU', 'KO', 'MCD', 'META', 'MSFT', 'NFLX', 'NOW', 'NVDA', 'ORCL', 'PG', 'PM', 'QCOM', 'T', 'TSLA', 'TXN', 'VZ', 'WMT']\n"
     ]
    },
    {
     "name": "stderr",
     "output_type": "stream",
     "text": [
      "/opt/anaconda3/lib/python3.12/site-packages/cvxpy/reductions/solvers/solving_chain.py:356: FutureWarning: \n",
      "    You specified your problem should be solved by ECOS. Starting in\n",
      "    CXVPY 1.6.0, ECOS will no longer be installed by default with CVXPY.\n",
      "    Please either add ECOS as an explicit install dependency to your project\n",
      "    or switch to our new default solver, Clarabel, by either not specifying a\n",
      "    solver argument or specifying ``solver=cp.CLARABEL``. To suppress this\n",
      "    warning while continuing to use ECOS, you can filter this warning using\n",
      "    Python's ``warnings`` module until you are using 1.6.0.\n",
      "    \n",
      "  warnings.warn(ECOS_DEP_DEPRECATION_MSG, FutureWarning)\n",
      "/opt/anaconda3/lib/python3.12/site-packages/cvxpy/problems/problem.py:1407: UserWarning: Solution may be inaccurate. Try another solver, adjusting the solver settings, or solve with verbose=True for more information.\n",
      "  warnings.warn(\n"
     ]
    },
    {
     "name": "stdout",
     "output_type": "stream",
     "text": [
      "[t=2174 | 2020-05-01] active: ['AAPL', 'ACN', 'ADBE', 'AMAT', 'AMD', 'AMZN', 'AVGO', 'BKNG', 'COST', 'CRM', 'CSCO', 'DIS', 'GOOGL', 'HD', 'IBM', 'INTU', 'KO', 'MCD', 'META', 'MSFT', 'NFLX', 'NOW', 'NVDA', 'ORCL', 'PG', 'PM', 'QCOM', 'T', 'TSLA', 'TXN', 'VZ', 'WMT']\n"
     ]
    },
    {
     "name": "stderr",
     "output_type": "stream",
     "text": [
      "/opt/anaconda3/lib/python3.12/site-packages/cvxpy/reductions/solvers/solving_chain.py:356: FutureWarning: \n",
      "    You specified your problem should be solved by ECOS. Starting in\n",
      "    CXVPY 1.6.0, ECOS will no longer be installed by default with CVXPY.\n",
      "    Please either add ECOS as an explicit install dependency to your project\n",
      "    or switch to our new default solver, Clarabel, by either not specifying a\n",
      "    solver argument or specifying ``solver=cp.CLARABEL``. To suppress this\n",
      "    warning while continuing to use ECOS, you can filter this warning using\n",
      "    Python's ``warnings`` module until you are using 1.6.0.\n",
      "    \n",
      "  warnings.warn(ECOS_DEP_DEPRECATION_MSG, FutureWarning)\n",
      "/opt/anaconda3/lib/python3.12/site-packages/cvxpy/problems/problem.py:1407: UserWarning: Solution may be inaccurate. Try another solver, adjusting the solver settings, or solve with verbose=True for more information.\n",
      "  warnings.warn(\n"
     ]
    },
    {
     "name": "stdout",
     "output_type": "stream",
     "text": [
      "[t=2175 | 2020-05-04] active: ['AAPL', 'ACN', 'ADBE', 'AMAT', 'AMD', 'AMZN', 'AVGO', 'BKNG', 'COST', 'CRM', 'CSCO', 'DIS', 'GOOGL', 'HD', 'IBM', 'INTU', 'KO', 'MCD', 'META', 'MSFT', 'NFLX', 'NOW', 'NVDA', 'ORCL', 'PG', 'PM', 'QCOM', 'T', 'TSLA', 'TXN', 'VZ', 'WMT']\n"
     ]
    },
    {
     "name": "stderr",
     "output_type": "stream",
     "text": [
      "/opt/anaconda3/lib/python3.12/site-packages/cvxpy/reductions/solvers/solving_chain.py:356: FutureWarning: \n",
      "    You specified your problem should be solved by ECOS. Starting in\n",
      "    CXVPY 1.6.0, ECOS will no longer be installed by default with CVXPY.\n",
      "    Please either add ECOS as an explicit install dependency to your project\n",
      "    or switch to our new default solver, Clarabel, by either not specifying a\n",
      "    solver argument or specifying ``solver=cp.CLARABEL``. To suppress this\n",
      "    warning while continuing to use ECOS, you can filter this warning using\n",
      "    Python's ``warnings`` module until you are using 1.6.0.\n",
      "    \n",
      "  warnings.warn(ECOS_DEP_DEPRECATION_MSG, FutureWarning)\n",
      "/opt/anaconda3/lib/python3.12/site-packages/cvxpy/problems/problem.py:1407: UserWarning: Solution may be inaccurate. Try another solver, adjusting the solver settings, or solve with verbose=True for more information.\n",
      "  warnings.warn(\n"
     ]
    },
    {
     "name": "stdout",
     "output_type": "stream",
     "text": [
      "[t=2176 | 2020-05-05] active: ['AAPL', 'ACN', 'ADBE', 'AMAT', 'AMD', 'AMZN', 'AVGO', 'BKNG', 'COST', 'CRM', 'CSCO', 'DIS', 'GOOGL', 'HD', 'IBM', 'INTU', 'KO', 'MCD', 'META', 'MSFT', 'NFLX', 'NOW', 'NVDA', 'ORCL', 'PG', 'PM', 'QCOM', 'T', 'TSLA', 'TXN', 'VZ', 'WMT']\n"
     ]
    },
    {
     "name": "stderr",
     "output_type": "stream",
     "text": [
      "/opt/anaconda3/lib/python3.12/site-packages/cvxpy/reductions/solvers/solving_chain.py:356: FutureWarning: \n",
      "    You specified your problem should be solved by ECOS. Starting in\n",
      "    CXVPY 1.6.0, ECOS will no longer be installed by default with CVXPY.\n",
      "    Please either add ECOS as an explicit install dependency to your project\n",
      "    or switch to our new default solver, Clarabel, by either not specifying a\n",
      "    solver argument or specifying ``solver=cp.CLARABEL``. To suppress this\n",
      "    warning while continuing to use ECOS, you can filter this warning using\n",
      "    Python's ``warnings`` module until you are using 1.6.0.\n",
      "    \n",
      "  warnings.warn(ECOS_DEP_DEPRECATION_MSG, FutureWarning)\n",
      "/opt/anaconda3/lib/python3.12/site-packages/cvxpy/problems/problem.py:1407: UserWarning: Solution may be inaccurate. Try another solver, adjusting the solver settings, or solve with verbose=True for more information.\n",
      "  warnings.warn(\n"
     ]
    },
    {
     "name": "stdout",
     "output_type": "stream",
     "text": [
      "[t=2177 | 2020-05-06] active: ['AAPL', 'ACN', 'ADBE', 'AMAT', 'AMD', 'AMZN', 'AVGO', 'BKNG', 'COST', 'CRM', 'CSCO', 'DIS', 'GOOGL', 'HD', 'IBM', 'INTU', 'KO', 'MCD', 'META', 'MSFT', 'NFLX', 'NOW', 'NVDA', 'ORCL', 'PG', 'PM', 'QCOM', 'T', 'TSLA', 'TXN', 'VZ', 'WMT']\n"
     ]
    },
    {
     "name": "stderr",
     "output_type": "stream",
     "text": [
      "/opt/anaconda3/lib/python3.12/site-packages/cvxpy/reductions/solvers/solving_chain.py:356: FutureWarning: \n",
      "    You specified your problem should be solved by ECOS. Starting in\n",
      "    CXVPY 1.6.0, ECOS will no longer be installed by default with CVXPY.\n",
      "    Please either add ECOS as an explicit install dependency to your project\n",
      "    or switch to our new default solver, Clarabel, by either not specifying a\n",
      "    solver argument or specifying ``solver=cp.CLARABEL``. To suppress this\n",
      "    warning while continuing to use ECOS, you can filter this warning using\n",
      "    Python's ``warnings`` module until you are using 1.6.0.\n",
      "    \n",
      "  warnings.warn(ECOS_DEP_DEPRECATION_MSG, FutureWarning)\n",
      "/opt/anaconda3/lib/python3.12/site-packages/cvxpy/problems/problem.py:1407: UserWarning: Solution may be inaccurate. Try another solver, adjusting the solver settings, or solve with verbose=True for more information.\n",
      "  warnings.warn(\n"
     ]
    },
    {
     "name": "stdout",
     "output_type": "stream",
     "text": [
      "[t=2178 | 2020-05-07] active: ['AAPL', 'ACN', 'ADBE', 'AMAT', 'AMD', 'AMZN', 'AVGO', 'BKNG', 'COST', 'CRM', 'CSCO', 'DIS', 'GOOGL', 'HD', 'IBM', 'INTU', 'KO', 'MCD', 'META', 'MSFT', 'NFLX', 'NOW', 'NVDA', 'ORCL', 'PG', 'PM', 'QCOM', 'T', 'TSLA', 'TXN', 'VZ', 'WMT']\n"
     ]
    },
    {
     "name": "stderr",
     "output_type": "stream",
     "text": [
      "/opt/anaconda3/lib/python3.12/site-packages/cvxpy/reductions/solvers/solving_chain.py:356: FutureWarning: \n",
      "    You specified your problem should be solved by ECOS. Starting in\n",
      "    CXVPY 1.6.0, ECOS will no longer be installed by default with CVXPY.\n",
      "    Please either add ECOS as an explicit install dependency to your project\n",
      "    or switch to our new default solver, Clarabel, by either not specifying a\n",
      "    solver argument or specifying ``solver=cp.CLARABEL``. To suppress this\n",
      "    warning while continuing to use ECOS, you can filter this warning using\n",
      "    Python's ``warnings`` module until you are using 1.6.0.\n",
      "    \n",
      "  warnings.warn(ECOS_DEP_DEPRECATION_MSG, FutureWarning)\n",
      "/opt/anaconda3/lib/python3.12/site-packages/cvxpy/problems/problem.py:1407: UserWarning: Solution may be inaccurate. Try another solver, adjusting the solver settings, or solve with verbose=True for more information.\n",
      "  warnings.warn(\n"
     ]
    },
    {
     "name": "stdout",
     "output_type": "stream",
     "text": [
      "[t=2180 | 2020-05-11] active: ['AAPL', 'ACN', 'ADBE', 'AMAT', 'AMD', 'AMZN', 'AVGO', 'BKNG', 'COST', 'CRM', 'CSCO', 'DIS', 'GOOGL', 'HD', 'IBM', 'INTU', 'KO', 'MCD', 'META', 'MSFT', 'NFLX', 'NOW', 'NVDA', 'ORCL', 'PG', 'PM', 'QCOM', 'T', 'TSLA', 'TXN', 'VZ', 'WMT']\n"
     ]
    },
    {
     "name": "stderr",
     "output_type": "stream",
     "text": [
      "/opt/anaconda3/lib/python3.12/site-packages/cvxpy/reductions/solvers/solving_chain.py:356: FutureWarning: \n",
      "    You specified your problem should be solved by ECOS. Starting in\n",
      "    CXVPY 1.6.0, ECOS will no longer be installed by default with CVXPY.\n",
      "    Please either add ECOS as an explicit install dependency to your project\n",
      "    or switch to our new default solver, Clarabel, by either not specifying a\n",
      "    solver argument or specifying ``solver=cp.CLARABEL``. To suppress this\n",
      "    warning while continuing to use ECOS, you can filter this warning using\n",
      "    Python's ``warnings`` module until you are using 1.6.0.\n",
      "    \n",
      "  warnings.warn(ECOS_DEP_DEPRECATION_MSG, FutureWarning)\n",
      "/opt/anaconda3/lib/python3.12/site-packages/cvxpy/problems/problem.py:1407: UserWarning: Solution may be inaccurate. Try another solver, adjusting the solver settings, or solve with verbose=True for more information.\n",
      "  warnings.warn(\n"
     ]
    },
    {
     "name": "stdout",
     "output_type": "stream",
     "text": [
      "[t=2181 | 2020-05-12] active: ['AAPL', 'ACN', 'ADBE', 'AMAT', 'AMD', 'AMZN', 'AVGO', 'BKNG', 'COST', 'CRM', 'CSCO', 'DIS', 'GOOGL', 'HD', 'IBM', 'INTU', 'KO', 'MCD', 'META', 'MSFT', 'NFLX', 'NOW', 'NVDA', 'ORCL', 'PG', 'PM', 'QCOM', 'T', 'TSLA', 'TXN', 'VZ', 'WMT']\n"
     ]
    },
    {
     "name": "stderr",
     "output_type": "stream",
     "text": [
      "/opt/anaconda3/lib/python3.12/site-packages/cvxpy/reductions/solvers/solving_chain.py:356: FutureWarning: \n",
      "    You specified your problem should be solved by ECOS. Starting in\n",
      "    CXVPY 1.6.0, ECOS will no longer be installed by default with CVXPY.\n",
      "    Please either add ECOS as an explicit install dependency to your project\n",
      "    or switch to our new default solver, Clarabel, by either not specifying a\n",
      "    solver argument or specifying ``solver=cp.CLARABEL``. To suppress this\n",
      "    warning while continuing to use ECOS, you can filter this warning using\n",
      "    Python's ``warnings`` module until you are using 1.6.0.\n",
      "    \n",
      "  warnings.warn(ECOS_DEP_DEPRECATION_MSG, FutureWarning)\n",
      "/opt/anaconda3/lib/python3.12/site-packages/cvxpy/problems/problem.py:1407: UserWarning: Solution may be inaccurate. Try another solver, adjusting the solver settings, or solve with verbose=True for more information.\n",
      "  warnings.warn(\n"
     ]
    },
    {
     "name": "stdout",
     "output_type": "stream",
     "text": [
      "[t=2182 | 2020-05-13] active: ['AAPL', 'ACN', 'ADBE', 'AMAT', 'AMD', 'AMZN', 'AVGO', 'BKNG', 'COST', 'CRM', 'CSCO', 'DIS', 'GOOGL', 'HD', 'IBM', 'INTU', 'KO', 'MCD', 'META', 'MSFT', 'NFLX', 'NOW', 'NVDA', 'ORCL', 'PG', 'PM', 'QCOM', 'T', 'TSLA', 'TXN', 'VZ', 'WMT']\n"
     ]
    },
    {
     "name": "stderr",
     "output_type": "stream",
     "text": [
      "/opt/anaconda3/lib/python3.12/site-packages/cvxpy/reductions/solvers/solving_chain.py:356: FutureWarning: \n",
      "    You specified your problem should be solved by ECOS. Starting in\n",
      "    CXVPY 1.6.0, ECOS will no longer be installed by default with CVXPY.\n",
      "    Please either add ECOS as an explicit install dependency to your project\n",
      "    or switch to our new default solver, Clarabel, by either not specifying a\n",
      "    solver argument or specifying ``solver=cp.CLARABEL``. To suppress this\n",
      "    warning while continuing to use ECOS, you can filter this warning using\n",
      "    Python's ``warnings`` module until you are using 1.6.0.\n",
      "    \n",
      "  warnings.warn(ECOS_DEP_DEPRECATION_MSG, FutureWarning)\n",
      "/opt/anaconda3/lib/python3.12/site-packages/cvxpy/problems/problem.py:1407: UserWarning: Solution may be inaccurate. Try another solver, adjusting the solver settings, or solve with verbose=True for more information.\n",
      "  warnings.warn(\n"
     ]
    },
    {
     "name": "stdout",
     "output_type": "stream",
     "text": [
      "[t=2183 | 2020-05-14] active: ['AAPL', 'ACN', 'ADBE', 'AMAT', 'AMD', 'AMZN', 'AVGO', 'BKNG', 'COST', 'CRM', 'CSCO', 'DIS', 'GOOGL', 'HD', 'IBM', 'INTU', 'KO', 'MCD', 'META', 'MSFT', 'NFLX', 'NOW', 'NVDA', 'ORCL', 'PG', 'PM', 'QCOM', 'T', 'TSLA', 'TXN', 'VZ', 'WMT']\n"
     ]
    },
    {
     "name": "stderr",
     "output_type": "stream",
     "text": [
      "/opt/anaconda3/lib/python3.12/site-packages/cvxpy/reductions/solvers/solving_chain.py:356: FutureWarning: \n",
      "    You specified your problem should be solved by ECOS. Starting in\n",
      "    CXVPY 1.6.0, ECOS will no longer be installed by default with CVXPY.\n",
      "    Please either add ECOS as an explicit install dependency to your project\n",
      "    or switch to our new default solver, Clarabel, by either not specifying a\n",
      "    solver argument or specifying ``solver=cp.CLARABEL``. To suppress this\n",
      "    warning while continuing to use ECOS, you can filter this warning using\n",
      "    Python's ``warnings`` module until you are using 1.6.0.\n",
      "    \n",
      "  warnings.warn(ECOS_DEP_DEPRECATION_MSG, FutureWarning)\n",
      "/opt/anaconda3/lib/python3.12/site-packages/cvxpy/problems/problem.py:1407: UserWarning: Solution may be inaccurate. Try another solver, adjusting the solver settings, or solve with verbose=True for more information.\n",
      "  warnings.warn(\n"
     ]
    },
    {
     "name": "stdout",
     "output_type": "stream",
     "text": [
      "[t=2184 | 2020-05-15] active: ['AAPL', 'ACN', 'ADBE', 'AMAT', 'AMD', 'AMZN', 'AVGO', 'BKNG', 'COST', 'CRM', 'CSCO', 'DIS', 'GOOGL', 'HD', 'IBM', 'INTU', 'KO', 'MCD', 'META', 'MSFT', 'NFLX', 'NOW', 'NVDA', 'ORCL', 'PG', 'PM', 'QCOM', 'T', 'TSLA', 'TXN', 'VZ', 'WMT']\n"
     ]
    },
    {
     "name": "stderr",
     "output_type": "stream",
     "text": [
      "/opt/anaconda3/lib/python3.12/site-packages/cvxpy/reductions/solvers/solving_chain.py:356: FutureWarning: \n",
      "    You specified your problem should be solved by ECOS. Starting in\n",
      "    CXVPY 1.6.0, ECOS will no longer be installed by default with CVXPY.\n",
      "    Please either add ECOS as an explicit install dependency to your project\n",
      "    or switch to our new default solver, Clarabel, by either not specifying a\n",
      "    solver argument or specifying ``solver=cp.CLARABEL``. To suppress this\n",
      "    warning while continuing to use ECOS, you can filter this warning using\n",
      "    Python's ``warnings`` module until you are using 1.6.0.\n",
      "    \n",
      "  warnings.warn(ECOS_DEP_DEPRECATION_MSG, FutureWarning)\n",
      "/opt/anaconda3/lib/python3.12/site-packages/cvxpy/problems/problem.py:1407: UserWarning: Solution may be inaccurate. Try another solver, adjusting the solver settings, or solve with verbose=True for more information.\n",
      "  warnings.warn(\n"
     ]
    },
    {
     "name": "stdout",
     "output_type": "stream",
     "text": [
      "[t=2185 | 2020-05-18] active: ['AAPL', 'ACN', 'ADBE', 'AMAT', 'AMD', 'AMZN', 'AVGO', 'BKNG', 'COST', 'CRM', 'CSCO', 'DIS', 'GOOGL', 'HD', 'IBM', 'INTU', 'KO', 'MCD', 'META', 'MSFT', 'NFLX', 'NOW', 'NVDA', 'ORCL', 'PG', 'PM', 'QCOM', 'T', 'TSLA', 'TXN', 'VZ', 'WMT']\n"
     ]
    },
    {
     "name": "stderr",
     "output_type": "stream",
     "text": [
      "/opt/anaconda3/lib/python3.12/site-packages/cvxpy/reductions/solvers/solving_chain.py:356: FutureWarning: \n",
      "    You specified your problem should be solved by ECOS. Starting in\n",
      "    CXVPY 1.6.0, ECOS will no longer be installed by default with CVXPY.\n",
      "    Please either add ECOS as an explicit install dependency to your project\n",
      "    or switch to our new default solver, Clarabel, by either not specifying a\n",
      "    solver argument or specifying ``solver=cp.CLARABEL``. To suppress this\n",
      "    warning while continuing to use ECOS, you can filter this warning using\n",
      "    Python's ``warnings`` module until you are using 1.6.0.\n",
      "    \n",
      "  warnings.warn(ECOS_DEP_DEPRECATION_MSG, FutureWarning)\n",
      "/opt/anaconda3/lib/python3.12/site-packages/cvxpy/problems/problem.py:1407: UserWarning: Solution may be inaccurate. Try another solver, adjusting the solver settings, or solve with verbose=True for more information.\n",
      "  warnings.warn(\n"
     ]
    },
    {
     "name": "stdout",
     "output_type": "stream",
     "text": [
      "[t=2188 | 2020-05-21] active: ['AAPL', 'ACN', 'ADBE', 'AMAT', 'AMD', 'AMZN', 'AVGO', 'BKNG', 'COST', 'CRM', 'CSCO', 'DIS', 'GOOGL', 'HD', 'IBM', 'INTU', 'KO', 'MCD', 'META', 'MSFT', 'NFLX', 'NOW', 'NVDA', 'ORCL', 'PG', 'PM', 'QCOM', 'T', 'TSLA', 'TXN', 'VZ', 'WMT']\n"
     ]
    },
    {
     "name": "stderr",
     "output_type": "stream",
     "text": [
      "/opt/anaconda3/lib/python3.12/site-packages/cvxpy/reductions/solvers/solving_chain.py:356: FutureWarning: \n",
      "    You specified your problem should be solved by ECOS. Starting in\n",
      "    CXVPY 1.6.0, ECOS will no longer be installed by default with CVXPY.\n",
      "    Please either add ECOS as an explicit install dependency to your project\n",
      "    or switch to our new default solver, Clarabel, by either not specifying a\n",
      "    solver argument or specifying ``solver=cp.CLARABEL``. To suppress this\n",
      "    warning while continuing to use ECOS, you can filter this warning using\n",
      "    Python's ``warnings`` module until you are using 1.6.0.\n",
      "    \n",
      "  warnings.warn(ECOS_DEP_DEPRECATION_MSG, FutureWarning)\n",
      "/opt/anaconda3/lib/python3.12/site-packages/cvxpy/problems/problem.py:1407: UserWarning: Solution may be inaccurate. Try another solver, adjusting the solver settings, or solve with verbose=True for more information.\n",
      "  warnings.warn(\n"
     ]
    },
    {
     "name": "stdout",
     "output_type": "stream",
     "text": [
      "[t=2194 | 2020-05-29] active: ['AAPL', 'ACN', 'ADBE', 'AMAT', 'AMD', 'AMZN', 'AVGO', 'BKNG', 'COST', 'CRM', 'CSCO', 'DIS', 'GOOGL', 'HD', 'IBM', 'INTU', 'KO', 'MCD', 'META', 'MSFT', 'NFLX', 'NOW', 'NVDA', 'ORCL', 'PG', 'PM', 'QCOM', 'T', 'TSLA', 'TXN', 'VZ', 'WMT']\n"
     ]
    },
    {
     "name": "stderr",
     "output_type": "stream",
     "text": [
      "/opt/anaconda3/lib/python3.12/site-packages/cvxpy/reductions/solvers/solving_chain.py:356: FutureWarning: \n",
      "    You specified your problem should be solved by ECOS. Starting in\n",
      "    CXVPY 1.6.0, ECOS will no longer be installed by default with CVXPY.\n",
      "    Please either add ECOS as an explicit install dependency to your project\n",
      "    or switch to our new default solver, Clarabel, by either not specifying a\n",
      "    solver argument or specifying ``solver=cp.CLARABEL``. To suppress this\n",
      "    warning while continuing to use ECOS, you can filter this warning using\n",
      "    Python's ``warnings`` module until you are using 1.6.0.\n",
      "    \n",
      "  warnings.warn(ECOS_DEP_DEPRECATION_MSG, FutureWarning)\n",
      "/opt/anaconda3/lib/python3.12/site-packages/cvxpy/problems/problem.py:1407: UserWarning: Solution may be inaccurate. Try another solver, adjusting the solver settings, or solve with verbose=True for more information.\n",
      "  warnings.warn(\n"
     ]
    },
    {
     "name": "stdout",
     "output_type": "stream",
     "text": [
      "[t=2203 | 2020-06-11] active: ['AAPL', 'ACN', 'ADBE', 'AMAT', 'AMD', 'AMZN', 'AVGO', 'BKNG', 'COST', 'CRM', 'CSCO', 'DIS', 'GOOGL', 'HD', 'IBM', 'INTU', 'KO', 'MCD', 'META', 'MSFT', 'NFLX', 'NOW', 'NVDA', 'ORCL', 'PG', 'PM', 'QCOM', 'T', 'TSLA', 'TXN', 'VZ', 'WMT']\n"
     ]
    },
    {
     "name": "stderr",
     "output_type": "stream",
     "text": [
      "/opt/anaconda3/lib/python3.12/site-packages/cvxpy/reductions/solvers/solving_chain.py:356: FutureWarning: \n",
      "    You specified your problem should be solved by ECOS. Starting in\n",
      "    CXVPY 1.6.0, ECOS will no longer be installed by default with CVXPY.\n",
      "    Please either add ECOS as an explicit install dependency to your project\n",
      "    or switch to our new default solver, Clarabel, by either not specifying a\n",
      "    solver argument or specifying ``solver=cp.CLARABEL``. To suppress this\n",
      "    warning while continuing to use ECOS, you can filter this warning using\n",
      "    Python's ``warnings`` module until you are using 1.6.0.\n",
      "    \n",
      "  warnings.warn(ECOS_DEP_DEPRECATION_MSG, FutureWarning)\n",
      "/opt/anaconda3/lib/python3.12/site-packages/cvxpy/problems/problem.py:1407: UserWarning: Solution may be inaccurate. Try another solver, adjusting the solver settings, or solve with verbose=True for more information.\n",
      "  warnings.warn(\n"
     ]
    },
    {
     "name": "stdout",
     "output_type": "stream",
     "text": [
      "[t=2204 | 2020-06-12] active: ['AAPL', 'ACN', 'ADBE', 'AMAT', 'AMD', 'AMZN', 'AVGO', 'BKNG', 'COST', 'CRM', 'CSCO', 'DIS', 'GOOGL', 'HD', 'IBM', 'INTU', 'KO', 'MCD', 'META', 'MSFT', 'NFLX', 'NOW', 'NVDA', 'ORCL', 'PG', 'PM', 'QCOM', 'T', 'TSLA', 'TXN', 'VZ', 'WMT']\n"
     ]
    },
    {
     "name": "stderr",
     "output_type": "stream",
     "text": [
      "/opt/anaconda3/lib/python3.12/site-packages/cvxpy/reductions/solvers/solving_chain.py:356: FutureWarning: \n",
      "    You specified your problem should be solved by ECOS. Starting in\n",
      "    CXVPY 1.6.0, ECOS will no longer be installed by default with CVXPY.\n",
      "    Please either add ECOS as an explicit install dependency to your project\n",
      "    or switch to our new default solver, Clarabel, by either not specifying a\n",
      "    solver argument or specifying ``solver=cp.CLARABEL``. To suppress this\n",
      "    warning while continuing to use ECOS, you can filter this warning using\n",
      "    Python's ``warnings`` module until you are using 1.6.0.\n",
      "    \n",
      "  warnings.warn(ECOS_DEP_DEPRECATION_MSG, FutureWarning)\n",
      "/opt/anaconda3/lib/python3.12/site-packages/cvxpy/problems/problem.py:1407: UserWarning: Solution may be inaccurate. Try another solver, adjusting the solver settings, or solve with verbose=True for more information.\n",
      "  warnings.warn(\n"
     ]
    },
    {
     "name": "stdout",
     "output_type": "stream",
     "text": [
      "[t=2205 | 2020-06-15] active: ['AAPL', 'ACN', 'ADBE', 'AMAT', 'AMD', 'AMZN', 'AVGO', 'BKNG', 'COST', 'CRM', 'CSCO', 'DIS', 'GOOGL', 'HD', 'IBM', 'INTU', 'KO', 'MCD', 'META', 'MSFT', 'NFLX', 'NOW', 'NVDA', 'ORCL', 'PG', 'PM', 'QCOM', 'T', 'TSLA', 'TXN', 'VZ', 'WMT']\n"
     ]
    },
    {
     "name": "stderr",
     "output_type": "stream",
     "text": [
      "/opt/anaconda3/lib/python3.12/site-packages/cvxpy/reductions/solvers/solving_chain.py:356: FutureWarning: \n",
      "    You specified your problem should be solved by ECOS. Starting in\n",
      "    CXVPY 1.6.0, ECOS will no longer be installed by default with CVXPY.\n",
      "    Please either add ECOS as an explicit install dependency to your project\n",
      "    or switch to our new default solver, Clarabel, by either not specifying a\n",
      "    solver argument or specifying ``solver=cp.CLARABEL``. To suppress this\n",
      "    warning while continuing to use ECOS, you can filter this warning using\n",
      "    Python's ``warnings`` module until you are using 1.6.0.\n",
      "    \n",
      "  warnings.warn(ECOS_DEP_DEPRECATION_MSG, FutureWarning)\n",
      "/opt/anaconda3/lib/python3.12/site-packages/cvxpy/problems/problem.py:1407: UserWarning: Solution may be inaccurate. Try another solver, adjusting the solver settings, or solve with verbose=True for more information.\n",
      "  warnings.warn(\n"
     ]
    },
    {
     "name": "stdout",
     "output_type": "stream",
     "text": [
      "[t=2208 | 2020-06-18] active: ['AAPL', 'ACN', 'ADBE', 'AMAT', 'AMD', 'AMZN', 'AVGO', 'BKNG', 'COST', 'CRM', 'CSCO', 'DIS', 'GOOGL', 'HD', 'IBM', 'INTU', 'KO', 'MCD', 'META', 'MSFT', 'NFLX', 'NOW', 'NVDA', 'ORCL', 'PG', 'PM', 'QCOM', 'T', 'TSLA', 'TXN', 'VZ', 'WMT']\n"
     ]
    },
    {
     "name": "stderr",
     "output_type": "stream",
     "text": [
      "/opt/anaconda3/lib/python3.12/site-packages/cvxpy/reductions/solvers/solving_chain.py:356: FutureWarning: \n",
      "    You specified your problem should be solved by ECOS. Starting in\n",
      "    CXVPY 1.6.0, ECOS will no longer be installed by default with CVXPY.\n",
      "    Please either add ECOS as an explicit install dependency to your project\n",
      "    or switch to our new default solver, Clarabel, by either not specifying a\n",
      "    solver argument or specifying ``solver=cp.CLARABEL``. To suppress this\n",
      "    warning while continuing to use ECOS, you can filter this warning using\n",
      "    Python's ``warnings`` module until you are using 1.6.0.\n",
      "    \n",
      "  warnings.warn(ECOS_DEP_DEPRECATION_MSG, FutureWarning)\n",
      "/opt/anaconda3/lib/python3.12/site-packages/cvxpy/problems/problem.py:1407: UserWarning: Solution may be inaccurate. Try another solver, adjusting the solver settings, or solve with verbose=True for more information.\n",
      "  warnings.warn(\n"
     ]
    },
    {
     "name": "stdout",
     "output_type": "stream",
     "text": [
      "[t=2209 | 2020-06-19] active: ['AAPL', 'ACN', 'ADBE', 'AMAT', 'AMD', 'AMZN', 'AVGO', 'BKNG', 'COST', 'CRM', 'CSCO', 'DIS', 'GOOGL', 'HD', 'IBM', 'INTU', 'KO', 'MCD', 'META', 'MSFT', 'NFLX', 'NOW', 'NVDA', 'ORCL', 'PG', 'PM', 'QCOM', 'T', 'TSLA', 'TXN', 'VZ', 'WMT']\n"
     ]
    },
    {
     "name": "stderr",
     "output_type": "stream",
     "text": [
      "/opt/anaconda3/lib/python3.12/site-packages/cvxpy/reductions/solvers/solving_chain.py:356: FutureWarning: \n",
      "    You specified your problem should be solved by ECOS. Starting in\n",
      "    CXVPY 1.6.0, ECOS will no longer be installed by default with CVXPY.\n",
      "    Please either add ECOS as an explicit install dependency to your project\n",
      "    or switch to our new default solver, Clarabel, by either not specifying a\n",
      "    solver argument or specifying ``solver=cp.CLARABEL``. To suppress this\n",
      "    warning while continuing to use ECOS, you can filter this warning using\n",
      "    Python's ``warnings`` module until you are using 1.6.0.\n",
      "    \n",
      "  warnings.warn(ECOS_DEP_DEPRECATION_MSG, FutureWarning)\n",
      "/opt/anaconda3/lib/python3.12/site-packages/cvxpy/problems/problem.py:1407: UserWarning: Solution may be inaccurate. Try another solver, adjusting the solver settings, or solve with verbose=True for more information.\n",
      "  warnings.warn(\n"
     ]
    },
    {
     "name": "stdout",
     "output_type": "stream",
     "text": [
      "[t=2212 | 2020-06-24] active: ['AAPL', 'ACN', 'ADBE', 'AMAT', 'AMD', 'AMZN', 'AVGO', 'BKNG', 'COST', 'CRM', 'CSCO', 'DIS', 'GOOGL', 'HD', 'IBM', 'INTU', 'KO', 'MCD', 'META', 'MSFT', 'NFLX', 'NOW', 'NVDA', 'ORCL', 'PG', 'PM', 'QCOM', 'T', 'TSLA', 'TXN', 'VZ', 'WMT']\n"
     ]
    },
    {
     "name": "stderr",
     "output_type": "stream",
     "text": [
      "/opt/anaconda3/lib/python3.12/site-packages/cvxpy/reductions/solvers/solving_chain.py:356: FutureWarning: \n",
      "    You specified your problem should be solved by ECOS. Starting in\n",
      "    CXVPY 1.6.0, ECOS will no longer be installed by default with CVXPY.\n",
      "    Please either add ECOS as an explicit install dependency to your project\n",
      "    or switch to our new default solver, Clarabel, by either not specifying a\n",
      "    solver argument or specifying ``solver=cp.CLARABEL``. To suppress this\n",
      "    warning while continuing to use ECOS, you can filter this warning using\n",
      "    Python's ``warnings`` module until you are using 1.6.0.\n",
      "    \n",
      "  warnings.warn(ECOS_DEP_DEPRECATION_MSG, FutureWarning)\n",
      "/opt/anaconda3/lib/python3.12/site-packages/cvxpy/problems/problem.py:1407: UserWarning: Solution may be inaccurate. Try another solver, adjusting the solver settings, or solve with verbose=True for more information.\n",
      "  warnings.warn(\n"
     ]
    },
    {
     "name": "stdout",
     "output_type": "stream",
     "text": [
      "[t=2213 | 2020-06-25] active: ['AAPL', 'ACN', 'ADBE', 'AMAT', 'AMD', 'AMZN', 'AVGO', 'BKNG', 'COST', 'CRM', 'CSCO', 'DIS', 'GOOGL', 'HD', 'IBM', 'INTU', 'KO', 'MCD', 'META', 'MSFT', 'NFLX', 'NOW', 'NVDA', 'ORCL', 'PG', 'PM', 'QCOM', 'T', 'TSLA', 'TXN', 'VZ', 'WMT']\n"
     ]
    },
    {
     "name": "stderr",
     "output_type": "stream",
     "text": [
      "/opt/anaconda3/lib/python3.12/site-packages/cvxpy/reductions/solvers/solving_chain.py:356: FutureWarning: \n",
      "    You specified your problem should be solved by ECOS. Starting in\n",
      "    CXVPY 1.6.0, ECOS will no longer be installed by default with CVXPY.\n",
      "    Please either add ECOS as an explicit install dependency to your project\n",
      "    or switch to our new default solver, Clarabel, by either not specifying a\n",
      "    solver argument or specifying ``solver=cp.CLARABEL``. To suppress this\n",
      "    warning while continuing to use ECOS, you can filter this warning using\n",
      "    Python's ``warnings`` module until you are using 1.6.0.\n",
      "    \n",
      "  warnings.warn(ECOS_DEP_DEPRECATION_MSG, FutureWarning)\n",
      "/opt/anaconda3/lib/python3.12/site-packages/cvxpy/problems/problem.py:1407: UserWarning: Solution may be inaccurate. Try another solver, adjusting the solver settings, or solve with verbose=True for more information.\n",
      "  warnings.warn(\n"
     ]
    },
    {
     "name": "stdout",
     "output_type": "stream",
     "text": [
      "[t=2214 | 2020-06-26] active: ['AAPL', 'ACN', 'ADBE', 'AMAT', 'AMD', 'AMZN', 'AVGO', 'BKNG', 'COST', 'CRM', 'CSCO', 'DIS', 'GOOGL', 'HD', 'IBM', 'INTU', 'KO', 'MCD', 'META', 'MSFT', 'NFLX', 'NOW', 'NVDA', 'ORCL', 'PG', 'PM', 'QCOM', 'T', 'TSLA', 'TXN', 'VZ', 'WMT']\n"
     ]
    },
    {
     "name": "stderr",
     "output_type": "stream",
     "text": [
      "/opt/anaconda3/lib/python3.12/site-packages/cvxpy/reductions/solvers/solving_chain.py:356: FutureWarning: \n",
      "    You specified your problem should be solved by ECOS. Starting in\n",
      "    CXVPY 1.6.0, ECOS will no longer be installed by default with CVXPY.\n",
      "    Please either add ECOS as an explicit install dependency to your project\n",
      "    or switch to our new default solver, Clarabel, by either not specifying a\n",
      "    solver argument or specifying ``solver=cp.CLARABEL``. To suppress this\n",
      "    warning while continuing to use ECOS, you can filter this warning using\n",
      "    Python's ``warnings`` module until you are using 1.6.0.\n",
      "    \n",
      "  warnings.warn(ECOS_DEP_DEPRECATION_MSG, FutureWarning)\n",
      "/opt/anaconda3/lib/python3.12/site-packages/cvxpy/problems/problem.py:1407: UserWarning: Solution may be inaccurate. Try another solver, adjusting the solver settings, or solve with verbose=True for more information.\n",
      "  warnings.warn(\n"
     ]
    },
    {
     "name": "stdout",
     "output_type": "stream",
     "text": [
      "[t=2216 | 2020-06-30] active: ['AAPL', 'ACN', 'ADBE', 'AMAT', 'AMD', 'AMZN', 'AVGO', 'BKNG', 'COST', 'CRM', 'CSCO', 'DIS', 'GOOGL', 'HD', 'IBM', 'INTU', 'KO', 'MCD', 'META', 'MSFT', 'NFLX', 'NOW', 'NVDA', 'ORCL', 'PG', 'PM', 'QCOM', 'T', 'TSLA', 'TXN', 'VZ', 'WMT']\n"
     ]
    },
    {
     "name": "stderr",
     "output_type": "stream",
     "text": [
      "/opt/anaconda3/lib/python3.12/site-packages/cvxpy/reductions/solvers/solving_chain.py:356: FutureWarning: \n",
      "    You specified your problem should be solved by ECOS. Starting in\n",
      "    CXVPY 1.6.0, ECOS will no longer be installed by default with CVXPY.\n",
      "    Please either add ECOS as an explicit install dependency to your project\n",
      "    or switch to our new default solver, Clarabel, by either not specifying a\n",
      "    solver argument or specifying ``solver=cp.CLARABEL``. To suppress this\n",
      "    warning while continuing to use ECOS, you can filter this warning using\n",
      "    Python's ``warnings`` module until you are using 1.6.0.\n",
      "    \n",
      "  warnings.warn(ECOS_DEP_DEPRECATION_MSG, FutureWarning)\n",
      "/opt/anaconda3/lib/python3.12/site-packages/cvxpy/problems/problem.py:1407: UserWarning: Solution may be inaccurate. Try another solver, adjusting the solver settings, or solve with verbose=True for more information.\n",
      "  warnings.warn(\n"
     ]
    },
    {
     "name": "stdout",
     "output_type": "stream",
     "text": [
      "[t=2217 | 2020-07-01] active: ['AAPL', 'ACN', 'ADBE', 'AMAT', 'AMD', 'AMZN', 'AVGO', 'BKNG', 'COST', 'CRM', 'CSCO', 'DIS', 'GOOGL', 'HD', 'IBM', 'INTU', 'KO', 'MCD', 'META', 'MSFT', 'NFLX', 'NOW', 'NVDA', 'ORCL', 'PG', 'PM', 'QCOM', 'T', 'TSLA', 'TXN', 'VZ', 'WMT']\n"
     ]
    },
    {
     "name": "stderr",
     "output_type": "stream",
     "text": [
      "/opt/anaconda3/lib/python3.12/site-packages/cvxpy/reductions/solvers/solving_chain.py:356: FutureWarning: \n",
      "    You specified your problem should be solved by ECOS. Starting in\n",
      "    CXVPY 1.6.0, ECOS will no longer be installed by default with CVXPY.\n",
      "    Please either add ECOS as an explicit install dependency to your project\n",
      "    or switch to our new default solver, Clarabel, by either not specifying a\n",
      "    solver argument or specifying ``solver=cp.CLARABEL``. To suppress this\n",
      "    warning while continuing to use ECOS, you can filter this warning using\n",
      "    Python's ``warnings`` module until you are using 1.6.0.\n",
      "    \n",
      "  warnings.warn(ECOS_DEP_DEPRECATION_MSG, FutureWarning)\n",
      "/opt/anaconda3/lib/python3.12/site-packages/cvxpy/problems/problem.py:1407: UserWarning: Solution may be inaccurate. Try another solver, adjusting the solver settings, or solve with verbose=True for more information.\n",
      "  warnings.warn(\n"
     ]
    },
    {
     "name": "stdout",
     "output_type": "stream",
     "text": [
      "[t=2218 | 2020-07-02] active: ['AAPL', 'ACN', 'ADBE', 'AMAT', 'AMD', 'AMZN', 'AVGO', 'BKNG', 'COST', 'CRM', 'CSCO', 'DIS', 'GOOGL', 'HD', 'IBM', 'INTU', 'KO', 'MCD', 'META', 'MSFT', 'NFLX', 'NOW', 'NVDA', 'ORCL', 'PG', 'PM', 'QCOM', 'T', 'TSLA', 'TXN', 'VZ', 'WMT']\n"
     ]
    },
    {
     "name": "stderr",
     "output_type": "stream",
     "text": [
      "/opt/anaconda3/lib/python3.12/site-packages/cvxpy/reductions/solvers/solving_chain.py:356: FutureWarning: \n",
      "    You specified your problem should be solved by ECOS. Starting in\n",
      "    CXVPY 1.6.0, ECOS will no longer be installed by default with CVXPY.\n",
      "    Please either add ECOS as an explicit install dependency to your project\n",
      "    or switch to our new default solver, Clarabel, by either not specifying a\n",
      "    solver argument or specifying ``solver=cp.CLARABEL``. To suppress this\n",
      "    warning while continuing to use ECOS, you can filter this warning using\n",
      "    Python's ``warnings`` module until you are using 1.6.0.\n",
      "    \n",
      "  warnings.warn(ECOS_DEP_DEPRECATION_MSG, FutureWarning)\n",
      "/opt/anaconda3/lib/python3.12/site-packages/cvxpy/problems/problem.py:1407: UserWarning: Solution may be inaccurate. Try another solver, adjusting the solver settings, or solve with verbose=True for more information.\n",
      "  warnings.warn(\n"
     ]
    },
    {
     "name": "stdout",
     "output_type": "stream",
     "text": [
      "[t=2221 | 2020-07-07] active: ['AAPL', 'ACN', 'ADBE', 'AMAT', 'AMD', 'AMZN', 'AVGO', 'BKNG', 'COST', 'CRM', 'CSCO', 'DIS', 'GOOGL', 'HD', 'IBM', 'INTU', 'KO', 'MCD', 'META', 'MSFT', 'NFLX', 'NOW', 'NVDA', 'ORCL', 'PG', 'PM', 'QCOM', 'T', 'TSLA', 'TXN', 'VZ', 'WMT']\n"
     ]
    },
    {
     "name": "stderr",
     "output_type": "stream",
     "text": [
      "/opt/anaconda3/lib/python3.12/site-packages/cvxpy/reductions/solvers/solving_chain.py:356: FutureWarning: \n",
      "    You specified your problem should be solved by ECOS. Starting in\n",
      "    CXVPY 1.6.0, ECOS will no longer be installed by default with CVXPY.\n",
      "    Please either add ECOS as an explicit install dependency to your project\n",
      "    or switch to our new default solver, Clarabel, by either not specifying a\n",
      "    solver argument or specifying ``solver=cp.CLARABEL``. To suppress this\n",
      "    warning while continuing to use ECOS, you can filter this warning using\n",
      "    Python's ``warnings`` module until you are using 1.6.0.\n",
      "    \n",
      "  warnings.warn(ECOS_DEP_DEPRECATION_MSG, FutureWarning)\n",
      "/opt/anaconda3/lib/python3.12/site-packages/cvxpy/problems/problem.py:1407: UserWarning: Solution may be inaccurate. Try another solver, adjusting the solver settings, or solve with verbose=True for more information.\n",
      "  warnings.warn(\n"
     ]
    },
    {
     "name": "stdout",
     "output_type": "stream",
     "text": [
      "[t=2223 | 2020-07-09] active: ['AAPL', 'ACN', 'ADBE', 'AMAT', 'AMD', 'AMZN', 'AVGO', 'BKNG', 'COST', 'CRM', 'CSCO', 'DIS', 'GOOGL', 'HD', 'IBM', 'INTU', 'KO', 'MCD', 'META', 'MSFT', 'NFLX', 'NOW', 'NVDA', 'ORCL', 'PG', 'PM', 'QCOM', 'T', 'TSLA', 'TXN', 'VZ', 'WMT']\n"
     ]
    },
    {
     "name": "stderr",
     "output_type": "stream",
     "text": [
      "/opt/anaconda3/lib/python3.12/site-packages/cvxpy/reductions/solvers/solving_chain.py:356: FutureWarning: \n",
      "    You specified your problem should be solved by ECOS. Starting in\n",
      "    CXVPY 1.6.0, ECOS will no longer be installed by default with CVXPY.\n",
      "    Please either add ECOS as an explicit install dependency to your project\n",
      "    or switch to our new default solver, Clarabel, by either not specifying a\n",
      "    solver argument or specifying ``solver=cp.CLARABEL``. To suppress this\n",
      "    warning while continuing to use ECOS, you can filter this warning using\n",
      "    Python's ``warnings`` module until you are using 1.6.0.\n",
      "    \n",
      "  warnings.warn(ECOS_DEP_DEPRECATION_MSG, FutureWarning)\n",
      "/opt/anaconda3/lib/python3.12/site-packages/cvxpy/problems/problem.py:1407: UserWarning: Solution may be inaccurate. Try another solver, adjusting the solver settings, or solve with verbose=True for more information.\n",
      "  warnings.warn(\n"
     ]
    },
    {
     "name": "stdout",
     "output_type": "stream",
     "text": [
      "[t=2224 | 2020-07-10] active: ['AAPL', 'ACN', 'ADBE', 'AMAT', 'AMD', 'AMZN', 'AVGO', 'BKNG', 'COST', 'CRM', 'CSCO', 'DIS', 'GOOGL', 'HD', 'IBM', 'INTU', 'KO', 'MCD', 'META', 'MSFT', 'NFLX', 'NOW', 'NVDA', 'ORCL', 'PG', 'PM', 'QCOM', 'T', 'TSLA', 'TXN', 'VZ', 'WMT']\n"
     ]
    },
    {
     "name": "stderr",
     "output_type": "stream",
     "text": [
      "/opt/anaconda3/lib/python3.12/site-packages/cvxpy/reductions/solvers/solving_chain.py:356: FutureWarning: \n",
      "    You specified your problem should be solved by ECOS. Starting in\n",
      "    CXVPY 1.6.0, ECOS will no longer be installed by default with CVXPY.\n",
      "    Please either add ECOS as an explicit install dependency to your project\n",
      "    or switch to our new default solver, Clarabel, by either not specifying a\n",
      "    solver argument or specifying ``solver=cp.CLARABEL``. To suppress this\n",
      "    warning while continuing to use ECOS, you can filter this warning using\n",
      "    Python's ``warnings`` module until you are using 1.6.0.\n",
      "    \n",
      "  warnings.warn(ECOS_DEP_DEPRECATION_MSG, FutureWarning)\n",
      "/opt/anaconda3/lib/python3.12/site-packages/cvxpy/problems/problem.py:1407: UserWarning: Solution may be inaccurate. Try another solver, adjusting the solver settings, or solve with verbose=True for more information.\n",
      "  warnings.warn(\n"
     ]
    },
    {
     "name": "stdout",
     "output_type": "stream",
     "text": [
      "[t=2263 | 2020-09-03] active: ['AAPL', 'ACN', 'ADBE', 'AMAT', 'AMD', 'AMZN', 'AVGO', 'BKNG', 'COST', 'CRM', 'CSCO', 'DIS', 'GOOGL', 'HD', 'IBM', 'INTU', 'KO', 'MCD', 'META', 'MSFT', 'NFLX', 'NOW', 'NVDA', 'ORCL', 'PG', 'PM', 'QCOM', 'T', 'TSLA', 'TXN', 'VZ', 'WMT']\n"
     ]
    },
    {
     "name": "stderr",
     "output_type": "stream",
     "text": [
      "/opt/anaconda3/lib/python3.12/site-packages/cvxpy/reductions/solvers/solving_chain.py:356: FutureWarning: \n",
      "    You specified your problem should be solved by ECOS. Starting in\n",
      "    CXVPY 1.6.0, ECOS will no longer be installed by default with CVXPY.\n",
      "    Please either add ECOS as an explicit install dependency to your project\n",
      "    or switch to our new default solver, Clarabel, by either not specifying a\n",
      "    solver argument or specifying ``solver=cp.CLARABEL``. To suppress this\n",
      "    warning while continuing to use ECOS, you can filter this warning using\n",
      "    Python's ``warnings`` module until you are using 1.6.0.\n",
      "    \n",
      "  warnings.warn(ECOS_DEP_DEPRECATION_MSG, FutureWarning)\n",
      "/opt/anaconda3/lib/python3.12/site-packages/cvxpy/problems/problem.py:1407: UserWarning: Solution may be inaccurate. Try another solver, adjusting the solver settings, or solve with verbose=True for more information.\n",
      "  warnings.warn(\n"
     ]
    },
    {
     "name": "stdout",
     "output_type": "stream",
     "text": [
      "[t=2267 | 2020-09-09] active: ['AAPL', 'ACN', 'ADBE', 'AMAT', 'AMD', 'AMZN', 'AVGO', 'BKNG', 'COST', 'CRM', 'CSCO', 'DIS', 'GOOGL', 'HD', 'IBM', 'INTU', 'KO', 'MCD', 'META', 'MSFT', 'NFLX', 'NOW', 'NVDA', 'ORCL', 'PG', 'PM', 'QCOM', 'T', 'TSLA', 'TXN', 'VZ', 'WMT']\n"
     ]
    },
    {
     "name": "stderr",
     "output_type": "stream",
     "text": [
      "/opt/anaconda3/lib/python3.12/site-packages/cvxpy/reductions/solvers/solving_chain.py:356: FutureWarning: \n",
      "    You specified your problem should be solved by ECOS. Starting in\n",
      "    CXVPY 1.6.0, ECOS will no longer be installed by default with CVXPY.\n",
      "    Please either add ECOS as an explicit install dependency to your project\n",
      "    or switch to our new default solver, Clarabel, by either not specifying a\n",
      "    solver argument or specifying ``solver=cp.CLARABEL``. To suppress this\n",
      "    warning while continuing to use ECOS, you can filter this warning using\n",
      "    Python's ``warnings`` module until you are using 1.6.0.\n",
      "    \n",
      "  warnings.warn(ECOS_DEP_DEPRECATION_MSG, FutureWarning)\n",
      "/opt/anaconda3/lib/python3.12/site-packages/cvxpy/problems/problem.py:1407: UserWarning: Solution may be inaccurate. Try another solver, adjusting the solver settings, or solve with verbose=True for more information.\n",
      "  warnings.warn(\n"
     ]
    },
    {
     "name": "stdout",
     "output_type": "stream",
     "text": [
      "[t=2268 | 2020-09-10] active: ['AAPL', 'ACN', 'ADBE', 'AMAT', 'AMD', 'AMZN', 'AVGO', 'BKNG', 'COST', 'CRM', 'CSCO', 'DIS', 'GOOGL', 'HD', 'IBM', 'INTU', 'KO', 'MCD', 'META', 'MSFT', 'NFLX', 'NOW', 'NVDA', 'ORCL', 'PG', 'PM', 'QCOM', 'T', 'TSLA', 'TXN', 'VZ', 'WMT']\n"
     ]
    },
    {
     "name": "stderr",
     "output_type": "stream",
     "text": [
      "/opt/anaconda3/lib/python3.12/site-packages/cvxpy/reductions/solvers/solving_chain.py:356: FutureWarning: \n",
      "    You specified your problem should be solved by ECOS. Starting in\n",
      "    CXVPY 1.6.0, ECOS will no longer be installed by default with CVXPY.\n",
      "    Please either add ECOS as an explicit install dependency to your project\n",
      "    or switch to our new default solver, Clarabel, by either not specifying a\n",
      "    solver argument or specifying ``solver=cp.CLARABEL``. To suppress this\n",
      "    warning while continuing to use ECOS, you can filter this warning using\n",
      "    Python's ``warnings`` module until you are using 1.6.0.\n",
      "    \n",
      "  warnings.warn(ECOS_DEP_DEPRECATION_MSG, FutureWarning)\n",
      "/opt/anaconda3/lib/python3.12/site-packages/cvxpy/problems/problem.py:1407: UserWarning: Solution may be inaccurate. Try another solver, adjusting the solver settings, or solve with verbose=True for more information.\n",
      "  warnings.warn(\n"
     ]
    },
    {
     "name": "stdout",
     "output_type": "stream",
     "text": [
      "[t=2269 | 2020-09-11] active: ['AAPL', 'ACN', 'ADBE', 'AMAT', 'AMD', 'AMZN', 'AVGO', 'BKNG', 'COST', 'CRM', 'CSCO', 'DIS', 'GOOGL', 'HD', 'IBM', 'INTU', 'KO', 'MCD', 'META', 'MSFT', 'NFLX', 'NOW', 'NVDA', 'ORCL', 'PG', 'PM', 'QCOM', 'T', 'TSLA', 'TXN', 'VZ', 'WMT']\n"
     ]
    },
    {
     "name": "stderr",
     "output_type": "stream",
     "text": [
      "/opt/anaconda3/lib/python3.12/site-packages/cvxpy/reductions/solvers/solving_chain.py:356: FutureWarning: \n",
      "    You specified your problem should be solved by ECOS. Starting in\n",
      "    CXVPY 1.6.0, ECOS will no longer be installed by default with CVXPY.\n",
      "    Please either add ECOS as an explicit install dependency to your project\n",
      "    or switch to our new default solver, Clarabel, by either not specifying a\n",
      "    solver argument or specifying ``solver=cp.CLARABEL``. To suppress this\n",
      "    warning while continuing to use ECOS, you can filter this warning using\n",
      "    Python's ``warnings`` module until you are using 1.6.0.\n",
      "    \n",
      "  warnings.warn(ECOS_DEP_DEPRECATION_MSG, FutureWarning)\n",
      "/opt/anaconda3/lib/python3.12/site-packages/cvxpy/problems/problem.py:1407: UserWarning: Solution may be inaccurate. Try another solver, adjusting the solver settings, or solve with verbose=True for more information.\n",
      "  warnings.warn(\n"
     ]
    },
    {
     "name": "stdout",
     "output_type": "stream",
     "text": [
      "[t=2270 | 2020-09-14] active: ['AAPL', 'ACN', 'ADBE', 'AMAT', 'AMD', 'AMZN', 'AVGO', 'BKNG', 'COST', 'CRM', 'CSCO', 'DIS', 'GOOGL', 'HD', 'IBM', 'INTU', 'KO', 'MCD', 'META', 'MSFT', 'NFLX', 'NOW', 'NVDA', 'ORCL', 'PG', 'PM', 'QCOM', 'T', 'TSLA', 'TXN', 'VZ', 'WMT']\n"
     ]
    },
    {
     "name": "stderr",
     "output_type": "stream",
     "text": [
      "/opt/anaconda3/lib/python3.12/site-packages/cvxpy/reductions/solvers/solving_chain.py:356: FutureWarning: \n",
      "    You specified your problem should be solved by ECOS. Starting in\n",
      "    CXVPY 1.6.0, ECOS will no longer be installed by default with CVXPY.\n",
      "    Please either add ECOS as an explicit install dependency to your project\n",
      "    or switch to our new default solver, Clarabel, by either not specifying a\n",
      "    solver argument or specifying ``solver=cp.CLARABEL``. To suppress this\n",
      "    warning while continuing to use ECOS, you can filter this warning using\n",
      "    Python's ``warnings`` module until you are using 1.6.0.\n",
      "    \n",
      "  warnings.warn(ECOS_DEP_DEPRECATION_MSG, FutureWarning)\n",
      "/opt/anaconda3/lib/python3.12/site-packages/cvxpy/problems/problem.py:1407: UserWarning: Solution may be inaccurate. Try another solver, adjusting the solver settings, or solve with verbose=True for more information.\n",
      "  warnings.warn(\n"
     ]
    },
    {
     "name": "stdout",
     "output_type": "stream",
     "text": [
      "[t=2272 | 2020-09-16] active: ['AAPL', 'ACN', 'ADBE', 'AMAT', 'AMD', 'AMZN', 'AVGO', 'BKNG', 'COST', 'CRM', 'CSCO', 'DIS', 'GOOGL', 'HD', 'IBM', 'INTU', 'KO', 'MCD', 'META', 'MSFT', 'NFLX', 'NOW', 'NVDA', 'ORCL', 'PG', 'PM', 'QCOM', 'T', 'TSLA', 'TXN', 'VZ', 'WMT']\n"
     ]
    },
    {
     "name": "stderr",
     "output_type": "stream",
     "text": [
      "/opt/anaconda3/lib/python3.12/site-packages/cvxpy/reductions/solvers/solving_chain.py:356: FutureWarning: \n",
      "    You specified your problem should be solved by ECOS. Starting in\n",
      "    CXVPY 1.6.0, ECOS will no longer be installed by default with CVXPY.\n",
      "    Please either add ECOS as an explicit install dependency to your project\n",
      "    or switch to our new default solver, Clarabel, by either not specifying a\n",
      "    solver argument or specifying ``solver=cp.CLARABEL``. To suppress this\n",
      "    warning while continuing to use ECOS, you can filter this warning using\n",
      "    Python's ``warnings`` module until you are using 1.6.0.\n",
      "    \n",
      "  warnings.warn(ECOS_DEP_DEPRECATION_MSG, FutureWarning)\n",
      "/opt/anaconda3/lib/python3.12/site-packages/cvxpy/problems/problem.py:1407: UserWarning: Solution may be inaccurate. Try another solver, adjusting the solver settings, or solve with verbose=True for more information.\n",
      "  warnings.warn(\n"
     ]
    },
    {
     "name": "stdout",
     "output_type": "stream",
     "text": [
      "[t=2274 | 2020-09-18] active: ['AAPL', 'ACN', 'ADBE', 'AMAT', 'AMD', 'AMZN', 'AVGO', 'BKNG', 'COST', 'CRM', 'CSCO', 'DIS', 'GOOGL', 'HD', 'IBM', 'INTU', 'KO', 'MCD', 'META', 'MSFT', 'NFLX', 'NOW', 'NVDA', 'ORCL', 'PG', 'PM', 'QCOM', 'T', 'TSLA', 'TXN', 'VZ', 'WMT']\n"
     ]
    },
    {
     "name": "stderr",
     "output_type": "stream",
     "text": [
      "/opt/anaconda3/lib/python3.12/site-packages/cvxpy/reductions/solvers/solving_chain.py:356: FutureWarning: \n",
      "    You specified your problem should be solved by ECOS. Starting in\n",
      "    CXVPY 1.6.0, ECOS will no longer be installed by default with CVXPY.\n",
      "    Please either add ECOS as an explicit install dependency to your project\n",
      "    or switch to our new default solver, Clarabel, by either not specifying a\n",
      "    solver argument or specifying ``solver=cp.CLARABEL``. To suppress this\n",
      "    warning while continuing to use ECOS, you can filter this warning using\n",
      "    Python's ``warnings`` module until you are using 1.6.0.\n",
      "    \n",
      "  warnings.warn(ECOS_DEP_DEPRECATION_MSG, FutureWarning)\n",
      "/opt/anaconda3/lib/python3.12/site-packages/cvxpy/problems/problem.py:1407: UserWarning: Solution may be inaccurate. Try another solver, adjusting the solver settings, or solve with verbose=True for more information.\n",
      "  warnings.warn(\n"
     ]
    },
    {
     "name": "stdout",
     "output_type": "stream",
     "text": [
      "[t=2277 | 2020-09-23] active: ['AAPL', 'ACN', 'ADBE', 'AMAT', 'AMD', 'AMZN', 'AVGO', 'BKNG', 'COST', 'CRM', 'CSCO', 'DIS', 'GOOGL', 'HD', 'IBM', 'INTU', 'KO', 'MCD', 'META', 'MSFT', 'NFLX', 'NOW', 'NVDA', 'ORCL', 'PG', 'PM', 'QCOM', 'T', 'TSLA', 'TXN', 'VZ', 'WMT']\n"
     ]
    },
    {
     "name": "stderr",
     "output_type": "stream",
     "text": [
      "/opt/anaconda3/lib/python3.12/site-packages/cvxpy/reductions/solvers/solving_chain.py:356: FutureWarning: \n",
      "    You specified your problem should be solved by ECOS. Starting in\n",
      "    CXVPY 1.6.0, ECOS will no longer be installed by default with CVXPY.\n",
      "    Please either add ECOS as an explicit install dependency to your project\n",
      "    or switch to our new default solver, Clarabel, by either not specifying a\n",
      "    solver argument or specifying ``solver=cp.CLARABEL``. To suppress this\n",
      "    warning while continuing to use ECOS, you can filter this warning using\n",
      "    Python's ``warnings`` module until you are using 1.6.0.\n",
      "    \n",
      "  warnings.warn(ECOS_DEP_DEPRECATION_MSG, FutureWarning)\n",
      "/opt/anaconda3/lib/python3.12/site-packages/cvxpy/problems/problem.py:1407: UserWarning: Solution may be inaccurate. Try another solver, adjusting the solver settings, or solve with verbose=True for more information.\n",
      "  warnings.warn(\n"
     ]
    },
    {
     "name": "stdout",
     "output_type": "stream",
     "text": [
      "[t=2279 | 2020-09-25] active: ['AAPL', 'ACN', 'ADBE', 'AMAT', 'AMD', 'AMZN', 'AVGO', 'BKNG', 'COST', 'CRM', 'CSCO', 'DIS', 'GOOGL', 'HD', 'IBM', 'INTU', 'KO', 'MCD', 'META', 'MSFT', 'NFLX', 'NOW', 'NVDA', 'ORCL', 'PG', 'PM', 'QCOM', 'T', 'TSLA', 'TXN', 'VZ', 'WMT']\n"
     ]
    },
    {
     "name": "stderr",
     "output_type": "stream",
     "text": [
      "/opt/anaconda3/lib/python3.12/site-packages/cvxpy/reductions/solvers/solving_chain.py:356: FutureWarning: \n",
      "    You specified your problem should be solved by ECOS. Starting in\n",
      "    CXVPY 1.6.0, ECOS will no longer be installed by default with CVXPY.\n",
      "    Please either add ECOS as an explicit install dependency to your project\n",
      "    or switch to our new default solver, Clarabel, by either not specifying a\n",
      "    solver argument or specifying ``solver=cp.CLARABEL``. To suppress this\n",
      "    warning while continuing to use ECOS, you can filter this warning using\n",
      "    Python's ``warnings`` module until you are using 1.6.0.\n",
      "    \n",
      "  warnings.warn(ECOS_DEP_DEPRECATION_MSG, FutureWarning)\n",
      "/opt/anaconda3/lib/python3.12/site-packages/cvxpy/problems/problem.py:1407: UserWarning: Solution may be inaccurate. Try another solver, adjusting the solver settings, or solve with verbose=True for more information.\n",
      "  warnings.warn(\n"
     ]
    },
    {
     "name": "stdout",
     "output_type": "stream",
     "text": [
      "[t=2281 | 2020-09-29] active: ['AAPL', 'ACN', 'ADBE', 'AMAT', 'AMD', 'AMZN', 'AVGO', 'BKNG', 'COST', 'CRM', 'CSCO', 'DIS', 'GOOGL', 'HD', 'IBM', 'INTU', 'KO', 'MCD', 'META', 'MSFT', 'NFLX', 'NOW', 'NVDA', 'ORCL', 'PG', 'PM', 'QCOM', 'T', 'TSLA', 'TXN', 'VZ', 'WMT']\n"
     ]
    },
    {
     "name": "stderr",
     "output_type": "stream",
     "text": [
      "/opt/anaconda3/lib/python3.12/site-packages/cvxpy/reductions/solvers/solving_chain.py:356: FutureWarning: \n",
      "    You specified your problem should be solved by ECOS. Starting in\n",
      "    CXVPY 1.6.0, ECOS will no longer be installed by default with CVXPY.\n",
      "    Please either add ECOS as an explicit install dependency to your project\n",
      "    or switch to our new default solver, Clarabel, by either not specifying a\n",
      "    solver argument or specifying ``solver=cp.CLARABEL``. To suppress this\n",
      "    warning while continuing to use ECOS, you can filter this warning using\n",
      "    Python's ``warnings`` module until you are using 1.6.0.\n",
      "    \n",
      "  warnings.warn(ECOS_DEP_DEPRECATION_MSG, FutureWarning)\n",
      "/opt/anaconda3/lib/python3.12/site-packages/cvxpy/problems/problem.py:1407: UserWarning: Solution may be inaccurate. Try another solver, adjusting the solver settings, or solve with verbose=True for more information.\n",
      "  warnings.warn(\n"
     ]
    },
    {
     "name": "stdout",
     "output_type": "stream",
     "text": [
      "[t=2282 | 2020-09-30] active: ['AAPL', 'ACN', 'ADBE', 'AMAT', 'AMD', 'AMZN', 'AVGO', 'BKNG', 'COST', 'CRM', 'CSCO', 'DIS', 'GOOGL', 'HD', 'IBM', 'INTU', 'KO', 'MCD', 'META', 'MSFT', 'NFLX', 'NOW', 'NVDA', 'ORCL', 'PG', 'PLTR', 'PM', 'QCOM', 'T', 'TSLA', 'TXN', 'VZ', 'WMT']\n"
     ]
    },
    {
     "name": "stderr",
     "output_type": "stream",
     "text": [
      "/opt/anaconda3/lib/python3.12/site-packages/cvxpy/reductions/solvers/solving_chain.py:356: FutureWarning: \n",
      "    You specified your problem should be solved by ECOS. Starting in\n",
      "    CXVPY 1.6.0, ECOS will no longer be installed by default with CVXPY.\n",
      "    Please either add ECOS as an explicit install dependency to your project\n",
      "    or switch to our new default solver, Clarabel, by either not specifying a\n",
      "    solver argument or specifying ``solver=cp.CLARABEL``. To suppress this\n",
      "    warning while continuing to use ECOS, you can filter this warning using\n",
      "    Python's ``warnings`` module until you are using 1.6.0.\n",
      "    \n",
      "  warnings.warn(ECOS_DEP_DEPRECATION_MSG, FutureWarning)\n",
      "/opt/anaconda3/lib/python3.12/site-packages/cvxpy/problems/problem.py:1407: UserWarning: Solution may be inaccurate. Try another solver, adjusting the solver settings, or solve with verbose=True for more information.\n",
      "  warnings.warn(\n"
     ]
    },
    {
     "name": "stdout",
     "output_type": "stream",
     "text": [
      "[t=2283 | 2020-10-01] active: ['AAPL', 'ACN', 'ADBE', 'AMAT', 'AMD', 'AMZN', 'AVGO', 'BKNG', 'COST', 'CRM', 'CSCO', 'DIS', 'GOOGL', 'HD', 'IBM', 'INTU', 'KO', 'MCD', 'META', 'MSFT', 'NFLX', 'NOW', 'NVDA', 'ORCL', 'PG', 'PLTR', 'PM', 'QCOM', 'T', 'TSLA', 'TXN', 'VZ', 'WMT']\n"
     ]
    },
    {
     "name": "stderr",
     "output_type": "stream",
     "text": [
      "/opt/anaconda3/lib/python3.12/site-packages/cvxpy/reductions/solvers/solving_chain.py:356: FutureWarning: \n",
      "    You specified your problem should be solved by ECOS. Starting in\n",
      "    CXVPY 1.6.0, ECOS will no longer be installed by default with CVXPY.\n",
      "    Please either add ECOS as an explicit install dependency to your project\n",
      "    or switch to our new default solver, Clarabel, by either not specifying a\n",
      "    solver argument or specifying ``solver=cp.CLARABEL``. To suppress this\n",
      "    warning while continuing to use ECOS, you can filter this warning using\n",
      "    Python's ``warnings`` module until you are using 1.6.0.\n",
      "    \n",
      "  warnings.warn(ECOS_DEP_DEPRECATION_MSG, FutureWarning)\n",
      "/opt/anaconda3/lib/python3.12/site-packages/cvxpy/problems/problem.py:1407: UserWarning: Solution may be inaccurate. Try another solver, adjusting the solver settings, or solve with verbose=True for more information.\n",
      "  warnings.warn(\n"
     ]
    },
    {
     "name": "stdout",
     "output_type": "stream",
     "text": [
      "[t=2287 | 2020-10-07] active: ['AAPL', 'ACN', 'ADBE', 'AMAT', 'AMD', 'AMZN', 'AVGO', 'BKNG', 'COST', 'CRM', 'CSCO', 'DIS', 'GOOGL', 'HD', 'IBM', 'INTU', 'KO', 'MCD', 'META', 'MSFT', 'NFLX', 'NOW', 'NVDA', 'ORCL', 'PG', 'PLTR', 'PM', 'QCOM', 'T', 'TSLA', 'TXN', 'VZ', 'WMT']\n"
     ]
    },
    {
     "name": "stderr",
     "output_type": "stream",
     "text": [
      "/opt/anaconda3/lib/python3.12/site-packages/cvxpy/reductions/solvers/solving_chain.py:356: FutureWarning: \n",
      "    You specified your problem should be solved by ECOS. Starting in\n",
      "    CXVPY 1.6.0, ECOS will no longer be installed by default with CVXPY.\n",
      "    Please either add ECOS as an explicit install dependency to your project\n",
      "    or switch to our new default solver, Clarabel, by either not specifying a\n",
      "    solver argument or specifying ``solver=cp.CLARABEL``. To suppress this\n",
      "    warning while continuing to use ECOS, you can filter this warning using\n",
      "    Python's ``warnings`` module until you are using 1.6.0.\n",
      "    \n",
      "  warnings.warn(ECOS_DEP_DEPRECATION_MSG, FutureWarning)\n",
      "/opt/anaconda3/lib/python3.12/site-packages/cvxpy/problems/problem.py:1407: UserWarning: Solution may be inaccurate. Try another solver, adjusting the solver settings, or solve with verbose=True for more information.\n",
      "  warnings.warn(\n"
     ]
    },
    {
     "name": "stdout",
     "output_type": "stream",
     "text": [
      "[t=2291 | 2020-10-13] active: ['AAPL', 'ACN', 'ADBE', 'AMAT', 'AMD', 'AMZN', 'AVGO', 'BKNG', 'COST', 'CRM', 'CSCO', 'DIS', 'GOOGL', 'HD', 'IBM', 'INTU', 'KO', 'MCD', 'META', 'MSFT', 'NFLX', 'NOW', 'NVDA', 'ORCL', 'PG', 'PLTR', 'PM', 'QCOM', 'T', 'TSLA', 'TXN', 'VZ', 'WMT']\n"
     ]
    },
    {
     "name": "stderr",
     "output_type": "stream",
     "text": [
      "/opt/anaconda3/lib/python3.12/site-packages/cvxpy/reductions/solvers/solving_chain.py:356: FutureWarning: \n",
      "    You specified your problem should be solved by ECOS. Starting in\n",
      "    CXVPY 1.6.0, ECOS will no longer be installed by default with CVXPY.\n",
      "    Please either add ECOS as an explicit install dependency to your project\n",
      "    or switch to our new default solver, Clarabel, by either not specifying a\n",
      "    solver argument or specifying ``solver=cp.CLARABEL``. To suppress this\n",
      "    warning while continuing to use ECOS, you can filter this warning using\n",
      "    Python's ``warnings`` module until you are using 1.6.0.\n",
      "    \n",
      "  warnings.warn(ECOS_DEP_DEPRECATION_MSG, FutureWarning)\n",
      "/opt/anaconda3/lib/python3.12/site-packages/cvxpy/problems/problem.py:1407: UserWarning: Solution may be inaccurate. Try another solver, adjusting the solver settings, or solve with verbose=True for more information.\n",
      "  warnings.warn(\n"
     ]
    },
    {
     "name": "stdout",
     "output_type": "stream",
     "text": [
      "[t=2300 | 2020-10-26] active: ['AAPL', 'ACN', 'ADBE', 'AMAT', 'AMD', 'AMZN', 'AVGO', 'BKNG', 'COST', 'CRM', 'CSCO', 'DIS', 'GOOGL', 'HD', 'IBM', 'INTU', 'KO', 'MCD', 'META', 'MSFT', 'NFLX', 'NOW', 'NVDA', 'ORCL', 'PG', 'PLTR', 'PM', 'QCOM', 'T', 'TSLA', 'TXN', 'VZ', 'WMT']\n"
     ]
    },
    {
     "name": "stderr",
     "output_type": "stream",
     "text": [
      "/opt/anaconda3/lib/python3.12/site-packages/cvxpy/reductions/solvers/solving_chain.py:356: FutureWarning: \n",
      "    You specified your problem should be solved by ECOS. Starting in\n",
      "    CXVPY 1.6.0, ECOS will no longer be installed by default with CVXPY.\n",
      "    Please either add ECOS as an explicit install dependency to your project\n",
      "    or switch to our new default solver, Clarabel, by either not specifying a\n",
      "    solver argument or specifying ``solver=cp.CLARABEL``. To suppress this\n",
      "    warning while continuing to use ECOS, you can filter this warning using\n",
      "    Python's ``warnings`` module until you are using 1.6.0.\n",
      "    \n",
      "  warnings.warn(ECOS_DEP_DEPRECATION_MSG, FutureWarning)\n",
      "/opt/anaconda3/lib/python3.12/site-packages/cvxpy/problems/problem.py:1407: UserWarning: Solution may be inaccurate. Try another solver, adjusting the solver settings, or solve with verbose=True for more information.\n",
      "  warnings.warn(\n"
     ]
    },
    {
     "name": "stdout",
     "output_type": "stream",
     "text": [
      "[t=2302 | 2020-10-28] active: ['AAPL', 'ACN', 'ADBE', 'AMAT', 'AMD', 'AMZN', 'AVGO', 'BKNG', 'COST', 'CRM', 'CSCO', 'DIS', 'GOOGL', 'HD', 'IBM', 'INTU', 'KO', 'MCD', 'META', 'MSFT', 'NFLX', 'NOW', 'NVDA', 'ORCL', 'PG', 'PLTR', 'PM', 'QCOM', 'T', 'TSLA', 'TXN', 'VZ', 'WMT']\n"
     ]
    },
    {
     "name": "stderr",
     "output_type": "stream",
     "text": [
      "/opt/anaconda3/lib/python3.12/site-packages/cvxpy/reductions/solvers/solving_chain.py:356: FutureWarning: \n",
      "    You specified your problem should be solved by ECOS. Starting in\n",
      "    CXVPY 1.6.0, ECOS will no longer be installed by default with CVXPY.\n",
      "    Please either add ECOS as an explicit install dependency to your project\n",
      "    or switch to our new default solver, Clarabel, by either not specifying a\n",
      "    solver argument or specifying ``solver=cp.CLARABEL``. To suppress this\n",
      "    warning while continuing to use ECOS, you can filter this warning using\n",
      "    Python's ``warnings`` module until you are using 1.6.0.\n",
      "    \n",
      "  warnings.warn(ECOS_DEP_DEPRECATION_MSG, FutureWarning)\n",
      "/opt/anaconda3/lib/python3.12/site-packages/cvxpy/problems/problem.py:1407: UserWarning: Solution may be inaccurate. Try another solver, adjusting the solver settings, or solve with verbose=True for more information.\n",
      "  warnings.warn(\n"
     ]
    },
    {
     "name": "stdout",
     "output_type": "stream",
     "text": [
      "[t=2303 | 2020-10-29] active: ['AAPL', 'ACN', 'ADBE', 'AMAT', 'AMD', 'AMZN', 'AVGO', 'BKNG', 'COST', 'CRM', 'CSCO', 'DIS', 'GOOGL', 'HD', 'IBM', 'INTU', 'KO', 'MCD', 'META', 'MSFT', 'NFLX', 'NOW', 'NVDA', 'ORCL', 'PG', 'PLTR', 'PM', 'QCOM', 'T', 'TSLA', 'TXN', 'VZ', 'WMT']\n"
     ]
    },
    {
     "name": "stderr",
     "output_type": "stream",
     "text": [
      "/opt/anaconda3/lib/python3.12/site-packages/cvxpy/reductions/solvers/solving_chain.py:356: FutureWarning: \n",
      "    You specified your problem should be solved by ECOS. Starting in\n",
      "    CXVPY 1.6.0, ECOS will no longer be installed by default with CVXPY.\n",
      "    Please either add ECOS as an explicit install dependency to your project\n",
      "    or switch to our new default solver, Clarabel, by either not specifying a\n",
      "    solver argument or specifying ``solver=cp.CLARABEL``. To suppress this\n",
      "    warning while continuing to use ECOS, you can filter this warning using\n",
      "    Python's ``warnings`` module until you are using 1.6.0.\n",
      "    \n",
      "  warnings.warn(ECOS_DEP_DEPRECATION_MSG, FutureWarning)\n",
      "/opt/anaconda3/lib/python3.12/site-packages/cvxpy/problems/problem.py:1407: UserWarning: Solution may be inaccurate. Try another solver, adjusting the solver settings, or solve with verbose=True for more information.\n",
      "  warnings.warn(\n"
     ]
    },
    {
     "name": "stdout",
     "output_type": "stream",
     "text": [
      "[t=2304 | 2020-10-30] active: ['AAPL', 'ACN', 'ADBE', 'AMAT', 'AMD', 'AMZN', 'AVGO', 'BKNG', 'COST', 'CRM', 'CSCO', 'DIS', 'GOOGL', 'HD', 'IBM', 'INTU', 'KO', 'MCD', 'META', 'MSFT', 'NFLX', 'NOW', 'NVDA', 'ORCL', 'PG', 'PLTR', 'PM', 'QCOM', 'T', 'TSLA', 'TXN', 'VZ', 'WMT']\n"
     ]
    },
    {
     "name": "stderr",
     "output_type": "stream",
     "text": [
      "/opt/anaconda3/lib/python3.12/site-packages/cvxpy/reductions/solvers/solving_chain.py:356: FutureWarning: \n",
      "    You specified your problem should be solved by ECOS. Starting in\n",
      "    CXVPY 1.6.0, ECOS will no longer be installed by default with CVXPY.\n",
      "    Please either add ECOS as an explicit install dependency to your project\n",
      "    or switch to our new default solver, Clarabel, by either not specifying a\n",
      "    solver argument or specifying ``solver=cp.CLARABEL``. To suppress this\n",
      "    warning while continuing to use ECOS, you can filter this warning using\n",
      "    Python's ``warnings`` module until you are using 1.6.0.\n",
      "    \n",
      "  warnings.warn(ECOS_DEP_DEPRECATION_MSG, FutureWarning)\n",
      "/opt/anaconda3/lib/python3.12/site-packages/cvxpy/problems/problem.py:1407: UserWarning: Solution may be inaccurate. Try another solver, adjusting the solver settings, or solve with verbose=True for more information.\n",
      "  warnings.warn(\n"
     ]
    },
    {
     "name": "stdout",
     "output_type": "stream",
     "text": [
      "[t=2306 | 2020-11-03] active: ['AAPL', 'ACN', 'ADBE', 'AMAT', 'AMD', 'AMZN', 'AVGO', 'BKNG', 'COST', 'CRM', 'CSCO', 'DIS', 'GOOGL', 'HD', 'IBM', 'INTU', 'KO', 'MCD', 'META', 'MSFT', 'NFLX', 'NOW', 'NVDA', 'ORCL', 'PG', 'PLTR', 'PM', 'QCOM', 'T', 'TSLA', 'TXN', 'VZ', 'WMT']\n"
     ]
    },
    {
     "name": "stderr",
     "output_type": "stream",
     "text": [
      "/opt/anaconda3/lib/python3.12/site-packages/cvxpy/reductions/solvers/solving_chain.py:356: FutureWarning: \n",
      "    You specified your problem should be solved by ECOS. Starting in\n",
      "    CXVPY 1.6.0, ECOS will no longer be installed by default with CVXPY.\n",
      "    Please either add ECOS as an explicit install dependency to your project\n",
      "    or switch to our new default solver, Clarabel, by either not specifying a\n",
      "    solver argument or specifying ``solver=cp.CLARABEL``. To suppress this\n",
      "    warning while continuing to use ECOS, you can filter this warning using\n",
      "    Python's ``warnings`` module until you are using 1.6.0.\n",
      "    \n",
      "  warnings.warn(ECOS_DEP_DEPRECATION_MSG, FutureWarning)\n",
      "/opt/anaconda3/lib/python3.12/site-packages/cvxpy/problems/problem.py:1407: UserWarning: Solution may be inaccurate. Try another solver, adjusting the solver settings, or solve with verbose=True for more information.\n",
      "  warnings.warn(\n"
     ]
    },
    {
     "name": "stdout",
     "output_type": "stream",
     "text": [
      "[t=2307 | 2020-11-04] active: ['AAPL', 'ACN', 'ADBE', 'AMAT', 'AMD', 'AMZN', 'AVGO', 'BKNG', 'COST', 'CRM', 'CSCO', 'DIS', 'GOOGL', 'HD', 'IBM', 'INTU', 'KO', 'MCD', 'META', 'MSFT', 'NFLX', 'NOW', 'NVDA', 'ORCL', 'PG', 'PLTR', 'PM', 'QCOM', 'T', 'TSLA', 'TXN', 'VZ', 'WMT']\n"
     ]
    },
    {
     "name": "stderr",
     "output_type": "stream",
     "text": [
      "/opt/anaconda3/lib/python3.12/site-packages/cvxpy/reductions/solvers/solving_chain.py:356: FutureWarning: \n",
      "    You specified your problem should be solved by ECOS. Starting in\n",
      "    CXVPY 1.6.0, ECOS will no longer be installed by default with CVXPY.\n",
      "    Please either add ECOS as an explicit install dependency to your project\n",
      "    or switch to our new default solver, Clarabel, by either not specifying a\n",
      "    solver argument or specifying ``solver=cp.CLARABEL``. To suppress this\n",
      "    warning while continuing to use ECOS, you can filter this warning using\n",
      "    Python's ``warnings`` module until you are using 1.6.0.\n",
      "    \n",
      "  warnings.warn(ECOS_DEP_DEPRECATION_MSG, FutureWarning)\n",
      "/opt/anaconda3/lib/python3.12/site-packages/cvxpy/problems/problem.py:1407: UserWarning: Solution may be inaccurate. Try another solver, adjusting the solver settings, or solve with verbose=True for more information.\n",
      "  warnings.warn(\n"
     ]
    },
    {
     "name": "stdout",
     "output_type": "stream",
     "text": [
      "[t=2308 | 2020-11-05] active: ['AAPL', 'ACN', 'ADBE', 'AMAT', 'AMD', 'AMZN', 'AVGO', 'BKNG', 'COST', 'CRM', 'CSCO', 'DIS', 'GOOGL', 'HD', 'IBM', 'INTU', 'KO', 'MCD', 'META', 'MSFT', 'NFLX', 'NOW', 'NVDA', 'ORCL', 'PG', 'PLTR', 'PM', 'QCOM', 'T', 'TSLA', 'TXN', 'VZ', 'WMT']\n"
     ]
    },
    {
     "name": "stderr",
     "output_type": "stream",
     "text": [
      "/opt/anaconda3/lib/python3.12/site-packages/cvxpy/reductions/solvers/solving_chain.py:356: FutureWarning: \n",
      "    You specified your problem should be solved by ECOS. Starting in\n",
      "    CXVPY 1.6.0, ECOS will no longer be installed by default with CVXPY.\n",
      "    Please either add ECOS as an explicit install dependency to your project\n",
      "    or switch to our new default solver, Clarabel, by either not specifying a\n",
      "    solver argument or specifying ``solver=cp.CLARABEL``. To suppress this\n",
      "    warning while continuing to use ECOS, you can filter this warning using\n",
      "    Python's ``warnings`` module until you are using 1.6.0.\n",
      "    \n",
      "  warnings.warn(ECOS_DEP_DEPRECATION_MSG, FutureWarning)\n",
      "/opt/anaconda3/lib/python3.12/site-packages/cvxpy/problems/problem.py:1407: UserWarning: Solution may be inaccurate. Try another solver, adjusting the solver settings, or solve with verbose=True for more information.\n",
      "  warnings.warn(\n"
     ]
    },
    {
     "name": "stdout",
     "output_type": "stream",
     "text": [
      "[t=2309 | 2020-11-06] active: ['AAPL', 'ACN', 'ADBE', 'AMAT', 'AMD', 'AMZN', 'AVGO', 'BKNG', 'COST', 'CRM', 'CSCO', 'DIS', 'GOOGL', 'HD', 'IBM', 'INTU', 'KO', 'MCD', 'META', 'MSFT', 'NFLX', 'NOW', 'NVDA', 'ORCL', 'PG', 'PLTR', 'PM', 'QCOM', 'T', 'TSLA', 'TXN', 'VZ', 'WMT']\n"
     ]
    },
    {
     "name": "stderr",
     "output_type": "stream",
     "text": [
      "/opt/anaconda3/lib/python3.12/site-packages/cvxpy/reductions/solvers/solving_chain.py:356: FutureWarning: \n",
      "    You specified your problem should be solved by ECOS. Starting in\n",
      "    CXVPY 1.6.0, ECOS will no longer be installed by default with CVXPY.\n",
      "    Please either add ECOS as an explicit install dependency to your project\n",
      "    or switch to our new default solver, Clarabel, by either not specifying a\n",
      "    solver argument or specifying ``solver=cp.CLARABEL``. To suppress this\n",
      "    warning while continuing to use ECOS, you can filter this warning using\n",
      "    Python's ``warnings`` module until you are using 1.6.0.\n",
      "    \n",
      "  warnings.warn(ECOS_DEP_DEPRECATION_MSG, FutureWarning)\n",
      "/opt/anaconda3/lib/python3.12/site-packages/cvxpy/problems/problem.py:1407: UserWarning: Solution may be inaccurate. Try another solver, adjusting the solver settings, or solve with verbose=True for more information.\n",
      "  warnings.warn(\n"
     ]
    },
    {
     "name": "stdout",
     "output_type": "stream",
     "text": [
      "[t=2311 | 2020-11-10] active: ['AAPL', 'ACN', 'ADBE', 'AMAT', 'AMD', 'AMZN', 'AVGO', 'BKNG', 'COST', 'CRM', 'CSCO', 'DIS', 'GOOGL', 'HD', 'IBM', 'INTU', 'KO', 'MCD', 'META', 'MSFT', 'NFLX', 'NOW', 'NVDA', 'ORCL', 'PG', 'PLTR', 'PM', 'QCOM', 'T', 'TSLA', 'TXN', 'VZ', 'WMT']\n"
     ]
    },
    {
     "name": "stderr",
     "output_type": "stream",
     "text": [
      "/opt/anaconda3/lib/python3.12/site-packages/cvxpy/reductions/solvers/solving_chain.py:356: FutureWarning: \n",
      "    You specified your problem should be solved by ECOS. Starting in\n",
      "    CXVPY 1.6.0, ECOS will no longer be installed by default with CVXPY.\n",
      "    Please either add ECOS as an explicit install dependency to your project\n",
      "    or switch to our new default solver, Clarabel, by either not specifying a\n",
      "    solver argument or specifying ``solver=cp.CLARABEL``. To suppress this\n",
      "    warning while continuing to use ECOS, you can filter this warning using\n",
      "    Python's ``warnings`` module until you are using 1.6.0.\n",
      "    \n",
      "  warnings.warn(ECOS_DEP_DEPRECATION_MSG, FutureWarning)\n",
      "/opt/anaconda3/lib/python3.12/site-packages/cvxpy/problems/problem.py:1407: UserWarning: Solution may be inaccurate. Try another solver, adjusting the solver settings, or solve with verbose=True for more information.\n",
      "  warnings.warn(\n"
     ]
    },
    {
     "name": "stdout",
     "output_type": "stream",
     "text": [
      "[t=2312 | 2020-11-11] active: ['AAPL', 'ACN', 'ADBE', 'AMAT', 'AMD', 'AMZN', 'AVGO', 'BKNG', 'COST', 'CRM', 'CSCO', 'DIS', 'GOOGL', 'HD', 'IBM', 'INTU', 'KO', 'MCD', 'META', 'MSFT', 'NFLX', 'NOW', 'NVDA', 'ORCL', 'PG', 'PLTR', 'PM', 'QCOM', 'T', 'TSLA', 'TXN', 'VZ', 'WMT']\n"
     ]
    },
    {
     "name": "stderr",
     "output_type": "stream",
     "text": [
      "/opt/anaconda3/lib/python3.12/site-packages/cvxpy/reductions/solvers/solving_chain.py:356: FutureWarning: \n",
      "    You specified your problem should be solved by ECOS. Starting in\n",
      "    CXVPY 1.6.0, ECOS will no longer be installed by default with CVXPY.\n",
      "    Please either add ECOS as an explicit install dependency to your project\n",
      "    or switch to our new default solver, Clarabel, by either not specifying a\n",
      "    solver argument or specifying ``solver=cp.CLARABEL``. To suppress this\n",
      "    warning while continuing to use ECOS, you can filter this warning using\n",
      "    Python's ``warnings`` module until you are using 1.6.0.\n",
      "    \n",
      "  warnings.warn(ECOS_DEP_DEPRECATION_MSG, FutureWarning)\n",
      "/opt/anaconda3/lib/python3.12/site-packages/cvxpy/problems/problem.py:1407: UserWarning: Solution may be inaccurate. Try another solver, adjusting the solver settings, or solve with verbose=True for more information.\n",
      "  warnings.warn(\n"
     ]
    },
    {
     "name": "stdout",
     "output_type": "stream",
     "text": [
      "[t=2313 | 2020-11-12] active: ['AAPL', 'ACN', 'ADBE', 'AMAT', 'AMD', 'AMZN', 'AVGO', 'BKNG', 'COST', 'CRM', 'CSCO', 'DIS', 'GOOGL', 'HD', 'IBM', 'INTU', 'KO', 'MCD', 'META', 'MSFT', 'NFLX', 'NOW', 'NVDA', 'ORCL', 'PG', 'PLTR', 'PM', 'QCOM', 'T', 'TSLA', 'TXN', 'VZ', 'WMT']\n"
     ]
    },
    {
     "name": "stderr",
     "output_type": "stream",
     "text": [
      "/opt/anaconda3/lib/python3.12/site-packages/cvxpy/reductions/solvers/solving_chain.py:356: FutureWarning: \n",
      "    You specified your problem should be solved by ECOS. Starting in\n",
      "    CXVPY 1.6.0, ECOS will no longer be installed by default with CVXPY.\n",
      "    Please either add ECOS as an explicit install dependency to your project\n",
      "    or switch to our new default solver, Clarabel, by either not specifying a\n",
      "    solver argument or specifying ``solver=cp.CLARABEL``. To suppress this\n",
      "    warning while continuing to use ECOS, you can filter this warning using\n",
      "    Python's ``warnings`` module until you are using 1.6.0.\n",
      "    \n",
      "  warnings.warn(ECOS_DEP_DEPRECATION_MSG, FutureWarning)\n",
      "/opt/anaconda3/lib/python3.12/site-packages/cvxpy/problems/problem.py:1407: UserWarning: Solution may be inaccurate. Try another solver, adjusting the solver settings, or solve with verbose=True for more information.\n",
      "  warnings.warn(\n"
     ]
    },
    {
     "name": "stdout",
     "output_type": "stream",
     "text": [
      "[t=2353 | 2021-01-07] active: ['AAPL', 'ACN', 'ADBE', 'AMAT', 'AMD', 'AMZN', 'AVGO', 'BKNG', 'COST', 'CRM', 'CSCO', 'DIS', 'GOOGL', 'HD', 'IBM', 'INTU', 'KO', 'MCD', 'META', 'MSFT', 'NFLX', 'NOW', 'NVDA', 'ORCL', 'PG', 'PLTR', 'PM', 'QCOM', 'T', 'TSLA', 'TXN', 'VZ', 'WMT']\n"
     ]
    },
    {
     "name": "stderr",
     "output_type": "stream",
     "text": [
      "/opt/anaconda3/lib/python3.12/site-packages/cvxpy/reductions/solvers/solving_chain.py:356: FutureWarning: \n",
      "    You specified your problem should be solved by ECOS. Starting in\n",
      "    CXVPY 1.6.0, ECOS will no longer be installed by default with CVXPY.\n",
      "    Please either add ECOS as an explicit install dependency to your project\n",
      "    or switch to our new default solver, Clarabel, by either not specifying a\n",
      "    solver argument or specifying ``solver=cp.CLARABEL``. To suppress this\n",
      "    warning while continuing to use ECOS, you can filter this warning using\n",
      "    Python's ``warnings`` module until you are using 1.6.0.\n",
      "    \n",
      "  warnings.warn(ECOS_DEP_DEPRECATION_MSG, FutureWarning)\n",
      "/opt/anaconda3/lib/python3.12/site-packages/cvxpy/problems/problem.py:1407: UserWarning: Solution may be inaccurate. Try another solver, adjusting the solver settings, or solve with verbose=True for more information.\n",
      "  warnings.warn(\n"
     ]
    },
    {
     "name": "stdout",
     "output_type": "stream",
     "text": [
      "[t=2354 | 2021-01-08] active: ['AAPL', 'ACN', 'ADBE', 'AMAT', 'AMD', 'AMZN', 'AVGO', 'BKNG', 'COST', 'CRM', 'CSCO', 'DIS', 'GOOGL', 'HD', 'IBM', 'INTU', 'KO', 'MCD', 'META', 'MSFT', 'NFLX', 'NOW', 'NVDA', 'ORCL', 'PG', 'PLTR', 'PM', 'QCOM', 'T', 'TSLA', 'TXN', 'VZ', 'WMT']\n"
     ]
    },
    {
     "name": "stderr",
     "output_type": "stream",
     "text": [
      "/opt/anaconda3/lib/python3.12/site-packages/cvxpy/reductions/solvers/solving_chain.py:356: FutureWarning: \n",
      "    You specified your problem should be solved by ECOS. Starting in\n",
      "    CXVPY 1.6.0, ECOS will no longer be installed by default with CVXPY.\n",
      "    Please either add ECOS as an explicit install dependency to your project\n",
      "    or switch to our new default solver, Clarabel, by either not specifying a\n",
      "    solver argument or specifying ``solver=cp.CLARABEL``. To suppress this\n",
      "    warning while continuing to use ECOS, you can filter this warning using\n",
      "    Python's ``warnings`` module until you are using 1.6.0.\n",
      "    \n",
      "  warnings.warn(ECOS_DEP_DEPRECATION_MSG, FutureWarning)\n",
      "/opt/anaconda3/lib/python3.12/site-packages/cvxpy/problems/problem.py:1407: UserWarning: Solution may be inaccurate. Try another solver, adjusting the solver settings, or solve with verbose=True for more information.\n",
      "  warnings.warn(\n"
     ]
    },
    {
     "name": "stdout",
     "output_type": "stream",
     "text": [
      "[t=2367 | 2021-01-27] active: ['AAPL', 'ACN', 'ADBE', 'AMAT', 'AMD', 'AMZN', 'AVGO', 'BKNG', 'COST', 'CRM', 'CSCO', 'DIS', 'GOOGL', 'HD', 'IBM', 'INTU', 'KO', 'MCD', 'META', 'MSFT', 'NFLX', 'NOW', 'NVDA', 'ORCL', 'PG', 'PLTR', 'PM', 'QCOM', 'T', 'TSLA', 'TXN', 'VZ', 'WMT']\n"
     ]
    },
    {
     "name": "stderr",
     "output_type": "stream",
     "text": [
      "/opt/anaconda3/lib/python3.12/site-packages/cvxpy/reductions/solvers/solving_chain.py:356: FutureWarning: \n",
      "    You specified your problem should be solved by ECOS. Starting in\n",
      "    CXVPY 1.6.0, ECOS will no longer be installed by default with CVXPY.\n",
      "    Please either add ECOS as an explicit install dependency to your project\n",
      "    or switch to our new default solver, Clarabel, by either not specifying a\n",
      "    solver argument or specifying ``solver=cp.CLARABEL``. To suppress this\n",
      "    warning while continuing to use ECOS, you can filter this warning using\n",
      "    Python's ``warnings`` module until you are using 1.6.0.\n",
      "    \n",
      "  warnings.warn(ECOS_DEP_DEPRECATION_MSG, FutureWarning)\n",
      "/opt/anaconda3/lib/python3.12/site-packages/cvxpy/problems/problem.py:1407: UserWarning: Solution may be inaccurate. Try another solver, adjusting the solver settings, or solve with verbose=True for more information.\n",
      "  warnings.warn(\n"
     ]
    },
    {
     "name": "stdout",
     "output_type": "stream",
     "text": [
      "[t=2368 | 2021-01-28] active: ['AAPL', 'ACN', 'ADBE', 'AMAT', 'AMD', 'AMZN', 'AVGO', 'BKNG', 'COST', 'CRM', 'CSCO', 'DIS', 'GOOGL', 'HD', 'IBM', 'INTU', 'KO', 'MCD', 'META', 'MSFT', 'NFLX', 'NOW', 'NVDA', 'ORCL', 'PG', 'PLTR', 'PM', 'QCOM', 'T', 'TSLA', 'TXN', 'VZ', 'WMT']\n"
     ]
    },
    {
     "name": "stderr",
     "output_type": "stream",
     "text": [
      "/opt/anaconda3/lib/python3.12/site-packages/cvxpy/reductions/solvers/solving_chain.py:356: FutureWarning: \n",
      "    You specified your problem should be solved by ECOS. Starting in\n",
      "    CXVPY 1.6.0, ECOS will no longer be installed by default with CVXPY.\n",
      "    Please either add ECOS as an explicit install dependency to your project\n",
      "    or switch to our new default solver, Clarabel, by either not specifying a\n",
      "    solver argument or specifying ``solver=cp.CLARABEL``. To suppress this\n",
      "    warning while continuing to use ECOS, you can filter this warning using\n",
      "    Python's ``warnings`` module until you are using 1.6.0.\n",
      "    \n",
      "  warnings.warn(ECOS_DEP_DEPRECATION_MSG, FutureWarning)\n",
      "/opt/anaconda3/lib/python3.12/site-packages/cvxpy/problems/problem.py:1407: UserWarning: Solution may be inaccurate. Try another solver, adjusting the solver settings, or solve with verbose=True for more information.\n",
      "  warnings.warn(\n"
     ]
    },
    {
     "name": "stdout",
     "output_type": "stream",
     "text": [
      "[t=2369 | 2021-01-29] active: ['AAPL', 'ACN', 'ADBE', 'AMAT', 'AMD', 'AMZN', 'AVGO', 'BKNG', 'COST', 'CRM', 'CSCO', 'DIS', 'GOOGL', 'HD', 'IBM', 'INTU', 'KO', 'MCD', 'META', 'MSFT', 'NFLX', 'NOW', 'NVDA', 'ORCL', 'PG', 'PLTR', 'PM', 'QCOM', 'T', 'TSLA', 'TXN', 'VZ', 'WMT']\n"
     ]
    },
    {
     "name": "stderr",
     "output_type": "stream",
     "text": [
      "/opt/anaconda3/lib/python3.12/site-packages/cvxpy/reductions/solvers/solving_chain.py:356: FutureWarning: \n",
      "    You specified your problem should be solved by ECOS. Starting in\n",
      "    CXVPY 1.6.0, ECOS will no longer be installed by default with CVXPY.\n",
      "    Please either add ECOS as an explicit install dependency to your project\n",
      "    or switch to our new default solver, Clarabel, by either not specifying a\n",
      "    solver argument or specifying ``solver=cp.CLARABEL``. To suppress this\n",
      "    warning while continuing to use ECOS, you can filter this warning using\n",
      "    Python's ``warnings`` module until you are using 1.6.0.\n",
      "    \n",
      "  warnings.warn(ECOS_DEP_DEPRECATION_MSG, FutureWarning)\n",
      "/opt/anaconda3/lib/python3.12/site-packages/cvxpy/problems/problem.py:1407: UserWarning: Solution may be inaccurate. Try another solver, adjusting the solver settings, or solve with verbose=True for more information.\n",
      "  warnings.warn(\n"
     ]
    },
    {
     "name": "stdout",
     "output_type": "stream",
     "text": [
      "[t=2370 | 2021-02-01] active: ['AAPL', 'ACN', 'ADBE', 'AMAT', 'AMD', 'AMZN', 'AVGO', 'BKNG', 'COST', 'CRM', 'CSCO', 'DIS', 'GOOGL', 'HD', 'IBM', 'INTU', 'KO', 'MCD', 'META', 'MSFT', 'NFLX', 'NOW', 'NVDA', 'ORCL', 'PG', 'PLTR', 'PM', 'QCOM', 'T', 'TSLA', 'TXN', 'VZ', 'WMT']\n"
     ]
    },
    {
     "name": "stderr",
     "output_type": "stream",
     "text": [
      "/opt/anaconda3/lib/python3.12/site-packages/cvxpy/reductions/solvers/solving_chain.py:356: FutureWarning: \n",
      "    You specified your problem should be solved by ECOS. Starting in\n",
      "    CXVPY 1.6.0, ECOS will no longer be installed by default with CVXPY.\n",
      "    Please either add ECOS as an explicit install dependency to your project\n",
      "    or switch to our new default solver, Clarabel, by either not specifying a\n",
      "    solver argument or specifying ``solver=cp.CLARABEL``. To suppress this\n",
      "    warning while continuing to use ECOS, you can filter this warning using\n",
      "    Python's ``warnings`` module until you are using 1.6.0.\n",
      "    \n",
      "  warnings.warn(ECOS_DEP_DEPRECATION_MSG, FutureWarning)\n",
      "/opt/anaconda3/lib/python3.12/site-packages/cvxpy/problems/problem.py:1407: UserWarning: Solution may be inaccurate. Try another solver, adjusting the solver settings, or solve with verbose=True for more information.\n",
      "  warnings.warn(\n"
     ]
    },
    {
     "name": "stdout",
     "output_type": "stream",
     "text": [
      "[t=2371 | 2021-02-02] active: ['AAPL', 'ACN', 'ADBE', 'AMAT', 'AMD', 'AMZN', 'AVGO', 'BKNG', 'COST', 'CRM', 'CSCO', 'DIS', 'GOOGL', 'HD', 'IBM', 'INTU', 'KO', 'MCD', 'META', 'MSFT', 'NFLX', 'NOW', 'NVDA', 'ORCL', 'PG', 'PLTR', 'PM', 'QCOM', 'T', 'TSLA', 'TXN', 'VZ', 'WMT']\n"
     ]
    },
    {
     "name": "stderr",
     "output_type": "stream",
     "text": [
      "/opt/anaconda3/lib/python3.12/site-packages/cvxpy/reductions/solvers/solving_chain.py:356: FutureWarning: \n",
      "    You specified your problem should be solved by ECOS. Starting in\n",
      "    CXVPY 1.6.0, ECOS will no longer be installed by default with CVXPY.\n",
      "    Please either add ECOS as an explicit install dependency to your project\n",
      "    or switch to our new default solver, Clarabel, by either not specifying a\n",
      "    solver argument or specifying ``solver=cp.CLARABEL``. To suppress this\n",
      "    warning while continuing to use ECOS, you can filter this warning using\n",
      "    Python's ``warnings`` module until you are using 1.6.0.\n",
      "    \n",
      "  warnings.warn(ECOS_DEP_DEPRECATION_MSG, FutureWarning)\n",
      "/opt/anaconda3/lib/python3.12/site-packages/cvxpy/problems/problem.py:1407: UserWarning: Solution may be inaccurate. Try another solver, adjusting the solver settings, or solve with verbose=True for more information.\n",
      "  warnings.warn(\n"
     ]
    },
    {
     "name": "stdout",
     "output_type": "stream",
     "text": [
      "[t=2372 | 2021-02-03] active: ['AAPL', 'ACN', 'ADBE', 'AMAT', 'AMD', 'AMZN', 'AVGO', 'BKNG', 'COST', 'CRM', 'CSCO', 'DIS', 'GOOGL', 'HD', 'IBM', 'INTU', 'KO', 'MCD', 'META', 'MSFT', 'NFLX', 'NOW', 'NVDA', 'ORCL', 'PG', 'PLTR', 'PM', 'QCOM', 'T', 'TSLA', 'TXN', 'VZ', 'WMT']\n"
     ]
    },
    {
     "name": "stderr",
     "output_type": "stream",
     "text": [
      "/opt/anaconda3/lib/python3.12/site-packages/cvxpy/reductions/solvers/solving_chain.py:356: FutureWarning: \n",
      "    You specified your problem should be solved by ECOS. Starting in\n",
      "    CXVPY 1.6.0, ECOS will no longer be installed by default with CVXPY.\n",
      "    Please either add ECOS as an explicit install dependency to your project\n",
      "    or switch to our new default solver, Clarabel, by either not specifying a\n",
      "    solver argument or specifying ``solver=cp.CLARABEL``. To suppress this\n",
      "    warning while continuing to use ECOS, you can filter this warning using\n",
      "    Python's ``warnings`` module until you are using 1.6.0.\n",
      "    \n",
      "  warnings.warn(ECOS_DEP_DEPRECATION_MSG, FutureWarning)\n",
      "/opt/anaconda3/lib/python3.12/site-packages/cvxpy/problems/problem.py:1407: UserWarning: Solution may be inaccurate. Try another solver, adjusting the solver settings, or solve with verbose=True for more information.\n",
      "  warnings.warn(\n"
     ]
    },
    {
     "name": "stdout",
     "output_type": "stream",
     "text": [
      "[t=2373 | 2021-02-04] active: ['AAPL', 'ACN', 'ADBE', 'AMAT', 'AMD', 'AMZN', 'AVGO', 'BKNG', 'COST', 'CRM', 'CSCO', 'DIS', 'GOOGL', 'HD', 'IBM', 'INTU', 'KO', 'MCD', 'META', 'MSFT', 'NFLX', 'NOW', 'NVDA', 'ORCL', 'PG', 'PLTR', 'PM', 'QCOM', 'T', 'TSLA', 'TXN', 'VZ', 'WMT']\n"
     ]
    },
    {
     "name": "stderr",
     "output_type": "stream",
     "text": [
      "/opt/anaconda3/lib/python3.12/site-packages/cvxpy/reductions/solvers/solving_chain.py:356: FutureWarning: \n",
      "    You specified your problem should be solved by ECOS. Starting in\n",
      "    CXVPY 1.6.0, ECOS will no longer be installed by default with CVXPY.\n",
      "    Please either add ECOS as an explicit install dependency to your project\n",
      "    or switch to our new default solver, Clarabel, by either not specifying a\n",
      "    solver argument or specifying ``solver=cp.CLARABEL``. To suppress this\n",
      "    warning while continuing to use ECOS, you can filter this warning using\n",
      "    Python's ``warnings`` module until you are using 1.6.0.\n",
      "    \n",
      "  warnings.warn(ECOS_DEP_DEPRECATION_MSG, FutureWarning)\n",
      "/opt/anaconda3/lib/python3.12/site-packages/cvxpy/problems/problem.py:1407: UserWarning: Solution may be inaccurate. Try another solver, adjusting the solver settings, or solve with verbose=True for more information.\n",
      "  warnings.warn(\n"
     ]
    },
    {
     "name": "stdout",
     "output_type": "stream",
     "text": [
      "[t=2374 | 2021-02-05] active: ['AAPL', 'ACN', 'ADBE', 'AMAT', 'AMD', 'AMZN', 'AVGO', 'BKNG', 'COST', 'CRM', 'CSCO', 'DIS', 'GOOGL', 'HD', 'IBM', 'INTU', 'KO', 'MCD', 'META', 'MSFT', 'NFLX', 'NOW', 'NVDA', 'ORCL', 'PG', 'PLTR', 'PM', 'QCOM', 'T', 'TSLA', 'TXN', 'VZ', 'WMT']\n"
     ]
    },
    {
     "name": "stderr",
     "output_type": "stream",
     "text": [
      "/opt/anaconda3/lib/python3.12/site-packages/cvxpy/reductions/solvers/solving_chain.py:356: FutureWarning: \n",
      "    You specified your problem should be solved by ECOS. Starting in\n",
      "    CXVPY 1.6.0, ECOS will no longer be installed by default with CVXPY.\n",
      "    Please either add ECOS as an explicit install dependency to your project\n",
      "    or switch to our new default solver, Clarabel, by either not specifying a\n",
      "    solver argument or specifying ``solver=cp.CLARABEL``. To suppress this\n",
      "    warning while continuing to use ECOS, you can filter this warning using\n",
      "    Python's ``warnings`` module until you are using 1.6.0.\n",
      "    \n",
      "  warnings.warn(ECOS_DEP_DEPRECATION_MSG, FutureWarning)\n",
      "/opt/anaconda3/lib/python3.12/site-packages/cvxpy/problems/problem.py:1407: UserWarning: Solution may be inaccurate. Try another solver, adjusting the solver settings, or solve with verbose=True for more information.\n",
      "  warnings.warn(\n"
     ]
    },
    {
     "name": "stdout",
     "output_type": "stream",
     "text": [
      "[t=2385 | 2021-02-22] active: ['AAPL', 'ACN', 'ADBE', 'AMAT', 'AMD', 'AMZN', 'AVGO', 'BKNG', 'COST', 'CRM', 'CSCO', 'DIS', 'GOOGL', 'HD', 'IBM', 'INTU', 'KO', 'MCD', 'META', 'MSFT', 'NFLX', 'NOW', 'NVDA', 'ORCL', 'PG', 'PLTR', 'PM', 'QCOM', 'T', 'TSLA', 'TXN', 'VZ', 'WMT']\n"
     ]
    },
    {
     "name": "stderr",
     "output_type": "stream",
     "text": [
      "/opt/anaconda3/lib/python3.12/site-packages/cvxpy/reductions/solvers/solving_chain.py:356: FutureWarning: \n",
      "    You specified your problem should be solved by ECOS. Starting in\n",
      "    CXVPY 1.6.0, ECOS will no longer be installed by default with CVXPY.\n",
      "    Please either add ECOS as an explicit install dependency to your project\n",
      "    or switch to our new default solver, Clarabel, by either not specifying a\n",
      "    solver argument or specifying ``solver=cp.CLARABEL``. To suppress this\n",
      "    warning while continuing to use ECOS, you can filter this warning using\n",
      "    Python's ``warnings`` module until you are using 1.6.0.\n",
      "    \n",
      "  warnings.warn(ECOS_DEP_DEPRECATION_MSG, FutureWarning)\n",
      "/opt/anaconda3/lib/python3.12/site-packages/cvxpy/problems/problem.py:1407: UserWarning: Solution may be inaccurate. Try another solver, adjusting the solver settings, or solve with verbose=True for more information.\n",
      "  warnings.warn(\n"
     ]
    },
    {
     "name": "stdout",
     "output_type": "stream",
     "text": [
      "[t=2386 | 2021-02-23] active: ['AAPL', 'ACN', 'ADBE', 'AMAT', 'AMD', 'AMZN', 'AVGO', 'BKNG', 'COST', 'CRM', 'CSCO', 'DIS', 'GOOGL', 'HD', 'IBM', 'INTU', 'KO', 'MCD', 'META', 'MSFT', 'NFLX', 'NOW', 'NVDA', 'ORCL', 'PG', 'PLTR', 'PM', 'QCOM', 'T', 'TSLA', 'TXN', 'VZ', 'WMT']\n"
     ]
    },
    {
     "name": "stderr",
     "output_type": "stream",
     "text": [
      "/opt/anaconda3/lib/python3.12/site-packages/cvxpy/reductions/solvers/solving_chain.py:356: FutureWarning: \n",
      "    You specified your problem should be solved by ECOS. Starting in\n",
      "    CXVPY 1.6.0, ECOS will no longer be installed by default with CVXPY.\n",
      "    Please either add ECOS as an explicit install dependency to your project\n",
      "    or switch to our new default solver, Clarabel, by either not specifying a\n",
      "    solver argument or specifying ``solver=cp.CLARABEL``. To suppress this\n",
      "    warning while continuing to use ECOS, you can filter this warning using\n",
      "    Python's ``warnings`` module until you are using 1.6.0.\n",
      "    \n",
      "  warnings.warn(ECOS_DEP_DEPRECATION_MSG, FutureWarning)\n",
      "/opt/anaconda3/lib/python3.12/site-packages/cvxpy/problems/problem.py:1407: UserWarning: Solution may be inaccurate. Try another solver, adjusting the solver settings, or solve with verbose=True for more information.\n",
      "  warnings.warn(\n"
     ]
    },
    {
     "name": "stdout",
     "output_type": "stream",
     "text": [
      "[t=2388 | 2021-02-25] active: ['AAPL', 'ACN', 'ADBE', 'AMAT', 'AMD', 'AMZN', 'AVGO', 'BKNG', 'COST', 'CRM', 'CSCO', 'DIS', 'GOOGL', 'HD', 'IBM', 'INTU', 'KO', 'MCD', 'META', 'MSFT', 'NFLX', 'NOW', 'NVDA', 'ORCL', 'PG', 'PLTR', 'PM', 'QCOM', 'T', 'TSLA', 'TXN', 'VZ', 'WMT']\n"
     ]
    },
    {
     "name": "stderr",
     "output_type": "stream",
     "text": [
      "/opt/anaconda3/lib/python3.12/site-packages/cvxpy/reductions/solvers/solving_chain.py:356: FutureWarning: \n",
      "    You specified your problem should be solved by ECOS. Starting in\n",
      "    CXVPY 1.6.0, ECOS will no longer be installed by default with CVXPY.\n",
      "    Please either add ECOS as an explicit install dependency to your project\n",
      "    or switch to our new default solver, Clarabel, by either not specifying a\n",
      "    solver argument or specifying ``solver=cp.CLARABEL``. To suppress this\n",
      "    warning while continuing to use ECOS, you can filter this warning using\n",
      "    Python's ``warnings`` module until you are using 1.6.0.\n",
      "    \n",
      "  warnings.warn(ECOS_DEP_DEPRECATION_MSG, FutureWarning)\n",
      "/opt/anaconda3/lib/python3.12/site-packages/cvxpy/problems/problem.py:1407: UserWarning: Solution may be inaccurate. Try another solver, adjusting the solver settings, or solve with verbose=True for more information.\n",
      "  warnings.warn(\n"
     ]
    },
    {
     "name": "stdout",
     "output_type": "stream",
     "text": [
      "[t=2389 | 2021-02-26] active: ['AAPL', 'ACN', 'ADBE', 'AMAT', 'AMD', 'AMZN', 'AVGO', 'BKNG', 'COST', 'CRM', 'CSCO', 'DIS', 'GOOGL', 'HD', 'IBM', 'INTU', 'KO', 'MCD', 'META', 'MSFT', 'NFLX', 'NOW', 'NVDA', 'ORCL', 'PG', 'PLTR', 'PM', 'QCOM', 'T', 'TSLA', 'TXN', 'VZ', 'WMT']\n"
     ]
    },
    {
     "name": "stderr",
     "output_type": "stream",
     "text": [
      "/opt/anaconda3/lib/python3.12/site-packages/cvxpy/reductions/solvers/solving_chain.py:356: FutureWarning: \n",
      "    You specified your problem should be solved by ECOS. Starting in\n",
      "    CXVPY 1.6.0, ECOS will no longer be installed by default with CVXPY.\n",
      "    Please either add ECOS as an explicit install dependency to your project\n",
      "    or switch to our new default solver, Clarabel, by either not specifying a\n",
      "    solver argument or specifying ``solver=cp.CLARABEL``. To suppress this\n",
      "    warning while continuing to use ECOS, you can filter this warning using\n",
      "    Python's ``warnings`` module until you are using 1.6.0.\n",
      "    \n",
      "  warnings.warn(ECOS_DEP_DEPRECATION_MSG, FutureWarning)\n",
      "/opt/anaconda3/lib/python3.12/site-packages/cvxpy/problems/problem.py:1407: UserWarning: Solution may be inaccurate. Try another solver, adjusting the solver settings, or solve with verbose=True for more information.\n",
      "  warnings.warn(\n"
     ]
    },
    {
     "name": "stdout",
     "output_type": "stream",
     "text": [
      "[t=2390 | 2021-03-01] active: ['AAPL', 'ACN', 'ADBE', 'AMAT', 'AMD', 'AMZN', 'AVGO', 'BKNG', 'COST', 'CRM', 'CSCO', 'DIS', 'GOOGL', 'HD', 'IBM', 'INTU', 'KO', 'MCD', 'META', 'MSFT', 'NFLX', 'NOW', 'NVDA', 'ORCL', 'PG', 'PLTR', 'PM', 'QCOM', 'T', 'TSLA', 'TXN', 'VZ', 'WMT']\n"
     ]
    },
    {
     "name": "stderr",
     "output_type": "stream",
     "text": [
      "/opt/anaconda3/lib/python3.12/site-packages/cvxpy/reductions/solvers/solving_chain.py:356: FutureWarning: \n",
      "    You specified your problem should be solved by ECOS. Starting in\n",
      "    CXVPY 1.6.0, ECOS will no longer be installed by default with CVXPY.\n",
      "    Please either add ECOS as an explicit install dependency to your project\n",
      "    or switch to our new default solver, Clarabel, by either not specifying a\n",
      "    solver argument or specifying ``solver=cp.CLARABEL``. To suppress this\n",
      "    warning while continuing to use ECOS, you can filter this warning using\n",
      "    Python's ``warnings`` module until you are using 1.6.0.\n",
      "    \n",
      "  warnings.warn(ECOS_DEP_DEPRECATION_MSG, FutureWarning)\n",
      "/opt/anaconda3/lib/python3.12/site-packages/cvxpy/problems/problem.py:1407: UserWarning: Solution may be inaccurate. Try another solver, adjusting the solver settings, or solve with verbose=True for more information.\n",
      "  warnings.warn(\n"
     ]
    },
    {
     "name": "stdout",
     "output_type": "stream",
     "text": [
      "[t=2391 | 2021-03-02] active: ['AAPL', 'ACN', 'ADBE', 'AMAT', 'AMD', 'AMZN', 'AVGO', 'BKNG', 'COST', 'CRM', 'CSCO', 'DIS', 'GOOGL', 'HD', 'IBM', 'INTU', 'KO', 'MCD', 'META', 'MSFT', 'NFLX', 'NOW', 'NVDA', 'ORCL', 'PG', 'PLTR', 'PM', 'QCOM', 'T', 'TSLA', 'TXN', 'VZ', 'WMT']\n"
     ]
    },
    {
     "name": "stderr",
     "output_type": "stream",
     "text": [
      "/opt/anaconda3/lib/python3.12/site-packages/cvxpy/reductions/solvers/solving_chain.py:356: FutureWarning: \n",
      "    You specified your problem should be solved by ECOS. Starting in\n",
      "    CXVPY 1.6.0, ECOS will no longer be installed by default with CVXPY.\n",
      "    Please either add ECOS as an explicit install dependency to your project\n",
      "    or switch to our new default solver, Clarabel, by either not specifying a\n",
      "    solver argument or specifying ``solver=cp.CLARABEL``. To suppress this\n",
      "    warning while continuing to use ECOS, you can filter this warning using\n",
      "    Python's ``warnings`` module until you are using 1.6.0.\n",
      "    \n",
      "  warnings.warn(ECOS_DEP_DEPRECATION_MSG, FutureWarning)\n",
      "/opt/anaconda3/lib/python3.12/site-packages/cvxpy/problems/problem.py:1407: UserWarning: Solution may be inaccurate. Try another solver, adjusting the solver settings, or solve with verbose=True for more information.\n",
      "  warnings.warn(\n"
     ]
    },
    {
     "name": "stdout",
     "output_type": "stream",
     "text": [
      "[t=2392 | 2021-03-03] active: ['AAPL', 'ACN', 'ADBE', 'AMAT', 'AMD', 'AMZN', 'AVGO', 'BKNG', 'COST', 'CRM', 'CSCO', 'DIS', 'GOOGL', 'HD', 'IBM', 'INTU', 'KO', 'MCD', 'META', 'MSFT', 'NFLX', 'NOW', 'NVDA', 'ORCL', 'PG', 'PLTR', 'PM', 'QCOM', 'T', 'TSLA', 'TXN', 'VZ', 'WMT']\n"
     ]
    },
    {
     "name": "stderr",
     "output_type": "stream",
     "text": [
      "/opt/anaconda3/lib/python3.12/site-packages/cvxpy/reductions/solvers/solving_chain.py:356: FutureWarning: \n",
      "    You specified your problem should be solved by ECOS. Starting in\n",
      "    CXVPY 1.6.0, ECOS will no longer be installed by default with CVXPY.\n",
      "    Please either add ECOS as an explicit install dependency to your project\n",
      "    or switch to our new default solver, Clarabel, by either not specifying a\n",
      "    solver argument or specifying ``solver=cp.CLARABEL``. To suppress this\n",
      "    warning while continuing to use ECOS, you can filter this warning using\n",
      "    Python's ``warnings`` module until you are using 1.6.0.\n",
      "    \n",
      "  warnings.warn(ECOS_DEP_DEPRECATION_MSG, FutureWarning)\n",
      "/opt/anaconda3/lib/python3.12/site-packages/cvxpy/problems/problem.py:1407: UserWarning: Solution may be inaccurate. Try another solver, adjusting the solver settings, or solve with verbose=True for more information.\n",
      "  warnings.warn(\n"
     ]
    },
    {
     "name": "stdout",
     "output_type": "stream",
     "text": [
      "[t=2393 | 2021-03-04] active: ['AAPL', 'ACN', 'ADBE', 'AMAT', 'AMD', 'AMZN', 'AVGO', 'BKNG', 'COST', 'CRM', 'CSCO', 'DIS', 'GOOGL', 'HD', 'IBM', 'INTU', 'KO', 'MCD', 'META', 'MSFT', 'NFLX', 'NOW', 'NVDA', 'ORCL', 'PG', 'PLTR', 'PM', 'QCOM', 'T', 'TSLA', 'TXN', 'VZ', 'WMT']\n"
     ]
    },
    {
     "name": "stderr",
     "output_type": "stream",
     "text": [
      "/opt/anaconda3/lib/python3.12/site-packages/cvxpy/reductions/solvers/solving_chain.py:356: FutureWarning: \n",
      "    You specified your problem should be solved by ECOS. Starting in\n",
      "    CXVPY 1.6.0, ECOS will no longer be installed by default with CVXPY.\n",
      "    Please either add ECOS as an explicit install dependency to your project\n",
      "    or switch to our new default solver, Clarabel, by either not specifying a\n",
      "    solver argument or specifying ``solver=cp.CLARABEL``. To suppress this\n",
      "    warning while continuing to use ECOS, you can filter this warning using\n",
      "    Python's ``warnings`` module until you are using 1.6.0.\n",
      "    \n",
      "  warnings.warn(ECOS_DEP_DEPRECATION_MSG, FutureWarning)\n",
      "/opt/anaconda3/lib/python3.12/site-packages/cvxpy/problems/problem.py:1407: UserWarning: Solution may be inaccurate. Try another solver, adjusting the solver settings, or solve with verbose=True for more information.\n",
      "  warnings.warn(\n"
     ]
    },
    {
     "name": "stdout",
     "output_type": "stream",
     "text": [
      "[t=2394 | 2021-03-05] active: ['AAPL', 'ACN', 'ADBE', 'AMAT', 'AMD', 'AMZN', 'AVGO', 'BKNG', 'COST', 'CRM', 'CSCO', 'DIS', 'GOOGL', 'HD', 'IBM', 'INTU', 'KO', 'MCD', 'META', 'MSFT', 'NFLX', 'NOW', 'NVDA', 'ORCL', 'PG', 'PLTR', 'PM', 'QCOM', 'T', 'TSLA', 'TXN', 'VZ', 'WMT']\n"
     ]
    },
    {
     "name": "stderr",
     "output_type": "stream",
     "text": [
      "/opt/anaconda3/lib/python3.12/site-packages/cvxpy/reductions/solvers/solving_chain.py:356: FutureWarning: \n",
      "    You specified your problem should be solved by ECOS. Starting in\n",
      "    CXVPY 1.6.0, ECOS will no longer be installed by default with CVXPY.\n",
      "    Please either add ECOS as an explicit install dependency to your project\n",
      "    or switch to our new default solver, Clarabel, by either not specifying a\n",
      "    solver argument or specifying ``solver=cp.CLARABEL``. To suppress this\n",
      "    warning while continuing to use ECOS, you can filter this warning using\n",
      "    Python's ``warnings`` module until you are using 1.6.0.\n",
      "    \n",
      "  warnings.warn(ECOS_DEP_DEPRECATION_MSG, FutureWarning)\n",
      "/opt/anaconda3/lib/python3.12/site-packages/cvxpy/problems/problem.py:1407: UserWarning: Solution may be inaccurate. Try another solver, adjusting the solver settings, or solve with verbose=True for more information.\n",
      "  warnings.warn(\n"
     ]
    },
    {
     "name": "stdout",
     "output_type": "stream",
     "text": [
      "[t=2395 | 2021-03-08] active: ['AAPL', 'ACN', 'ADBE', 'AMAT', 'AMD', 'AMZN', 'AVGO', 'BKNG', 'COST', 'CRM', 'CSCO', 'DIS', 'GOOGL', 'HD', 'IBM', 'INTU', 'KO', 'MCD', 'META', 'MSFT', 'NFLX', 'NOW', 'NVDA', 'ORCL', 'PG', 'PLTR', 'PM', 'QCOM', 'T', 'TSLA', 'TXN', 'VZ', 'WMT']\n"
     ]
    },
    {
     "name": "stderr",
     "output_type": "stream",
     "text": [
      "/opt/anaconda3/lib/python3.12/site-packages/cvxpy/reductions/solvers/solving_chain.py:356: FutureWarning: \n",
      "    You specified your problem should be solved by ECOS. Starting in\n",
      "    CXVPY 1.6.0, ECOS will no longer be installed by default with CVXPY.\n",
      "    Please either add ECOS as an explicit install dependency to your project\n",
      "    or switch to our new default solver, Clarabel, by either not specifying a\n",
      "    solver argument or specifying ``solver=cp.CLARABEL``. To suppress this\n",
      "    warning while continuing to use ECOS, you can filter this warning using\n",
      "    Python's ``warnings`` module until you are using 1.6.0.\n",
      "    \n",
      "  warnings.warn(ECOS_DEP_DEPRECATION_MSG, FutureWarning)\n",
      "/opt/anaconda3/lib/python3.12/site-packages/cvxpy/problems/problem.py:1407: UserWarning: Solution may be inaccurate. Try another solver, adjusting the solver settings, or solve with verbose=True for more information.\n",
      "  warnings.warn(\n"
     ]
    },
    {
     "name": "stdout",
     "output_type": "stream",
     "text": [
      "[t=2396 | 2021-03-09] active: ['AAPL', 'ACN', 'ADBE', 'AMAT', 'AMD', 'AMZN', 'AVGO', 'BKNG', 'COST', 'CRM', 'CSCO', 'DIS', 'GOOGL', 'HD', 'IBM', 'INTU', 'KO', 'MCD', 'META', 'MSFT', 'NFLX', 'NOW', 'NVDA', 'ORCL', 'PG', 'PLTR', 'PM', 'QCOM', 'T', 'TSLA', 'TXN', 'VZ', 'WMT']\n"
     ]
    },
    {
     "name": "stderr",
     "output_type": "stream",
     "text": [
      "/opt/anaconda3/lib/python3.12/site-packages/cvxpy/reductions/solvers/solving_chain.py:356: FutureWarning: \n",
      "    You specified your problem should be solved by ECOS. Starting in\n",
      "    CXVPY 1.6.0, ECOS will no longer be installed by default with CVXPY.\n",
      "    Please either add ECOS as an explicit install dependency to your project\n",
      "    or switch to our new default solver, Clarabel, by either not specifying a\n",
      "    solver argument or specifying ``solver=cp.CLARABEL``. To suppress this\n",
      "    warning while continuing to use ECOS, you can filter this warning using\n",
      "    Python's ``warnings`` module until you are using 1.6.0.\n",
      "    \n",
      "  warnings.warn(ECOS_DEP_DEPRECATION_MSG, FutureWarning)\n",
      "/opt/anaconda3/lib/python3.12/site-packages/cvxpy/problems/problem.py:1407: UserWarning: Solution may be inaccurate. Try another solver, adjusting the solver settings, or solve with verbose=True for more information.\n",
      "  warnings.warn(\n"
     ]
    },
    {
     "name": "stdout",
     "output_type": "stream",
     "text": [
      "[t=2397 | 2021-03-10] active: ['AAPL', 'ACN', 'ADBE', 'AMAT', 'AMD', 'AMZN', 'AVGO', 'BKNG', 'COST', 'CRM', 'CSCO', 'DIS', 'GOOGL', 'HD', 'IBM', 'INTU', 'KO', 'MCD', 'META', 'MSFT', 'NFLX', 'NOW', 'NVDA', 'ORCL', 'PG', 'PLTR', 'PM', 'QCOM', 'T', 'TSLA', 'TXN', 'VZ', 'WMT']\n"
     ]
    },
    {
     "name": "stderr",
     "output_type": "stream",
     "text": [
      "/opt/anaconda3/lib/python3.12/site-packages/cvxpy/reductions/solvers/solving_chain.py:356: FutureWarning: \n",
      "    You specified your problem should be solved by ECOS. Starting in\n",
      "    CXVPY 1.6.0, ECOS will no longer be installed by default with CVXPY.\n",
      "    Please either add ECOS as an explicit install dependency to your project\n",
      "    or switch to our new default solver, Clarabel, by either not specifying a\n",
      "    solver argument or specifying ``solver=cp.CLARABEL``. To suppress this\n",
      "    warning while continuing to use ECOS, you can filter this warning using\n",
      "    Python's ``warnings`` module until you are using 1.6.0.\n",
      "    \n",
      "  warnings.warn(ECOS_DEP_DEPRECATION_MSG, FutureWarning)\n",
      "/opt/anaconda3/lib/python3.12/site-packages/cvxpy/problems/problem.py:1407: UserWarning: Solution may be inaccurate. Try another solver, adjusting the solver settings, or solve with verbose=True for more information.\n",
      "  warnings.warn(\n"
     ]
    },
    {
     "name": "stdout",
     "output_type": "stream",
     "text": [
      "[t=2400 | 2021-03-15] active: ['AAPL', 'ACN', 'ADBE', 'AMAT', 'AMD', 'AMZN', 'AVGO', 'BKNG', 'COST', 'CRM', 'CSCO', 'DIS', 'GOOGL', 'HD', 'IBM', 'INTU', 'KO', 'MCD', 'META', 'MSFT', 'NFLX', 'NOW', 'NVDA', 'ORCL', 'PG', 'PLTR', 'PM', 'QCOM', 'T', 'TSLA', 'TXN', 'VZ', 'WMT']\n"
     ]
    },
    {
     "name": "stderr",
     "output_type": "stream",
     "text": [
      "/opt/anaconda3/lib/python3.12/site-packages/cvxpy/reductions/solvers/solving_chain.py:356: FutureWarning: \n",
      "    You specified your problem should be solved by ECOS. Starting in\n",
      "    CXVPY 1.6.0, ECOS will no longer be installed by default with CVXPY.\n",
      "    Please either add ECOS as an explicit install dependency to your project\n",
      "    or switch to our new default solver, Clarabel, by either not specifying a\n",
      "    solver argument or specifying ``solver=cp.CLARABEL``. To suppress this\n",
      "    warning while continuing to use ECOS, you can filter this warning using\n",
      "    Python's ``warnings`` module until you are using 1.6.0.\n",
      "    \n",
      "  warnings.warn(ECOS_DEP_DEPRECATION_MSG, FutureWarning)\n",
      "/opt/anaconda3/lib/python3.12/site-packages/cvxpy/problems/problem.py:1407: UserWarning: Solution may be inaccurate. Try another solver, adjusting the solver settings, or solve with verbose=True for more information.\n",
      "  warnings.warn(\n"
     ]
    },
    {
     "name": "stdout",
     "output_type": "stream",
     "text": [
      "[t=2403 | 2021-03-18] active: ['AAPL', 'ACN', 'ADBE', 'AMAT', 'AMD', 'AMZN', 'AVGO', 'BKNG', 'COST', 'CRM', 'CSCO', 'DIS', 'GOOGL', 'HD', 'IBM', 'INTU', 'KO', 'MCD', 'META', 'MSFT', 'NFLX', 'NOW', 'NVDA', 'ORCL', 'PG', 'PLTR', 'PM', 'QCOM', 'T', 'TSLA', 'TXN', 'VZ', 'WMT']\n"
     ]
    },
    {
     "name": "stderr",
     "output_type": "stream",
     "text": [
      "/opt/anaconda3/lib/python3.12/site-packages/cvxpy/reductions/solvers/solving_chain.py:356: FutureWarning: \n",
      "    You specified your problem should be solved by ECOS. Starting in\n",
      "    CXVPY 1.6.0, ECOS will no longer be installed by default with CVXPY.\n",
      "    Please either add ECOS as an explicit install dependency to your project\n",
      "    or switch to our new default solver, Clarabel, by either not specifying a\n",
      "    solver argument or specifying ``solver=cp.CLARABEL``. To suppress this\n",
      "    warning while continuing to use ECOS, you can filter this warning using\n",
      "    Python's ``warnings`` module until you are using 1.6.0.\n",
      "    \n",
      "  warnings.warn(ECOS_DEP_DEPRECATION_MSG, FutureWarning)\n",
      "/opt/anaconda3/lib/python3.12/site-packages/cvxpy/problems/problem.py:1407: UserWarning: Solution may be inaccurate. Try another solver, adjusting the solver settings, or solve with verbose=True for more information.\n",
      "  warnings.warn(\n"
     ]
    },
    {
     "name": "stdout",
     "output_type": "stream",
     "text": [
      "[t=2405 | 2021-03-22] active: ['AAPL', 'ACN', 'ADBE', 'AMAT', 'AMD', 'AMZN', 'AVGO', 'BKNG', 'COST', 'CRM', 'CSCO', 'DIS', 'GOOGL', 'HD', 'IBM', 'INTU', 'KO', 'MCD', 'META', 'MSFT', 'NFLX', 'NOW', 'NVDA', 'ORCL', 'PG', 'PLTR', 'PM', 'QCOM', 'T', 'TSLA', 'TXN', 'VZ', 'WMT']\n"
     ]
    },
    {
     "name": "stderr",
     "output_type": "stream",
     "text": [
      "/opt/anaconda3/lib/python3.12/site-packages/cvxpy/reductions/solvers/solving_chain.py:356: FutureWarning: \n",
      "    You specified your problem should be solved by ECOS. Starting in\n",
      "    CXVPY 1.6.0, ECOS will no longer be installed by default with CVXPY.\n",
      "    Please either add ECOS as an explicit install dependency to your project\n",
      "    or switch to our new default solver, Clarabel, by either not specifying a\n",
      "    solver argument or specifying ``solver=cp.CLARABEL``. To suppress this\n",
      "    warning while continuing to use ECOS, you can filter this warning using\n",
      "    Python's ``warnings`` module until you are using 1.6.0.\n",
      "    \n",
      "  warnings.warn(ECOS_DEP_DEPRECATION_MSG, FutureWarning)\n",
      "/opt/anaconda3/lib/python3.12/site-packages/cvxpy/problems/problem.py:1407: UserWarning: Solution may be inaccurate. Try another solver, adjusting the solver settings, or solve with verbose=True for more information.\n",
      "  warnings.warn(\n"
     ]
    },
    {
     "name": "stdout",
     "output_type": "stream",
     "text": [
      "[t=2436 | 2021-05-04] active: ['AAPL', 'ACN', 'ADBE', 'AMAT', 'AMD', 'AMZN', 'AVGO', 'BKNG', 'COST', 'CRM', 'CSCO', 'DIS', 'GOOGL', 'HD', 'IBM', 'INTU', 'KO', 'MCD', 'META', 'MSFT', 'NFLX', 'NOW', 'NVDA', 'ORCL', 'PG', 'PLTR', 'PM', 'QCOM', 'T', 'TSLA', 'TXN', 'VZ', 'WMT']\n"
     ]
    },
    {
     "name": "stderr",
     "output_type": "stream",
     "text": [
      "/opt/anaconda3/lib/python3.12/site-packages/cvxpy/reductions/solvers/solving_chain.py:356: FutureWarning: \n",
      "    You specified your problem should be solved by ECOS. Starting in\n",
      "    CXVPY 1.6.0, ECOS will no longer be installed by default with CVXPY.\n",
      "    Please either add ECOS as an explicit install dependency to your project\n",
      "    or switch to our new default solver, Clarabel, by either not specifying a\n",
      "    solver argument or specifying ``solver=cp.CLARABEL``. To suppress this\n",
      "    warning while continuing to use ECOS, you can filter this warning using\n",
      "    Python's ``warnings`` module until you are using 1.6.0.\n",
      "    \n",
      "  warnings.warn(ECOS_DEP_DEPRECATION_MSG, FutureWarning)\n",
      "/opt/anaconda3/lib/python3.12/site-packages/cvxpy/problems/problem.py:1407: UserWarning: Solution may be inaccurate. Try another solver, adjusting the solver settings, or solve with verbose=True for more information.\n",
      "  warnings.warn(\n"
     ]
    },
    {
     "name": "stdout",
     "output_type": "stream",
     "text": [
      "[t=2437 | 2021-05-05] active: ['AAPL', 'ACN', 'ADBE', 'AMAT', 'AMD', 'AMZN', 'AVGO', 'BKNG', 'COST', 'CRM', 'CSCO', 'DIS', 'GOOGL', 'HD', 'IBM', 'INTU', 'KO', 'MCD', 'META', 'MSFT', 'NFLX', 'NOW', 'NVDA', 'ORCL', 'PG', 'PLTR', 'PM', 'QCOM', 'T', 'TSLA', 'TXN', 'VZ', 'WMT']\n"
     ]
    },
    {
     "name": "stderr",
     "output_type": "stream",
     "text": [
      "/opt/anaconda3/lib/python3.12/site-packages/cvxpy/reductions/solvers/solving_chain.py:356: FutureWarning: \n",
      "    You specified your problem should be solved by ECOS. Starting in\n",
      "    CXVPY 1.6.0, ECOS will no longer be installed by default with CVXPY.\n",
      "    Please either add ECOS as an explicit install dependency to your project\n",
      "    or switch to our new default solver, Clarabel, by either not specifying a\n",
      "    solver argument or specifying ``solver=cp.CLARABEL``. To suppress this\n",
      "    warning while continuing to use ECOS, you can filter this warning using\n",
      "    Python's ``warnings`` module until you are using 1.6.0.\n",
      "    \n",
      "  warnings.warn(ECOS_DEP_DEPRECATION_MSG, FutureWarning)\n",
      "/opt/anaconda3/lib/python3.12/site-packages/cvxpy/problems/problem.py:1407: UserWarning: Solution may be inaccurate. Try another solver, adjusting the solver settings, or solve with verbose=True for more information.\n",
      "  warnings.warn(\n"
     ]
    },
    {
     "name": "stdout",
     "output_type": "stream",
     "text": [
      "[t=2439 | 2021-05-07] active: ['AAPL', 'ACN', 'ADBE', 'AMAT', 'AMD', 'AMZN', 'AVGO', 'BKNG', 'COST', 'CRM', 'CSCO', 'DIS', 'GOOGL', 'HD', 'IBM', 'INTU', 'KO', 'MCD', 'META', 'MSFT', 'NFLX', 'NOW', 'NVDA', 'ORCL', 'PG', 'PLTR', 'PM', 'QCOM', 'T', 'TSLA', 'TXN', 'VZ', 'WMT']\n"
     ]
    },
    {
     "name": "stderr",
     "output_type": "stream",
     "text": [
      "/opt/anaconda3/lib/python3.12/site-packages/cvxpy/reductions/solvers/solving_chain.py:356: FutureWarning: \n",
      "    You specified your problem should be solved by ECOS. Starting in\n",
      "    CXVPY 1.6.0, ECOS will no longer be installed by default with CVXPY.\n",
      "    Please either add ECOS as an explicit install dependency to your project\n",
      "    or switch to our new default solver, Clarabel, by either not specifying a\n",
      "    solver argument or specifying ``solver=cp.CLARABEL``. To suppress this\n",
      "    warning while continuing to use ECOS, you can filter this warning using\n",
      "    Python's ``warnings`` module until you are using 1.6.0.\n",
      "    \n",
      "  warnings.warn(ECOS_DEP_DEPRECATION_MSG, FutureWarning)\n",
      "/opt/anaconda3/lib/python3.12/site-packages/cvxpy/problems/problem.py:1407: UserWarning: Solution may be inaccurate. Try another solver, adjusting the solver settings, or solve with verbose=True for more information.\n",
      "  warnings.warn(\n"
     ]
    },
    {
     "name": "stdout",
     "output_type": "stream",
     "text": [
      "[t=2440 | 2021-05-10] active: ['AAPL', 'ACN', 'ADBE', 'AMAT', 'AMD', 'AMZN', 'AVGO', 'BKNG', 'COST', 'CRM', 'CSCO', 'DIS', 'GOOGL', 'HD', 'IBM', 'INTU', 'KO', 'MCD', 'META', 'MSFT', 'NFLX', 'NOW', 'NVDA', 'ORCL', 'PG', 'PLTR', 'PM', 'QCOM', 'T', 'TSLA', 'TXN', 'VZ', 'WMT']\n"
     ]
    },
    {
     "name": "stderr",
     "output_type": "stream",
     "text": [
      "/opt/anaconda3/lib/python3.12/site-packages/cvxpy/reductions/solvers/solving_chain.py:356: FutureWarning: \n",
      "    You specified your problem should be solved by ECOS. Starting in\n",
      "    CXVPY 1.6.0, ECOS will no longer be installed by default with CVXPY.\n",
      "    Please either add ECOS as an explicit install dependency to your project\n",
      "    or switch to our new default solver, Clarabel, by either not specifying a\n",
      "    solver argument or specifying ``solver=cp.CLARABEL``. To suppress this\n",
      "    warning while continuing to use ECOS, you can filter this warning using\n",
      "    Python's ``warnings`` module until you are using 1.6.0.\n",
      "    \n",
      "  warnings.warn(ECOS_DEP_DEPRECATION_MSG, FutureWarning)\n",
      "/opt/anaconda3/lib/python3.12/site-packages/cvxpy/problems/problem.py:1407: UserWarning: Solution may be inaccurate. Try another solver, adjusting the solver settings, or solve with verbose=True for more information.\n",
      "  warnings.warn(\n"
     ]
    },
    {
     "name": "stdout",
     "output_type": "stream",
     "text": [
      "[t=2442 | 2021-05-12] active: ['AAPL', 'ACN', 'ADBE', 'AMAT', 'AMD', 'AMZN', 'AVGO', 'BKNG', 'COST', 'CRM', 'CSCO', 'DIS', 'GOOGL', 'HD', 'IBM', 'INTU', 'KO', 'MCD', 'META', 'MSFT', 'NFLX', 'NOW', 'NVDA', 'ORCL', 'PG', 'PLTR', 'PM', 'QCOM', 'T', 'TSLA', 'TXN', 'VZ', 'WMT']\n"
     ]
    },
    {
     "name": "stderr",
     "output_type": "stream",
     "text": [
      "/opt/anaconda3/lib/python3.12/site-packages/cvxpy/reductions/solvers/solving_chain.py:356: FutureWarning: \n",
      "    You specified your problem should be solved by ECOS. Starting in\n",
      "    CXVPY 1.6.0, ECOS will no longer be installed by default with CVXPY.\n",
      "    Please either add ECOS as an explicit install dependency to your project\n",
      "    or switch to our new default solver, Clarabel, by either not specifying a\n",
      "    solver argument or specifying ``solver=cp.CLARABEL``. To suppress this\n",
      "    warning while continuing to use ECOS, you can filter this warning using\n",
      "    Python's ``warnings`` module until you are using 1.6.0.\n",
      "    \n",
      "  warnings.warn(ECOS_DEP_DEPRECATION_MSG, FutureWarning)\n",
      "/opt/anaconda3/lib/python3.12/site-packages/cvxpy/problems/problem.py:1407: UserWarning: Solution may be inaccurate. Try another solver, adjusting the solver settings, or solve with verbose=True for more information.\n",
      "  warnings.warn(\n"
     ]
    },
    {
     "name": "stdout",
     "output_type": "stream",
     "text": [
      "[t=2443 | 2021-05-13] active: ['AAPL', 'ACN', 'ADBE', 'AMAT', 'AMD', 'AMZN', 'AVGO', 'BKNG', 'COST', 'CRM', 'CSCO', 'DIS', 'GOOGL', 'HD', 'IBM', 'INTU', 'KO', 'MCD', 'META', 'MSFT', 'NFLX', 'NOW', 'NVDA', 'ORCL', 'PG', 'PLTR', 'PM', 'QCOM', 'T', 'TSLA', 'TXN', 'VZ', 'WMT']\n"
     ]
    },
    {
     "name": "stderr",
     "output_type": "stream",
     "text": [
      "/opt/anaconda3/lib/python3.12/site-packages/cvxpy/reductions/solvers/solving_chain.py:356: FutureWarning: \n",
      "    You specified your problem should be solved by ECOS. Starting in\n",
      "    CXVPY 1.6.0, ECOS will no longer be installed by default with CVXPY.\n",
      "    Please either add ECOS as an explicit install dependency to your project\n",
      "    or switch to our new default solver, Clarabel, by either not specifying a\n",
      "    solver argument or specifying ``solver=cp.CLARABEL``. To suppress this\n",
      "    warning while continuing to use ECOS, you can filter this warning using\n",
      "    Python's ``warnings`` module until you are using 1.6.0.\n",
      "    \n",
      "  warnings.warn(ECOS_DEP_DEPRECATION_MSG, FutureWarning)\n",
      "/opt/anaconda3/lib/python3.12/site-packages/cvxpy/problems/problem.py:1407: UserWarning: Solution may be inaccurate. Try another solver, adjusting the solver settings, or solve with verbose=True for more information.\n",
      "  warnings.warn(\n"
     ]
    },
    {
     "name": "stdout",
     "output_type": "stream",
     "text": [
      "[t=2444 | 2021-05-14] active: ['AAPL', 'ACN', 'ADBE', 'AMAT', 'AMD', 'AMZN', 'AVGO', 'BKNG', 'COST', 'CRM', 'CSCO', 'DIS', 'GOOGL', 'HD', 'IBM', 'INTU', 'KO', 'MCD', 'META', 'MSFT', 'NFLX', 'NOW', 'NVDA', 'ORCL', 'PG', 'PLTR', 'PM', 'QCOM', 'T', 'TSLA', 'TXN', 'VZ', 'WMT']\n"
     ]
    },
    {
     "name": "stderr",
     "output_type": "stream",
     "text": [
      "/opt/anaconda3/lib/python3.12/site-packages/cvxpy/reductions/solvers/solving_chain.py:356: FutureWarning: \n",
      "    You specified your problem should be solved by ECOS. Starting in\n",
      "    CXVPY 1.6.0, ECOS will no longer be installed by default with CVXPY.\n",
      "    Please either add ECOS as an explicit install dependency to your project\n",
      "    or switch to our new default solver, Clarabel, by either not specifying a\n",
      "    solver argument or specifying ``solver=cp.CLARABEL``. To suppress this\n",
      "    warning while continuing to use ECOS, you can filter this warning using\n",
      "    Python's ``warnings`` module until you are using 1.6.0.\n",
      "    \n",
      "  warnings.warn(ECOS_DEP_DEPRECATION_MSG, FutureWarning)\n",
      "/opt/anaconda3/lib/python3.12/site-packages/cvxpy/problems/problem.py:1407: UserWarning: Solution may be inaccurate. Try another solver, adjusting the solver settings, or solve with verbose=True for more information.\n",
      "  warnings.warn(\n"
     ]
    },
    {
     "name": "stdout",
     "output_type": "stream",
     "text": [
      "[t=2445 | 2021-05-17] active: ['AAPL', 'ACN', 'ADBE', 'AMAT', 'AMD', 'AMZN', 'AVGO', 'BKNG', 'COST', 'CRM', 'CSCO', 'DIS', 'GOOGL', 'HD', 'IBM', 'INTU', 'KO', 'MCD', 'META', 'MSFT', 'NFLX', 'NOW', 'NVDA', 'ORCL', 'PG', 'PLTR', 'PM', 'QCOM', 'T', 'TSLA', 'TXN', 'VZ', 'WMT']\n"
     ]
    },
    {
     "name": "stderr",
     "output_type": "stream",
     "text": [
      "/opt/anaconda3/lib/python3.12/site-packages/cvxpy/reductions/solvers/solving_chain.py:356: FutureWarning: \n",
      "    You specified your problem should be solved by ECOS. Starting in\n",
      "    CXVPY 1.6.0, ECOS will no longer be installed by default with CVXPY.\n",
      "    Please either add ECOS as an explicit install dependency to your project\n",
      "    or switch to our new default solver, Clarabel, by either not specifying a\n",
      "    solver argument or specifying ``solver=cp.CLARABEL``. To suppress this\n",
      "    warning while continuing to use ECOS, you can filter this warning using\n",
      "    Python's ``warnings`` module until you are using 1.6.0.\n",
      "    \n",
      "  warnings.warn(ECOS_DEP_DEPRECATION_MSG, FutureWarning)\n",
      "/opt/anaconda3/lib/python3.12/site-packages/cvxpy/problems/problem.py:1407: UserWarning: Solution may be inaccurate. Try another solver, adjusting the solver settings, or solve with verbose=True for more information.\n",
      "  warnings.warn(\n"
     ]
    },
    {
     "name": "stdout",
     "output_type": "stream",
     "text": [
      "[t=2446 | 2021-05-18] active: ['AAPL', 'ACN', 'ADBE', 'AMAT', 'AMD', 'AMZN', 'AVGO', 'BKNG', 'COST', 'CRM', 'CSCO', 'DIS', 'GOOGL', 'HD', 'IBM', 'INTU', 'KO', 'MCD', 'META', 'MSFT', 'NFLX', 'NOW', 'NVDA', 'ORCL', 'PG', 'PLTR', 'PM', 'QCOM', 'T', 'TSLA', 'TXN', 'VZ', 'WMT']\n"
     ]
    },
    {
     "name": "stderr",
     "output_type": "stream",
     "text": [
      "/opt/anaconda3/lib/python3.12/site-packages/cvxpy/reductions/solvers/solving_chain.py:356: FutureWarning: \n",
      "    You specified your problem should be solved by ECOS. Starting in\n",
      "    CXVPY 1.6.0, ECOS will no longer be installed by default with CVXPY.\n",
      "    Please either add ECOS as an explicit install dependency to your project\n",
      "    or switch to our new default solver, Clarabel, by either not specifying a\n",
      "    solver argument or specifying ``solver=cp.CLARABEL``. To suppress this\n",
      "    warning while continuing to use ECOS, you can filter this warning using\n",
      "    Python's ``warnings`` module until you are using 1.6.0.\n",
      "    \n",
      "  warnings.warn(ECOS_DEP_DEPRECATION_MSG, FutureWarning)\n",
      "/opt/anaconda3/lib/python3.12/site-packages/cvxpy/problems/problem.py:1407: UserWarning: Solution may be inaccurate. Try another solver, adjusting the solver settings, or solve with verbose=True for more information.\n",
      "  warnings.warn(\n"
     ]
    },
    {
     "name": "stdout",
     "output_type": "stream",
     "text": [
      "[t=2451 | 2021-05-25] active: ['AAPL', 'ACN', 'ADBE', 'AMAT', 'AMD', 'AMZN', 'AVGO', 'BKNG', 'COST', 'CRM', 'CSCO', 'DIS', 'GOOGL', 'HD', 'IBM', 'INTU', 'KO', 'MCD', 'META', 'MSFT', 'NFLX', 'NOW', 'NVDA', 'ORCL', 'PG', 'PLTR', 'PM', 'QCOM', 'T', 'TSLA', 'TXN', 'VZ', 'WMT']\n"
     ]
    },
    {
     "name": "stderr",
     "output_type": "stream",
     "text": [
      "/opt/anaconda3/lib/python3.12/site-packages/cvxpy/reductions/solvers/solving_chain.py:356: FutureWarning: \n",
      "    You specified your problem should be solved by ECOS. Starting in\n",
      "    CXVPY 1.6.0, ECOS will no longer be installed by default with CVXPY.\n",
      "    Please either add ECOS as an explicit install dependency to your project\n",
      "    or switch to our new default solver, Clarabel, by either not specifying a\n",
      "    solver argument or specifying ``solver=cp.CLARABEL``. To suppress this\n",
      "    warning while continuing to use ECOS, you can filter this warning using\n",
      "    Python's ``warnings`` module until you are using 1.6.0.\n",
      "    \n",
      "  warnings.warn(ECOS_DEP_DEPRECATION_MSG, FutureWarning)\n",
      "/opt/anaconda3/lib/python3.12/site-packages/cvxpy/problems/problem.py:1407: UserWarning: Solution may be inaccurate. Try another solver, adjusting the solver settings, or solve with verbose=True for more information.\n",
      "  warnings.warn(\n"
     ]
    },
    {
     "name": "stdout",
     "output_type": "stream",
     "text": [
      "[t=2470 | 2021-06-21] active: ['AAPL', 'ACN', 'ADBE', 'AMAT', 'AMD', 'AMZN', 'AVGO', 'BKNG', 'COST', 'CRM', 'CSCO', 'DIS', 'GOOGL', 'HD', 'IBM', 'INTU', 'KO', 'MCD', 'META', 'MSFT', 'NFLX', 'NOW', 'NVDA', 'ORCL', 'PG', 'PLTR', 'PM', 'QCOM', 'T', 'TSLA', 'TXN', 'VZ', 'WMT']\n"
     ]
    },
    {
     "name": "stderr",
     "output_type": "stream",
     "text": [
      "/opt/anaconda3/lib/python3.12/site-packages/cvxpy/reductions/solvers/solving_chain.py:356: FutureWarning: \n",
      "    You specified your problem should be solved by ECOS. Starting in\n",
      "    CXVPY 1.6.0, ECOS will no longer be installed by default with CVXPY.\n",
      "    Please either add ECOS as an explicit install dependency to your project\n",
      "    or switch to our new default solver, Clarabel, by either not specifying a\n",
      "    solver argument or specifying ``solver=cp.CLARABEL``. To suppress this\n",
      "    warning while continuing to use ECOS, you can filter this warning using\n",
      "    Python's ``warnings`` module until you are using 1.6.0.\n",
      "    \n",
      "  warnings.warn(ECOS_DEP_DEPRECATION_MSG, FutureWarning)\n",
      "/opt/anaconda3/lib/python3.12/site-packages/cvxpy/problems/problem.py:1407: UserWarning: Solution may be inaccurate. Try another solver, adjusting the solver settings, or solve with verbose=True for more information.\n",
      "  warnings.warn(\n"
     ]
    },
    {
     "name": "stdout",
     "output_type": "stream",
     "text": [
      "[t=2490 | 2021-07-19] active: ['AAPL', 'ACN', 'ADBE', 'AMAT', 'AMD', 'AMZN', 'AVGO', 'BKNG', 'COST', 'CRM', 'CSCO', 'DIS', 'GOOGL', 'HD', 'IBM', 'INTU', 'KO', 'MCD', 'META', 'MSFT', 'NFLX', 'NOW', 'NVDA', 'ORCL', 'PG', 'PLTR', 'PM', 'QCOM', 'T', 'TSLA', 'TXN', 'VZ', 'WMT']\n"
     ]
    },
    {
     "name": "stderr",
     "output_type": "stream",
     "text": [
      "/opt/anaconda3/lib/python3.12/site-packages/cvxpy/reductions/solvers/solving_chain.py:356: FutureWarning: \n",
      "    You specified your problem should be solved by ECOS. Starting in\n",
      "    CXVPY 1.6.0, ECOS will no longer be installed by default with CVXPY.\n",
      "    Please either add ECOS as an explicit install dependency to your project\n",
      "    or switch to our new default solver, Clarabel, by either not specifying a\n",
      "    solver argument or specifying ``solver=cp.CLARABEL``. To suppress this\n",
      "    warning while continuing to use ECOS, you can filter this warning using\n",
      "    Python's ``warnings`` module until you are using 1.6.0.\n",
      "    \n",
      "  warnings.warn(ECOS_DEP_DEPRECATION_MSG, FutureWarning)\n",
      "/opt/anaconda3/lib/python3.12/site-packages/cvxpy/problems/problem.py:1407: UserWarning: Solution may be inaccurate. Try another solver, adjusting the solver settings, or solve with verbose=True for more information.\n",
      "  warnings.warn(\n"
     ]
    },
    {
     "name": "stdout",
     "output_type": "stream",
     "text": [
      "[t=2491 | 2021-07-20] active: ['AAPL', 'ACN', 'ADBE', 'AMAT', 'AMD', 'AMZN', 'AVGO', 'BKNG', 'COST', 'CRM', 'CSCO', 'DIS', 'GOOGL', 'HD', 'IBM', 'INTU', 'KO', 'MCD', 'META', 'MSFT', 'NFLX', 'NOW', 'NVDA', 'ORCL', 'PG', 'PLTR', 'PM', 'QCOM', 'T', 'TSLA', 'TXN', 'VZ', 'WMT']\n"
     ]
    },
    {
     "name": "stderr",
     "output_type": "stream",
     "text": [
      "/opt/anaconda3/lib/python3.12/site-packages/cvxpy/reductions/solvers/solving_chain.py:356: FutureWarning: \n",
      "    You specified your problem should be solved by ECOS. Starting in\n",
      "    CXVPY 1.6.0, ECOS will no longer be installed by default with CVXPY.\n",
      "    Please either add ECOS as an explicit install dependency to your project\n",
      "    or switch to our new default solver, Clarabel, by either not specifying a\n",
      "    solver argument or specifying ``solver=cp.CLARABEL``. To suppress this\n",
      "    warning while continuing to use ECOS, you can filter this warning using\n",
      "    Python's ``warnings`` module until you are using 1.6.0.\n",
      "    \n",
      "  warnings.warn(ECOS_DEP_DEPRECATION_MSG, FutureWarning)\n",
      "/opt/anaconda3/lib/python3.12/site-packages/cvxpy/problems/problem.py:1407: UserWarning: Solution may be inaccurate. Try another solver, adjusting the solver settings, or solve with verbose=True for more information.\n",
      "  warnings.warn(\n"
     ]
    },
    {
     "name": "stdout",
     "output_type": "stream",
     "text": [
      "[t=2492 | 2021-07-21] active: ['AAPL', 'ACN', 'ADBE', 'AMAT', 'AMD', 'AMZN', 'AVGO', 'BKNG', 'COST', 'CRM', 'CSCO', 'DIS', 'GOOGL', 'HD', 'IBM', 'INTU', 'KO', 'MCD', 'META', 'MSFT', 'NFLX', 'NOW', 'NVDA', 'ORCL', 'PG', 'PLTR', 'PM', 'QCOM', 'T', 'TSLA', 'TXN', 'VZ', 'WMT']\n"
     ]
    },
    {
     "name": "stderr",
     "output_type": "stream",
     "text": [
      "/opt/anaconda3/lib/python3.12/site-packages/cvxpy/reductions/solvers/solving_chain.py:356: FutureWarning: \n",
      "    You specified your problem should be solved by ECOS. Starting in\n",
      "    CXVPY 1.6.0, ECOS will no longer be installed by default with CVXPY.\n",
      "    Please either add ECOS as an explicit install dependency to your project\n",
      "    or switch to our new default solver, Clarabel, by either not specifying a\n",
      "    solver argument or specifying ``solver=cp.CLARABEL``. To suppress this\n",
      "    warning while continuing to use ECOS, you can filter this warning using\n",
      "    Python's ``warnings`` module until you are using 1.6.0.\n",
      "    \n",
      "  warnings.warn(ECOS_DEP_DEPRECATION_MSG, FutureWarning)\n",
      "/opt/anaconda3/lib/python3.12/site-packages/cvxpy/problems/problem.py:1407: UserWarning: Solution may be inaccurate. Try another solver, adjusting the solver settings, or solve with verbose=True for more information.\n",
      "  warnings.warn(\n"
     ]
    },
    {
     "name": "stdout",
     "output_type": "stream",
     "text": [
      "[t=2535 | 2021-09-20] active: ['AAPL', 'ACN', 'ADBE', 'AMAT', 'AMD', 'AMZN', 'AVGO', 'BKNG', 'COST', 'CRM', 'CSCO', 'DIS', 'GOOGL', 'HD', 'IBM', 'INTU', 'KO', 'MCD', 'META', 'MSFT', 'NFLX', 'NOW', 'NVDA', 'ORCL', 'PG', 'PLTR', 'PM', 'QCOM', 'T', 'TSLA', 'TXN', 'VZ', 'WMT']\n"
     ]
    },
    {
     "name": "stderr",
     "output_type": "stream",
     "text": [
      "/opt/anaconda3/lib/python3.12/site-packages/cvxpy/reductions/solvers/solving_chain.py:356: FutureWarning: \n",
      "    You specified your problem should be solved by ECOS. Starting in\n",
      "    CXVPY 1.6.0, ECOS will no longer be installed by default with CVXPY.\n",
      "    Please either add ECOS as an explicit install dependency to your project\n",
      "    or switch to our new default solver, Clarabel, by either not specifying a\n",
      "    solver argument or specifying ``solver=cp.CLARABEL``. To suppress this\n",
      "    warning while continuing to use ECOS, you can filter this warning using\n",
      "    Python's ``warnings`` module until you are using 1.6.0.\n",
      "    \n",
      "  warnings.warn(ECOS_DEP_DEPRECATION_MSG, FutureWarning)\n",
      "/opt/anaconda3/lib/python3.12/site-packages/cvxpy/problems/problem.py:1407: UserWarning: Solution may be inaccurate. Try another solver, adjusting the solver settings, or solve with verbose=True for more information.\n",
      "  warnings.warn(\n"
     ]
    },
    {
     "name": "stdout",
     "output_type": "stream",
     "text": [
      "[t=2537 | 2021-09-22] active: ['AAPL', 'ACN', 'ADBE', 'AMAT', 'AMD', 'AMZN', 'AVGO', 'BKNG', 'COST', 'CRM', 'CSCO', 'DIS', 'GOOGL', 'HD', 'IBM', 'INTU', 'KO', 'MCD', 'META', 'MSFT', 'NFLX', 'NOW', 'NVDA', 'ORCL', 'PG', 'PLTR', 'PM', 'QCOM', 'T', 'TSLA', 'TXN', 'VZ', 'WMT']\n"
     ]
    },
    {
     "name": "stderr",
     "output_type": "stream",
     "text": [
      "/opt/anaconda3/lib/python3.12/site-packages/cvxpy/reductions/solvers/solving_chain.py:356: FutureWarning: \n",
      "    You specified your problem should be solved by ECOS. Starting in\n",
      "    CXVPY 1.6.0, ECOS will no longer be installed by default with CVXPY.\n",
      "    Please either add ECOS as an explicit install dependency to your project\n",
      "    or switch to our new default solver, Clarabel, by either not specifying a\n",
      "    solver argument or specifying ``solver=cp.CLARABEL``. To suppress this\n",
      "    warning while continuing to use ECOS, you can filter this warning using\n",
      "    Python's ``warnings`` module until you are using 1.6.0.\n",
      "    \n",
      "  warnings.warn(ECOS_DEP_DEPRECATION_MSG, FutureWarning)\n",
      "/opt/anaconda3/lib/python3.12/site-packages/cvxpy/problems/problem.py:1407: UserWarning: Solution may be inaccurate. Try another solver, adjusting the solver settings, or solve with verbose=True for more information.\n",
      "  warnings.warn(\n"
     ]
    },
    {
     "name": "stdout",
     "output_type": "stream",
     "text": [
      "[t=2540 | 2021-09-27] active: ['AAPL', 'ACN', 'ADBE', 'AMAT', 'AMD', 'AMZN', 'AVGO', 'BKNG', 'COST', 'CRM', 'CSCO', 'DIS', 'GOOGL', 'HD', 'IBM', 'INTU', 'KO', 'MCD', 'META', 'MSFT', 'NFLX', 'NOW', 'NVDA', 'ORCL', 'PG', 'PLTR', 'PM', 'QCOM', 'T', 'TSLA', 'TXN', 'VZ', 'WMT']\n"
     ]
    },
    {
     "name": "stderr",
     "output_type": "stream",
     "text": [
      "/opt/anaconda3/lib/python3.12/site-packages/cvxpy/reductions/solvers/solving_chain.py:356: FutureWarning: \n",
      "    You specified your problem should be solved by ECOS. Starting in\n",
      "    CXVPY 1.6.0, ECOS will no longer be installed by default with CVXPY.\n",
      "    Please either add ECOS as an explicit install dependency to your project\n",
      "    or switch to our new default solver, Clarabel, by either not specifying a\n",
      "    solver argument or specifying ``solver=cp.CLARABEL``. To suppress this\n",
      "    warning while continuing to use ECOS, you can filter this warning using\n",
      "    Python's ``warnings`` module until you are using 1.6.0.\n",
      "    \n",
      "  warnings.warn(ECOS_DEP_DEPRECATION_MSG, FutureWarning)\n",
      "/opt/anaconda3/lib/python3.12/site-packages/cvxpy/problems/problem.py:1407: UserWarning: Solution may be inaccurate. Try another solver, adjusting the solver settings, or solve with verbose=True for more information.\n",
      "  warnings.warn(\n"
     ]
    },
    {
     "name": "stdout",
     "output_type": "stream",
     "text": [
      "[t=2541 | 2021-09-28] active: ['AAPL', 'ACN', 'ADBE', 'AMAT', 'AMD', 'AMZN', 'AVGO', 'BKNG', 'COST', 'CRM', 'CSCO', 'DIS', 'GOOGL', 'HD', 'IBM', 'INTU', 'KO', 'MCD', 'META', 'MSFT', 'NFLX', 'NOW', 'NVDA', 'ORCL', 'PG', 'PLTR', 'PM', 'QCOM', 'T', 'TSLA', 'TXN', 'VZ', 'WMT']\n"
     ]
    },
    {
     "name": "stderr",
     "output_type": "stream",
     "text": [
      "/opt/anaconda3/lib/python3.12/site-packages/cvxpy/reductions/solvers/solving_chain.py:356: FutureWarning: \n",
      "    You specified your problem should be solved by ECOS. Starting in\n",
      "    CXVPY 1.6.0, ECOS will no longer be installed by default with CVXPY.\n",
      "    Please either add ECOS as an explicit install dependency to your project\n",
      "    or switch to our new default solver, Clarabel, by either not specifying a\n",
      "    solver argument or specifying ``solver=cp.CLARABEL``. To suppress this\n",
      "    warning while continuing to use ECOS, you can filter this warning using\n",
      "    Python's ``warnings`` module until you are using 1.6.0.\n",
      "    \n",
      "  warnings.warn(ECOS_DEP_DEPRECATION_MSG, FutureWarning)\n",
      "/opt/anaconda3/lib/python3.12/site-packages/cvxpy/problems/problem.py:1407: UserWarning: Solution may be inaccurate. Try another solver, adjusting the solver settings, or solve with verbose=True for more information.\n",
      "  warnings.warn(\n"
     ]
    },
    {
     "name": "stdout",
     "output_type": "stream",
     "text": [
      "[t=2543 | 2021-09-30] active: ['AAPL', 'ACN', 'ADBE', 'AMAT', 'AMD', 'AMZN', 'AVGO', 'BKNG', 'COST', 'CRM', 'CSCO', 'DIS', 'GOOGL', 'HD', 'IBM', 'INTU', 'KO', 'MCD', 'META', 'MSFT', 'NFLX', 'NOW', 'NVDA', 'ORCL', 'PG', 'PLTR', 'PM', 'QCOM', 'T', 'TSLA', 'TXN', 'VZ', 'WMT']\n"
     ]
    },
    {
     "name": "stderr",
     "output_type": "stream",
     "text": [
      "/opt/anaconda3/lib/python3.12/site-packages/cvxpy/reductions/solvers/solving_chain.py:356: FutureWarning: \n",
      "    You specified your problem should be solved by ECOS. Starting in\n",
      "    CXVPY 1.6.0, ECOS will no longer be installed by default with CVXPY.\n",
      "    Please either add ECOS as an explicit install dependency to your project\n",
      "    or switch to our new default solver, Clarabel, by either not specifying a\n",
      "    solver argument or specifying ``solver=cp.CLARABEL``. To suppress this\n",
      "    warning while continuing to use ECOS, you can filter this warning using\n",
      "    Python's ``warnings`` module until you are using 1.6.0.\n",
      "    \n",
      "  warnings.warn(ECOS_DEP_DEPRECATION_MSG, FutureWarning)\n",
      "/opt/anaconda3/lib/python3.12/site-packages/cvxpy/problems/problem.py:1407: UserWarning: Solution may be inaccurate. Try another solver, adjusting the solver settings, or solve with verbose=True for more information.\n",
      "  warnings.warn(\n"
     ]
    },
    {
     "name": "stdout",
     "output_type": "stream",
     "text": [
      "[t=2544 | 2021-10-01] active: ['AAPL', 'ACN', 'ADBE', 'AMAT', 'AMD', 'AMZN', 'AVGO', 'BKNG', 'COST', 'CRM', 'CSCO', 'DIS', 'GOOGL', 'HD', 'IBM', 'INTU', 'KO', 'MCD', 'META', 'MSFT', 'NFLX', 'NOW', 'NVDA', 'ORCL', 'PG', 'PLTR', 'PM', 'QCOM', 'T', 'TSLA', 'TXN', 'VZ', 'WMT']\n"
     ]
    },
    {
     "name": "stderr",
     "output_type": "stream",
     "text": [
      "/opt/anaconda3/lib/python3.12/site-packages/cvxpy/reductions/solvers/solving_chain.py:356: FutureWarning: \n",
      "    You specified your problem should be solved by ECOS. Starting in\n",
      "    CXVPY 1.6.0, ECOS will no longer be installed by default with CVXPY.\n",
      "    Please either add ECOS as an explicit install dependency to your project\n",
      "    or switch to our new default solver, Clarabel, by either not specifying a\n",
      "    solver argument or specifying ``solver=cp.CLARABEL``. To suppress this\n",
      "    warning while continuing to use ECOS, you can filter this warning using\n",
      "    Python's ``warnings`` module until you are using 1.6.0.\n",
      "    \n",
      "  warnings.warn(ECOS_DEP_DEPRECATION_MSG, FutureWarning)\n",
      "/opt/anaconda3/lib/python3.12/site-packages/cvxpy/problems/problem.py:1407: UserWarning: Solution may be inaccurate. Try another solver, adjusting the solver settings, or solve with verbose=True for more information.\n",
      "  warnings.warn(\n"
     ]
    },
    {
     "name": "stdout",
     "output_type": "stream",
     "text": [
      "[t=2546 | 2021-10-05] active: ['AAPL', 'ACN', 'ADBE', 'AMAT', 'AMD', 'AMZN', 'AVGO', 'BKNG', 'COST', 'CRM', 'CSCO', 'DIS', 'GOOGL', 'HD', 'IBM', 'INTU', 'KO', 'MCD', 'META', 'MSFT', 'NFLX', 'NOW', 'NVDA', 'ORCL', 'PG', 'PLTR', 'PM', 'QCOM', 'T', 'TSLA', 'TXN', 'VZ', 'WMT']\n"
     ]
    },
    {
     "name": "stderr",
     "output_type": "stream",
     "text": [
      "/opt/anaconda3/lib/python3.12/site-packages/cvxpy/reductions/solvers/solving_chain.py:356: FutureWarning: \n",
      "    You specified your problem should be solved by ECOS. Starting in\n",
      "    CXVPY 1.6.0, ECOS will no longer be installed by default with CVXPY.\n",
      "    Please either add ECOS as an explicit install dependency to your project\n",
      "    or switch to our new default solver, Clarabel, by either not specifying a\n",
      "    solver argument or specifying ``solver=cp.CLARABEL``. To suppress this\n",
      "    warning while continuing to use ECOS, you can filter this warning using\n",
      "    Python's ``warnings`` module until you are using 1.6.0.\n",
      "    \n",
      "  warnings.warn(ECOS_DEP_DEPRECATION_MSG, FutureWarning)\n",
      "/opt/anaconda3/lib/python3.12/site-packages/cvxpy/problems/problem.py:1407: UserWarning: Solution may be inaccurate. Try another solver, adjusting the solver settings, or solve with verbose=True for more information.\n",
      "  warnings.warn(\n"
     ]
    },
    {
     "name": "stdout",
     "output_type": "stream",
     "text": [
      "[t=2580 | 2021-11-22] active: ['AAPL', 'ACN', 'ADBE', 'AMAT', 'AMD', 'AMZN', 'AVGO', 'BKNG', 'COST', 'CRM', 'CSCO', 'DIS', 'GOOGL', 'HD', 'IBM', 'INTU', 'KO', 'MCD', 'META', 'MSFT', 'NFLX', 'NOW', 'NVDA', 'ORCL', 'PG', 'PLTR', 'PM', 'QCOM', 'T', 'TSLA', 'TXN', 'VZ', 'WMT']\n"
     ]
    },
    {
     "name": "stderr",
     "output_type": "stream",
     "text": [
      "/opt/anaconda3/lib/python3.12/site-packages/cvxpy/reductions/solvers/solving_chain.py:356: FutureWarning: \n",
      "    You specified your problem should be solved by ECOS. Starting in\n",
      "    CXVPY 1.6.0, ECOS will no longer be installed by default with CVXPY.\n",
      "    Please either add ECOS as an explicit install dependency to your project\n",
      "    or switch to our new default solver, Clarabel, by either not specifying a\n",
      "    solver argument or specifying ``solver=cp.CLARABEL``. To suppress this\n",
      "    warning while continuing to use ECOS, you can filter this warning using\n",
      "    Python's ``warnings`` module until you are using 1.6.0.\n",
      "    \n",
      "  warnings.warn(ECOS_DEP_DEPRECATION_MSG, FutureWarning)\n",
      "/opt/anaconda3/lib/python3.12/site-packages/cvxpy/problems/problem.py:1407: UserWarning: Solution may be inaccurate. Try another solver, adjusting the solver settings, or solve with verbose=True for more information.\n",
      "  warnings.warn(\n"
     ]
    },
    {
     "name": "stdout",
     "output_type": "stream",
     "text": [
      "[t=2582 | 2021-11-24] active: ['AAPL', 'ACN', 'ADBE', 'AMAT', 'AMD', 'AMZN', 'AVGO', 'BKNG', 'COST', 'CRM', 'CSCO', 'DIS', 'GOOGL', 'HD', 'IBM', 'INTU', 'KO', 'MCD', 'META', 'MSFT', 'NFLX', 'NOW', 'NVDA', 'ORCL', 'PG', 'PLTR', 'PM', 'QCOM', 'T', 'TSLA', 'TXN', 'VZ', 'WMT']\n"
     ]
    },
    {
     "name": "stderr",
     "output_type": "stream",
     "text": [
      "/opt/anaconda3/lib/python3.12/site-packages/cvxpy/reductions/solvers/solving_chain.py:356: FutureWarning: \n",
      "    You specified your problem should be solved by ECOS. Starting in\n",
      "    CXVPY 1.6.0, ECOS will no longer be installed by default with CVXPY.\n",
      "    Please either add ECOS as an explicit install dependency to your project\n",
      "    or switch to our new default solver, Clarabel, by either not specifying a\n",
      "    solver argument or specifying ``solver=cp.CLARABEL``. To suppress this\n",
      "    warning while continuing to use ECOS, you can filter this warning using\n",
      "    Python's ``warnings`` module until you are using 1.6.0.\n",
      "    \n",
      "  warnings.warn(ECOS_DEP_DEPRECATION_MSG, FutureWarning)\n",
      "/opt/anaconda3/lib/python3.12/site-packages/cvxpy/problems/problem.py:1407: UserWarning: Solution may be inaccurate. Try another solver, adjusting the solver settings, or solve with verbose=True for more information.\n",
      "  warnings.warn(\n"
     ]
    },
    {
     "name": "stdout",
     "output_type": "stream",
     "text": [
      "[t=2585 | 2021-11-29] active: ['AAPL', 'ACN', 'ADBE', 'AMAT', 'AMD', 'AMZN', 'AVGO', 'BKNG', 'COST', 'CRM', 'CSCO', 'DIS', 'GOOGL', 'HD', 'IBM', 'INTU', 'KO', 'MCD', 'META', 'MSFT', 'NFLX', 'NOW', 'NVDA', 'ORCL', 'PG', 'PLTR', 'PM', 'QCOM', 'T', 'TSLA', 'TXN', 'VZ', 'WMT']\n"
     ]
    },
    {
     "name": "stderr",
     "output_type": "stream",
     "text": [
      "/opt/anaconda3/lib/python3.12/site-packages/cvxpy/reductions/solvers/solving_chain.py:356: FutureWarning: \n",
      "    You specified your problem should be solved by ECOS. Starting in\n",
      "    CXVPY 1.6.0, ECOS will no longer be installed by default with CVXPY.\n",
      "    Please either add ECOS as an explicit install dependency to your project\n",
      "    or switch to our new default solver, Clarabel, by either not specifying a\n",
      "    solver argument or specifying ``solver=cp.CLARABEL``. To suppress this\n",
      "    warning while continuing to use ECOS, you can filter this warning using\n",
      "    Python's ``warnings`` module until you are using 1.6.0.\n",
      "    \n",
      "  warnings.warn(ECOS_DEP_DEPRECATION_MSG, FutureWarning)\n",
      "/opt/anaconda3/lib/python3.12/site-packages/cvxpy/problems/problem.py:1407: UserWarning: Solution may be inaccurate. Try another solver, adjusting the solver settings, or solve with verbose=True for more information.\n",
      "  warnings.warn(\n"
     ]
    },
    {
     "name": "stdout",
     "output_type": "stream",
     "text": [
      "[t=2587 | 2021-12-01] active: ['AAPL', 'ACN', 'ADBE', 'AMAT', 'AMD', 'AMZN', 'AVGO', 'BKNG', 'COST', 'CRM', 'CSCO', 'DIS', 'GOOGL', 'HD', 'IBM', 'INTU', 'KO', 'MCD', 'META', 'MSFT', 'NFLX', 'NOW', 'NVDA', 'ORCL', 'PG', 'PLTR', 'PM', 'QCOM', 'T', 'TSLA', 'TXN', 'VZ', 'WMT']\n"
     ]
    },
    {
     "name": "stderr",
     "output_type": "stream",
     "text": [
      "/opt/anaconda3/lib/python3.12/site-packages/cvxpy/reductions/solvers/solving_chain.py:356: FutureWarning: \n",
      "    You specified your problem should be solved by ECOS. Starting in\n",
      "    CXVPY 1.6.0, ECOS will no longer be installed by default with CVXPY.\n",
      "    Please either add ECOS as an explicit install dependency to your project\n",
      "    or switch to our new default solver, Clarabel, by either not specifying a\n",
      "    solver argument or specifying ``solver=cp.CLARABEL``. To suppress this\n",
      "    warning while continuing to use ECOS, you can filter this warning using\n",
      "    Python's ``warnings`` module until you are using 1.6.0.\n",
      "    \n",
      "  warnings.warn(ECOS_DEP_DEPRECATION_MSG, FutureWarning)\n",
      "/opt/anaconda3/lib/python3.12/site-packages/cvxpy/problems/problem.py:1407: UserWarning: Solution may be inaccurate. Try another solver, adjusting the solver settings, or solve with verbose=True for more information.\n",
      "  warnings.warn(\n"
     ]
    },
    {
     "name": "stdout",
     "output_type": "stream",
     "text": [
      "[t=2588 | 2021-12-02] active: ['AAPL', 'ACN', 'ADBE', 'AMAT', 'AMD', 'AMZN', 'AVGO', 'BKNG', 'COST', 'CRM', 'CSCO', 'DIS', 'GOOGL', 'HD', 'IBM', 'INTU', 'KO', 'MCD', 'META', 'MSFT', 'NFLX', 'NOW', 'NVDA', 'ORCL', 'PG', 'PLTR', 'PM', 'QCOM', 'T', 'TSLA', 'TXN', 'VZ', 'WMT']\n"
     ]
    },
    {
     "name": "stderr",
     "output_type": "stream",
     "text": [
      "/opt/anaconda3/lib/python3.12/site-packages/cvxpy/reductions/solvers/solving_chain.py:356: FutureWarning: \n",
      "    You specified your problem should be solved by ECOS. Starting in\n",
      "    CXVPY 1.6.0, ECOS will no longer be installed by default with CVXPY.\n",
      "    Please either add ECOS as an explicit install dependency to your project\n",
      "    or switch to our new default solver, Clarabel, by either not specifying a\n",
      "    solver argument or specifying ``solver=cp.CLARABEL``. To suppress this\n",
      "    warning while continuing to use ECOS, you can filter this warning using\n",
      "    Python's ``warnings`` module until you are using 1.6.0.\n",
      "    \n",
      "  warnings.warn(ECOS_DEP_DEPRECATION_MSG, FutureWarning)\n",
      "/opt/anaconda3/lib/python3.12/site-packages/cvxpy/problems/problem.py:1407: UserWarning: Solution may be inaccurate. Try another solver, adjusting the solver settings, or solve with verbose=True for more information.\n",
      "  warnings.warn(\n"
     ]
    },
    {
     "name": "stdout",
     "output_type": "stream",
     "text": [
      "[t=2589 | 2021-12-03] active: ['AAPL', 'ACN', 'ADBE', 'AMAT', 'AMD', 'AMZN', 'AVGO', 'BKNG', 'COST', 'CRM', 'CSCO', 'DIS', 'GOOGL', 'HD', 'IBM', 'INTU', 'KO', 'MCD', 'META', 'MSFT', 'NFLX', 'NOW', 'NVDA', 'ORCL', 'PG', 'PLTR', 'PM', 'QCOM', 'T', 'TSLA', 'TXN', 'VZ', 'WMT']\n"
     ]
    },
    {
     "name": "stderr",
     "output_type": "stream",
     "text": [
      "/opt/anaconda3/lib/python3.12/site-packages/cvxpy/reductions/solvers/solving_chain.py:356: FutureWarning: \n",
      "    You specified your problem should be solved by ECOS. Starting in\n",
      "    CXVPY 1.6.0, ECOS will no longer be installed by default with CVXPY.\n",
      "    Please either add ECOS as an explicit install dependency to your project\n",
      "    or switch to our new default solver, Clarabel, by either not specifying a\n",
      "    solver argument or specifying ``solver=cp.CLARABEL``. To suppress this\n",
      "    warning while continuing to use ECOS, you can filter this warning using\n",
      "    Python's ``warnings`` module until you are using 1.6.0.\n",
      "    \n",
      "  warnings.warn(ECOS_DEP_DEPRECATION_MSG, FutureWarning)\n",
      "/opt/anaconda3/lib/python3.12/site-packages/cvxpy/problems/problem.py:1407: UserWarning: Solution may be inaccurate. Try another solver, adjusting the solver settings, or solve with verbose=True for more information.\n",
      "  warnings.warn(\n"
     ]
    },
    {
     "name": "stdout",
     "output_type": "stream",
     "text": [
      "[t=2590 | 2021-12-06] active: ['AAPL', 'ACN', 'ADBE', 'AMAT', 'AMD', 'AMZN', 'AVGO', 'BKNG', 'COST', 'CRM', 'CSCO', 'DIS', 'GOOGL', 'HD', 'IBM', 'INTU', 'KO', 'MCD', 'META', 'MSFT', 'NFLX', 'NOW', 'NVDA', 'ORCL', 'PG', 'PLTR', 'PM', 'QCOM', 'T', 'TSLA', 'TXN', 'VZ', 'WMT']\n"
     ]
    },
    {
     "name": "stderr",
     "output_type": "stream",
     "text": [
      "/opt/anaconda3/lib/python3.12/site-packages/cvxpy/reductions/solvers/solving_chain.py:356: FutureWarning: \n",
      "    You specified your problem should be solved by ECOS. Starting in\n",
      "    CXVPY 1.6.0, ECOS will no longer be installed by default with CVXPY.\n",
      "    Please either add ECOS as an explicit install dependency to your project\n",
      "    or switch to our new default solver, Clarabel, by either not specifying a\n",
      "    solver argument or specifying ``solver=cp.CLARABEL``. To suppress this\n",
      "    warning while continuing to use ECOS, you can filter this warning using\n",
      "    Python's ``warnings`` module until you are using 1.6.0.\n",
      "    \n",
      "  warnings.warn(ECOS_DEP_DEPRECATION_MSG, FutureWarning)\n",
      "/opt/anaconda3/lib/python3.12/site-packages/cvxpy/problems/problem.py:1407: UserWarning: Solution may be inaccurate. Try another solver, adjusting the solver settings, or solve with verbose=True for more information.\n",
      "  warnings.warn(\n"
     ]
    },
    {
     "name": "stdout",
     "output_type": "stream",
     "text": [
      "[t=2591 | 2021-12-07] active: ['AAPL', 'ACN', 'ADBE', 'AMAT', 'AMD', 'AMZN', 'AVGO', 'BKNG', 'COST', 'CRM', 'CSCO', 'DIS', 'GOOGL', 'HD', 'IBM', 'INTU', 'KO', 'MCD', 'META', 'MSFT', 'NFLX', 'NOW', 'NVDA', 'ORCL', 'PG', 'PLTR', 'PM', 'QCOM', 'T', 'TSLA', 'TXN', 'VZ', 'WMT']\n"
     ]
    },
    {
     "name": "stderr",
     "output_type": "stream",
     "text": [
      "/opt/anaconda3/lib/python3.12/site-packages/cvxpy/reductions/solvers/solving_chain.py:356: FutureWarning: \n",
      "    You specified your problem should be solved by ECOS. Starting in\n",
      "    CXVPY 1.6.0, ECOS will no longer be installed by default with CVXPY.\n",
      "    Please either add ECOS as an explicit install dependency to your project\n",
      "    or switch to our new default solver, Clarabel, by either not specifying a\n",
      "    solver argument or specifying ``solver=cp.CLARABEL``. To suppress this\n",
      "    warning while continuing to use ECOS, you can filter this warning using\n",
      "    Python's ``warnings`` module until you are using 1.6.0.\n",
      "    \n",
      "  warnings.warn(ECOS_DEP_DEPRECATION_MSG, FutureWarning)\n",
      "/opt/anaconda3/lib/python3.12/site-packages/cvxpy/problems/problem.py:1407: UserWarning: Solution may be inaccurate. Try another solver, adjusting the solver settings, or solve with verbose=True for more information.\n",
      "  warnings.warn(\n"
     ]
    },
    {
     "name": "stdout",
     "output_type": "stream",
     "text": [
      "[t=2592 | 2021-12-08] active: ['AAPL', 'ACN', 'ADBE', 'AMAT', 'AMD', 'AMZN', 'AVGO', 'BKNG', 'COST', 'CRM', 'CSCO', 'DIS', 'GOOGL', 'HD', 'IBM', 'INTU', 'KO', 'MCD', 'META', 'MSFT', 'NFLX', 'NOW', 'NVDA', 'ORCL', 'PG', 'PLTR', 'PM', 'QCOM', 'T', 'TSLA', 'TXN', 'VZ', 'WMT']\n"
     ]
    },
    {
     "name": "stderr",
     "output_type": "stream",
     "text": [
      "/opt/anaconda3/lib/python3.12/site-packages/cvxpy/reductions/solvers/solving_chain.py:356: FutureWarning: \n",
      "    You specified your problem should be solved by ECOS. Starting in\n",
      "    CXVPY 1.6.0, ECOS will no longer be installed by default with CVXPY.\n",
      "    Please either add ECOS as an explicit install dependency to your project\n",
      "    or switch to our new default solver, Clarabel, by either not specifying a\n",
      "    solver argument or specifying ``solver=cp.CLARABEL``. To suppress this\n",
      "    warning while continuing to use ECOS, you can filter this warning using\n",
      "    Python's ``warnings`` module until you are using 1.6.0.\n",
      "    \n",
      "  warnings.warn(ECOS_DEP_DEPRECATION_MSG, FutureWarning)\n",
      "/opt/anaconda3/lib/python3.12/site-packages/cvxpy/problems/problem.py:1407: UserWarning: Solution may be inaccurate. Try another solver, adjusting the solver settings, or solve with verbose=True for more information.\n",
      "  warnings.warn(\n"
     ]
    },
    {
     "name": "stdout",
     "output_type": "stream",
     "text": [
      "[t=2593 | 2021-12-09] active: ['AAPL', 'ACN', 'ADBE', 'AMAT', 'AMD', 'AMZN', 'AVGO', 'BKNG', 'COST', 'CRM', 'CSCO', 'DIS', 'GOOGL', 'HD', 'IBM', 'INTU', 'KO', 'MCD', 'META', 'MSFT', 'NFLX', 'NOW', 'NVDA', 'ORCL', 'PG', 'PLTR', 'PM', 'QCOM', 'T', 'TSLA', 'TXN', 'VZ', 'WMT']\n"
     ]
    },
    {
     "name": "stderr",
     "output_type": "stream",
     "text": [
      "/opt/anaconda3/lib/python3.12/site-packages/cvxpy/reductions/solvers/solving_chain.py:356: FutureWarning: \n",
      "    You specified your problem should be solved by ECOS. Starting in\n",
      "    CXVPY 1.6.0, ECOS will no longer be installed by default with CVXPY.\n",
      "    Please either add ECOS as an explicit install dependency to your project\n",
      "    or switch to our new default solver, Clarabel, by either not specifying a\n",
      "    solver argument or specifying ``solver=cp.CLARABEL``. To suppress this\n",
      "    warning while continuing to use ECOS, you can filter this warning using\n",
      "    Python's ``warnings`` module until you are using 1.6.0.\n",
      "    \n",
      "  warnings.warn(ECOS_DEP_DEPRECATION_MSG, FutureWarning)\n",
      "/opt/anaconda3/lib/python3.12/site-packages/cvxpy/problems/problem.py:1407: UserWarning: Solution may be inaccurate. Try another solver, adjusting the solver settings, or solve with verbose=True for more information.\n",
      "  warnings.warn(\n"
     ]
    },
    {
     "name": "stdout",
     "output_type": "stream",
     "text": [
      "[t=2594 | 2021-12-10] active: ['AAPL', 'ACN', 'ADBE', 'AMAT', 'AMD', 'AMZN', 'AVGO', 'BKNG', 'COST', 'CRM', 'CSCO', 'DIS', 'GOOGL', 'HD', 'IBM', 'INTU', 'KO', 'MCD', 'META', 'MSFT', 'NFLX', 'NOW', 'NVDA', 'ORCL', 'PG', 'PLTR', 'PM', 'QCOM', 'T', 'TSLA', 'TXN', 'VZ', 'WMT']\n"
     ]
    },
    {
     "name": "stderr",
     "output_type": "stream",
     "text": [
      "/opt/anaconda3/lib/python3.12/site-packages/cvxpy/reductions/solvers/solving_chain.py:356: FutureWarning: \n",
      "    You specified your problem should be solved by ECOS. Starting in\n",
      "    CXVPY 1.6.0, ECOS will no longer be installed by default with CVXPY.\n",
      "    Please either add ECOS as an explicit install dependency to your project\n",
      "    or switch to our new default solver, Clarabel, by either not specifying a\n",
      "    solver argument or specifying ``solver=cp.CLARABEL``. To suppress this\n",
      "    warning while continuing to use ECOS, you can filter this warning using\n",
      "    Python's ``warnings`` module until you are using 1.6.0.\n",
      "    \n",
      "  warnings.warn(ECOS_DEP_DEPRECATION_MSG, FutureWarning)\n",
      "/opt/anaconda3/lib/python3.12/site-packages/cvxpy/problems/problem.py:1407: UserWarning: Solution may be inaccurate. Try another solver, adjusting the solver settings, or solve with verbose=True for more information.\n",
      "  warnings.warn(\n"
     ]
    },
    {
     "name": "stdout",
     "output_type": "stream",
     "text": [
      "[t=2598 | 2021-12-16] active: ['AAPL', 'ACN', 'ADBE', 'AMAT', 'AMD', 'AMZN', 'AVGO', 'BKNG', 'COST', 'CRM', 'CSCO', 'DIS', 'GOOGL', 'HD', 'IBM', 'INTU', 'KO', 'MCD', 'META', 'MSFT', 'NFLX', 'NOW', 'NVDA', 'ORCL', 'PG', 'PLTR', 'PM', 'QCOM', 'T', 'TSLA', 'TXN', 'VZ', 'WMT']\n"
     ]
    },
    {
     "name": "stderr",
     "output_type": "stream",
     "text": [
      "/opt/anaconda3/lib/python3.12/site-packages/cvxpy/reductions/solvers/solving_chain.py:356: FutureWarning: \n",
      "    You specified your problem should be solved by ECOS. Starting in\n",
      "    CXVPY 1.6.0, ECOS will no longer be installed by default with CVXPY.\n",
      "    Please either add ECOS as an explicit install dependency to your project\n",
      "    or switch to our new default solver, Clarabel, by either not specifying a\n",
      "    solver argument or specifying ``solver=cp.CLARABEL``. To suppress this\n",
      "    warning while continuing to use ECOS, you can filter this warning using\n",
      "    Python's ``warnings`` module until you are using 1.6.0.\n",
      "    \n",
      "  warnings.warn(ECOS_DEP_DEPRECATION_MSG, FutureWarning)\n",
      "/opt/anaconda3/lib/python3.12/site-packages/cvxpy/problems/problem.py:1407: UserWarning: Solution may be inaccurate. Try another solver, adjusting the solver settings, or solve with verbose=True for more information.\n",
      "  warnings.warn(\n"
     ]
    },
    {
     "name": "stdout",
     "output_type": "stream",
     "text": [
      "[t=2601 | 2021-12-21] active: ['AAPL', 'ACN', 'ADBE', 'AMAT', 'AMD', 'AMZN', 'AVGO', 'BKNG', 'COST', 'CRM', 'CSCO', 'DIS', 'GOOGL', 'HD', 'IBM', 'INTU', 'KO', 'MCD', 'META', 'MSFT', 'NFLX', 'NOW', 'NVDA', 'ORCL', 'PG', 'PLTR', 'PM', 'QCOM', 'T', 'TSLA', 'TXN', 'VZ', 'WMT']\n"
     ]
    },
    {
     "name": "stderr",
     "output_type": "stream",
     "text": [
      "/opt/anaconda3/lib/python3.12/site-packages/cvxpy/reductions/solvers/solving_chain.py:356: FutureWarning: \n",
      "    You specified your problem should be solved by ECOS. Starting in\n",
      "    CXVPY 1.6.0, ECOS will no longer be installed by default with CVXPY.\n",
      "    Please either add ECOS as an explicit install dependency to your project\n",
      "    or switch to our new default solver, Clarabel, by either not specifying a\n",
      "    solver argument or specifying ``solver=cp.CLARABEL``. To suppress this\n",
      "    warning while continuing to use ECOS, you can filter this warning using\n",
      "    Python's ``warnings`` module until you are using 1.6.0.\n",
      "    \n",
      "  warnings.warn(ECOS_DEP_DEPRECATION_MSG, FutureWarning)\n",
      "/opt/anaconda3/lib/python3.12/site-packages/cvxpy/problems/problem.py:1407: UserWarning: Solution may be inaccurate. Try another solver, adjusting the solver settings, or solve with verbose=True for more information.\n",
      "  warnings.warn(\n"
     ]
    },
    {
     "name": "stdout",
     "output_type": "stream",
     "text": [
      "[t=2611 | 2022-01-04] active: ['AAPL', 'ACN', 'ADBE', 'AMAT', 'AMD', 'AMZN', 'AVGO', 'BKNG', 'COST', 'CRM', 'CSCO', 'DIS', 'GOOGL', 'HD', 'IBM', 'INTU', 'KO', 'MCD', 'META', 'MSFT', 'NFLX', 'NOW', 'NVDA', 'ORCL', 'PG', 'PLTR', 'PM', 'QCOM', 'T', 'TSLA', 'TXN', 'VZ', 'WMT']\n"
     ]
    },
    {
     "name": "stderr",
     "output_type": "stream",
     "text": [
      "/opt/anaconda3/lib/python3.12/site-packages/cvxpy/reductions/solvers/solving_chain.py:356: FutureWarning: \n",
      "    You specified your problem should be solved by ECOS. Starting in\n",
      "    CXVPY 1.6.0, ECOS will no longer be installed by default with CVXPY.\n",
      "    Please either add ECOS as an explicit install dependency to your project\n",
      "    or switch to our new default solver, Clarabel, by either not specifying a\n",
      "    solver argument or specifying ``solver=cp.CLARABEL``. To suppress this\n",
      "    warning while continuing to use ECOS, you can filter this warning using\n",
      "    Python's ``warnings`` module until you are using 1.6.0.\n",
      "    \n",
      "  warnings.warn(ECOS_DEP_DEPRECATION_MSG, FutureWarning)\n",
      "/opt/anaconda3/lib/python3.12/site-packages/cvxpy/problems/problem.py:1407: UserWarning: Solution may be inaccurate. Try another solver, adjusting the solver settings, or solve with verbose=True for more information.\n",
      "  warnings.warn(\n"
     ]
    },
    {
     "name": "stdout",
     "output_type": "stream",
     "text": [
      "[t=2612 | 2022-01-05] active: ['AAPL', 'ACN', 'ADBE', 'AMAT', 'AMD', 'AMZN', 'AVGO', 'BKNG', 'COST', 'CRM', 'CSCO', 'DIS', 'GOOGL', 'HD', 'IBM', 'INTU', 'KO', 'MCD', 'META', 'MSFT', 'NFLX', 'NOW', 'NVDA', 'ORCL', 'PG', 'PLTR', 'PM', 'QCOM', 'T', 'TSLA', 'TXN', 'VZ', 'WMT']\n"
     ]
    },
    {
     "name": "stderr",
     "output_type": "stream",
     "text": [
      "/opt/anaconda3/lib/python3.12/site-packages/cvxpy/reductions/solvers/solving_chain.py:356: FutureWarning: \n",
      "    You specified your problem should be solved by ECOS. Starting in\n",
      "    CXVPY 1.6.0, ECOS will no longer be installed by default with CVXPY.\n",
      "    Please either add ECOS as an explicit install dependency to your project\n",
      "    or switch to our new default solver, Clarabel, by either not specifying a\n",
      "    solver argument or specifying ``solver=cp.CLARABEL``. To suppress this\n",
      "    warning while continuing to use ECOS, you can filter this warning using\n",
      "    Python's ``warnings`` module until you are using 1.6.0.\n",
      "    \n",
      "  warnings.warn(ECOS_DEP_DEPRECATION_MSG, FutureWarning)\n",
      "/opt/anaconda3/lib/python3.12/site-packages/cvxpy/problems/problem.py:1407: UserWarning: Solution may be inaccurate. Try another solver, adjusting the solver settings, or solve with verbose=True for more information.\n",
      "  warnings.warn(\n"
     ]
    },
    {
     "name": "stdout",
     "output_type": "stream",
     "text": [
      "[t=2613 | 2022-01-06] active: ['AAPL', 'ACN', 'ADBE', 'AMAT', 'AMD', 'AMZN', 'AVGO', 'BKNG', 'COST', 'CRM', 'CSCO', 'DIS', 'GOOGL', 'HD', 'IBM', 'INTU', 'KO', 'MCD', 'META', 'MSFT', 'NFLX', 'NOW', 'NVDA', 'ORCL', 'PG', 'PLTR', 'PM', 'QCOM', 'T', 'TSLA', 'TXN', 'VZ', 'WMT']\n"
     ]
    },
    {
     "name": "stderr",
     "output_type": "stream",
     "text": [
      "/opt/anaconda3/lib/python3.12/site-packages/cvxpy/reductions/solvers/solving_chain.py:356: FutureWarning: \n",
      "    You specified your problem should be solved by ECOS. Starting in\n",
      "    CXVPY 1.6.0, ECOS will no longer be installed by default with CVXPY.\n",
      "    Please either add ECOS as an explicit install dependency to your project\n",
      "    or switch to our new default solver, Clarabel, by either not specifying a\n",
      "    solver argument or specifying ``solver=cp.CLARABEL``. To suppress this\n",
      "    warning while continuing to use ECOS, you can filter this warning using\n",
      "    Python's ``warnings`` module until you are using 1.6.0.\n",
      "    \n",
      "  warnings.warn(ECOS_DEP_DEPRECATION_MSG, FutureWarning)\n",
      "/opt/anaconda3/lib/python3.12/site-packages/cvxpy/problems/problem.py:1407: UserWarning: Solution may be inaccurate. Try another solver, adjusting the solver settings, or solve with verbose=True for more information.\n",
      "  warnings.warn(\n"
     ]
    },
    {
     "name": "stdout",
     "output_type": "stream",
     "text": [
      "[t=2626 | 2022-01-25] active: ['AAPL', 'ACN', 'ADBE', 'AMAT', 'AMD', 'AMZN', 'AVGO', 'BKNG', 'COST', 'CRM', 'CSCO', 'DIS', 'GOOGL', 'HD', 'IBM', 'INTU', 'KO', 'MCD', 'META', 'MSFT', 'NFLX', 'NOW', 'NVDA', 'ORCL', 'PG', 'PLTR', 'PM', 'QCOM', 'T', 'TSLA', 'TXN', 'VZ', 'WMT']\n"
     ]
    },
    {
     "name": "stderr",
     "output_type": "stream",
     "text": [
      "/opt/anaconda3/lib/python3.12/site-packages/cvxpy/reductions/solvers/solving_chain.py:356: FutureWarning: \n",
      "    You specified your problem should be solved by ECOS. Starting in\n",
      "    CXVPY 1.6.0, ECOS will no longer be installed by default with CVXPY.\n",
      "    Please either add ECOS as an explicit install dependency to your project\n",
      "    or switch to our new default solver, Clarabel, by either not specifying a\n",
      "    solver argument or specifying ``solver=cp.CLARABEL``. To suppress this\n",
      "    warning while continuing to use ECOS, you can filter this warning using\n",
      "    Python's ``warnings`` module until you are using 1.6.0.\n",
      "    \n",
      "  warnings.warn(ECOS_DEP_DEPRECATION_MSG, FutureWarning)\n",
      "/opt/anaconda3/lib/python3.12/site-packages/cvxpy/problems/problem.py:1407: UserWarning: Solution may be inaccurate. Try another solver, adjusting the solver settings, or solve with verbose=True for more information.\n",
      "  warnings.warn(\n"
     ]
    },
    {
     "name": "stdout",
     "output_type": "stream",
     "text": [
      "[t=2627 | 2022-01-26] active: ['AAPL', 'ACN', 'ADBE', 'AMAT', 'AMD', 'AMZN', 'AVGO', 'BKNG', 'COST', 'CRM', 'CSCO', 'DIS', 'GOOGL', 'HD', 'IBM', 'INTU', 'KO', 'MCD', 'META', 'MSFT', 'NFLX', 'NOW', 'NVDA', 'ORCL', 'PG', 'PLTR', 'PM', 'QCOM', 'T', 'TSLA', 'TXN', 'VZ', 'WMT']\n"
     ]
    },
    {
     "name": "stderr",
     "output_type": "stream",
     "text": [
      "/opt/anaconda3/lib/python3.12/site-packages/cvxpy/reductions/solvers/solving_chain.py:356: FutureWarning: \n",
      "    You specified your problem should be solved by ECOS. Starting in\n",
      "    CXVPY 1.6.0, ECOS will no longer be installed by default with CVXPY.\n",
      "    Please either add ECOS as an explicit install dependency to your project\n",
      "    or switch to our new default solver, Clarabel, by either not specifying a\n",
      "    solver argument or specifying ``solver=cp.CLARABEL``. To suppress this\n",
      "    warning while continuing to use ECOS, you can filter this warning using\n",
      "    Python's ``warnings`` module until you are using 1.6.0.\n",
      "    \n",
      "  warnings.warn(ECOS_DEP_DEPRECATION_MSG, FutureWarning)\n",
      "/opt/anaconda3/lib/python3.12/site-packages/cvxpy/problems/problem.py:1407: UserWarning: Solution may be inaccurate. Try another solver, adjusting the solver settings, or solve with verbose=True for more information.\n",
      "  warnings.warn(\n"
     ]
    },
    {
     "name": "stdout",
     "output_type": "stream",
     "text": [
      "[t=2629 | 2022-01-28] active: ['AAPL', 'ACN', 'ADBE', 'AMAT', 'AMD', 'AMZN', 'AVGO', 'BKNG', 'COST', 'CRM', 'CSCO', 'DIS', 'GOOGL', 'HD', 'IBM', 'INTU', 'KO', 'MCD', 'META', 'MSFT', 'NFLX', 'NOW', 'NVDA', 'ORCL', 'PG', 'PLTR', 'PM', 'QCOM', 'T', 'TSLA', 'TXN', 'VZ', 'WMT']\n"
     ]
    },
    {
     "name": "stderr",
     "output_type": "stream",
     "text": [
      "/opt/anaconda3/lib/python3.12/site-packages/cvxpy/reductions/solvers/solving_chain.py:356: FutureWarning: \n",
      "    You specified your problem should be solved by ECOS. Starting in\n",
      "    CXVPY 1.6.0, ECOS will no longer be installed by default with CVXPY.\n",
      "    Please either add ECOS as an explicit install dependency to your project\n",
      "    or switch to our new default solver, Clarabel, by either not specifying a\n",
      "    solver argument or specifying ``solver=cp.CLARABEL``. To suppress this\n",
      "    warning while continuing to use ECOS, you can filter this warning using\n",
      "    Python's ``warnings`` module until you are using 1.6.0.\n",
      "    \n",
      "  warnings.warn(ECOS_DEP_DEPRECATION_MSG, FutureWarning)\n",
      "/opt/anaconda3/lib/python3.12/site-packages/cvxpy/problems/problem.py:1407: UserWarning: Solution may be inaccurate. Try another solver, adjusting the solver settings, or solve with verbose=True for more information.\n",
      "  warnings.warn(\n"
     ]
    },
    {
     "name": "stdout",
     "output_type": "stream",
     "text": [
      "[t=2630 | 2022-01-31] active: ['AAPL', 'ACN', 'ADBE', 'AMAT', 'AMD', 'AMZN', 'AVGO', 'BKNG', 'COST', 'CRM', 'CSCO', 'DIS', 'GOOGL', 'HD', 'IBM', 'INTU', 'KO', 'MCD', 'META', 'MSFT', 'NFLX', 'NOW', 'NVDA', 'ORCL', 'PG', 'PLTR', 'PM', 'QCOM', 'T', 'TSLA', 'TXN', 'VZ', 'WMT']\n"
     ]
    },
    {
     "name": "stderr",
     "output_type": "stream",
     "text": [
      "/opt/anaconda3/lib/python3.12/site-packages/cvxpy/reductions/solvers/solving_chain.py:356: FutureWarning: \n",
      "    You specified your problem should be solved by ECOS. Starting in\n",
      "    CXVPY 1.6.0, ECOS will no longer be installed by default with CVXPY.\n",
      "    Please either add ECOS as an explicit install dependency to your project\n",
      "    or switch to our new default solver, Clarabel, by either not specifying a\n",
      "    solver argument or specifying ``solver=cp.CLARABEL``. To suppress this\n",
      "    warning while continuing to use ECOS, you can filter this warning using\n",
      "    Python's ``warnings`` module until you are using 1.6.0.\n",
      "    \n",
      "  warnings.warn(ECOS_DEP_DEPRECATION_MSG, FutureWarning)\n",
      "/opt/anaconda3/lib/python3.12/site-packages/cvxpy/problems/problem.py:1407: UserWarning: Solution may be inaccurate. Try another solver, adjusting the solver settings, or solve with verbose=True for more information.\n",
      "  warnings.warn(\n"
     ]
    },
    {
     "name": "stdout",
     "output_type": "stream",
     "text": [
      "[t=2632 | 2022-02-02] active: ['AAPL', 'ACN', 'ADBE', 'AMAT', 'AMD', 'AMZN', 'AVGO', 'BKNG', 'COST', 'CRM', 'CSCO', 'DIS', 'GOOGL', 'HD', 'IBM', 'INTU', 'KO', 'MCD', 'META', 'MSFT', 'NFLX', 'NOW', 'NVDA', 'ORCL', 'PG', 'PLTR', 'PM', 'QCOM', 'T', 'TSLA', 'TXN', 'VZ', 'WMT']\n"
     ]
    },
    {
     "name": "stderr",
     "output_type": "stream",
     "text": [
      "/opt/anaconda3/lib/python3.12/site-packages/cvxpy/reductions/solvers/solving_chain.py:356: FutureWarning: \n",
      "    You specified your problem should be solved by ECOS. Starting in\n",
      "    CXVPY 1.6.0, ECOS will no longer be installed by default with CVXPY.\n",
      "    Please either add ECOS as an explicit install dependency to your project\n",
      "    or switch to our new default solver, Clarabel, by either not specifying a\n",
      "    solver argument or specifying ``solver=cp.CLARABEL``. To suppress this\n",
      "    warning while continuing to use ECOS, you can filter this warning using\n",
      "    Python's ``warnings`` module until you are using 1.6.0.\n",
      "    \n",
      "  warnings.warn(ECOS_DEP_DEPRECATION_MSG, FutureWarning)\n",
      "/opt/anaconda3/lib/python3.12/site-packages/cvxpy/problems/problem.py:1407: UserWarning: Solution may be inaccurate. Try another solver, adjusting the solver settings, or solve with verbose=True for more information.\n",
      "  warnings.warn(\n"
     ]
    },
    {
     "name": "stdout",
     "output_type": "stream",
     "text": [
      "[t=2633 | 2022-02-03] active: ['AAPL', 'ACN', 'ADBE', 'AMAT', 'AMD', 'AMZN', 'AVGO', 'BKNG', 'COST', 'CRM', 'CSCO', 'DIS', 'GOOGL', 'HD', 'IBM', 'INTU', 'KO', 'MCD', 'META', 'MSFT', 'NFLX', 'NOW', 'NVDA', 'ORCL', 'PG', 'PLTR', 'PM', 'QCOM', 'T', 'TSLA', 'TXN', 'VZ', 'WMT']\n"
     ]
    },
    {
     "name": "stderr",
     "output_type": "stream",
     "text": [
      "/opt/anaconda3/lib/python3.12/site-packages/cvxpy/reductions/solvers/solving_chain.py:356: FutureWarning: \n",
      "    You specified your problem should be solved by ECOS. Starting in\n",
      "    CXVPY 1.6.0, ECOS will no longer be installed by default with CVXPY.\n",
      "    Please either add ECOS as an explicit install dependency to your project\n",
      "    or switch to our new default solver, Clarabel, by either not specifying a\n",
      "    solver argument or specifying ``solver=cp.CLARABEL``. To suppress this\n",
      "    warning while continuing to use ECOS, you can filter this warning using\n",
      "    Python's ``warnings`` module until you are using 1.6.0.\n",
      "    \n",
      "  warnings.warn(ECOS_DEP_DEPRECATION_MSG, FutureWarning)\n",
      "/opt/anaconda3/lib/python3.12/site-packages/cvxpy/problems/problem.py:1407: UserWarning: Solution may be inaccurate. Try another solver, adjusting the solver settings, or solve with verbose=True for more information.\n",
      "  warnings.warn(\n"
     ]
    },
    {
     "name": "stdout",
     "output_type": "stream",
     "text": [
      "[t=2634 | 2022-02-04] active: ['AAPL', 'ACN', 'ADBE', 'AMAT', 'AMD', 'AMZN', 'AVGO', 'BKNG', 'COST', 'CRM', 'CSCO', 'DIS', 'GOOGL', 'HD', 'IBM', 'INTU', 'KO', 'MCD', 'META', 'MSFT', 'NFLX', 'NOW', 'NVDA', 'ORCL', 'PG', 'PLTR', 'PM', 'QCOM', 'T', 'TSLA', 'TXN', 'VZ', 'WMT']\n"
     ]
    },
    {
     "name": "stderr",
     "output_type": "stream",
     "text": [
      "/opt/anaconda3/lib/python3.12/site-packages/cvxpy/reductions/solvers/solving_chain.py:356: FutureWarning: \n",
      "    You specified your problem should be solved by ECOS. Starting in\n",
      "    CXVPY 1.6.0, ECOS will no longer be installed by default with CVXPY.\n",
      "    Please either add ECOS as an explicit install dependency to your project\n",
      "    or switch to our new default solver, Clarabel, by either not specifying a\n",
      "    solver argument or specifying ``solver=cp.CLARABEL``. To suppress this\n",
      "    warning while continuing to use ECOS, you can filter this warning using\n",
      "    Python's ``warnings`` module until you are using 1.6.0.\n",
      "    \n",
      "  warnings.warn(ECOS_DEP_DEPRECATION_MSG, FutureWarning)\n",
      "/opt/anaconda3/lib/python3.12/site-packages/cvxpy/problems/problem.py:1407: UserWarning: Solution may be inaccurate. Try another solver, adjusting the solver settings, or solve with verbose=True for more information.\n",
      "  warnings.warn(\n"
     ]
    },
    {
     "name": "stdout",
     "output_type": "stream",
     "text": [
      "[t=2638 | 2022-02-10] active: ['AAPL', 'ACN', 'ADBE', 'AMAT', 'AMD', 'AMZN', 'AVGO', 'BKNG', 'COST', 'CRM', 'CSCO', 'DIS', 'GOOGL', 'HD', 'IBM', 'INTU', 'KO', 'MCD', 'META', 'MSFT', 'NFLX', 'NOW', 'NVDA', 'ORCL', 'PG', 'PLTR', 'PM', 'QCOM', 'T', 'TSLA', 'TXN', 'VZ', 'WMT']\n"
     ]
    },
    {
     "name": "stderr",
     "output_type": "stream",
     "text": [
      "/opt/anaconda3/lib/python3.12/site-packages/cvxpy/reductions/solvers/solving_chain.py:356: FutureWarning: \n",
      "    You specified your problem should be solved by ECOS. Starting in\n",
      "    CXVPY 1.6.0, ECOS will no longer be installed by default with CVXPY.\n",
      "    Please either add ECOS as an explicit install dependency to your project\n",
      "    or switch to our new default solver, Clarabel, by either not specifying a\n",
      "    solver argument or specifying ``solver=cp.CLARABEL``. To suppress this\n",
      "    warning while continuing to use ECOS, you can filter this warning using\n",
      "    Python's ``warnings`` module until you are using 1.6.0.\n",
      "    \n",
      "  warnings.warn(ECOS_DEP_DEPRECATION_MSG, FutureWarning)\n",
      "/opt/anaconda3/lib/python3.12/site-packages/cvxpy/problems/problem.py:1407: UserWarning: Solution may be inaccurate. Try another solver, adjusting the solver settings, or solve with verbose=True for more information.\n",
      "  warnings.warn(\n"
     ]
    },
    {
     "name": "stdout",
     "output_type": "stream",
     "text": [
      "[t=2639 | 2022-02-11] active: ['AAPL', 'ACN', 'ADBE', 'AMAT', 'AMD', 'AMZN', 'AVGO', 'BKNG', 'COST', 'CRM', 'CSCO', 'DIS', 'GOOGL', 'HD', 'IBM', 'INTU', 'KO', 'MCD', 'META', 'MSFT', 'NFLX', 'NOW', 'NVDA', 'ORCL', 'PG', 'PLTR', 'PM', 'QCOM', 'T', 'TSLA', 'TXN', 'VZ', 'WMT']\n"
     ]
    },
    {
     "name": "stderr",
     "output_type": "stream",
     "text": [
      "/opt/anaconda3/lib/python3.12/site-packages/cvxpy/reductions/solvers/solving_chain.py:356: FutureWarning: \n",
      "    You specified your problem should be solved by ECOS. Starting in\n",
      "    CXVPY 1.6.0, ECOS will no longer be installed by default with CVXPY.\n",
      "    Please either add ECOS as an explicit install dependency to your project\n",
      "    or switch to our new default solver, Clarabel, by either not specifying a\n",
      "    solver argument or specifying ``solver=cp.CLARABEL``. To suppress this\n",
      "    warning while continuing to use ECOS, you can filter this warning using\n",
      "    Python's ``warnings`` module until you are using 1.6.0.\n",
      "    \n",
      "  warnings.warn(ECOS_DEP_DEPRECATION_MSG, FutureWarning)\n",
      "/opt/anaconda3/lib/python3.12/site-packages/cvxpy/problems/problem.py:1407: UserWarning: Solution may be inaccurate. Try another solver, adjusting the solver settings, or solve with verbose=True for more information.\n",
      "  warnings.warn(\n"
     ]
    },
    {
     "name": "stdout",
     "output_type": "stream",
     "text": [
      "[t=2648 | 2022-02-24] active: ['AAPL', 'ACN', 'ADBE', 'AMAT', 'AMD', 'AMZN', 'AVGO', 'BKNG', 'COST', 'CRM', 'CSCO', 'DIS', 'GOOGL', 'HD', 'IBM', 'INTU', 'KO', 'MCD', 'META', 'MSFT', 'NFLX', 'NOW', 'NVDA', 'ORCL', 'PG', 'PLTR', 'PM', 'QCOM', 'T', 'TSLA', 'TXN', 'VZ', 'WMT']\n"
     ]
    },
    {
     "name": "stderr",
     "output_type": "stream",
     "text": [
      "/opt/anaconda3/lib/python3.12/site-packages/cvxpy/reductions/solvers/solving_chain.py:356: FutureWarning: \n",
      "    You specified your problem should be solved by ECOS. Starting in\n",
      "    CXVPY 1.6.0, ECOS will no longer be installed by default with CVXPY.\n",
      "    Please either add ECOS as an explicit install dependency to your project\n",
      "    or switch to our new default solver, Clarabel, by either not specifying a\n",
      "    solver argument or specifying ``solver=cp.CLARABEL``. To suppress this\n",
      "    warning while continuing to use ECOS, you can filter this warning using\n",
      "    Python's ``warnings`` module until you are using 1.6.0.\n",
      "    \n",
      "  warnings.warn(ECOS_DEP_DEPRECATION_MSG, FutureWarning)\n",
      "/opt/anaconda3/lib/python3.12/site-packages/cvxpy/problems/problem.py:1407: UserWarning: Solution may be inaccurate. Try another solver, adjusting the solver settings, or solve with verbose=True for more information.\n",
      "  warnings.warn(\n"
     ]
    },
    {
     "name": "stdout",
     "output_type": "stream",
     "text": [
      "[t=2650 | 2022-02-28] active: ['AAPL', 'ACN', 'ADBE', 'AMAT', 'AMD', 'AMZN', 'AVGO', 'BKNG', 'COST', 'CRM', 'CSCO', 'DIS', 'GOOGL', 'HD', 'IBM', 'INTU', 'KO', 'MCD', 'META', 'MSFT', 'NFLX', 'NOW', 'NVDA', 'ORCL', 'PG', 'PLTR', 'PM', 'QCOM', 'T', 'TSLA', 'TXN', 'VZ', 'WMT']\n"
     ]
    },
    {
     "name": "stderr",
     "output_type": "stream",
     "text": [
      "/opt/anaconda3/lib/python3.12/site-packages/cvxpy/reductions/solvers/solving_chain.py:356: FutureWarning: \n",
      "    You specified your problem should be solved by ECOS. Starting in\n",
      "    CXVPY 1.6.0, ECOS will no longer be installed by default with CVXPY.\n",
      "    Please either add ECOS as an explicit install dependency to your project\n",
      "    or switch to our new default solver, Clarabel, by either not specifying a\n",
      "    solver argument or specifying ``solver=cp.CLARABEL``. To suppress this\n",
      "    warning while continuing to use ECOS, you can filter this warning using\n",
      "    Python's ``warnings`` module until you are using 1.6.0.\n",
      "    \n",
      "  warnings.warn(ECOS_DEP_DEPRECATION_MSG, FutureWarning)\n",
      "/opt/anaconda3/lib/python3.12/site-packages/cvxpy/problems/problem.py:1407: UserWarning: Solution may be inaccurate. Try another solver, adjusting the solver settings, or solve with verbose=True for more information.\n",
      "  warnings.warn(\n"
     ]
    },
    {
     "name": "stdout",
     "output_type": "stream",
     "text": [
      "[t=2654 | 2022-03-04] active: ['AAPL', 'ACN', 'ADBE', 'AMAT', 'AMD', 'AMZN', 'AVGO', 'BKNG', 'COST', 'CRM', 'CSCO', 'DIS', 'GOOGL', 'HD', 'IBM', 'INTU', 'KO', 'MCD', 'META', 'MSFT', 'NFLX', 'NOW', 'NVDA', 'ORCL', 'PG', 'PLTR', 'PM', 'QCOM', 'T', 'TSLA', 'TXN', 'VZ', 'WMT']\n"
     ]
    },
    {
     "name": "stderr",
     "output_type": "stream",
     "text": [
      "/opt/anaconda3/lib/python3.12/site-packages/cvxpy/reductions/solvers/solving_chain.py:356: FutureWarning: \n",
      "    You specified your problem should be solved by ECOS. Starting in\n",
      "    CXVPY 1.6.0, ECOS will no longer be installed by default with CVXPY.\n",
      "    Please either add ECOS as an explicit install dependency to your project\n",
      "    or switch to our new default solver, Clarabel, by either not specifying a\n",
      "    solver argument or specifying ``solver=cp.CLARABEL``. To suppress this\n",
      "    warning while continuing to use ECOS, you can filter this warning using\n",
      "    Python's ``warnings`` module until you are using 1.6.0.\n",
      "    \n",
      "  warnings.warn(ECOS_DEP_DEPRECATION_MSG, FutureWarning)\n",
      "/opt/anaconda3/lib/python3.12/site-packages/cvxpy/problems/problem.py:1407: UserWarning: Solution may be inaccurate. Try another solver, adjusting the solver settings, or solve with verbose=True for more information.\n",
      "  warnings.warn(\n"
     ]
    },
    {
     "name": "stdout",
     "output_type": "stream",
     "text": [
      "[t=2655 | 2022-03-07] active: ['AAPL', 'ACN', 'ADBE', 'AMAT', 'AMD', 'AMZN', 'AVGO', 'BKNG', 'COST', 'CRM', 'CSCO', 'DIS', 'GOOGL', 'HD', 'IBM', 'INTU', 'KO', 'MCD', 'META', 'MSFT', 'NFLX', 'NOW', 'NVDA', 'ORCL', 'PG', 'PLTR', 'PM', 'QCOM', 'T', 'TSLA', 'TXN', 'VZ', 'WMT']\n"
     ]
    },
    {
     "name": "stderr",
     "output_type": "stream",
     "text": [
      "/opt/anaconda3/lib/python3.12/site-packages/cvxpy/reductions/solvers/solving_chain.py:356: FutureWarning: \n",
      "    You specified your problem should be solved by ECOS. Starting in\n",
      "    CXVPY 1.6.0, ECOS will no longer be installed by default with CVXPY.\n",
      "    Please either add ECOS as an explicit install dependency to your project\n",
      "    or switch to our new default solver, Clarabel, by either not specifying a\n",
      "    solver argument or specifying ``solver=cp.CLARABEL``. To suppress this\n",
      "    warning while continuing to use ECOS, you can filter this warning using\n",
      "    Python's ``warnings`` module until you are using 1.6.0.\n",
      "    \n",
      "  warnings.warn(ECOS_DEP_DEPRECATION_MSG, FutureWarning)\n",
      "/opt/anaconda3/lib/python3.12/site-packages/cvxpy/problems/problem.py:1407: UserWarning: Solution may be inaccurate. Try another solver, adjusting the solver settings, or solve with verbose=True for more information.\n",
      "  warnings.warn(\n"
     ]
    },
    {
     "name": "stdout",
     "output_type": "stream",
     "text": [
      "[t=2656 | 2022-03-08] active: ['AAPL', 'ACN', 'ADBE', 'AMAT', 'AMD', 'AMZN', 'AVGO', 'BKNG', 'COST', 'CRM', 'CSCO', 'DIS', 'GOOGL', 'HD', 'IBM', 'INTU', 'KO', 'MCD', 'META', 'MSFT', 'NFLX', 'NOW', 'NVDA', 'ORCL', 'PG', 'PLTR', 'PM', 'QCOM', 'T', 'TSLA', 'TXN', 'VZ', 'WMT']\n"
     ]
    },
    {
     "name": "stderr",
     "output_type": "stream",
     "text": [
      "/opt/anaconda3/lib/python3.12/site-packages/cvxpy/reductions/solvers/solving_chain.py:356: FutureWarning: \n",
      "    You specified your problem should be solved by ECOS. Starting in\n",
      "    CXVPY 1.6.0, ECOS will no longer be installed by default with CVXPY.\n",
      "    Please either add ECOS as an explicit install dependency to your project\n",
      "    or switch to our new default solver, Clarabel, by either not specifying a\n",
      "    solver argument or specifying ``solver=cp.CLARABEL``. To suppress this\n",
      "    warning while continuing to use ECOS, you can filter this warning using\n",
      "    Python's ``warnings`` module until you are using 1.6.0.\n",
      "    \n",
      "  warnings.warn(ECOS_DEP_DEPRECATION_MSG, FutureWarning)\n",
      "/opt/anaconda3/lib/python3.12/site-packages/cvxpy/problems/problem.py:1407: UserWarning: Solution may be inaccurate. Try another solver, adjusting the solver settings, or solve with verbose=True for more information.\n",
      "  warnings.warn(\n"
     ]
    },
    {
     "name": "stdout",
     "output_type": "stream",
     "text": [
      "[t=2657 | 2022-03-09] active: ['AAPL', 'ACN', 'ADBE', 'AMAT', 'AMD', 'AMZN', 'AVGO', 'BKNG', 'COST', 'CRM', 'CSCO', 'DIS', 'GOOGL', 'HD', 'IBM', 'INTU', 'KO', 'MCD', 'META', 'MSFT', 'NFLX', 'NOW', 'NVDA', 'ORCL', 'PG', 'PLTR', 'PM', 'QCOM', 'T', 'TSLA', 'TXN', 'VZ', 'WMT']\n"
     ]
    },
    {
     "name": "stderr",
     "output_type": "stream",
     "text": [
      "/opt/anaconda3/lib/python3.12/site-packages/cvxpy/reductions/solvers/solving_chain.py:356: FutureWarning: \n",
      "    You specified your problem should be solved by ECOS. Starting in\n",
      "    CXVPY 1.6.0, ECOS will no longer be installed by default with CVXPY.\n",
      "    Please either add ECOS as an explicit install dependency to your project\n",
      "    or switch to our new default solver, Clarabel, by either not specifying a\n",
      "    solver argument or specifying ``solver=cp.CLARABEL``. To suppress this\n",
      "    warning while continuing to use ECOS, you can filter this warning using\n",
      "    Python's ``warnings`` module until you are using 1.6.0.\n",
      "    \n",
      "  warnings.warn(ECOS_DEP_DEPRECATION_MSG, FutureWarning)\n",
      "/opt/anaconda3/lib/python3.12/site-packages/cvxpy/problems/problem.py:1407: UserWarning: Solution may be inaccurate. Try another solver, adjusting the solver settings, or solve with verbose=True for more information.\n",
      "  warnings.warn(\n"
     ]
    },
    {
     "name": "stdout",
     "output_type": "stream",
     "text": [
      "[t=2659 | 2022-03-11] active: ['AAPL', 'ACN', 'ADBE', 'AMAT', 'AMD', 'AMZN', 'AVGO', 'BKNG', 'COST', 'CRM', 'CSCO', 'DIS', 'GOOGL', 'HD', 'IBM', 'INTU', 'KO', 'MCD', 'META', 'MSFT', 'NFLX', 'NOW', 'NVDA', 'ORCL', 'PG', 'PLTR', 'PM', 'QCOM', 'T', 'TSLA', 'TXN', 'VZ', 'WMT']\n"
     ]
    },
    {
     "name": "stderr",
     "output_type": "stream",
     "text": [
      "/opt/anaconda3/lib/python3.12/site-packages/cvxpy/reductions/solvers/solving_chain.py:356: FutureWarning: \n",
      "    You specified your problem should be solved by ECOS. Starting in\n",
      "    CXVPY 1.6.0, ECOS will no longer be installed by default with CVXPY.\n",
      "    Please either add ECOS as an explicit install dependency to your project\n",
      "    or switch to our new default solver, Clarabel, by either not specifying a\n",
      "    solver argument or specifying ``solver=cp.CLARABEL``. To suppress this\n",
      "    warning while continuing to use ECOS, you can filter this warning using\n",
      "    Python's ``warnings`` module until you are using 1.6.0.\n",
      "    \n",
      "  warnings.warn(ECOS_DEP_DEPRECATION_MSG, FutureWarning)\n",
      "/opt/anaconda3/lib/python3.12/site-packages/cvxpy/problems/problem.py:1407: UserWarning: Solution may be inaccurate. Try another solver, adjusting the solver settings, or solve with verbose=True for more information.\n",
      "  warnings.warn(\n"
     ]
    },
    {
     "name": "stdout",
     "output_type": "stream",
     "text": [
      "[t=2661 | 2022-03-15] active: ['AAPL', 'ACN', 'ADBE', 'AMAT', 'AMD', 'AMZN', 'AVGO', 'BKNG', 'COST', 'CRM', 'CSCO', 'DIS', 'GOOGL', 'HD', 'IBM', 'INTU', 'KO', 'MCD', 'META', 'MSFT', 'NFLX', 'NOW', 'NVDA', 'ORCL', 'PG', 'PLTR', 'PM', 'QCOM', 'T', 'TSLA', 'TXN', 'VZ', 'WMT']\n"
     ]
    },
    {
     "name": "stderr",
     "output_type": "stream",
     "text": [
      "/opt/anaconda3/lib/python3.12/site-packages/cvxpy/reductions/solvers/solving_chain.py:356: FutureWarning: \n",
      "    You specified your problem should be solved by ECOS. Starting in\n",
      "    CXVPY 1.6.0, ECOS will no longer be installed by default with CVXPY.\n",
      "    Please either add ECOS as an explicit install dependency to your project\n",
      "    or switch to our new default solver, Clarabel, by either not specifying a\n",
      "    solver argument or specifying ``solver=cp.CLARABEL``. To suppress this\n",
      "    warning while continuing to use ECOS, you can filter this warning using\n",
      "    Python's ``warnings`` module until you are using 1.6.0.\n",
      "    \n",
      "  warnings.warn(ECOS_DEP_DEPRECATION_MSG, FutureWarning)\n",
      "/opt/anaconda3/lib/python3.12/site-packages/cvxpy/problems/problem.py:1407: UserWarning: Solution may be inaccurate. Try another solver, adjusting the solver settings, or solve with verbose=True for more information.\n",
      "  warnings.warn(\n"
     ]
    },
    {
     "name": "stdout",
     "output_type": "stream",
     "text": [
      "[t=2662 | 2022-03-16] active: ['AAPL', 'ACN', 'ADBE', 'AMAT', 'AMD', 'AMZN', 'AVGO', 'BKNG', 'COST', 'CRM', 'CSCO', 'DIS', 'GOOGL', 'HD', 'IBM', 'INTU', 'KO', 'MCD', 'META', 'MSFT', 'NFLX', 'NOW', 'NVDA', 'ORCL', 'PG', 'PLTR', 'PM', 'QCOM', 'T', 'TSLA', 'TXN', 'VZ', 'WMT']\n"
     ]
    },
    {
     "name": "stderr",
     "output_type": "stream",
     "text": [
      "/opt/anaconda3/lib/python3.12/site-packages/cvxpy/reductions/solvers/solving_chain.py:356: FutureWarning: \n",
      "    You specified your problem should be solved by ECOS. Starting in\n",
      "    CXVPY 1.6.0, ECOS will no longer be installed by default with CVXPY.\n",
      "    Please either add ECOS as an explicit install dependency to your project\n",
      "    or switch to our new default solver, Clarabel, by either not specifying a\n",
      "    solver argument or specifying ``solver=cp.CLARABEL``. To suppress this\n",
      "    warning while continuing to use ECOS, you can filter this warning using\n",
      "    Python's ``warnings`` module until you are using 1.6.0.\n",
      "    \n",
      "  warnings.warn(ECOS_DEP_DEPRECATION_MSG, FutureWarning)\n",
      "/opt/anaconda3/lib/python3.12/site-packages/cvxpy/problems/problem.py:1407: UserWarning: Solution may be inaccurate. Try another solver, adjusting the solver settings, or solve with verbose=True for more information.\n",
      "  warnings.warn(\n"
     ]
    },
    {
     "name": "stdout",
     "output_type": "stream",
     "text": [
      "[t=2665 | 2022-03-21] active: ['AAPL', 'ACN', 'ADBE', 'AMAT', 'AMD', 'AMZN', 'AVGO', 'BKNG', 'COST', 'CRM', 'CSCO', 'DIS', 'GOOGL', 'HD', 'IBM', 'INTU', 'KO', 'MCD', 'META', 'MSFT', 'NFLX', 'NOW', 'NVDA', 'ORCL', 'PG', 'PLTR', 'PM', 'QCOM', 'T', 'TSLA', 'TXN', 'VZ', 'WMT']\n"
     ]
    },
    {
     "name": "stderr",
     "output_type": "stream",
     "text": [
      "/opt/anaconda3/lib/python3.12/site-packages/cvxpy/reductions/solvers/solving_chain.py:356: FutureWarning: \n",
      "    You specified your problem should be solved by ECOS. Starting in\n",
      "    CXVPY 1.6.0, ECOS will no longer be installed by default with CVXPY.\n",
      "    Please either add ECOS as an explicit install dependency to your project\n",
      "    or switch to our new default solver, Clarabel, by either not specifying a\n",
      "    solver argument or specifying ``solver=cp.CLARABEL``. To suppress this\n",
      "    warning while continuing to use ECOS, you can filter this warning using\n",
      "    Python's ``warnings`` module until you are using 1.6.0.\n",
      "    \n",
      "  warnings.warn(ECOS_DEP_DEPRECATION_MSG, FutureWarning)\n",
      "/opt/anaconda3/lib/python3.12/site-packages/cvxpy/problems/problem.py:1407: UserWarning: Solution may be inaccurate. Try another solver, adjusting the solver settings, or solve with verbose=True for more information.\n",
      "  warnings.warn(\n"
     ]
    },
    {
     "name": "stdout",
     "output_type": "stream",
     "text": [
      "[t=2666 | 2022-03-22] active: ['AAPL', 'ACN', 'ADBE', 'AMAT', 'AMD', 'AMZN', 'AVGO', 'BKNG', 'COST', 'CRM', 'CSCO', 'DIS', 'GOOGL', 'HD', 'IBM', 'INTU', 'KO', 'MCD', 'META', 'MSFT', 'NFLX', 'NOW', 'NVDA', 'ORCL', 'PG', 'PLTR', 'PM', 'QCOM', 'T', 'TSLA', 'TXN', 'VZ', 'WMT']\n"
     ]
    },
    {
     "name": "stderr",
     "output_type": "stream",
     "text": [
      "/opt/anaconda3/lib/python3.12/site-packages/cvxpy/reductions/solvers/solving_chain.py:356: FutureWarning: \n",
      "    You specified your problem should be solved by ECOS. Starting in\n",
      "    CXVPY 1.6.0, ECOS will no longer be installed by default with CVXPY.\n",
      "    Please either add ECOS as an explicit install dependency to your project\n",
      "    or switch to our new default solver, Clarabel, by either not specifying a\n",
      "    solver argument or specifying ``solver=cp.CLARABEL``. To suppress this\n",
      "    warning while continuing to use ECOS, you can filter this warning using\n",
      "    Python's ``warnings`` module until you are using 1.6.0.\n",
      "    \n",
      "  warnings.warn(ECOS_DEP_DEPRECATION_MSG, FutureWarning)\n",
      "/opt/anaconda3/lib/python3.12/site-packages/cvxpy/problems/problem.py:1407: UserWarning: Solution may be inaccurate. Try another solver, adjusting the solver settings, or solve with verbose=True for more information.\n",
      "  warnings.warn(\n"
     ]
    },
    {
     "name": "stdout",
     "output_type": "stream",
     "text": [
      "[t=2677 | 2022-04-06] active: ['AAPL', 'ACN', 'ADBE', 'AMAT', 'AMD', 'AMZN', 'AVGO', 'BKNG', 'COST', 'CRM', 'CSCO', 'DIS', 'GOOGL', 'HD', 'IBM', 'INTU', 'KO', 'MCD', 'META', 'MSFT', 'NFLX', 'NOW', 'NVDA', 'ORCL', 'PG', 'PLTR', 'PM', 'QCOM', 'T', 'TSLA', 'TXN', 'VZ', 'WMT']\n"
     ]
    },
    {
     "name": "stderr",
     "output_type": "stream",
     "text": [
      "/opt/anaconda3/lib/python3.12/site-packages/cvxpy/reductions/solvers/solving_chain.py:356: FutureWarning: \n",
      "    You specified your problem should be solved by ECOS. Starting in\n",
      "    CXVPY 1.6.0, ECOS will no longer be installed by default with CVXPY.\n",
      "    Please either add ECOS as an explicit install dependency to your project\n",
      "    or switch to our new default solver, Clarabel, by either not specifying a\n",
      "    solver argument or specifying ``solver=cp.CLARABEL``. To suppress this\n",
      "    warning while continuing to use ECOS, you can filter this warning using\n",
      "    Python's ``warnings`` module until you are using 1.6.0.\n",
      "    \n",
      "  warnings.warn(ECOS_DEP_DEPRECATION_MSG, FutureWarning)\n",
      "/opt/anaconda3/lib/python3.12/site-packages/cvxpy/problems/problem.py:1407: UserWarning: Solution may be inaccurate. Try another solver, adjusting the solver settings, or solve with verbose=True for more information.\n",
      "  warnings.warn(\n"
     ]
    },
    {
     "name": "stdout",
     "output_type": "stream",
     "text": [
      "[t=2687 | 2022-04-20] active: ['AAPL', 'ACN', 'ADBE', 'AMAT', 'AMD', 'AMZN', 'AVGO', 'BKNG', 'COST', 'CRM', 'CSCO', 'DIS', 'GOOGL', 'HD', 'IBM', 'INTU', 'KO', 'MCD', 'META', 'MSFT', 'NFLX', 'NOW', 'NVDA', 'ORCL', 'PG', 'PLTR', 'PM', 'QCOM', 'T', 'TSLA', 'TXN', 'VZ', 'WMT']\n"
     ]
    },
    {
     "name": "stderr",
     "output_type": "stream",
     "text": [
      "/opt/anaconda3/lib/python3.12/site-packages/cvxpy/reductions/solvers/solving_chain.py:356: FutureWarning: \n",
      "    You specified your problem should be solved by ECOS. Starting in\n",
      "    CXVPY 1.6.0, ECOS will no longer be installed by default with CVXPY.\n",
      "    Please either add ECOS as an explicit install dependency to your project\n",
      "    or switch to our new default solver, Clarabel, by either not specifying a\n",
      "    solver argument or specifying ``solver=cp.CLARABEL``. To suppress this\n",
      "    warning while continuing to use ECOS, you can filter this warning using\n",
      "    Python's ``warnings`` module until you are using 1.6.0.\n",
      "    \n",
      "  warnings.warn(ECOS_DEP_DEPRECATION_MSG, FutureWarning)\n",
      "/opt/anaconda3/lib/python3.12/site-packages/cvxpy/problems/problem.py:1407: UserWarning: Solution may be inaccurate. Try another solver, adjusting the solver settings, or solve with verbose=True for more information.\n",
      "  warnings.warn(\n"
     ]
    },
    {
     "name": "stdout",
     "output_type": "stream",
     "text": [
      "[t=2689 | 2022-04-22] active: ['AAPL', 'ACN', 'ADBE', 'AMAT', 'AMD', 'AMZN', 'AVGO', 'BKNG', 'COST', 'CRM', 'CSCO', 'DIS', 'GOOGL', 'HD', 'IBM', 'INTU', 'KO', 'MCD', 'META', 'MSFT', 'NFLX', 'NOW', 'NVDA', 'ORCL', 'PG', 'PLTR', 'PM', 'QCOM', 'T', 'TSLA', 'TXN', 'VZ', 'WMT']\n"
     ]
    },
    {
     "name": "stderr",
     "output_type": "stream",
     "text": [
      "/opt/anaconda3/lib/python3.12/site-packages/cvxpy/reductions/solvers/solving_chain.py:356: FutureWarning: \n",
      "    You specified your problem should be solved by ECOS. Starting in\n",
      "    CXVPY 1.6.0, ECOS will no longer be installed by default with CVXPY.\n",
      "    Please either add ECOS as an explicit install dependency to your project\n",
      "    or switch to our new default solver, Clarabel, by either not specifying a\n",
      "    solver argument or specifying ``solver=cp.CLARABEL``. To suppress this\n",
      "    warning while continuing to use ECOS, you can filter this warning using\n",
      "    Python's ``warnings`` module until you are using 1.6.0.\n",
      "    \n",
      "  warnings.warn(ECOS_DEP_DEPRECATION_MSG, FutureWarning)\n",
      "/opt/anaconda3/lib/python3.12/site-packages/cvxpy/problems/problem.py:1407: UserWarning: Solution may be inaccurate. Try another solver, adjusting the solver settings, or solve with verbose=True for more information.\n",
      "  warnings.warn(\n"
     ]
    },
    {
     "name": "stdout",
     "output_type": "stream",
     "text": [
      "[t=2691 | 2022-04-26] active: ['AAPL', 'ACN', 'ADBE', 'AMAT', 'AMD', 'AMZN', 'AVGO', 'BKNG', 'COST', 'CRM', 'CSCO', 'DIS', 'GOOGL', 'HD', 'IBM', 'INTU', 'KO', 'MCD', 'META', 'MSFT', 'NFLX', 'NOW', 'NVDA', 'ORCL', 'PG', 'PLTR', 'PM', 'QCOM', 'T', 'TSLA', 'TXN', 'VZ', 'WMT']\n"
     ]
    },
    {
     "name": "stderr",
     "output_type": "stream",
     "text": [
      "/opt/anaconda3/lib/python3.12/site-packages/cvxpy/reductions/solvers/solving_chain.py:356: FutureWarning: \n",
      "    You specified your problem should be solved by ECOS. Starting in\n",
      "    CXVPY 1.6.0, ECOS will no longer be installed by default with CVXPY.\n",
      "    Please either add ECOS as an explicit install dependency to your project\n",
      "    or switch to our new default solver, Clarabel, by either not specifying a\n",
      "    solver argument or specifying ``solver=cp.CLARABEL``. To suppress this\n",
      "    warning while continuing to use ECOS, you can filter this warning using\n",
      "    Python's ``warnings`` module until you are using 1.6.0.\n",
      "    \n",
      "  warnings.warn(ECOS_DEP_DEPRECATION_MSG, FutureWarning)\n",
      "/opt/anaconda3/lib/python3.12/site-packages/cvxpy/problems/problem.py:1407: UserWarning: Solution may be inaccurate. Try another solver, adjusting the solver settings, or solve with verbose=True for more information.\n",
      "  warnings.warn(\n"
     ]
    },
    {
     "name": "stdout",
     "output_type": "stream",
     "text": [
      "[t=2692 | 2022-04-27] active: ['AAPL', 'ACN', 'ADBE', 'AMAT', 'AMD', 'AMZN', 'AVGO', 'BKNG', 'COST', 'CRM', 'CSCO', 'DIS', 'GOOGL', 'HD', 'IBM', 'INTU', 'KO', 'MCD', 'META', 'MSFT', 'NFLX', 'NOW', 'NVDA', 'ORCL', 'PG', 'PLTR', 'PM', 'QCOM', 'T', 'TSLA', 'TXN', 'VZ', 'WMT']\n"
     ]
    },
    {
     "name": "stderr",
     "output_type": "stream",
     "text": [
      "/opt/anaconda3/lib/python3.12/site-packages/cvxpy/reductions/solvers/solving_chain.py:356: FutureWarning: \n",
      "    You specified your problem should be solved by ECOS. Starting in\n",
      "    CXVPY 1.6.0, ECOS will no longer be installed by default with CVXPY.\n",
      "    Please either add ECOS as an explicit install dependency to your project\n",
      "    or switch to our new default solver, Clarabel, by either not specifying a\n",
      "    solver argument or specifying ``solver=cp.CLARABEL``. To suppress this\n",
      "    warning while continuing to use ECOS, you can filter this warning using\n",
      "    Python's ``warnings`` module until you are using 1.6.0.\n",
      "    \n",
      "  warnings.warn(ECOS_DEP_DEPRECATION_MSG, FutureWarning)\n",
      "/opt/anaconda3/lib/python3.12/site-packages/cvxpy/problems/problem.py:1407: UserWarning: Solution may be inaccurate. Try another solver, adjusting the solver settings, or solve with verbose=True for more information.\n",
      "  warnings.warn(\n"
     ]
    },
    {
     "name": "stdout",
     "output_type": "stream",
     "text": [
      "[t=2694 | 2022-04-29] active: ['AAPL', 'ACN', 'ADBE', 'AMAT', 'AMD', 'AMZN', 'AVGO', 'BKNG', 'COST', 'CRM', 'CSCO', 'DIS', 'GOOGL', 'HD', 'IBM', 'INTU', 'KO', 'MCD', 'META', 'MSFT', 'NFLX', 'NOW', 'NVDA', 'ORCL', 'PG', 'PLTR', 'PM', 'QCOM', 'T', 'TSLA', 'TXN', 'VZ', 'WMT']\n"
     ]
    },
    {
     "name": "stderr",
     "output_type": "stream",
     "text": [
      "/opt/anaconda3/lib/python3.12/site-packages/cvxpy/reductions/solvers/solving_chain.py:356: FutureWarning: \n",
      "    You specified your problem should be solved by ECOS. Starting in\n",
      "    CXVPY 1.6.0, ECOS will no longer be installed by default with CVXPY.\n",
      "    Please either add ECOS as an explicit install dependency to your project\n",
      "    or switch to our new default solver, Clarabel, by either not specifying a\n",
      "    solver argument or specifying ``solver=cp.CLARABEL``. To suppress this\n",
      "    warning while continuing to use ECOS, you can filter this warning using\n",
      "    Python's ``warnings`` module until you are using 1.6.0.\n",
      "    \n",
      "  warnings.warn(ECOS_DEP_DEPRECATION_MSG, FutureWarning)\n",
      "/opt/anaconda3/lib/python3.12/site-packages/cvxpy/problems/problem.py:1407: UserWarning: Solution may be inaccurate. Try another solver, adjusting the solver settings, or solve with verbose=True for more information.\n",
      "  warnings.warn(\n"
     ]
    },
    {
     "name": "stdout",
     "output_type": "stream",
     "text": [
      "[t=2695 | 2022-05-02] active: ['AAPL', 'ACN', 'ADBE', 'AMAT', 'AMD', 'AMZN', 'AVGO', 'BKNG', 'COST', 'CRM', 'CSCO', 'DIS', 'GOOGL', 'HD', 'IBM', 'INTU', 'KO', 'MCD', 'META', 'MSFT', 'NFLX', 'NOW', 'NVDA', 'ORCL', 'PG', 'PLTR', 'PM', 'QCOM', 'T', 'TSLA', 'TXN', 'VZ', 'WMT']\n"
     ]
    },
    {
     "name": "stderr",
     "output_type": "stream",
     "text": [
      "/opt/anaconda3/lib/python3.12/site-packages/cvxpy/reductions/solvers/solving_chain.py:356: FutureWarning: \n",
      "    You specified your problem should be solved by ECOS. Starting in\n",
      "    CXVPY 1.6.0, ECOS will no longer be installed by default with CVXPY.\n",
      "    Please either add ECOS as an explicit install dependency to your project\n",
      "    or switch to our new default solver, Clarabel, by either not specifying a\n",
      "    solver argument or specifying ``solver=cp.CLARABEL``. To suppress this\n",
      "    warning while continuing to use ECOS, you can filter this warning using\n",
      "    Python's ``warnings`` module until you are using 1.6.0.\n",
      "    \n",
      "  warnings.warn(ECOS_DEP_DEPRECATION_MSG, FutureWarning)\n",
      "/opt/anaconda3/lib/python3.12/site-packages/cvxpy/problems/problem.py:1407: UserWarning: Solution may be inaccurate. Try another solver, adjusting the solver settings, or solve with verbose=True for more information.\n",
      "  warnings.warn(\n"
     ]
    },
    {
     "name": "stdout",
     "output_type": "stream",
     "text": [
      "[t=2698 | 2022-05-05] active: ['AAPL', 'ACN', 'ADBE', 'AMAT', 'AMD', 'AMZN', 'AVGO', 'BKNG', 'COST', 'CRM', 'CSCO', 'DIS', 'GOOGL', 'HD', 'IBM', 'INTU', 'KO', 'MCD', 'META', 'MSFT', 'NFLX', 'NOW', 'NVDA', 'ORCL', 'PG', 'PLTR', 'PM', 'QCOM', 'T', 'TSLA', 'TXN', 'VZ', 'WMT']\n"
     ]
    },
    {
     "name": "stderr",
     "output_type": "stream",
     "text": [
      "/opt/anaconda3/lib/python3.12/site-packages/cvxpy/reductions/solvers/solving_chain.py:356: FutureWarning: \n",
      "    You specified your problem should be solved by ECOS. Starting in\n",
      "    CXVPY 1.6.0, ECOS will no longer be installed by default with CVXPY.\n",
      "    Please either add ECOS as an explicit install dependency to your project\n",
      "    or switch to our new default solver, Clarabel, by either not specifying a\n",
      "    solver argument or specifying ``solver=cp.CLARABEL``. To suppress this\n",
      "    warning while continuing to use ECOS, you can filter this warning using\n",
      "    Python's ``warnings`` module until you are using 1.6.0.\n",
      "    \n",
      "  warnings.warn(ECOS_DEP_DEPRECATION_MSG, FutureWarning)\n",
      "/opt/anaconda3/lib/python3.12/site-packages/cvxpy/problems/problem.py:1407: UserWarning: Solution may be inaccurate. Try another solver, adjusting the solver settings, or solve with verbose=True for more information.\n",
      "  warnings.warn(\n"
     ]
    },
    {
     "name": "stdout",
     "output_type": "stream",
     "text": [
      "[t=2699 | 2022-05-06] active: ['AAPL', 'ACN', 'ADBE', 'AMAT', 'AMD', 'AMZN', 'AVGO', 'BKNG', 'COST', 'CRM', 'CSCO', 'DIS', 'GOOGL', 'HD', 'IBM', 'INTU', 'KO', 'MCD', 'META', 'MSFT', 'NFLX', 'NOW', 'NVDA', 'ORCL', 'PG', 'PLTR', 'PM', 'QCOM', 'T', 'TSLA', 'TXN', 'VZ', 'WMT']\n"
     ]
    },
    {
     "name": "stderr",
     "output_type": "stream",
     "text": [
      "/opt/anaconda3/lib/python3.12/site-packages/cvxpy/reductions/solvers/solving_chain.py:356: FutureWarning: \n",
      "    You specified your problem should be solved by ECOS. Starting in\n",
      "    CXVPY 1.6.0, ECOS will no longer be installed by default with CVXPY.\n",
      "    Please either add ECOS as an explicit install dependency to your project\n",
      "    or switch to our new default solver, Clarabel, by either not specifying a\n",
      "    solver argument or specifying ``solver=cp.CLARABEL``. To suppress this\n",
      "    warning while continuing to use ECOS, you can filter this warning using\n",
      "    Python's ``warnings`` module until you are using 1.6.0.\n",
      "    \n",
      "  warnings.warn(ECOS_DEP_DEPRECATION_MSG, FutureWarning)\n",
      "/opt/anaconda3/lib/python3.12/site-packages/cvxpy/problems/problem.py:1407: UserWarning: Solution may be inaccurate. Try another solver, adjusting the solver settings, or solve with verbose=True for more information.\n",
      "  warnings.warn(\n"
     ]
    },
    {
     "name": "stdout",
     "output_type": "stream",
     "text": [
      "[t=2700 | 2022-05-09] active: ['AAPL', 'ACN', 'ADBE', 'AMAT', 'AMD', 'AMZN', 'AVGO', 'BKNG', 'COST', 'CRM', 'CSCO', 'DIS', 'GOOGL', 'HD', 'IBM', 'INTU', 'KO', 'MCD', 'META', 'MSFT', 'NFLX', 'NOW', 'NVDA', 'ORCL', 'PG', 'PLTR', 'PM', 'QCOM', 'T', 'TSLA', 'TXN', 'VZ', 'WMT']\n"
     ]
    },
    {
     "name": "stderr",
     "output_type": "stream",
     "text": [
      "/opt/anaconda3/lib/python3.12/site-packages/cvxpy/reductions/solvers/solving_chain.py:356: FutureWarning: \n",
      "    You specified your problem should be solved by ECOS. Starting in\n",
      "    CXVPY 1.6.0, ECOS will no longer be installed by default with CVXPY.\n",
      "    Please either add ECOS as an explicit install dependency to your project\n",
      "    or switch to our new default solver, Clarabel, by either not specifying a\n",
      "    solver argument or specifying ``solver=cp.CLARABEL``. To suppress this\n",
      "    warning while continuing to use ECOS, you can filter this warning using\n",
      "    Python's ``warnings`` module until you are using 1.6.0.\n",
      "    \n",
      "  warnings.warn(ECOS_DEP_DEPRECATION_MSG, FutureWarning)\n",
      "/opt/anaconda3/lib/python3.12/site-packages/cvxpy/problems/problem.py:1407: UserWarning: Solution may be inaccurate. Try another solver, adjusting the solver settings, or solve with verbose=True for more information.\n",
      "  warnings.warn(\n"
     ]
    },
    {
     "name": "stdout",
     "output_type": "stream",
     "text": [
      "[t=2701 | 2022-05-10] active: ['AAPL', 'ACN', 'ADBE', 'AMAT', 'AMD', 'AMZN', 'AVGO', 'BKNG', 'COST', 'CRM', 'CSCO', 'DIS', 'GOOGL', 'HD', 'IBM', 'INTU', 'KO', 'MCD', 'META', 'MSFT', 'NFLX', 'NOW', 'NVDA', 'ORCL', 'PG', 'PLTR', 'PM', 'QCOM', 'T', 'TSLA', 'TXN', 'VZ', 'WMT']\n"
     ]
    },
    {
     "name": "stderr",
     "output_type": "stream",
     "text": [
      "/opt/anaconda3/lib/python3.12/site-packages/cvxpy/reductions/solvers/solving_chain.py:356: FutureWarning: \n",
      "    You specified your problem should be solved by ECOS. Starting in\n",
      "    CXVPY 1.6.0, ECOS will no longer be installed by default with CVXPY.\n",
      "    Please either add ECOS as an explicit install dependency to your project\n",
      "    or switch to our new default solver, Clarabel, by either not specifying a\n",
      "    solver argument or specifying ``solver=cp.CLARABEL``. To suppress this\n",
      "    warning while continuing to use ECOS, you can filter this warning using\n",
      "    Python's ``warnings`` module until you are using 1.6.0.\n",
      "    \n",
      "  warnings.warn(ECOS_DEP_DEPRECATION_MSG, FutureWarning)\n",
      "/opt/anaconda3/lib/python3.12/site-packages/cvxpy/problems/problem.py:1407: UserWarning: Solution may be inaccurate. Try another solver, adjusting the solver settings, or solve with verbose=True for more information.\n",
      "  warnings.warn(\n"
     ]
    },
    {
     "name": "stdout",
     "output_type": "stream",
     "text": [
      "[t=2702 | 2022-05-11] active: ['AAPL', 'ACN', 'ADBE', 'AMAT', 'AMD', 'AMZN', 'AVGO', 'BKNG', 'COST', 'CRM', 'CSCO', 'DIS', 'GOOGL', 'HD', 'IBM', 'INTU', 'KO', 'MCD', 'META', 'MSFT', 'NFLX', 'NOW', 'NVDA', 'ORCL', 'PG', 'PLTR', 'PM', 'QCOM', 'T', 'TSLA', 'TXN', 'VZ', 'WMT']\n"
     ]
    },
    {
     "name": "stderr",
     "output_type": "stream",
     "text": [
      "/opt/anaconda3/lib/python3.12/site-packages/cvxpy/reductions/solvers/solving_chain.py:356: FutureWarning: \n",
      "    You specified your problem should be solved by ECOS. Starting in\n",
      "    CXVPY 1.6.0, ECOS will no longer be installed by default with CVXPY.\n",
      "    Please either add ECOS as an explicit install dependency to your project\n",
      "    or switch to our new default solver, Clarabel, by either not specifying a\n",
      "    solver argument or specifying ``solver=cp.CLARABEL``. To suppress this\n",
      "    warning while continuing to use ECOS, you can filter this warning using\n",
      "    Python's ``warnings`` module until you are using 1.6.0.\n",
      "    \n",
      "  warnings.warn(ECOS_DEP_DEPRECATION_MSG, FutureWarning)\n",
      "/opt/anaconda3/lib/python3.12/site-packages/cvxpy/problems/problem.py:1407: UserWarning: Solution may be inaccurate. Try another solver, adjusting the solver settings, or solve with verbose=True for more information.\n",
      "  warnings.warn(\n"
     ]
    },
    {
     "name": "stdout",
     "output_type": "stream",
     "text": [
      "[t=2703 | 2022-05-12] active: ['AAPL', 'ACN', 'ADBE', 'AMAT', 'AMD', 'AMZN', 'AVGO', 'BKNG', 'COST', 'CRM', 'CSCO', 'DIS', 'GOOGL', 'HD', 'IBM', 'INTU', 'KO', 'MCD', 'META', 'MSFT', 'NFLX', 'NOW', 'NVDA', 'ORCL', 'PG', 'PLTR', 'PM', 'QCOM', 'T', 'TSLA', 'TXN', 'VZ', 'WMT']\n"
     ]
    },
    {
     "name": "stderr",
     "output_type": "stream",
     "text": [
      "/opt/anaconda3/lib/python3.12/site-packages/cvxpy/reductions/solvers/solving_chain.py:356: FutureWarning: \n",
      "    You specified your problem should be solved by ECOS. Starting in\n",
      "    CXVPY 1.6.0, ECOS will no longer be installed by default with CVXPY.\n",
      "    Please either add ECOS as an explicit install dependency to your project\n",
      "    or switch to our new default solver, Clarabel, by either not specifying a\n",
      "    solver argument or specifying ``solver=cp.CLARABEL``. To suppress this\n",
      "    warning while continuing to use ECOS, you can filter this warning using\n",
      "    Python's ``warnings`` module until you are using 1.6.0.\n",
      "    \n",
      "  warnings.warn(ECOS_DEP_DEPRECATION_MSG, FutureWarning)\n",
      "/opt/anaconda3/lib/python3.12/site-packages/cvxpy/problems/problem.py:1407: UserWarning: Solution may be inaccurate. Try another solver, adjusting the solver settings, or solve with verbose=True for more information.\n",
      "  warnings.warn(\n"
     ]
    },
    {
     "name": "stdout",
     "output_type": "stream",
     "text": [
      "[t=2704 | 2022-05-13] active: ['AAPL', 'ACN', 'ADBE', 'AMAT', 'AMD', 'AMZN', 'AVGO', 'BKNG', 'COST', 'CRM', 'CSCO', 'DIS', 'GOOGL', 'HD', 'IBM', 'INTU', 'KO', 'MCD', 'META', 'MSFT', 'NFLX', 'NOW', 'NVDA', 'ORCL', 'PG', 'PLTR', 'PM', 'QCOM', 'T', 'TSLA', 'TXN', 'VZ', 'WMT']\n"
     ]
    },
    {
     "name": "stderr",
     "output_type": "stream",
     "text": [
      "/opt/anaconda3/lib/python3.12/site-packages/cvxpy/reductions/solvers/solving_chain.py:356: FutureWarning: \n",
      "    You specified your problem should be solved by ECOS. Starting in\n",
      "    CXVPY 1.6.0, ECOS will no longer be installed by default with CVXPY.\n",
      "    Please either add ECOS as an explicit install dependency to your project\n",
      "    or switch to our new default solver, Clarabel, by either not specifying a\n",
      "    solver argument or specifying ``solver=cp.CLARABEL``. To suppress this\n",
      "    warning while continuing to use ECOS, you can filter this warning using\n",
      "    Python's ``warnings`` module until you are using 1.6.0.\n",
      "    \n",
      "  warnings.warn(ECOS_DEP_DEPRECATION_MSG, FutureWarning)\n",
      "/opt/anaconda3/lib/python3.12/site-packages/cvxpy/problems/problem.py:1407: UserWarning: Solution may be inaccurate. Try another solver, adjusting the solver settings, or solve with verbose=True for more information.\n",
      "  warnings.warn(\n"
     ]
    },
    {
     "name": "stdout",
     "output_type": "stream",
     "text": [
      "[t=2706 | 2022-05-17] active: ['AAPL', 'ACN', 'ADBE', 'AMAT', 'AMD', 'AMZN', 'AVGO', 'BKNG', 'COST', 'CRM', 'CSCO', 'DIS', 'GOOGL', 'HD', 'IBM', 'INTU', 'KO', 'MCD', 'META', 'MSFT', 'NFLX', 'NOW', 'NVDA', 'ORCL', 'PG', 'PLTR', 'PM', 'QCOM', 'T', 'TSLA', 'TXN', 'VZ', 'WMT']\n"
     ]
    },
    {
     "name": "stderr",
     "output_type": "stream",
     "text": [
      "/opt/anaconda3/lib/python3.12/site-packages/cvxpy/reductions/solvers/solving_chain.py:356: FutureWarning: \n",
      "    You specified your problem should be solved by ECOS. Starting in\n",
      "    CXVPY 1.6.0, ECOS will no longer be installed by default with CVXPY.\n",
      "    Please either add ECOS as an explicit install dependency to your project\n",
      "    or switch to our new default solver, Clarabel, by either not specifying a\n",
      "    solver argument or specifying ``solver=cp.CLARABEL``. To suppress this\n",
      "    warning while continuing to use ECOS, you can filter this warning using\n",
      "    Python's ``warnings`` module until you are using 1.6.0.\n",
      "    \n",
      "  warnings.warn(ECOS_DEP_DEPRECATION_MSG, FutureWarning)\n",
      "/opt/anaconda3/lib/python3.12/site-packages/cvxpy/problems/problem.py:1407: UserWarning: Solution may be inaccurate. Try another solver, adjusting the solver settings, or solve with verbose=True for more information.\n",
      "  warnings.warn(\n"
     ]
    },
    {
     "name": "stdout",
     "output_type": "stream",
     "text": [
      "[t=2707 | 2022-05-18] active: ['AAPL', 'ACN', 'ADBE', 'AMAT', 'AMD', 'AMZN', 'AVGO', 'BKNG', 'COST', 'CRM', 'CSCO', 'DIS', 'GOOGL', 'HD', 'IBM', 'INTU', 'KO', 'MCD', 'META', 'MSFT', 'NFLX', 'NOW', 'NVDA', 'ORCL', 'PG', 'PLTR', 'PM', 'QCOM', 'T', 'TSLA', 'TXN', 'VZ', 'WMT']\n"
     ]
    },
    {
     "name": "stderr",
     "output_type": "stream",
     "text": [
      "/opt/anaconda3/lib/python3.12/site-packages/cvxpy/reductions/solvers/solving_chain.py:356: FutureWarning: \n",
      "    You specified your problem should be solved by ECOS. Starting in\n",
      "    CXVPY 1.6.0, ECOS will no longer be installed by default with CVXPY.\n",
      "    Please either add ECOS as an explicit install dependency to your project\n",
      "    or switch to our new default solver, Clarabel, by either not specifying a\n",
      "    solver argument or specifying ``solver=cp.CLARABEL``. To suppress this\n",
      "    warning while continuing to use ECOS, you can filter this warning using\n",
      "    Python's ``warnings`` module until you are using 1.6.0.\n",
      "    \n",
      "  warnings.warn(ECOS_DEP_DEPRECATION_MSG, FutureWarning)\n",
      "/opt/anaconda3/lib/python3.12/site-packages/cvxpy/problems/problem.py:1407: UserWarning: Solution may be inaccurate. Try another solver, adjusting the solver settings, or solve with verbose=True for more information.\n",
      "  warnings.warn(\n"
     ]
    },
    {
     "name": "stdout",
     "output_type": "stream",
     "text": [
      "[t=2708 | 2022-05-19] active: ['AAPL', 'ACN', 'ADBE', 'AMAT', 'AMD', 'AMZN', 'AVGO', 'BKNG', 'COST', 'CRM', 'CSCO', 'DIS', 'GOOGL', 'HD', 'IBM', 'INTU', 'KO', 'MCD', 'META', 'MSFT', 'NFLX', 'NOW', 'NVDA', 'ORCL', 'PG', 'PLTR', 'PM', 'QCOM', 'T', 'TSLA', 'TXN', 'VZ', 'WMT']\n"
     ]
    },
    {
     "name": "stderr",
     "output_type": "stream",
     "text": [
      "/opt/anaconda3/lib/python3.12/site-packages/cvxpy/reductions/solvers/solving_chain.py:356: FutureWarning: \n",
      "    You specified your problem should be solved by ECOS. Starting in\n",
      "    CXVPY 1.6.0, ECOS will no longer be installed by default with CVXPY.\n",
      "    Please either add ECOS as an explicit install dependency to your project\n",
      "    or switch to our new default solver, Clarabel, by either not specifying a\n",
      "    solver argument or specifying ``solver=cp.CLARABEL``. To suppress this\n",
      "    warning while continuing to use ECOS, you can filter this warning using\n",
      "    Python's ``warnings`` module until you are using 1.6.0.\n",
      "    \n",
      "  warnings.warn(ECOS_DEP_DEPRECATION_MSG, FutureWarning)\n",
      "/opt/anaconda3/lib/python3.12/site-packages/cvxpy/problems/problem.py:1407: UserWarning: Solution may be inaccurate. Try another solver, adjusting the solver settings, or solve with verbose=True for more information.\n",
      "  warnings.warn(\n"
     ]
    },
    {
     "name": "stdout",
     "output_type": "stream",
     "text": [
      "[t=2711 | 2022-05-24] active: ['AAPL', 'ACN', 'ADBE', 'AMAT', 'AMD', 'AMZN', 'AVGO', 'BKNG', 'COST', 'CRM', 'CSCO', 'DIS', 'GOOGL', 'HD', 'IBM', 'INTU', 'KO', 'MCD', 'META', 'MSFT', 'NFLX', 'NOW', 'NVDA', 'ORCL', 'PG', 'PLTR', 'PM', 'QCOM', 'T', 'TSLA', 'TXN', 'VZ', 'WMT']\n"
     ]
    },
    {
     "name": "stderr",
     "output_type": "stream",
     "text": [
      "/opt/anaconda3/lib/python3.12/site-packages/cvxpy/reductions/solvers/solving_chain.py:356: FutureWarning: \n",
      "    You specified your problem should be solved by ECOS. Starting in\n",
      "    CXVPY 1.6.0, ECOS will no longer be installed by default with CVXPY.\n",
      "    Please either add ECOS as an explicit install dependency to your project\n",
      "    or switch to our new default solver, Clarabel, by either not specifying a\n",
      "    solver argument or specifying ``solver=cp.CLARABEL``. To suppress this\n",
      "    warning while continuing to use ECOS, you can filter this warning using\n",
      "    Python's ``warnings`` module until you are using 1.6.0.\n",
      "    \n",
      "  warnings.warn(ECOS_DEP_DEPRECATION_MSG, FutureWarning)\n",
      "/opt/anaconda3/lib/python3.12/site-packages/cvxpy/problems/problem.py:1407: UserWarning: Solution may be inaccurate. Try another solver, adjusting the solver settings, or solve with verbose=True for more information.\n",
      "  warnings.warn(\n"
     ]
    },
    {
     "name": "stdout",
     "output_type": "stream",
     "text": [
      "[t=2714 | 2022-05-27] active: ['AAPL', 'ACN', 'ADBE', 'AMAT', 'AMD', 'AMZN', 'AVGO', 'BKNG', 'COST', 'CRM', 'CSCO', 'DIS', 'GOOGL', 'HD', 'IBM', 'INTU', 'KO', 'MCD', 'META', 'MSFT', 'NFLX', 'NOW', 'NVDA', 'ORCL', 'PG', 'PLTR', 'PM', 'QCOM', 'T', 'TSLA', 'TXN', 'VZ', 'WMT']\n"
     ]
    },
    {
     "name": "stderr",
     "output_type": "stream",
     "text": [
      "/opt/anaconda3/lib/python3.12/site-packages/cvxpy/reductions/solvers/solving_chain.py:356: FutureWarning: \n",
      "    You specified your problem should be solved by ECOS. Starting in\n",
      "    CXVPY 1.6.0, ECOS will no longer be installed by default with CVXPY.\n",
      "    Please either add ECOS as an explicit install dependency to your project\n",
      "    or switch to our new default solver, Clarabel, by either not specifying a\n",
      "    solver argument or specifying ``solver=cp.CLARABEL``. To suppress this\n",
      "    warning while continuing to use ECOS, you can filter this warning using\n",
      "    Python's ``warnings`` module until you are using 1.6.0.\n",
      "    \n",
      "  warnings.warn(ECOS_DEP_DEPRECATION_MSG, FutureWarning)\n",
      "/opt/anaconda3/lib/python3.12/site-packages/cvxpy/problems/problem.py:1407: UserWarning: Solution may be inaccurate. Try another solver, adjusting the solver settings, or solve with verbose=True for more information.\n",
      "  warnings.warn(\n"
     ]
    },
    {
     "name": "stdout",
     "output_type": "stream",
     "text": [
      "[t=2719 | 2022-06-03] active: ['AAPL', 'ACN', 'ADBE', 'AMAT', 'AMD', 'AMZN', 'AVGO', 'BKNG', 'COST', 'CRM', 'CSCO', 'DIS', 'GOOGL', 'HD', 'IBM', 'INTU', 'KO', 'MCD', 'META', 'MSFT', 'NFLX', 'NOW', 'NVDA', 'ORCL', 'PG', 'PLTR', 'PM', 'QCOM', 'T', 'TSLA', 'TXN', 'VZ', 'WMT']\n"
     ]
    },
    {
     "name": "stderr",
     "output_type": "stream",
     "text": [
      "/opt/anaconda3/lib/python3.12/site-packages/cvxpy/reductions/solvers/solving_chain.py:356: FutureWarning: \n",
      "    You specified your problem should be solved by ECOS. Starting in\n",
      "    CXVPY 1.6.0, ECOS will no longer be installed by default with CVXPY.\n",
      "    Please either add ECOS as an explicit install dependency to your project\n",
      "    or switch to our new default solver, Clarabel, by either not specifying a\n",
      "    solver argument or specifying ``solver=cp.CLARABEL``. To suppress this\n",
      "    warning while continuing to use ECOS, you can filter this warning using\n",
      "    Python's ``warnings`` module until you are using 1.6.0.\n",
      "    \n",
      "  warnings.warn(ECOS_DEP_DEPRECATION_MSG, FutureWarning)\n",
      "/opt/anaconda3/lib/python3.12/site-packages/cvxpy/problems/problem.py:1407: UserWarning: Solution may be inaccurate. Try another solver, adjusting the solver settings, or solve with verbose=True for more information.\n",
      "  warnings.warn(\n"
     ]
    },
    {
     "name": "stdout",
     "output_type": "stream",
     "text": [
      "[t=2723 | 2022-06-09] active: ['AAPL', 'ACN', 'ADBE', 'AMAT', 'AMD', 'AMZN', 'AVGO', 'BKNG', 'COST', 'CRM', 'CSCO', 'DIS', 'GOOGL', 'HD', 'IBM', 'INTU', 'KO', 'MCD', 'META', 'MSFT', 'NFLX', 'NOW', 'NVDA', 'ORCL', 'PG', 'PLTR', 'PM', 'QCOM', 'T', 'TSLA', 'TXN', 'VZ', 'WMT']\n"
     ]
    },
    {
     "name": "stderr",
     "output_type": "stream",
     "text": [
      "/opt/anaconda3/lib/python3.12/site-packages/cvxpy/reductions/solvers/solving_chain.py:356: FutureWarning: \n",
      "    You specified your problem should be solved by ECOS. Starting in\n",
      "    CXVPY 1.6.0, ECOS will no longer be installed by default with CVXPY.\n",
      "    Please either add ECOS as an explicit install dependency to your project\n",
      "    or switch to our new default solver, Clarabel, by either not specifying a\n",
      "    solver argument or specifying ``solver=cp.CLARABEL``. To suppress this\n",
      "    warning while continuing to use ECOS, you can filter this warning using\n",
      "    Python's ``warnings`` module until you are using 1.6.0.\n",
      "    \n",
      "  warnings.warn(ECOS_DEP_DEPRECATION_MSG, FutureWarning)\n",
      "/opt/anaconda3/lib/python3.12/site-packages/cvxpy/problems/problem.py:1407: UserWarning: Solution may be inaccurate. Try another solver, adjusting the solver settings, or solve with verbose=True for more information.\n",
      "  warnings.warn(\n"
     ]
    },
    {
     "name": "stdout",
     "output_type": "stream",
     "text": [
      "[t=2724 | 2022-06-10] active: ['AAPL', 'ACN', 'ADBE', 'AMAT', 'AMD', 'AMZN', 'AVGO', 'BKNG', 'COST', 'CRM', 'CSCO', 'DIS', 'GOOGL', 'HD', 'IBM', 'INTU', 'KO', 'MCD', 'META', 'MSFT', 'NFLX', 'NOW', 'NVDA', 'ORCL', 'PG', 'PLTR', 'PM', 'QCOM', 'T', 'TSLA', 'TXN', 'VZ', 'WMT']\n"
     ]
    },
    {
     "name": "stderr",
     "output_type": "stream",
     "text": [
      "/opt/anaconda3/lib/python3.12/site-packages/cvxpy/reductions/solvers/solving_chain.py:356: FutureWarning: \n",
      "    You specified your problem should be solved by ECOS. Starting in\n",
      "    CXVPY 1.6.0, ECOS will no longer be installed by default with CVXPY.\n",
      "    Please either add ECOS as an explicit install dependency to your project\n",
      "    or switch to our new default solver, Clarabel, by either not specifying a\n",
      "    solver argument or specifying ``solver=cp.CLARABEL``. To suppress this\n",
      "    warning while continuing to use ECOS, you can filter this warning using\n",
      "    Python's ``warnings`` module until you are using 1.6.0.\n",
      "    \n",
      "  warnings.warn(ECOS_DEP_DEPRECATION_MSG, FutureWarning)\n",
      "/opt/anaconda3/lib/python3.12/site-packages/cvxpy/problems/problem.py:1407: UserWarning: Solution may be inaccurate. Try another solver, adjusting the solver settings, or solve with verbose=True for more information.\n",
      "  warnings.warn(\n"
     ]
    },
    {
     "name": "stdout",
     "output_type": "stream",
     "text": [
      "[t=2725 | 2022-06-13] active: ['AAPL', 'ACN', 'ADBE', 'AMAT', 'AMD', 'AMZN', 'AVGO', 'BKNG', 'COST', 'CRM', 'CSCO', 'DIS', 'GOOGL', 'HD', 'IBM', 'INTU', 'KO', 'MCD', 'META', 'MSFT', 'NFLX', 'NOW', 'NVDA', 'ORCL', 'PG', 'PLTR', 'PM', 'QCOM', 'T', 'TSLA', 'TXN', 'VZ', 'WMT']\n"
     ]
    },
    {
     "name": "stderr",
     "output_type": "stream",
     "text": [
      "/opt/anaconda3/lib/python3.12/site-packages/cvxpy/reductions/solvers/solving_chain.py:356: FutureWarning: \n",
      "    You specified your problem should be solved by ECOS. Starting in\n",
      "    CXVPY 1.6.0, ECOS will no longer be installed by default with CVXPY.\n",
      "    Please either add ECOS as an explicit install dependency to your project\n",
      "    or switch to our new default solver, Clarabel, by either not specifying a\n",
      "    solver argument or specifying ``solver=cp.CLARABEL``. To suppress this\n",
      "    warning while continuing to use ECOS, you can filter this warning using\n",
      "    Python's ``warnings`` module until you are using 1.6.0.\n",
      "    \n",
      "  warnings.warn(ECOS_DEP_DEPRECATION_MSG, FutureWarning)\n",
      "/opt/anaconda3/lib/python3.12/site-packages/cvxpy/problems/problem.py:1407: UserWarning: Solution may be inaccurate. Try another solver, adjusting the solver settings, or solve with verbose=True for more information.\n",
      "  warnings.warn(\n"
     ]
    },
    {
     "name": "stdout",
     "output_type": "stream",
     "text": [
      "[t=2726 | 2022-06-14] active: ['AAPL', 'ACN', 'ADBE', 'AMAT', 'AMD', 'AMZN', 'AVGO', 'BKNG', 'COST', 'CRM', 'CSCO', 'DIS', 'GOOGL', 'HD', 'IBM', 'INTU', 'KO', 'MCD', 'META', 'MSFT', 'NFLX', 'NOW', 'NVDA', 'ORCL', 'PG', 'PLTR', 'PM', 'QCOM', 'T', 'TSLA', 'TXN', 'VZ', 'WMT']\n"
     ]
    },
    {
     "name": "stderr",
     "output_type": "stream",
     "text": [
      "/opt/anaconda3/lib/python3.12/site-packages/cvxpy/reductions/solvers/solving_chain.py:356: FutureWarning: \n",
      "    You specified your problem should be solved by ECOS. Starting in\n",
      "    CXVPY 1.6.0, ECOS will no longer be installed by default with CVXPY.\n",
      "    Please either add ECOS as an explicit install dependency to your project\n",
      "    or switch to our new default solver, Clarabel, by either not specifying a\n",
      "    solver argument or specifying ``solver=cp.CLARABEL``. To suppress this\n",
      "    warning while continuing to use ECOS, you can filter this warning using\n",
      "    Python's ``warnings`` module until you are using 1.6.0.\n",
      "    \n",
      "  warnings.warn(ECOS_DEP_DEPRECATION_MSG, FutureWarning)\n",
      "/opt/anaconda3/lib/python3.12/site-packages/cvxpy/problems/problem.py:1407: UserWarning: Solution may be inaccurate. Try another solver, adjusting the solver settings, or solve with verbose=True for more information.\n",
      "  warnings.warn(\n"
     ]
    },
    {
     "name": "stdout",
     "output_type": "stream",
     "text": [
      "[t=2728 | 2022-06-16] active: ['AAPL', 'ACN', 'ADBE', 'AMAT', 'AMD', 'AMZN', 'AVGO', 'BKNG', 'COST', 'CRM', 'CSCO', 'DIS', 'GOOGL', 'HD', 'IBM', 'INTU', 'KO', 'MCD', 'META', 'MSFT', 'NFLX', 'NOW', 'NVDA', 'ORCL', 'PG', 'PLTR', 'PM', 'QCOM', 'T', 'TSLA', 'TXN', 'VZ', 'WMT']\n"
     ]
    },
    {
     "name": "stderr",
     "output_type": "stream",
     "text": [
      "/opt/anaconda3/lib/python3.12/site-packages/cvxpy/reductions/solvers/solving_chain.py:356: FutureWarning: \n",
      "    You specified your problem should be solved by ECOS. Starting in\n",
      "    CXVPY 1.6.0, ECOS will no longer be installed by default with CVXPY.\n",
      "    Please either add ECOS as an explicit install dependency to your project\n",
      "    or switch to our new default solver, Clarabel, by either not specifying a\n",
      "    solver argument or specifying ``solver=cp.CLARABEL``. To suppress this\n",
      "    warning while continuing to use ECOS, you can filter this warning using\n",
      "    Python's ``warnings`` module until you are using 1.6.0.\n",
      "    \n",
      "  warnings.warn(ECOS_DEP_DEPRECATION_MSG, FutureWarning)\n",
      "/opt/anaconda3/lib/python3.12/site-packages/cvxpy/problems/problem.py:1407: UserWarning: Solution may be inaccurate. Try another solver, adjusting the solver settings, or solve with verbose=True for more information.\n",
      "  warnings.warn(\n"
     ]
    },
    {
     "name": "stdout",
     "output_type": "stream",
     "text": [
      "[t=2732 | 2022-06-22] active: ['AAPL', 'ACN', 'ADBE', 'AMAT', 'AMD', 'AMZN', 'AVGO', 'BKNG', 'COST', 'CRM', 'CSCO', 'DIS', 'GOOGL', 'HD', 'IBM', 'INTU', 'KO', 'MCD', 'META', 'MSFT', 'NFLX', 'NOW', 'NVDA', 'ORCL', 'PG', 'PLTR', 'PM', 'QCOM', 'T', 'TSLA', 'TXN', 'VZ', 'WMT']\n"
     ]
    },
    {
     "name": "stderr",
     "output_type": "stream",
     "text": [
      "/opt/anaconda3/lib/python3.12/site-packages/cvxpy/reductions/solvers/solving_chain.py:356: FutureWarning: \n",
      "    You specified your problem should be solved by ECOS. Starting in\n",
      "    CXVPY 1.6.0, ECOS will no longer be installed by default with CVXPY.\n",
      "    Please either add ECOS as an explicit install dependency to your project\n",
      "    or switch to our new default solver, Clarabel, by either not specifying a\n",
      "    solver argument or specifying ``solver=cp.CLARABEL``. To suppress this\n",
      "    warning while continuing to use ECOS, you can filter this warning using\n",
      "    Python's ``warnings`` module until you are using 1.6.0.\n",
      "    \n",
      "  warnings.warn(ECOS_DEP_DEPRECATION_MSG, FutureWarning)\n",
      "/opt/anaconda3/lib/python3.12/site-packages/cvxpy/problems/problem.py:1407: UserWarning: Solution may be inaccurate. Try another solver, adjusting the solver settings, or solve with verbose=True for more information.\n",
      "  warnings.warn(\n"
     ]
    },
    {
     "name": "stdout",
     "output_type": "stream",
     "text": [
      "[t=2733 | 2022-06-23] active: ['AAPL', 'ACN', 'ADBE', 'AMAT', 'AMD', 'AMZN', 'AVGO', 'BKNG', 'COST', 'CRM', 'CSCO', 'DIS', 'GOOGL', 'HD', 'IBM', 'INTU', 'KO', 'MCD', 'META', 'MSFT', 'NFLX', 'NOW', 'NVDA', 'ORCL', 'PG', 'PLTR', 'PM', 'QCOM', 'T', 'TSLA', 'TXN', 'VZ', 'WMT']\n"
     ]
    },
    {
     "name": "stderr",
     "output_type": "stream",
     "text": [
      "/opt/anaconda3/lib/python3.12/site-packages/cvxpy/reductions/solvers/solving_chain.py:356: FutureWarning: \n",
      "    You specified your problem should be solved by ECOS. Starting in\n",
      "    CXVPY 1.6.0, ECOS will no longer be installed by default with CVXPY.\n",
      "    Please either add ECOS as an explicit install dependency to your project\n",
      "    or switch to our new default solver, Clarabel, by either not specifying a\n",
      "    solver argument or specifying ``solver=cp.CLARABEL``. To suppress this\n",
      "    warning while continuing to use ECOS, you can filter this warning using\n",
      "    Python's ``warnings`` module until you are using 1.6.0.\n",
      "    \n",
      "  warnings.warn(ECOS_DEP_DEPRECATION_MSG, FutureWarning)\n",
      "/opt/anaconda3/lib/python3.12/site-packages/cvxpy/problems/problem.py:1407: UserWarning: Solution may be inaccurate. Try another solver, adjusting the solver settings, or solve with verbose=True for more information.\n",
      "  warnings.warn(\n"
     ]
    },
    {
     "name": "stdout",
     "output_type": "stream",
     "text": [
      "[t=2734 | 2022-06-24] active: ['AAPL', 'ACN', 'ADBE', 'AMAT', 'AMD', 'AMZN', 'AVGO', 'BKNG', 'COST', 'CRM', 'CSCO', 'DIS', 'GOOGL', 'HD', 'IBM', 'INTU', 'KO', 'MCD', 'META', 'MSFT', 'NFLX', 'NOW', 'NVDA', 'ORCL', 'PG', 'PLTR', 'PM', 'QCOM', 'T', 'TSLA', 'TXN', 'VZ', 'WMT']\n"
     ]
    },
    {
     "name": "stderr",
     "output_type": "stream",
     "text": [
      "/opt/anaconda3/lib/python3.12/site-packages/cvxpy/reductions/solvers/solving_chain.py:356: FutureWarning: \n",
      "    You specified your problem should be solved by ECOS. Starting in\n",
      "    CXVPY 1.6.0, ECOS will no longer be installed by default with CVXPY.\n",
      "    Please either add ECOS as an explicit install dependency to your project\n",
      "    or switch to our new default solver, Clarabel, by either not specifying a\n",
      "    solver argument or specifying ``solver=cp.CLARABEL``. To suppress this\n",
      "    warning while continuing to use ECOS, you can filter this warning using\n",
      "    Python's ``warnings`` module until you are using 1.6.0.\n",
      "    \n",
      "  warnings.warn(ECOS_DEP_DEPRECATION_MSG, FutureWarning)\n",
      "/opt/anaconda3/lib/python3.12/site-packages/cvxpy/problems/problem.py:1407: UserWarning: Solution may be inaccurate. Try another solver, adjusting the solver settings, or solve with verbose=True for more information.\n",
      "  warnings.warn(\n"
     ]
    },
    {
     "name": "stdout",
     "output_type": "stream",
     "text": [
      "[t=2735 | 2022-06-27] active: ['AAPL', 'ACN', 'ADBE', 'AMAT', 'AMD', 'AMZN', 'AVGO', 'BKNG', 'COST', 'CRM', 'CSCO', 'DIS', 'GOOGL', 'HD', 'IBM', 'INTU', 'KO', 'MCD', 'META', 'MSFT', 'NFLX', 'NOW', 'NVDA', 'ORCL', 'PG', 'PLTR', 'PM', 'QCOM', 'T', 'TSLA', 'TXN', 'VZ', 'WMT']\n"
     ]
    },
    {
     "name": "stderr",
     "output_type": "stream",
     "text": [
      "/opt/anaconda3/lib/python3.12/site-packages/cvxpy/reductions/solvers/solving_chain.py:356: FutureWarning: \n",
      "    You specified your problem should be solved by ECOS. Starting in\n",
      "    CXVPY 1.6.0, ECOS will no longer be installed by default with CVXPY.\n",
      "    Please either add ECOS as an explicit install dependency to your project\n",
      "    or switch to our new default solver, Clarabel, by either not specifying a\n",
      "    solver argument or specifying ``solver=cp.CLARABEL``. To suppress this\n",
      "    warning while continuing to use ECOS, you can filter this warning using\n",
      "    Python's ``warnings`` module until you are using 1.6.0.\n",
      "    \n",
      "  warnings.warn(ECOS_DEP_DEPRECATION_MSG, FutureWarning)\n",
      "/opt/anaconda3/lib/python3.12/site-packages/cvxpy/problems/problem.py:1407: UserWarning: Solution may be inaccurate. Try another solver, adjusting the solver settings, or solve with verbose=True for more information.\n",
      "  warnings.warn(\n"
     ]
    },
    {
     "name": "stdout",
     "output_type": "stream",
     "text": [
      "[t=2743 | 2022-07-07] active: ['AAPL', 'ACN', 'ADBE', 'AMAT', 'AMD', 'AMZN', 'AVGO', 'BKNG', 'COST', 'CRM', 'CSCO', 'DIS', 'GOOGL', 'HD', 'IBM', 'INTU', 'KO', 'MCD', 'META', 'MSFT', 'NFLX', 'NOW', 'NVDA', 'ORCL', 'PG', 'PLTR', 'PM', 'QCOM', 'T', 'TSLA', 'TXN', 'VZ', 'WMT']\n"
     ]
    },
    {
     "name": "stderr",
     "output_type": "stream",
     "text": [
      "/opt/anaconda3/lib/python3.12/site-packages/cvxpy/reductions/solvers/solving_chain.py:356: FutureWarning: \n",
      "    You specified your problem should be solved by ECOS. Starting in\n",
      "    CXVPY 1.6.0, ECOS will no longer be installed by default with CVXPY.\n",
      "    Please either add ECOS as an explicit install dependency to your project\n",
      "    or switch to our new default solver, Clarabel, by either not specifying a\n",
      "    solver argument or specifying ``solver=cp.CLARABEL``. To suppress this\n",
      "    warning while continuing to use ECOS, you can filter this warning using\n",
      "    Python's ``warnings`` module until you are using 1.6.0.\n",
      "    \n",
      "  warnings.warn(ECOS_DEP_DEPRECATION_MSG, FutureWarning)\n",
      "/opt/anaconda3/lib/python3.12/site-packages/cvxpy/problems/problem.py:1407: UserWarning: Solution may be inaccurate. Try another solver, adjusting the solver settings, or solve with verbose=True for more information.\n",
      "  warnings.warn(\n"
     ]
    },
    {
     "name": "stdout",
     "output_type": "stream",
     "text": [
      "[t=2751 | 2022-07-19] active: ['AAPL', 'ACN', 'ADBE', 'AMAT', 'AMD', 'AMZN', 'AVGO', 'BKNG', 'COST', 'CRM', 'CSCO', 'DIS', 'GOOGL', 'HD', 'IBM', 'INTU', 'KO', 'MCD', 'META', 'MSFT', 'NFLX', 'NOW', 'NVDA', 'ORCL', 'PG', 'PLTR', 'PM', 'QCOM', 'T', 'TSLA', 'TXN', 'VZ', 'WMT']\n"
     ]
    },
    {
     "name": "stderr",
     "output_type": "stream",
     "text": [
      "/opt/anaconda3/lib/python3.12/site-packages/cvxpy/reductions/solvers/solving_chain.py:356: FutureWarning: \n",
      "    You specified your problem should be solved by ECOS. Starting in\n",
      "    CXVPY 1.6.0, ECOS will no longer be installed by default with CVXPY.\n",
      "    Please either add ECOS as an explicit install dependency to your project\n",
      "    or switch to our new default solver, Clarabel, by either not specifying a\n",
      "    solver argument or specifying ``solver=cp.CLARABEL``. To suppress this\n",
      "    warning while continuing to use ECOS, you can filter this warning using\n",
      "    Python's ``warnings`` module until you are using 1.6.0.\n",
      "    \n",
      "  warnings.warn(ECOS_DEP_DEPRECATION_MSG, FutureWarning)\n",
      "/opt/anaconda3/lib/python3.12/site-packages/cvxpy/problems/problem.py:1407: UserWarning: Solution may be inaccurate. Try another solver, adjusting the solver settings, or solve with verbose=True for more information.\n",
      "  warnings.warn(\n"
     ]
    },
    {
     "name": "stdout",
     "output_type": "stream",
     "text": [
      "[t=2753 | 2022-07-21] active: ['AAPL', 'ACN', 'ADBE', 'AMAT', 'AMD', 'AMZN', 'AVGO', 'BKNG', 'COST', 'CRM', 'CSCO', 'DIS', 'GOOGL', 'HD', 'IBM', 'INTU', 'KO', 'MCD', 'META', 'MSFT', 'NFLX', 'NOW', 'NVDA', 'ORCL', 'PG', 'PLTR', 'PM', 'QCOM', 'T', 'TSLA', 'TXN', 'VZ', 'WMT']\n"
     ]
    },
    {
     "name": "stderr",
     "output_type": "stream",
     "text": [
      "/opt/anaconda3/lib/python3.12/site-packages/cvxpy/reductions/solvers/solving_chain.py:356: FutureWarning: \n",
      "    You specified your problem should be solved by ECOS. Starting in\n",
      "    CXVPY 1.6.0, ECOS will no longer be installed by default with CVXPY.\n",
      "    Please either add ECOS as an explicit install dependency to your project\n",
      "    or switch to our new default solver, Clarabel, by either not specifying a\n",
      "    solver argument or specifying ``solver=cp.CLARABEL``. To suppress this\n",
      "    warning while continuing to use ECOS, you can filter this warning using\n",
      "    Python's ``warnings`` module until you are using 1.6.0.\n",
      "    \n",
      "  warnings.warn(ECOS_DEP_DEPRECATION_MSG, FutureWarning)\n",
      "/opt/anaconda3/lib/python3.12/site-packages/cvxpy/problems/problem.py:1407: UserWarning: Solution may be inaccurate. Try another solver, adjusting the solver settings, or solve with verbose=True for more information.\n",
      "  warnings.warn(\n"
     ]
    },
    {
     "name": "stdout",
     "output_type": "stream",
     "text": [
      "[t=2757 | 2022-07-27] active: ['AAPL', 'ACN', 'ADBE', 'AMAT', 'AMD', 'AMZN', 'AVGO', 'BKNG', 'COST', 'CRM', 'CSCO', 'DIS', 'GOOGL', 'HD', 'IBM', 'INTU', 'KO', 'MCD', 'META', 'MSFT', 'NFLX', 'NOW', 'NVDA', 'ORCL', 'PG', 'PLTR', 'PM', 'QCOM', 'T', 'TSLA', 'TXN', 'VZ', 'WMT']\n"
     ]
    },
    {
     "name": "stderr",
     "output_type": "stream",
     "text": [
      "/opt/anaconda3/lib/python3.12/site-packages/cvxpy/reductions/solvers/solving_chain.py:356: FutureWarning: \n",
      "    You specified your problem should be solved by ECOS. Starting in\n",
      "    CXVPY 1.6.0, ECOS will no longer be installed by default with CVXPY.\n",
      "    Please either add ECOS as an explicit install dependency to your project\n",
      "    or switch to our new default solver, Clarabel, by either not specifying a\n",
      "    solver argument or specifying ``solver=cp.CLARABEL``. To suppress this\n",
      "    warning while continuing to use ECOS, you can filter this warning using\n",
      "    Python's ``warnings`` module until you are using 1.6.0.\n",
      "    \n",
      "  warnings.warn(ECOS_DEP_DEPRECATION_MSG, FutureWarning)\n",
      "/opt/anaconda3/lib/python3.12/site-packages/cvxpy/problems/problem.py:1407: UserWarning: Solution may be inaccurate. Try another solver, adjusting the solver settings, or solve with verbose=True for more information.\n",
      "  warnings.warn(\n"
     ]
    },
    {
     "name": "stdout",
     "output_type": "stream",
     "text": [
      "[t=2758 | 2022-07-28] active: ['AAPL', 'ACN', 'ADBE', 'AMAT', 'AMD', 'AMZN', 'AVGO', 'BKNG', 'COST', 'CRM', 'CSCO', 'DIS', 'GOOGL', 'HD', 'IBM', 'INTU', 'KO', 'MCD', 'META', 'MSFT', 'NFLX', 'NOW', 'NVDA', 'ORCL', 'PG', 'PLTR', 'PM', 'QCOM', 'T', 'TSLA', 'TXN', 'VZ', 'WMT']\n"
     ]
    },
    {
     "name": "stderr",
     "output_type": "stream",
     "text": [
      "/opt/anaconda3/lib/python3.12/site-packages/cvxpy/reductions/solvers/solving_chain.py:356: FutureWarning: \n",
      "    You specified your problem should be solved by ECOS. Starting in\n",
      "    CXVPY 1.6.0, ECOS will no longer be installed by default with CVXPY.\n",
      "    Please either add ECOS as an explicit install dependency to your project\n",
      "    or switch to our new default solver, Clarabel, by either not specifying a\n",
      "    solver argument or specifying ``solver=cp.CLARABEL``. To suppress this\n",
      "    warning while continuing to use ECOS, you can filter this warning using\n",
      "    Python's ``warnings`` module until you are using 1.6.0.\n",
      "    \n",
      "  warnings.warn(ECOS_DEP_DEPRECATION_MSG, FutureWarning)\n",
      "/opt/anaconda3/lib/python3.12/site-packages/cvxpy/problems/problem.py:1407: UserWarning: Solution may be inaccurate. Try another solver, adjusting the solver settings, or solve with verbose=True for more information.\n",
      "  warnings.warn(\n"
     ]
    },
    {
     "name": "stdout",
     "output_type": "stream",
     "text": [
      "[t=2759 | 2022-07-29] active: ['AAPL', 'ACN', 'ADBE', 'AMAT', 'AMD', 'AMZN', 'AVGO', 'BKNG', 'COST', 'CRM', 'CSCO', 'DIS', 'GOOGL', 'HD', 'IBM', 'INTU', 'KO', 'MCD', 'META', 'MSFT', 'NFLX', 'NOW', 'NVDA', 'ORCL', 'PG', 'PLTR', 'PM', 'QCOM', 'T', 'TSLA', 'TXN', 'VZ', 'WMT']\n"
     ]
    },
    {
     "name": "stderr",
     "output_type": "stream",
     "text": [
      "/opt/anaconda3/lib/python3.12/site-packages/cvxpy/reductions/solvers/solving_chain.py:356: FutureWarning: \n",
      "    You specified your problem should be solved by ECOS. Starting in\n",
      "    CXVPY 1.6.0, ECOS will no longer be installed by default with CVXPY.\n",
      "    Please either add ECOS as an explicit install dependency to your project\n",
      "    or switch to our new default solver, Clarabel, by either not specifying a\n",
      "    solver argument or specifying ``solver=cp.CLARABEL``. To suppress this\n",
      "    warning while continuing to use ECOS, you can filter this warning using\n",
      "    Python's ``warnings`` module until you are using 1.6.0.\n",
      "    \n",
      "  warnings.warn(ECOS_DEP_DEPRECATION_MSG, FutureWarning)\n",
      "/opt/anaconda3/lib/python3.12/site-packages/cvxpy/problems/problem.py:1407: UserWarning: Solution may be inaccurate. Try another solver, adjusting the solver settings, or solve with verbose=True for more information.\n",
      "  warnings.warn(\n"
     ]
    },
    {
     "name": "stdout",
     "output_type": "stream",
     "text": [
      "[t=2767 | 2022-08-10] active: ['AAPL', 'ACN', 'ADBE', 'AMAT', 'AMD', 'AMZN', 'AVGO', 'BKNG', 'COST', 'CRM', 'CSCO', 'DIS', 'GOOGL', 'HD', 'IBM', 'INTU', 'KO', 'MCD', 'META', 'MSFT', 'NFLX', 'NOW', 'NVDA', 'ORCL', 'PG', 'PLTR', 'PM', 'QCOM', 'T', 'TSLA', 'TXN', 'VZ', 'WMT']\n"
     ]
    },
    {
     "name": "stderr",
     "output_type": "stream",
     "text": [
      "/opt/anaconda3/lib/python3.12/site-packages/cvxpy/reductions/solvers/solving_chain.py:356: FutureWarning: \n",
      "    You specified your problem should be solved by ECOS. Starting in\n",
      "    CXVPY 1.6.0, ECOS will no longer be installed by default with CVXPY.\n",
      "    Please either add ECOS as an explicit install dependency to your project\n",
      "    or switch to our new default solver, Clarabel, by either not specifying a\n",
      "    solver argument or specifying ``solver=cp.CLARABEL``. To suppress this\n",
      "    warning while continuing to use ECOS, you can filter this warning using\n",
      "    Python's ``warnings`` module until you are using 1.6.0.\n",
      "    \n",
      "  warnings.warn(ECOS_DEP_DEPRECATION_MSG, FutureWarning)\n",
      "/opt/anaconda3/lib/python3.12/site-packages/cvxpy/problems/problem.py:1407: UserWarning: Solution may be inaccurate. Try another solver, adjusting the solver settings, or solve with verbose=True for more information.\n",
      "  warnings.warn(\n"
     ]
    },
    {
     "name": "stdout",
     "output_type": "stream",
     "text": [
      "[t=2768 | 2022-08-11] active: ['AAPL', 'ACN', 'ADBE', 'AMAT', 'AMD', 'AMZN', 'AVGO', 'BKNG', 'COST', 'CRM', 'CSCO', 'DIS', 'GOOGL', 'HD', 'IBM', 'INTU', 'KO', 'MCD', 'META', 'MSFT', 'NFLX', 'NOW', 'NVDA', 'ORCL', 'PG', 'PLTR', 'PM', 'QCOM', 'T', 'TSLA', 'TXN', 'VZ', 'WMT']\n"
     ]
    },
    {
     "name": "stderr",
     "output_type": "stream",
     "text": [
      "/opt/anaconda3/lib/python3.12/site-packages/cvxpy/reductions/solvers/solving_chain.py:356: FutureWarning: \n",
      "    You specified your problem should be solved by ECOS. Starting in\n",
      "    CXVPY 1.6.0, ECOS will no longer be installed by default with CVXPY.\n",
      "    Please either add ECOS as an explicit install dependency to your project\n",
      "    or switch to our new default solver, Clarabel, by either not specifying a\n",
      "    solver argument or specifying ``solver=cp.CLARABEL``. To suppress this\n",
      "    warning while continuing to use ECOS, you can filter this warning using\n",
      "    Python's ``warnings`` module until you are using 1.6.0.\n",
      "    \n",
      "  warnings.warn(ECOS_DEP_DEPRECATION_MSG, FutureWarning)\n",
      "/opt/anaconda3/lib/python3.12/site-packages/cvxpy/problems/problem.py:1407: UserWarning: Solution may be inaccurate. Try another solver, adjusting the solver settings, or solve with verbose=True for more information.\n",
      "  warnings.warn(\n"
     ]
    },
    {
     "name": "stdout",
     "output_type": "stream",
     "text": [
      "[t=2775 | 2022-08-22] active: ['AAPL', 'ACN', 'ADBE', 'AMAT', 'AMD', 'AMZN', 'AVGO', 'BKNG', 'COST', 'CRM', 'CSCO', 'DIS', 'GOOGL', 'HD', 'IBM', 'INTU', 'KO', 'MCD', 'META', 'MSFT', 'NFLX', 'NOW', 'NVDA', 'ORCL', 'PG', 'PLTR', 'PM', 'QCOM', 'T', 'TSLA', 'TXN', 'VZ', 'WMT']\n"
     ]
    },
    {
     "name": "stderr",
     "output_type": "stream",
     "text": [
      "/opt/anaconda3/lib/python3.12/site-packages/cvxpy/reductions/solvers/solving_chain.py:356: FutureWarning: \n",
      "    You specified your problem should be solved by ECOS. Starting in\n",
      "    CXVPY 1.6.0, ECOS will no longer be installed by default with CVXPY.\n",
      "    Please either add ECOS as an explicit install dependency to your project\n",
      "    or switch to our new default solver, Clarabel, by either not specifying a\n",
      "    solver argument or specifying ``solver=cp.CLARABEL``. To suppress this\n",
      "    warning while continuing to use ECOS, you can filter this warning using\n",
      "    Python's ``warnings`` module until you are using 1.6.0.\n",
      "    \n",
      "  warnings.warn(ECOS_DEP_DEPRECATION_MSG, FutureWarning)\n",
      "/opt/anaconda3/lib/python3.12/site-packages/cvxpy/problems/problem.py:1407: UserWarning: Solution may be inaccurate. Try another solver, adjusting the solver settings, or solve with verbose=True for more information.\n",
      "  warnings.warn(\n"
     ]
    },
    {
     "name": "stdout",
     "output_type": "stream",
     "text": [
      "[t=2779 | 2022-08-26] active: ['AAPL', 'ACN', 'ADBE', 'AMAT', 'AMD', 'AMZN', 'AVGO', 'BKNG', 'COST', 'CRM', 'CSCO', 'DIS', 'GOOGL', 'HD', 'IBM', 'INTU', 'KO', 'MCD', 'META', 'MSFT', 'NFLX', 'NOW', 'NVDA', 'ORCL', 'PG', 'PLTR', 'PM', 'QCOM', 'T', 'TSLA', 'TXN', 'VZ', 'WMT']\n"
     ]
    },
    {
     "name": "stderr",
     "output_type": "stream",
     "text": [
      "/opt/anaconda3/lib/python3.12/site-packages/cvxpy/reductions/solvers/solving_chain.py:356: FutureWarning: \n",
      "    You specified your problem should be solved by ECOS. Starting in\n",
      "    CXVPY 1.6.0, ECOS will no longer be installed by default with CVXPY.\n",
      "    Please either add ECOS as an explicit install dependency to your project\n",
      "    or switch to our new default solver, Clarabel, by either not specifying a\n",
      "    solver argument or specifying ``solver=cp.CLARABEL``. To suppress this\n",
      "    warning while continuing to use ECOS, you can filter this warning using\n",
      "    Python's ``warnings`` module until you are using 1.6.0.\n",
      "    \n",
      "  warnings.warn(ECOS_DEP_DEPRECATION_MSG, FutureWarning)\n",
      "/opt/anaconda3/lib/python3.12/site-packages/cvxpy/problems/problem.py:1407: UserWarning: Solution may be inaccurate. Try another solver, adjusting the solver settings, or solve with verbose=True for more information.\n",
      "  warnings.warn(\n"
     ]
    },
    {
     "name": "stdout",
     "output_type": "stream",
     "text": [
      "[t=2780 | 2022-08-29] active: ['AAPL', 'ACN', 'ADBE', 'AMAT', 'AMD', 'AMZN', 'AVGO', 'BKNG', 'COST', 'CRM', 'CSCO', 'DIS', 'GOOGL', 'HD', 'IBM', 'INTU', 'KO', 'MCD', 'META', 'MSFT', 'NFLX', 'NOW', 'NVDA', 'ORCL', 'PG', 'PLTR', 'PM', 'QCOM', 'T', 'TSLA', 'TXN', 'VZ', 'WMT']\n"
     ]
    },
    {
     "name": "stderr",
     "output_type": "stream",
     "text": [
      "/opt/anaconda3/lib/python3.12/site-packages/cvxpy/reductions/solvers/solving_chain.py:356: FutureWarning: \n",
      "    You specified your problem should be solved by ECOS. Starting in\n",
      "    CXVPY 1.6.0, ECOS will no longer be installed by default with CVXPY.\n",
      "    Please either add ECOS as an explicit install dependency to your project\n",
      "    or switch to our new default solver, Clarabel, by either not specifying a\n",
      "    solver argument or specifying ``solver=cp.CLARABEL``. To suppress this\n",
      "    warning while continuing to use ECOS, you can filter this warning using\n",
      "    Python's ``warnings`` module until you are using 1.6.0.\n",
      "    \n",
      "  warnings.warn(ECOS_DEP_DEPRECATION_MSG, FutureWarning)\n",
      "/opt/anaconda3/lib/python3.12/site-packages/cvxpy/problems/problem.py:1407: UserWarning: Solution may be inaccurate. Try another solver, adjusting the solver settings, or solve with verbose=True for more information.\n",
      "  warnings.warn(\n"
     ]
    },
    {
     "name": "stdout",
     "output_type": "stream",
     "text": [
      "[t=2791 | 2022-09-13] active: ['AAPL', 'ACN', 'ADBE', 'AMAT', 'AMD', 'AMZN', 'AVGO', 'BKNG', 'COST', 'CRM', 'CSCO', 'DIS', 'GOOGL', 'HD', 'IBM', 'INTU', 'KO', 'MCD', 'META', 'MSFT', 'NFLX', 'NOW', 'NVDA', 'ORCL', 'PG', 'PLTR', 'PM', 'QCOM', 'T', 'TSLA', 'TXN', 'VZ', 'WMT']\n"
     ]
    },
    {
     "name": "stderr",
     "output_type": "stream",
     "text": [
      "/opt/anaconda3/lib/python3.12/site-packages/cvxpy/reductions/solvers/solving_chain.py:356: FutureWarning: \n",
      "    You specified your problem should be solved by ECOS. Starting in\n",
      "    CXVPY 1.6.0, ECOS will no longer be installed by default with CVXPY.\n",
      "    Please either add ECOS as an explicit install dependency to your project\n",
      "    or switch to our new default solver, Clarabel, by either not specifying a\n",
      "    solver argument or specifying ``solver=cp.CLARABEL``. To suppress this\n",
      "    warning while continuing to use ECOS, you can filter this warning using\n",
      "    Python's ``warnings`` module until you are using 1.6.0.\n",
      "    \n",
      "  warnings.warn(ECOS_DEP_DEPRECATION_MSG, FutureWarning)\n",
      "/opt/anaconda3/lib/python3.12/site-packages/cvxpy/problems/problem.py:1407: UserWarning: Solution may be inaccurate. Try another solver, adjusting the solver settings, or solve with verbose=True for more information.\n",
      "  warnings.warn(\n"
     ]
    },
    {
     "name": "stdout",
     "output_type": "stream",
     "text": [
      "[t=2792 | 2022-09-14] active: ['AAPL', 'ACN', 'ADBE', 'AMAT', 'AMD', 'AMZN', 'AVGO', 'BKNG', 'COST', 'CRM', 'CSCO', 'DIS', 'GOOGL', 'HD', 'IBM', 'INTU', 'KO', 'MCD', 'META', 'MSFT', 'NFLX', 'NOW', 'NVDA', 'ORCL', 'PG', 'PLTR', 'PM', 'QCOM', 'T', 'TSLA', 'TXN', 'VZ', 'WMT']\n"
     ]
    },
    {
     "name": "stderr",
     "output_type": "stream",
     "text": [
      "/opt/anaconda3/lib/python3.12/site-packages/cvxpy/reductions/solvers/solving_chain.py:356: FutureWarning: \n",
      "    You specified your problem should be solved by ECOS. Starting in\n",
      "    CXVPY 1.6.0, ECOS will no longer be installed by default with CVXPY.\n",
      "    Please either add ECOS as an explicit install dependency to your project\n",
      "    or switch to our new default solver, Clarabel, by either not specifying a\n",
      "    solver argument or specifying ``solver=cp.CLARABEL``. To suppress this\n",
      "    warning while continuing to use ECOS, you can filter this warning using\n",
      "    Python's ``warnings`` module until you are using 1.6.0.\n",
      "    \n",
      "  warnings.warn(ECOS_DEP_DEPRECATION_MSG, FutureWarning)\n",
      "/opt/anaconda3/lib/python3.12/site-packages/cvxpy/problems/problem.py:1407: UserWarning: Solution may be inaccurate. Try another solver, adjusting the solver settings, or solve with verbose=True for more information.\n",
      "  warnings.warn(\n"
     ]
    },
    {
     "name": "stdout",
     "output_type": "stream",
     "text": [
      "[t=2803 | 2022-09-29] active: ['AAPL', 'ACN', 'ADBE', 'AMAT', 'AMD', 'AMZN', 'AVGO', 'BKNG', 'COST', 'CRM', 'CSCO', 'DIS', 'GOOGL', 'HD', 'IBM', 'INTU', 'KO', 'MCD', 'META', 'MSFT', 'NFLX', 'NOW', 'NVDA', 'ORCL', 'PG', 'PLTR', 'PM', 'QCOM', 'T', 'TSLA', 'TXN', 'VZ', 'WMT']\n"
     ]
    },
    {
     "name": "stderr",
     "output_type": "stream",
     "text": [
      "/opt/anaconda3/lib/python3.12/site-packages/cvxpy/reductions/solvers/solving_chain.py:356: FutureWarning: \n",
      "    You specified your problem should be solved by ECOS. Starting in\n",
      "    CXVPY 1.6.0, ECOS will no longer be installed by default with CVXPY.\n",
      "    Please either add ECOS as an explicit install dependency to your project\n",
      "    or switch to our new default solver, Clarabel, by either not specifying a\n",
      "    solver argument or specifying ``solver=cp.CLARABEL``. To suppress this\n",
      "    warning while continuing to use ECOS, you can filter this warning using\n",
      "    Python's ``warnings`` module until you are using 1.6.0.\n",
      "    \n",
      "  warnings.warn(ECOS_DEP_DEPRECATION_MSG, FutureWarning)\n",
      "/opt/anaconda3/lib/python3.12/site-packages/cvxpy/problems/problem.py:1407: UserWarning: Solution may be inaccurate. Try another solver, adjusting the solver settings, or solve with verbose=True for more information.\n",
      "  warnings.warn(\n"
     ]
    },
    {
     "name": "stdout",
     "output_type": "stream",
     "text": [
      "[t=2804 | 2022-09-30] active: ['AAPL', 'ACN', 'ADBE', 'AMAT', 'AMD', 'AMZN', 'AVGO', 'BKNG', 'COST', 'CRM', 'CSCO', 'DIS', 'GOOGL', 'HD', 'IBM', 'INTU', 'KO', 'MCD', 'META', 'MSFT', 'NFLX', 'NOW', 'NVDA', 'ORCL', 'PG', 'PLTR', 'PM', 'QCOM', 'T', 'TSLA', 'TXN', 'VZ', 'WMT']\n"
     ]
    },
    {
     "name": "stderr",
     "output_type": "stream",
     "text": [
      "/opt/anaconda3/lib/python3.12/site-packages/cvxpy/reductions/solvers/solving_chain.py:356: FutureWarning: \n",
      "    You specified your problem should be solved by ECOS. Starting in\n",
      "    CXVPY 1.6.0, ECOS will no longer be installed by default with CVXPY.\n",
      "    Please either add ECOS as an explicit install dependency to your project\n",
      "    or switch to our new default solver, Clarabel, by either not specifying a\n",
      "    solver argument or specifying ``solver=cp.CLARABEL``. To suppress this\n",
      "    warning while continuing to use ECOS, you can filter this warning using\n",
      "    Python's ``warnings`` module until you are using 1.6.0.\n",
      "    \n",
      "  warnings.warn(ECOS_DEP_DEPRECATION_MSG, FutureWarning)\n",
      "/opt/anaconda3/lib/python3.12/site-packages/cvxpy/problems/problem.py:1407: UserWarning: Solution may be inaccurate. Try another solver, adjusting the solver settings, or solve with verbose=True for more information.\n",
      "  warnings.warn(\n"
     ]
    },
    {
     "name": "stdout",
     "output_type": "stream",
     "text": [
      "[t=2805 | 2022-10-03] active: ['AAPL', 'ACN', 'ADBE', 'AMAT', 'AMD', 'AMZN', 'AVGO', 'BKNG', 'COST', 'CRM', 'CSCO', 'DIS', 'GOOGL', 'HD', 'IBM', 'INTU', 'KO', 'MCD', 'META', 'MSFT', 'NFLX', 'NOW', 'NVDA', 'ORCL', 'PG', 'PLTR', 'PM', 'QCOM', 'T', 'TSLA', 'TXN', 'VZ', 'WMT']\n"
     ]
    },
    {
     "name": "stderr",
     "output_type": "stream",
     "text": [
      "/opt/anaconda3/lib/python3.12/site-packages/cvxpy/reductions/solvers/solving_chain.py:356: FutureWarning: \n",
      "    You specified your problem should be solved by ECOS. Starting in\n",
      "    CXVPY 1.6.0, ECOS will no longer be installed by default with CVXPY.\n",
      "    Please either add ECOS as an explicit install dependency to your project\n",
      "    or switch to our new default solver, Clarabel, by either not specifying a\n",
      "    solver argument or specifying ``solver=cp.CLARABEL``. To suppress this\n",
      "    warning while continuing to use ECOS, you can filter this warning using\n",
      "    Python's ``warnings`` module until you are using 1.6.0.\n",
      "    \n",
      "  warnings.warn(ECOS_DEP_DEPRECATION_MSG, FutureWarning)\n",
      "/opt/anaconda3/lib/python3.12/site-packages/cvxpy/problems/problem.py:1407: UserWarning: Solution may be inaccurate. Try another solver, adjusting the solver settings, or solve with verbose=True for more information.\n",
      "  warnings.warn(\n"
     ]
    },
    {
     "name": "stdout",
     "output_type": "stream",
     "text": [
      "[t=2806 | 2022-10-04] active: ['AAPL', 'ACN', 'ADBE', 'AMAT', 'AMD', 'AMZN', 'AVGO', 'BKNG', 'COST', 'CRM', 'CSCO', 'DIS', 'GOOGL', 'HD', 'IBM', 'INTU', 'KO', 'MCD', 'META', 'MSFT', 'NFLX', 'NOW', 'NVDA', 'ORCL', 'PG', 'PLTR', 'PM', 'QCOM', 'T', 'TSLA', 'TXN', 'VZ', 'WMT']\n"
     ]
    },
    {
     "name": "stderr",
     "output_type": "stream",
     "text": [
      "/opt/anaconda3/lib/python3.12/site-packages/cvxpy/reductions/solvers/solving_chain.py:356: FutureWarning: \n",
      "    You specified your problem should be solved by ECOS. Starting in\n",
      "    CXVPY 1.6.0, ECOS will no longer be installed by default with CVXPY.\n",
      "    Please either add ECOS as an explicit install dependency to your project\n",
      "    or switch to our new default solver, Clarabel, by either not specifying a\n",
      "    solver argument or specifying ``solver=cp.CLARABEL``. To suppress this\n",
      "    warning while continuing to use ECOS, you can filter this warning using\n",
      "    Python's ``warnings`` module until you are using 1.6.0.\n",
      "    \n",
      "  warnings.warn(ECOS_DEP_DEPRECATION_MSG, FutureWarning)\n",
      "/opt/anaconda3/lib/python3.12/site-packages/cvxpy/problems/problem.py:1407: UserWarning: Solution may be inaccurate. Try another solver, adjusting the solver settings, or solve with verbose=True for more information.\n",
      "  warnings.warn(\n"
     ]
    },
    {
     "name": "stdout",
     "output_type": "stream",
     "text": [
      "[t=2809 | 2022-10-07] active: ['AAPL', 'ACN', 'ADBE', 'AMAT', 'AMD', 'AMZN', 'AVGO', 'BKNG', 'COST', 'CRM', 'CSCO', 'DIS', 'GOOGL', 'HD', 'IBM', 'INTU', 'KO', 'MCD', 'META', 'MSFT', 'NFLX', 'NOW', 'NVDA', 'ORCL', 'PG', 'PLTR', 'PM', 'QCOM', 'T', 'TSLA', 'TXN', 'VZ', 'WMT']\n"
     ]
    },
    {
     "name": "stderr",
     "output_type": "stream",
     "text": [
      "/opt/anaconda3/lib/python3.12/site-packages/cvxpy/reductions/solvers/solving_chain.py:356: FutureWarning: \n",
      "    You specified your problem should be solved by ECOS. Starting in\n",
      "    CXVPY 1.6.0, ECOS will no longer be installed by default with CVXPY.\n",
      "    Please either add ECOS as an explicit install dependency to your project\n",
      "    or switch to our new default solver, Clarabel, by either not specifying a\n",
      "    solver argument or specifying ``solver=cp.CLARABEL``. To suppress this\n",
      "    warning while continuing to use ECOS, you can filter this warning using\n",
      "    Python's ``warnings`` module until you are using 1.6.0.\n",
      "    \n",
      "  warnings.warn(ECOS_DEP_DEPRECATION_MSG, FutureWarning)\n",
      "/opt/anaconda3/lib/python3.12/site-packages/cvxpy/problems/problem.py:1407: UserWarning: Solution may be inaccurate. Try another solver, adjusting the solver settings, or solve with verbose=True for more information.\n",
      "  warnings.warn(\n"
     ]
    },
    {
     "name": "stdout",
     "output_type": "stream",
     "text": [
      "[t=2810 | 2022-10-10] active: ['AAPL', 'ACN', 'ADBE', 'AMAT', 'AMD', 'AMZN', 'AVGO', 'BKNG', 'COST', 'CRM', 'CSCO', 'DIS', 'GOOGL', 'HD', 'IBM', 'INTU', 'KO', 'MCD', 'META', 'MSFT', 'NFLX', 'NOW', 'NVDA', 'ORCL', 'PG', 'PLTR', 'PM', 'QCOM', 'T', 'TSLA', 'TXN', 'VZ', 'WMT']\n"
     ]
    },
    {
     "name": "stderr",
     "output_type": "stream",
     "text": [
      "/opt/anaconda3/lib/python3.12/site-packages/cvxpy/reductions/solvers/solving_chain.py:356: FutureWarning: \n",
      "    You specified your problem should be solved by ECOS. Starting in\n",
      "    CXVPY 1.6.0, ECOS will no longer be installed by default with CVXPY.\n",
      "    Please either add ECOS as an explicit install dependency to your project\n",
      "    or switch to our new default solver, Clarabel, by either not specifying a\n",
      "    solver argument or specifying ``solver=cp.CLARABEL``. To suppress this\n",
      "    warning while continuing to use ECOS, you can filter this warning using\n",
      "    Python's ``warnings`` module until you are using 1.6.0.\n",
      "    \n",
      "  warnings.warn(ECOS_DEP_DEPRECATION_MSG, FutureWarning)\n",
      "/opt/anaconda3/lib/python3.12/site-packages/cvxpy/problems/problem.py:1407: UserWarning: Solution may be inaccurate. Try another solver, adjusting the solver settings, or solve with verbose=True for more information.\n",
      "  warnings.warn(\n"
     ]
    },
    {
     "name": "stdout",
     "output_type": "stream",
     "text": [
      "[t=2814 | 2022-10-14] active: ['AAPL', 'ACN', 'ADBE', 'AMAT', 'AMD', 'AMZN', 'AVGO', 'BKNG', 'COST', 'CRM', 'CSCO', 'DIS', 'GOOGL', 'HD', 'IBM', 'INTU', 'KO', 'MCD', 'META', 'MSFT', 'NFLX', 'NOW', 'NVDA', 'ORCL', 'PG', 'PLTR', 'PM', 'QCOM', 'T', 'TSLA', 'TXN', 'VZ', 'WMT']\n"
     ]
    },
    {
     "name": "stderr",
     "output_type": "stream",
     "text": [
      "/opt/anaconda3/lib/python3.12/site-packages/cvxpy/reductions/solvers/solving_chain.py:356: FutureWarning: \n",
      "    You specified your problem should be solved by ECOS. Starting in\n",
      "    CXVPY 1.6.0, ECOS will no longer be installed by default with CVXPY.\n",
      "    Please either add ECOS as an explicit install dependency to your project\n",
      "    or switch to our new default solver, Clarabel, by either not specifying a\n",
      "    solver argument or specifying ``solver=cp.CLARABEL``. To suppress this\n",
      "    warning while continuing to use ECOS, you can filter this warning using\n",
      "    Python's ``warnings`` module until you are using 1.6.0.\n",
      "    \n",
      "  warnings.warn(ECOS_DEP_DEPRECATION_MSG, FutureWarning)\n",
      "/opt/anaconda3/lib/python3.12/site-packages/cvxpy/problems/problem.py:1407: UserWarning: Solution may be inaccurate. Try another solver, adjusting the solver settings, or solve with verbose=True for more information.\n",
      "  warnings.warn(\n"
     ]
    },
    {
     "name": "stdout",
     "output_type": "stream",
     "text": [
      "[t=2815 | 2022-10-17] active: ['AAPL', 'ACN', 'ADBE', 'AMAT', 'AMD', 'AMZN', 'AVGO', 'BKNG', 'COST', 'CRM', 'CSCO', 'DIS', 'GOOGL', 'HD', 'IBM', 'INTU', 'KO', 'MCD', 'META', 'MSFT', 'NFLX', 'NOW', 'NVDA', 'ORCL', 'PG', 'PLTR', 'PM', 'QCOM', 'T', 'TSLA', 'TXN', 'VZ', 'WMT']\n"
     ]
    },
    {
     "name": "stderr",
     "output_type": "stream",
     "text": [
      "/opt/anaconda3/lib/python3.12/site-packages/cvxpy/reductions/solvers/solving_chain.py:356: FutureWarning: \n",
      "    You specified your problem should be solved by ECOS. Starting in\n",
      "    CXVPY 1.6.0, ECOS will no longer be installed by default with CVXPY.\n",
      "    Please either add ECOS as an explicit install dependency to your project\n",
      "    or switch to our new default solver, Clarabel, by either not specifying a\n",
      "    solver argument or specifying ``solver=cp.CLARABEL``. To suppress this\n",
      "    warning while continuing to use ECOS, you can filter this warning using\n",
      "    Python's ``warnings`` module until you are using 1.6.0.\n",
      "    \n",
      "  warnings.warn(ECOS_DEP_DEPRECATION_MSG, FutureWarning)\n",
      "/opt/anaconda3/lib/python3.12/site-packages/cvxpy/problems/problem.py:1407: UserWarning: Solution may be inaccurate. Try another solver, adjusting the solver settings, or solve with verbose=True for more information.\n",
      "  warnings.warn(\n"
     ]
    },
    {
     "name": "stdout",
     "output_type": "stream",
     "text": [
      "[t=2816 | 2022-10-18] active: ['AAPL', 'ACN', 'ADBE', 'AMAT', 'AMD', 'AMZN', 'AVGO', 'BKNG', 'COST', 'CRM', 'CSCO', 'DIS', 'GOOGL', 'HD', 'IBM', 'INTU', 'KO', 'MCD', 'META', 'MSFT', 'NFLX', 'NOW', 'NVDA', 'ORCL', 'PG', 'PLTR', 'PM', 'QCOM', 'T', 'TSLA', 'TXN', 'VZ', 'WMT']\n"
     ]
    },
    {
     "name": "stderr",
     "output_type": "stream",
     "text": [
      "/opt/anaconda3/lib/python3.12/site-packages/cvxpy/reductions/solvers/solving_chain.py:356: FutureWarning: \n",
      "    You specified your problem should be solved by ECOS. Starting in\n",
      "    CXVPY 1.6.0, ECOS will no longer be installed by default with CVXPY.\n",
      "    Please either add ECOS as an explicit install dependency to your project\n",
      "    or switch to our new default solver, Clarabel, by either not specifying a\n",
      "    solver argument or specifying ``solver=cp.CLARABEL``. To suppress this\n",
      "    warning while continuing to use ECOS, you can filter this warning using\n",
      "    Python's ``warnings`` module until you are using 1.6.0.\n",
      "    \n",
      "  warnings.warn(ECOS_DEP_DEPRECATION_MSG, FutureWarning)\n",
      "/opt/anaconda3/lib/python3.12/site-packages/cvxpy/problems/problem.py:1407: UserWarning: Solution may be inaccurate. Try another solver, adjusting the solver settings, or solve with verbose=True for more information.\n",
      "  warnings.warn(\n"
     ]
    },
    {
     "name": "stdout",
     "output_type": "stream",
     "text": [
      "[t=2817 | 2022-10-19] active: ['AAPL', 'ACN', 'ADBE', 'AMAT', 'AMD', 'AMZN', 'AVGO', 'BKNG', 'COST', 'CRM', 'CSCO', 'DIS', 'GOOGL', 'HD', 'IBM', 'INTU', 'KO', 'MCD', 'META', 'MSFT', 'NFLX', 'NOW', 'NVDA', 'ORCL', 'PG', 'PLTR', 'PM', 'QCOM', 'T', 'TSLA', 'TXN', 'VZ', 'WMT']\n"
     ]
    },
    {
     "name": "stderr",
     "output_type": "stream",
     "text": [
      "/opt/anaconda3/lib/python3.12/site-packages/cvxpy/reductions/solvers/solving_chain.py:356: FutureWarning: \n",
      "    You specified your problem should be solved by ECOS. Starting in\n",
      "    CXVPY 1.6.0, ECOS will no longer be installed by default with CVXPY.\n",
      "    Please either add ECOS as an explicit install dependency to your project\n",
      "    or switch to our new default solver, Clarabel, by either not specifying a\n",
      "    solver argument or specifying ``solver=cp.CLARABEL``. To suppress this\n",
      "    warning while continuing to use ECOS, you can filter this warning using\n",
      "    Python's ``warnings`` module until you are using 1.6.0.\n",
      "    \n",
      "  warnings.warn(ECOS_DEP_DEPRECATION_MSG, FutureWarning)\n",
      "/opt/anaconda3/lib/python3.12/site-packages/cvxpy/problems/problem.py:1407: UserWarning: Solution may be inaccurate. Try another solver, adjusting the solver settings, or solve with verbose=True for more information.\n",
      "  warnings.warn(\n"
     ]
    },
    {
     "name": "stdout",
     "output_type": "stream",
     "text": [
      "[t=2818 | 2022-10-20] active: ['AAPL', 'ACN', 'ADBE', 'AMAT', 'AMD', 'AMZN', 'AVGO', 'BKNG', 'COST', 'CRM', 'CSCO', 'DIS', 'GOOGL', 'HD', 'IBM', 'INTU', 'KO', 'MCD', 'META', 'MSFT', 'NFLX', 'NOW', 'NVDA', 'ORCL', 'PG', 'PLTR', 'PM', 'QCOM', 'T', 'TSLA', 'TXN', 'VZ', 'WMT']\n"
     ]
    },
    {
     "name": "stderr",
     "output_type": "stream",
     "text": [
      "/opt/anaconda3/lib/python3.12/site-packages/cvxpy/reductions/solvers/solving_chain.py:356: FutureWarning: \n",
      "    You specified your problem should be solved by ECOS. Starting in\n",
      "    CXVPY 1.6.0, ECOS will no longer be installed by default with CVXPY.\n",
      "    Please either add ECOS as an explicit install dependency to your project\n",
      "    or switch to our new default solver, Clarabel, by either not specifying a\n",
      "    solver argument or specifying ``solver=cp.CLARABEL``. To suppress this\n",
      "    warning while continuing to use ECOS, you can filter this warning using\n",
      "    Python's ``warnings`` module until you are using 1.6.0.\n",
      "    \n",
      "  warnings.warn(ECOS_DEP_DEPRECATION_MSG, FutureWarning)\n",
      "/opt/anaconda3/lib/python3.12/site-packages/cvxpy/problems/problem.py:1407: UserWarning: Solution may be inaccurate. Try another solver, adjusting the solver settings, or solve with verbose=True for more information.\n",
      "  warnings.warn(\n"
     ]
    },
    {
     "name": "stdout",
     "output_type": "stream",
     "text": [
      "[t=2827 | 2022-11-02] active: ['AAPL', 'ACN', 'ADBE', 'AMAT', 'AMD', 'AMZN', 'AVGO', 'BKNG', 'COST', 'CRM', 'CSCO', 'DIS', 'GOOGL', 'HD', 'IBM', 'INTU', 'KO', 'MCD', 'META', 'MSFT', 'NFLX', 'NOW', 'NVDA', 'ORCL', 'PG', 'PLTR', 'PM', 'QCOM', 'T', 'TSLA', 'TXN', 'VZ', 'WMT']\n"
     ]
    },
    {
     "name": "stderr",
     "output_type": "stream",
     "text": [
      "/opt/anaconda3/lib/python3.12/site-packages/cvxpy/reductions/solvers/solving_chain.py:356: FutureWarning: \n",
      "    You specified your problem should be solved by ECOS. Starting in\n",
      "    CXVPY 1.6.0, ECOS will no longer be installed by default with CVXPY.\n",
      "    Please either add ECOS as an explicit install dependency to your project\n",
      "    or switch to our new default solver, Clarabel, by either not specifying a\n",
      "    solver argument or specifying ``solver=cp.CLARABEL``. To suppress this\n",
      "    warning while continuing to use ECOS, you can filter this warning using\n",
      "    Python's ``warnings`` module until you are using 1.6.0.\n",
      "    \n",
      "  warnings.warn(ECOS_DEP_DEPRECATION_MSG, FutureWarning)\n",
      "/opt/anaconda3/lib/python3.12/site-packages/cvxpy/problems/problem.py:1407: UserWarning: Solution may be inaccurate. Try another solver, adjusting the solver settings, or solve with verbose=True for more information.\n",
      "  warnings.warn(\n"
     ]
    },
    {
     "name": "stdout",
     "output_type": "stream",
     "text": [
      "[t=2828 | 2022-11-03] active: ['AAPL', 'ACN', 'ADBE', 'AMAT', 'AMD', 'AMZN', 'AVGO', 'BKNG', 'COST', 'CRM', 'CSCO', 'DIS', 'GOOGL', 'HD', 'IBM', 'INTU', 'KO', 'MCD', 'META', 'MSFT', 'NFLX', 'NOW', 'NVDA', 'ORCL', 'PG', 'PLTR', 'PM', 'QCOM', 'T', 'TSLA', 'TXN', 'VZ', 'WMT']\n"
     ]
    },
    {
     "name": "stderr",
     "output_type": "stream",
     "text": [
      "/opt/anaconda3/lib/python3.12/site-packages/cvxpy/reductions/solvers/solving_chain.py:356: FutureWarning: \n",
      "    You specified your problem should be solved by ECOS. Starting in\n",
      "    CXVPY 1.6.0, ECOS will no longer be installed by default with CVXPY.\n",
      "    Please either add ECOS as an explicit install dependency to your project\n",
      "    or switch to our new default solver, Clarabel, by either not specifying a\n",
      "    solver argument or specifying ``solver=cp.CLARABEL``. To suppress this\n",
      "    warning while continuing to use ECOS, you can filter this warning using\n",
      "    Python's ``warnings`` module until you are using 1.6.0.\n",
      "    \n",
      "  warnings.warn(ECOS_DEP_DEPRECATION_MSG, FutureWarning)\n",
      "/opt/anaconda3/lib/python3.12/site-packages/cvxpy/problems/problem.py:1407: UserWarning: Solution may be inaccurate. Try another solver, adjusting the solver settings, or solve with verbose=True for more information.\n",
      "  warnings.warn(\n"
     ]
    },
    {
     "name": "stdout",
     "output_type": "stream",
     "text": [
      "[t=2833 | 2022-11-10] active: ['AAPL', 'ACN', 'ADBE', 'AMAT', 'AMD', 'AMZN', 'AVGO', 'BKNG', 'COST', 'CRM', 'CSCO', 'DIS', 'GOOGL', 'HD', 'IBM', 'INTU', 'KO', 'MCD', 'META', 'MSFT', 'NFLX', 'NOW', 'NVDA', 'ORCL', 'PG', 'PLTR', 'PM', 'QCOM', 'T', 'TSLA', 'TXN', 'VZ', 'WMT']\n"
     ]
    },
    {
     "name": "stderr",
     "output_type": "stream",
     "text": [
      "/opt/anaconda3/lib/python3.12/site-packages/cvxpy/reductions/solvers/solving_chain.py:356: FutureWarning: \n",
      "    You specified your problem should be solved by ECOS. Starting in\n",
      "    CXVPY 1.6.0, ECOS will no longer be installed by default with CVXPY.\n",
      "    Please either add ECOS as an explicit install dependency to your project\n",
      "    or switch to our new default solver, Clarabel, by either not specifying a\n",
      "    solver argument or specifying ``solver=cp.CLARABEL``. To suppress this\n",
      "    warning while continuing to use ECOS, you can filter this warning using\n",
      "    Python's ``warnings`` module until you are using 1.6.0.\n",
      "    \n",
      "  warnings.warn(ECOS_DEP_DEPRECATION_MSG, FutureWarning)\n",
      "/opt/anaconda3/lib/python3.12/site-packages/cvxpy/problems/problem.py:1407: UserWarning: Solution may be inaccurate. Try another solver, adjusting the solver settings, or solve with verbose=True for more information.\n",
      "  warnings.warn(\n"
     ]
    },
    {
     "name": "stdout",
     "output_type": "stream",
     "text": [
      "[t=2834 | 2022-11-11] active: ['AAPL', 'ACN', 'ADBE', 'AMAT', 'AMD', 'AMZN', 'AVGO', 'BKNG', 'COST', 'CRM', 'CSCO', 'DIS', 'GOOGL', 'HD', 'IBM', 'INTU', 'KO', 'MCD', 'META', 'MSFT', 'NFLX', 'NOW', 'NVDA', 'ORCL', 'PG', 'PLTR', 'PM', 'QCOM', 'T', 'TSLA', 'TXN', 'VZ', 'WMT']\n"
     ]
    },
    {
     "name": "stderr",
     "output_type": "stream",
     "text": [
      "/opt/anaconda3/lib/python3.12/site-packages/cvxpy/reductions/solvers/solving_chain.py:356: FutureWarning: \n",
      "    You specified your problem should be solved by ECOS. Starting in\n",
      "    CXVPY 1.6.0, ECOS will no longer be installed by default with CVXPY.\n",
      "    Please either add ECOS as an explicit install dependency to your project\n",
      "    or switch to our new default solver, Clarabel, by either not specifying a\n",
      "    solver argument or specifying ``solver=cp.CLARABEL``. To suppress this\n",
      "    warning while continuing to use ECOS, you can filter this warning using\n",
      "    Python's ``warnings`` module until you are using 1.6.0.\n",
      "    \n",
      "  warnings.warn(ECOS_DEP_DEPRECATION_MSG, FutureWarning)\n",
      "/opt/anaconda3/lib/python3.12/site-packages/cvxpy/problems/problem.py:1407: UserWarning: Solution may be inaccurate. Try another solver, adjusting the solver settings, or solve with verbose=True for more information.\n",
      "  warnings.warn(\n"
     ]
    },
    {
     "name": "stdout",
     "output_type": "stream",
     "text": [
      "[t=2835 | 2022-11-14] active: ['AAPL', 'ACN', 'ADBE', 'AMAT', 'AMD', 'AMZN', 'AVGO', 'BKNG', 'COST', 'CRM', 'CSCO', 'DIS', 'GOOGL', 'HD', 'IBM', 'INTU', 'KO', 'MCD', 'META', 'MSFT', 'NFLX', 'NOW', 'NVDA', 'ORCL', 'PG', 'PLTR', 'PM', 'QCOM', 'T', 'TSLA', 'TXN', 'VZ', 'WMT']\n"
     ]
    },
    {
     "name": "stderr",
     "output_type": "stream",
     "text": [
      "/opt/anaconda3/lib/python3.12/site-packages/cvxpy/reductions/solvers/solving_chain.py:356: FutureWarning: \n",
      "    You specified your problem should be solved by ECOS. Starting in\n",
      "    CXVPY 1.6.0, ECOS will no longer be installed by default with CVXPY.\n",
      "    Please either add ECOS as an explicit install dependency to your project\n",
      "    or switch to our new default solver, Clarabel, by either not specifying a\n",
      "    solver argument or specifying ``solver=cp.CLARABEL``. To suppress this\n",
      "    warning while continuing to use ECOS, you can filter this warning using\n",
      "    Python's ``warnings`` module until you are using 1.6.0.\n",
      "    \n",
      "  warnings.warn(ECOS_DEP_DEPRECATION_MSG, FutureWarning)\n",
      "/opt/anaconda3/lib/python3.12/site-packages/cvxpy/problems/problem.py:1407: UserWarning: Solution may be inaccurate. Try another solver, adjusting the solver settings, or solve with verbose=True for more information.\n",
      "  warnings.warn(\n"
     ]
    },
    {
     "name": "stdout",
     "output_type": "stream",
     "text": [
      "[t=2837 | 2022-11-16] active: ['AAPL', 'ACN', 'ADBE', 'AMAT', 'AMD', 'AMZN', 'AVGO', 'BKNG', 'COST', 'CRM', 'CSCO', 'DIS', 'GOOGL', 'HD', 'IBM', 'INTU', 'KO', 'MCD', 'META', 'MSFT', 'NFLX', 'NOW', 'NVDA', 'ORCL', 'PG', 'PLTR', 'PM', 'QCOM', 'T', 'TSLA', 'TXN', 'VZ', 'WMT']\n"
     ]
    },
    {
     "name": "stderr",
     "output_type": "stream",
     "text": [
      "/opt/anaconda3/lib/python3.12/site-packages/cvxpy/reductions/solvers/solving_chain.py:356: FutureWarning: \n",
      "    You specified your problem should be solved by ECOS. Starting in\n",
      "    CXVPY 1.6.0, ECOS will no longer be installed by default with CVXPY.\n",
      "    Please either add ECOS as an explicit install dependency to your project\n",
      "    or switch to our new default solver, Clarabel, by either not specifying a\n",
      "    solver argument or specifying ``solver=cp.CLARABEL``. To suppress this\n",
      "    warning while continuing to use ECOS, you can filter this warning using\n",
      "    Python's ``warnings`` module until you are using 1.6.0.\n",
      "    \n",
      "  warnings.warn(ECOS_DEP_DEPRECATION_MSG, FutureWarning)\n",
      "/opt/anaconda3/lib/python3.12/site-packages/cvxpy/problems/problem.py:1407: UserWarning: Solution may be inaccurate. Try another solver, adjusting the solver settings, or solve with verbose=True for more information.\n",
      "  warnings.warn(\n"
     ]
    },
    {
     "name": "stdout",
     "output_type": "stream",
     "text": [
      "[t=2841 | 2022-11-22] active: ['AAPL', 'ACN', 'ADBE', 'AMAT', 'AMD', 'AMZN', 'AVGO', 'BKNG', 'COST', 'CRM', 'CSCO', 'DIS', 'GOOGL', 'HD', 'IBM', 'INTU', 'KO', 'MCD', 'META', 'MSFT', 'NFLX', 'NOW', 'NVDA', 'ORCL', 'PG', 'PLTR', 'PM', 'QCOM', 'T', 'TSLA', 'TXN', 'VZ', 'WMT']\n"
     ]
    },
    {
     "name": "stderr",
     "output_type": "stream",
     "text": [
      "/opt/anaconda3/lib/python3.12/site-packages/cvxpy/reductions/solvers/solving_chain.py:356: FutureWarning: \n",
      "    You specified your problem should be solved by ECOS. Starting in\n",
      "    CXVPY 1.6.0, ECOS will no longer be installed by default with CVXPY.\n",
      "    Please either add ECOS as an explicit install dependency to your project\n",
      "    or switch to our new default solver, Clarabel, by either not specifying a\n",
      "    solver argument or specifying ``solver=cp.CLARABEL``. To suppress this\n",
      "    warning while continuing to use ECOS, you can filter this warning using\n",
      "    Python's ``warnings`` module until you are using 1.6.0.\n",
      "    \n",
      "  warnings.warn(ECOS_DEP_DEPRECATION_MSG, FutureWarning)\n",
      "/opt/anaconda3/lib/python3.12/site-packages/cvxpy/problems/problem.py:1407: UserWarning: Solution may be inaccurate. Try another solver, adjusting the solver settings, or solve with verbose=True for more information.\n",
      "  warnings.warn(\n"
     ]
    },
    {
     "name": "stdout",
     "output_type": "stream",
     "text": [
      "[t=2847 | 2022-11-30] active: ['AAPL', 'ACN', 'ADBE', 'AMAT', 'AMD', 'AMZN', 'AVGO', 'BKNG', 'COST', 'CRM', 'CSCO', 'DIS', 'GOOGL', 'HD', 'IBM', 'INTU', 'KO', 'MCD', 'META', 'MSFT', 'NFLX', 'NOW', 'NVDA', 'ORCL', 'PG', 'PLTR', 'PM', 'QCOM', 'T', 'TSLA', 'TXN', 'VZ', 'WMT']\n"
     ]
    },
    {
     "name": "stderr",
     "output_type": "stream",
     "text": [
      "/opt/anaconda3/lib/python3.12/site-packages/cvxpy/reductions/solvers/solving_chain.py:356: FutureWarning: \n",
      "    You specified your problem should be solved by ECOS. Starting in\n",
      "    CXVPY 1.6.0, ECOS will no longer be installed by default with CVXPY.\n",
      "    Please either add ECOS as an explicit install dependency to your project\n",
      "    or switch to our new default solver, Clarabel, by either not specifying a\n",
      "    solver argument or specifying ``solver=cp.CLARABEL``. To suppress this\n",
      "    warning while continuing to use ECOS, you can filter this warning using\n",
      "    Python's ``warnings`` module until you are using 1.6.0.\n",
      "    \n",
      "  warnings.warn(ECOS_DEP_DEPRECATION_MSG, FutureWarning)\n",
      "/opt/anaconda3/lib/python3.12/site-packages/cvxpy/problems/problem.py:1407: UserWarning: Solution may be inaccurate. Try another solver, adjusting the solver settings, or solve with verbose=True for more information.\n",
      "  warnings.warn(\n"
     ]
    },
    {
     "name": "stdout",
     "output_type": "stream",
     "text": [
      "[t=2848 | 2022-12-01] active: ['AAPL', 'ACN', 'ADBE', 'AMAT', 'AMD', 'AMZN', 'AVGO', 'BKNG', 'COST', 'CRM', 'CSCO', 'DIS', 'GOOGL', 'HD', 'IBM', 'INTU', 'KO', 'MCD', 'META', 'MSFT', 'NFLX', 'NOW', 'NVDA', 'ORCL', 'PG', 'PLTR', 'PM', 'QCOM', 'T', 'TSLA', 'TXN', 'VZ', 'WMT']\n"
     ]
    },
    {
     "name": "stderr",
     "output_type": "stream",
     "text": [
      "/opt/anaconda3/lib/python3.12/site-packages/cvxpy/reductions/solvers/solving_chain.py:356: FutureWarning: \n",
      "    You specified your problem should be solved by ECOS. Starting in\n",
      "    CXVPY 1.6.0, ECOS will no longer be installed by default with CVXPY.\n",
      "    Please either add ECOS as an explicit install dependency to your project\n",
      "    or switch to our new default solver, Clarabel, by either not specifying a\n",
      "    solver argument or specifying ``solver=cp.CLARABEL``. To suppress this\n",
      "    warning while continuing to use ECOS, you can filter this warning using\n",
      "    Python's ``warnings`` module until you are using 1.6.0.\n",
      "    \n",
      "  warnings.warn(ECOS_DEP_DEPRECATION_MSG, FutureWarning)\n",
      "/opt/anaconda3/lib/python3.12/site-packages/cvxpy/problems/problem.py:1407: UserWarning: Solution may be inaccurate. Try another solver, adjusting the solver settings, or solve with verbose=True for more information.\n",
      "  warnings.warn(\n"
     ]
    },
    {
     "name": "stdout",
     "output_type": "stream",
     "text": [
      "[t=2851 | 2022-12-06] active: ['AAPL', 'ACN', 'ADBE', 'AMAT', 'AMD', 'AMZN', 'AVGO', 'BKNG', 'COST', 'CRM', 'CSCO', 'DIS', 'GOOGL', 'HD', 'IBM', 'INTU', 'KO', 'MCD', 'META', 'MSFT', 'NFLX', 'NOW', 'NVDA', 'ORCL', 'PG', 'PLTR', 'PM', 'QCOM', 'T', 'TSLA', 'TXN', 'VZ', 'WMT']\n"
     ]
    },
    {
     "name": "stderr",
     "output_type": "stream",
     "text": [
      "/opt/anaconda3/lib/python3.12/site-packages/cvxpy/reductions/solvers/solving_chain.py:356: FutureWarning: \n",
      "    You specified your problem should be solved by ECOS. Starting in\n",
      "    CXVPY 1.6.0, ECOS will no longer be installed by default with CVXPY.\n",
      "    Please either add ECOS as an explicit install dependency to your project\n",
      "    or switch to our new default solver, Clarabel, by either not specifying a\n",
      "    solver argument or specifying ``solver=cp.CLARABEL``. To suppress this\n",
      "    warning while continuing to use ECOS, you can filter this warning using\n",
      "    Python's ``warnings`` module until you are using 1.6.0.\n",
      "    \n",
      "  warnings.warn(ECOS_DEP_DEPRECATION_MSG, FutureWarning)\n",
      "/opt/anaconda3/lib/python3.12/site-packages/cvxpy/problems/problem.py:1407: UserWarning: Solution may be inaccurate. Try another solver, adjusting the solver settings, or solve with verbose=True for more information.\n",
      "  warnings.warn(\n"
     ]
    },
    {
     "name": "stdout",
     "output_type": "stream",
     "text": [
      "[t=2858 | 2022-12-15] active: ['AAPL', 'ACN', 'ADBE', 'AMAT', 'AMD', 'AMZN', 'AVGO', 'BKNG', 'COST', 'CRM', 'CSCO', 'DIS', 'GOOGL', 'HD', 'IBM', 'INTU', 'KO', 'MCD', 'META', 'MSFT', 'NFLX', 'NOW', 'NVDA', 'ORCL', 'PG', 'PLTR', 'PM', 'QCOM', 'T', 'TSLA', 'TXN', 'VZ', 'WMT']\n"
     ]
    },
    {
     "name": "stderr",
     "output_type": "stream",
     "text": [
      "/opt/anaconda3/lib/python3.12/site-packages/cvxpy/reductions/solvers/solving_chain.py:356: FutureWarning: \n",
      "    You specified your problem should be solved by ECOS. Starting in\n",
      "    CXVPY 1.6.0, ECOS will no longer be installed by default with CVXPY.\n",
      "    Please either add ECOS as an explicit install dependency to your project\n",
      "    or switch to our new default solver, Clarabel, by either not specifying a\n",
      "    solver argument or specifying ``solver=cp.CLARABEL``. To suppress this\n",
      "    warning while continuing to use ECOS, you can filter this warning using\n",
      "    Python's ``warnings`` module until you are using 1.6.0.\n",
      "    \n",
      "  warnings.warn(ECOS_DEP_DEPRECATION_MSG, FutureWarning)\n",
      "/opt/anaconda3/lib/python3.12/site-packages/cvxpy/problems/problem.py:1407: UserWarning: Solution may be inaccurate. Try another solver, adjusting the solver settings, or solve with verbose=True for more information.\n",
      "  warnings.warn(\n"
     ]
    },
    {
     "name": "stdout",
     "output_type": "stream",
     "text": [
      "[t=2859 | 2022-12-16] active: ['AAPL', 'ACN', 'ADBE', 'AMAT', 'AMD', 'AMZN', 'AVGO', 'BKNG', 'COST', 'CRM', 'CSCO', 'DIS', 'GOOGL', 'HD', 'IBM', 'INTU', 'KO', 'MCD', 'META', 'MSFT', 'NFLX', 'NOW', 'NVDA', 'ORCL', 'PG', 'PLTR', 'PM', 'QCOM', 'T', 'TSLA', 'TXN', 'VZ', 'WMT']\n"
     ]
    },
    {
     "name": "stderr",
     "output_type": "stream",
     "text": [
      "/opt/anaconda3/lib/python3.12/site-packages/cvxpy/reductions/solvers/solving_chain.py:356: FutureWarning: \n",
      "    You specified your problem should be solved by ECOS. Starting in\n",
      "    CXVPY 1.6.0, ECOS will no longer be installed by default with CVXPY.\n",
      "    Please either add ECOS as an explicit install dependency to your project\n",
      "    or switch to our new default solver, Clarabel, by either not specifying a\n",
      "    solver argument or specifying ``solver=cp.CLARABEL``. To suppress this\n",
      "    warning while continuing to use ECOS, you can filter this warning using\n",
      "    Python's ``warnings`` module until you are using 1.6.0.\n",
      "    \n",
      "  warnings.warn(ECOS_DEP_DEPRECATION_MSG, FutureWarning)\n",
      "/opt/anaconda3/lib/python3.12/site-packages/cvxpy/problems/problem.py:1407: UserWarning: Solution may be inaccurate. Try another solver, adjusting the solver settings, or solve with verbose=True for more information.\n",
      "  warnings.warn(\n"
     ]
    },
    {
     "name": "stdout",
     "output_type": "stream",
     "text": [
      "[t=2874 | 2023-01-06] active: ['AAPL', 'ACN', 'ADBE', 'AMAT', 'AMD', 'AMZN', 'AVGO', 'BKNG', 'COST', 'CRM', 'CSCO', 'DIS', 'GOOGL', 'HD', 'IBM', 'INTU', 'KO', 'MCD', 'META', 'MSFT', 'NFLX', 'NOW', 'NVDA', 'ORCL', 'PG', 'PLTR', 'PM', 'QCOM', 'T', 'TSLA', 'TXN', 'VZ', 'WMT']\n"
     ]
    },
    {
     "name": "stderr",
     "output_type": "stream",
     "text": [
      "/opt/anaconda3/lib/python3.12/site-packages/cvxpy/reductions/solvers/solving_chain.py:356: FutureWarning: \n",
      "    You specified your problem should be solved by ECOS. Starting in\n",
      "    CXVPY 1.6.0, ECOS will no longer be installed by default with CVXPY.\n",
      "    Please either add ECOS as an explicit install dependency to your project\n",
      "    or switch to our new default solver, Clarabel, by either not specifying a\n",
      "    solver argument or specifying ``solver=cp.CLARABEL``. To suppress this\n",
      "    warning while continuing to use ECOS, you can filter this warning using\n",
      "    Python's ``warnings`` module until you are using 1.6.0.\n",
      "    \n",
      "  warnings.warn(ECOS_DEP_DEPRECATION_MSG, FutureWarning)\n",
      "/opt/anaconda3/lib/python3.12/site-packages/cvxpy/problems/problem.py:1407: UserWarning: Solution may be inaccurate. Try another solver, adjusting the solver settings, or solve with verbose=True for more information.\n",
      "  warnings.warn(\n"
     ]
    },
    {
     "name": "stdout",
     "output_type": "stream",
     "text": [
      "[t=2875 | 2023-01-09] active: ['AAPL', 'ACN', 'ADBE', 'AMAT', 'AMD', 'AMZN', 'AVGO', 'BKNG', 'COST', 'CRM', 'CSCO', 'DIS', 'GOOGL', 'HD', 'IBM', 'INTU', 'KO', 'MCD', 'META', 'MSFT', 'NFLX', 'NOW', 'NVDA', 'ORCL', 'PG', 'PLTR', 'PM', 'QCOM', 'T', 'TSLA', 'TXN', 'VZ', 'WMT']\n"
     ]
    },
    {
     "name": "stderr",
     "output_type": "stream",
     "text": [
      "/opt/anaconda3/lib/python3.12/site-packages/cvxpy/reductions/solvers/solving_chain.py:356: FutureWarning: \n",
      "    You specified your problem should be solved by ECOS. Starting in\n",
      "    CXVPY 1.6.0, ECOS will no longer be installed by default with CVXPY.\n",
      "    Please either add ECOS as an explicit install dependency to your project\n",
      "    or switch to our new default solver, Clarabel, by either not specifying a\n",
      "    solver argument or specifying ``solver=cp.CLARABEL``. To suppress this\n",
      "    warning while continuing to use ECOS, you can filter this warning using\n",
      "    Python's ``warnings`` module until you are using 1.6.0.\n",
      "    \n",
      "  warnings.warn(ECOS_DEP_DEPRECATION_MSG, FutureWarning)\n",
      "/opt/anaconda3/lib/python3.12/site-packages/cvxpy/problems/problem.py:1407: UserWarning: Solution may be inaccurate. Try another solver, adjusting the solver settings, or solve with verbose=True for more information.\n",
      "  warnings.warn(\n"
     ]
    },
    {
     "name": "stdout",
     "output_type": "stream",
     "text": [
      "[t=2893 | 2023-02-02] active: ['AAPL', 'ACN', 'ADBE', 'AMAT', 'AMD', 'AMZN', 'AVGO', 'BKNG', 'COST', 'CRM', 'CSCO', 'DIS', 'GOOGL', 'HD', 'IBM', 'INTU', 'KO', 'MCD', 'META', 'MSFT', 'NFLX', 'NOW', 'NVDA', 'ORCL', 'PG', 'PLTR', 'PM', 'QCOM', 'T', 'TSLA', 'TXN', 'VZ', 'WMT']\n"
     ]
    },
    {
     "name": "stderr",
     "output_type": "stream",
     "text": [
      "/opt/anaconda3/lib/python3.12/site-packages/cvxpy/reductions/solvers/solving_chain.py:356: FutureWarning: \n",
      "    You specified your problem should be solved by ECOS. Starting in\n",
      "    CXVPY 1.6.0, ECOS will no longer be installed by default with CVXPY.\n",
      "    Please either add ECOS as an explicit install dependency to your project\n",
      "    or switch to our new default solver, Clarabel, by either not specifying a\n",
      "    solver argument or specifying ``solver=cp.CLARABEL``. To suppress this\n",
      "    warning while continuing to use ECOS, you can filter this warning using\n",
      "    Python's ``warnings`` module until you are using 1.6.0.\n",
      "    \n",
      "  warnings.warn(ECOS_DEP_DEPRECATION_MSG, FutureWarning)\n",
      "/opt/anaconda3/lib/python3.12/site-packages/cvxpy/problems/problem.py:1407: UserWarning: Solution may be inaccurate. Try another solver, adjusting the solver settings, or solve with verbose=True for more information.\n",
      "  warnings.warn(\n"
     ]
    },
    {
     "name": "stdout",
     "output_type": "stream",
     "text": [
      "[t=2897 | 2023-02-08] active: ['AAPL', 'ACN', 'ADBE', 'AMAT', 'AMD', 'AMZN', 'AVGO', 'BKNG', 'COST', 'CRM', 'CSCO', 'DIS', 'GOOGL', 'HD', 'IBM', 'INTU', 'KO', 'MCD', 'META', 'MSFT', 'NFLX', 'NOW', 'NVDA', 'ORCL', 'PG', 'PLTR', 'PM', 'QCOM', 'T', 'TSLA', 'TXN', 'VZ', 'WMT']\n"
     ]
    },
    {
     "name": "stderr",
     "output_type": "stream",
     "text": [
      "/opt/anaconda3/lib/python3.12/site-packages/cvxpy/reductions/solvers/solving_chain.py:356: FutureWarning: \n",
      "    You specified your problem should be solved by ECOS. Starting in\n",
      "    CXVPY 1.6.0, ECOS will no longer be installed by default with CVXPY.\n",
      "    Please either add ECOS as an explicit install dependency to your project\n",
      "    or switch to our new default solver, Clarabel, by either not specifying a\n",
      "    solver argument or specifying ``solver=cp.CLARABEL``. To suppress this\n",
      "    warning while continuing to use ECOS, you can filter this warning using\n",
      "    Python's ``warnings`` module until you are using 1.6.0.\n",
      "    \n",
      "  warnings.warn(ECOS_DEP_DEPRECATION_MSG, FutureWarning)\n",
      "/opt/anaconda3/lib/python3.12/site-packages/cvxpy/problems/problem.py:1407: UserWarning: Solution may be inaccurate. Try another solver, adjusting the solver settings, or solve with verbose=True for more information.\n",
      "  warnings.warn(\n"
     ]
    },
    {
     "name": "stdout",
     "output_type": "stream",
     "text": [
      "[t=2919 | 2023-03-10] active: ['AAPL', 'ACN', 'ADBE', 'AMAT', 'AMD', 'AMZN', 'AVGO', 'BKNG', 'COST', 'CRM', 'CSCO', 'DIS', 'GOOGL', 'HD', 'IBM', 'INTU', 'KO', 'MCD', 'META', 'MSFT', 'NFLX', 'NOW', 'NVDA', 'ORCL', 'PG', 'PLTR', 'PM', 'QCOM', 'T', 'TSLA', 'TXN', 'VZ', 'WMT']\n"
     ]
    },
    {
     "name": "stderr",
     "output_type": "stream",
     "text": [
      "/opt/anaconda3/lib/python3.12/site-packages/cvxpy/reductions/solvers/solving_chain.py:356: FutureWarning: \n",
      "    You specified your problem should be solved by ECOS. Starting in\n",
      "    CXVPY 1.6.0, ECOS will no longer be installed by default with CVXPY.\n",
      "    Please either add ECOS as an explicit install dependency to your project\n",
      "    or switch to our new default solver, Clarabel, by either not specifying a\n",
      "    solver argument or specifying ``solver=cp.CLARABEL``. To suppress this\n",
      "    warning while continuing to use ECOS, you can filter this warning using\n",
      "    Python's ``warnings`` module until you are using 1.6.0.\n",
      "    \n",
      "  warnings.warn(ECOS_DEP_DEPRECATION_MSG, FutureWarning)\n",
      "/opt/anaconda3/lib/python3.12/site-packages/cvxpy/problems/problem.py:1407: UserWarning: Solution may be inaccurate. Try another solver, adjusting the solver settings, or solve with verbose=True for more information.\n",
      "  warnings.warn(\n"
     ]
    },
    {
     "name": "stdout",
     "output_type": "stream",
     "text": [
      "[t=2920 | 2023-03-13] active: ['AAPL', 'ACN', 'ADBE', 'AMAT', 'AMD', 'AMZN', 'AVGO', 'BKNG', 'COST', 'CRM', 'CSCO', 'DIS', 'GOOGL', 'HD', 'IBM', 'INTU', 'KO', 'MCD', 'META', 'MSFT', 'NFLX', 'NOW', 'NVDA', 'ORCL', 'PG', 'PLTR', 'PM', 'QCOM', 'T', 'TSLA', 'TXN', 'VZ', 'WMT']\n"
     ]
    },
    {
     "name": "stderr",
     "output_type": "stream",
     "text": [
      "/opt/anaconda3/lib/python3.12/site-packages/cvxpy/reductions/solvers/solving_chain.py:356: FutureWarning: \n",
      "    You specified your problem should be solved by ECOS. Starting in\n",
      "    CXVPY 1.6.0, ECOS will no longer be installed by default with CVXPY.\n",
      "    Please either add ECOS as an explicit install dependency to your project\n",
      "    or switch to our new default solver, Clarabel, by either not specifying a\n",
      "    solver argument or specifying ``solver=cp.CLARABEL``. To suppress this\n",
      "    warning while continuing to use ECOS, you can filter this warning using\n",
      "    Python's ``warnings`` module until you are using 1.6.0.\n",
      "    \n",
      "  warnings.warn(ECOS_DEP_DEPRECATION_MSG, FutureWarning)\n",
      "/opt/anaconda3/lib/python3.12/site-packages/cvxpy/problems/problem.py:1407: UserWarning: Solution may be inaccurate. Try another solver, adjusting the solver settings, or solve with verbose=True for more information.\n",
      "  warnings.warn(\n"
     ]
    },
    {
     "name": "stdout",
     "output_type": "stream",
     "text": [
      "[t=2923 | 2023-03-16] active: ['AAPL', 'ACN', 'ADBE', 'AMAT', 'AMD', 'AMZN', 'AVGO', 'BKNG', 'COST', 'CRM', 'CSCO', 'DIS', 'GOOGL', 'HD', 'IBM', 'INTU', 'KO', 'MCD', 'META', 'MSFT', 'NFLX', 'NOW', 'NVDA', 'ORCL', 'PG', 'PLTR', 'PM', 'QCOM', 'T', 'TSLA', 'TXN', 'VZ', 'WMT']\n"
     ]
    },
    {
     "name": "stderr",
     "output_type": "stream",
     "text": [
      "/opt/anaconda3/lib/python3.12/site-packages/cvxpy/reductions/solvers/solving_chain.py:356: FutureWarning: \n",
      "    You specified your problem should be solved by ECOS. Starting in\n",
      "    CXVPY 1.6.0, ECOS will no longer be installed by default with CVXPY.\n",
      "    Please either add ECOS as an explicit install dependency to your project\n",
      "    or switch to our new default solver, Clarabel, by either not specifying a\n",
      "    solver argument or specifying ``solver=cp.CLARABEL``. To suppress this\n",
      "    warning while continuing to use ECOS, you can filter this warning using\n",
      "    Python's ``warnings`` module until you are using 1.6.0.\n",
      "    \n",
      "  warnings.warn(ECOS_DEP_DEPRECATION_MSG, FutureWarning)\n",
      "/opt/anaconda3/lib/python3.12/site-packages/cvxpy/problems/problem.py:1407: UserWarning: Solution may be inaccurate. Try another solver, adjusting the solver settings, or solve with verbose=True for more information.\n",
      "  warnings.warn(\n"
     ]
    },
    {
     "name": "stdout",
     "output_type": "stream",
     "text": [
      "[t=2924 | 2023-03-17] active: ['AAPL', 'ACN', 'ADBE', 'AMAT', 'AMD', 'AMZN', 'AVGO', 'BKNG', 'COST', 'CRM', 'CSCO', 'DIS', 'GOOGL', 'HD', 'IBM', 'INTU', 'KO', 'MCD', 'META', 'MSFT', 'NFLX', 'NOW', 'NVDA', 'ORCL', 'PG', 'PLTR', 'PM', 'QCOM', 'T', 'TSLA', 'TXN', 'VZ', 'WMT']\n"
     ]
    },
    {
     "name": "stderr",
     "output_type": "stream",
     "text": [
      "/opt/anaconda3/lib/python3.12/site-packages/cvxpy/reductions/solvers/solving_chain.py:356: FutureWarning: \n",
      "    You specified your problem should be solved by ECOS. Starting in\n",
      "    CXVPY 1.6.0, ECOS will no longer be installed by default with CVXPY.\n",
      "    Please either add ECOS as an explicit install dependency to your project\n",
      "    or switch to our new default solver, Clarabel, by either not specifying a\n",
      "    solver argument or specifying ``solver=cp.CLARABEL``. To suppress this\n",
      "    warning while continuing to use ECOS, you can filter this warning using\n",
      "    Python's ``warnings`` module until you are using 1.6.0.\n",
      "    \n",
      "  warnings.warn(ECOS_DEP_DEPRECATION_MSG, FutureWarning)\n",
      "/opt/anaconda3/lib/python3.12/site-packages/cvxpy/problems/problem.py:1407: UserWarning: Solution may be inaccurate. Try another solver, adjusting the solver settings, or solve with verbose=True for more information.\n",
      "  warnings.warn(\n"
     ]
    },
    {
     "name": "stdout",
     "output_type": "stream",
     "text": [
      "[t=2925 | 2023-03-20] active: ['AAPL', 'ACN', 'ADBE', 'AMAT', 'AMD', 'AMZN', 'AVGO', 'BKNG', 'COST', 'CRM', 'CSCO', 'DIS', 'GOOGL', 'HD', 'IBM', 'INTU', 'KO', 'MCD', 'META', 'MSFT', 'NFLX', 'NOW', 'NVDA', 'ORCL', 'PG', 'PLTR', 'PM', 'QCOM', 'T', 'TSLA', 'TXN', 'VZ', 'WMT']\n"
     ]
    },
    {
     "name": "stderr",
     "output_type": "stream",
     "text": [
      "/opt/anaconda3/lib/python3.12/site-packages/cvxpy/reductions/solvers/solving_chain.py:356: FutureWarning: \n",
      "    You specified your problem should be solved by ECOS. Starting in\n",
      "    CXVPY 1.6.0, ECOS will no longer be installed by default with CVXPY.\n",
      "    Please either add ECOS as an explicit install dependency to your project\n",
      "    or switch to our new default solver, Clarabel, by either not specifying a\n",
      "    solver argument or specifying ``solver=cp.CLARABEL``. To suppress this\n",
      "    warning while continuing to use ECOS, you can filter this warning using\n",
      "    Python's ``warnings`` module until you are using 1.6.0.\n",
      "    \n",
      "  warnings.warn(ECOS_DEP_DEPRECATION_MSG, FutureWarning)\n",
      "/opt/anaconda3/lib/python3.12/site-packages/cvxpy/problems/problem.py:1407: UserWarning: Solution may be inaccurate. Try another solver, adjusting the solver settings, or solve with verbose=True for more information.\n",
      "  warnings.warn(\n"
     ]
    },
    {
     "name": "stdout",
     "output_type": "stream",
     "text": [
      "[t=2957 | 2023-05-03] active: ['AAPL', 'ACN', 'ADBE', 'AMAT', 'AMD', 'AMZN', 'AVGO', 'BKNG', 'COST', 'CRM', 'CSCO', 'DIS', 'GOOGL', 'HD', 'IBM', 'INTU', 'KO', 'MCD', 'META', 'MSFT', 'NFLX', 'NOW', 'NVDA', 'ORCL', 'PG', 'PLTR', 'PM', 'QCOM', 'T', 'TSLA', 'TXN', 'VZ', 'WMT']\n"
     ]
    },
    {
     "name": "stderr",
     "output_type": "stream",
     "text": [
      "/opt/anaconda3/lib/python3.12/site-packages/cvxpy/reductions/solvers/solving_chain.py:356: FutureWarning: \n",
      "    You specified your problem should be solved by ECOS. Starting in\n",
      "    CXVPY 1.6.0, ECOS will no longer be installed by default with CVXPY.\n",
      "    Please either add ECOS as an explicit install dependency to your project\n",
      "    or switch to our new default solver, Clarabel, by either not specifying a\n",
      "    solver argument or specifying ``solver=cp.CLARABEL``. To suppress this\n",
      "    warning while continuing to use ECOS, you can filter this warning using\n",
      "    Python's ``warnings`` module until you are using 1.6.0.\n",
      "    \n",
      "  warnings.warn(ECOS_DEP_DEPRECATION_MSG, FutureWarning)\n",
      "/opt/anaconda3/lib/python3.12/site-packages/cvxpy/problems/problem.py:1407: UserWarning: Solution may be inaccurate. Try another solver, adjusting the solver settings, or solve with verbose=True for more information.\n",
      "  warnings.warn(\n"
     ]
    },
    {
     "name": "stdout",
     "output_type": "stream",
     "text": [
      "[t=2958 | 2023-05-04] active: ['AAPL', 'ACN', 'ADBE', 'AMAT', 'AMD', 'AMZN', 'AVGO', 'BKNG', 'COST', 'CRM', 'CSCO', 'DIS', 'GOOGL', 'HD', 'IBM', 'INTU', 'KO', 'MCD', 'META', 'MSFT', 'NFLX', 'NOW', 'NVDA', 'ORCL', 'PG', 'PLTR', 'PM', 'QCOM', 'T', 'TSLA', 'TXN', 'VZ', 'WMT']\n"
     ]
    },
    {
     "name": "stderr",
     "output_type": "stream",
     "text": [
      "/opt/anaconda3/lib/python3.12/site-packages/cvxpy/reductions/solvers/solving_chain.py:356: FutureWarning: \n",
      "    You specified your problem should be solved by ECOS. Starting in\n",
      "    CXVPY 1.6.0, ECOS will no longer be installed by default with CVXPY.\n",
      "    Please either add ECOS as an explicit install dependency to your project\n",
      "    or switch to our new default solver, Clarabel, by either not specifying a\n",
      "    solver argument or specifying ``solver=cp.CLARABEL``. To suppress this\n",
      "    warning while continuing to use ECOS, you can filter this warning using\n",
      "    Python's ``warnings`` module until you are using 1.6.0.\n",
      "    \n",
      "  warnings.warn(ECOS_DEP_DEPRECATION_MSG, FutureWarning)\n",
      "/opt/anaconda3/lib/python3.12/site-packages/cvxpy/problems/problem.py:1407: UserWarning: Solution may be inaccurate. Try another solver, adjusting the solver settings, or solve with verbose=True for more information.\n",
      "  warnings.warn(\n"
     ]
    },
    {
     "name": "stdout",
     "output_type": "stream",
     "text": [
      "[t=2964 | 2023-05-12] active: ['AAPL', 'ACN', 'ADBE', 'AMAT', 'AMD', 'AMZN', 'AVGO', 'BKNG', 'COST', 'CRM', 'CSCO', 'DIS', 'GOOGL', 'HD', 'IBM', 'INTU', 'KO', 'MCD', 'META', 'MSFT', 'NFLX', 'NOW', 'NVDA', 'ORCL', 'PG', 'PLTR', 'PM', 'QCOM', 'T', 'TSLA', 'TXN', 'VZ', 'WMT']\n"
     ]
    },
    {
     "name": "stderr",
     "output_type": "stream",
     "text": [
      "/opt/anaconda3/lib/python3.12/site-packages/cvxpy/reductions/solvers/solving_chain.py:356: FutureWarning: \n",
      "    You specified your problem should be solved by ECOS. Starting in\n",
      "    CXVPY 1.6.0, ECOS will no longer be installed by default with CVXPY.\n",
      "    Please either add ECOS as an explicit install dependency to your project\n",
      "    or switch to our new default solver, Clarabel, by either not specifying a\n",
      "    solver argument or specifying ``solver=cp.CLARABEL``. To suppress this\n",
      "    warning while continuing to use ECOS, you can filter this warning using\n",
      "    Python's ``warnings`` module until you are using 1.6.0.\n",
      "    \n",
      "  warnings.warn(ECOS_DEP_DEPRECATION_MSG, FutureWarning)\n",
      "/opt/anaconda3/lib/python3.12/site-packages/cvxpy/problems/problem.py:1407: UserWarning: Solution may be inaccurate. Try another solver, adjusting the solver settings, or solve with verbose=True for more information.\n",
      "  warnings.warn(\n"
     ]
    },
    {
     "name": "stdout",
     "output_type": "stream",
     "text": [
      "[t=2967 | 2023-05-17] active: ['AAPL', 'ACN', 'ADBE', 'AMAT', 'AMD', 'AMZN', 'AVGO', 'BKNG', 'COST', 'CRM', 'CSCO', 'DIS', 'GOOGL', 'HD', 'IBM', 'INTU', 'KO', 'MCD', 'META', 'MSFT', 'NFLX', 'NOW', 'NVDA', 'ORCL', 'PG', 'PLTR', 'PM', 'QCOM', 'T', 'TSLA', 'TXN', 'VZ', 'WMT']\n"
     ]
    },
    {
     "name": "stderr",
     "output_type": "stream",
     "text": [
      "/opt/anaconda3/lib/python3.12/site-packages/cvxpy/reductions/solvers/solving_chain.py:356: FutureWarning: \n",
      "    You specified your problem should be solved by ECOS. Starting in\n",
      "    CXVPY 1.6.0, ECOS will no longer be installed by default with CVXPY.\n",
      "    Please either add ECOS as an explicit install dependency to your project\n",
      "    or switch to our new default solver, Clarabel, by either not specifying a\n",
      "    solver argument or specifying ``solver=cp.CLARABEL``. To suppress this\n",
      "    warning while continuing to use ECOS, you can filter this warning using\n",
      "    Python's ``warnings`` module until you are using 1.6.0.\n",
      "    \n",
      "  warnings.warn(ECOS_DEP_DEPRECATION_MSG, FutureWarning)\n",
      "/opt/anaconda3/lib/python3.12/site-packages/cvxpy/problems/problem.py:1407: UserWarning: Solution may be inaccurate. Try another solver, adjusting the solver settings, or solve with verbose=True for more information.\n",
      "  warnings.warn(\n"
     ]
    },
    {
     "name": "stdout",
     "output_type": "stream",
     "text": [
      "[t=2973 | 2023-05-25] active: ['AAPL', 'ACN', 'ADBE', 'AMAT', 'AMD', 'AMZN', 'AVGO', 'BKNG', 'COST', 'CRM', 'CSCO', 'DIS', 'GOOGL', 'HD', 'IBM', 'INTU', 'KO', 'MCD', 'META', 'MSFT', 'NFLX', 'NOW', 'NVDA', 'ORCL', 'PG', 'PLTR', 'PM', 'QCOM', 'T', 'TSLA', 'TXN', 'VZ', 'WMT']\n"
     ]
    },
    {
     "name": "stderr",
     "output_type": "stream",
     "text": [
      "/opt/anaconda3/lib/python3.12/site-packages/cvxpy/reductions/solvers/solving_chain.py:356: FutureWarning: \n",
      "    You specified your problem should be solved by ECOS. Starting in\n",
      "    CXVPY 1.6.0, ECOS will no longer be installed by default with CVXPY.\n",
      "    Please either add ECOS as an explicit install dependency to your project\n",
      "    or switch to our new default solver, Clarabel, by either not specifying a\n",
      "    solver argument or specifying ``solver=cp.CLARABEL``. To suppress this\n",
      "    warning while continuing to use ECOS, you can filter this warning using\n",
      "    Python's ``warnings`` module until you are using 1.6.0.\n",
      "    \n",
      "  warnings.warn(ECOS_DEP_DEPRECATION_MSG, FutureWarning)\n",
      "/opt/anaconda3/lib/python3.12/site-packages/cvxpy/problems/problem.py:1407: UserWarning: Solution may be inaccurate. Try another solver, adjusting the solver settings, or solve with verbose=True for more information.\n",
      "  warnings.warn(\n"
     ]
    },
    {
     "name": "stdout",
     "output_type": "stream",
     "text": [
      "[t=2981 | 2023-06-06] active: ['AAPL', 'ACN', 'ADBE', 'AMAT', 'AMD', 'AMZN', 'AVGO', 'BKNG', 'COST', 'CRM', 'CSCO', 'DIS', 'GOOGL', 'HD', 'IBM', 'INTU', 'KO', 'MCD', 'META', 'MSFT', 'NFLX', 'NOW', 'NVDA', 'ORCL', 'PG', 'PLTR', 'PM', 'QCOM', 'T', 'TSLA', 'TXN', 'VZ', 'WMT']\n"
     ]
    },
    {
     "name": "stderr",
     "output_type": "stream",
     "text": [
      "/opt/anaconda3/lib/python3.12/site-packages/cvxpy/reductions/solvers/solving_chain.py:356: FutureWarning: \n",
      "    You specified your problem should be solved by ECOS. Starting in\n",
      "    CXVPY 1.6.0, ECOS will no longer be installed by default with CVXPY.\n",
      "    Please either add ECOS as an explicit install dependency to your project\n",
      "    or switch to our new default solver, Clarabel, by either not specifying a\n",
      "    solver argument or specifying ``solver=cp.CLARABEL``. To suppress this\n",
      "    warning while continuing to use ECOS, you can filter this warning using\n",
      "    Python's ``warnings`` module until you are using 1.6.0.\n",
      "    \n",
      "  warnings.warn(ECOS_DEP_DEPRECATION_MSG, FutureWarning)\n",
      "/opt/anaconda3/lib/python3.12/site-packages/cvxpy/problems/problem.py:1407: UserWarning: Solution may be inaccurate. Try another solver, adjusting the solver settings, or solve with verbose=True for more information.\n",
      "  warnings.warn(\n"
     ]
    },
    {
     "name": "stdout",
     "output_type": "stream",
     "text": [
      "[t=3005 | 2023-07-10] active: ['AAPL', 'ACN', 'ADBE', 'AMAT', 'AMD', 'AMZN', 'AVGO', 'BKNG', 'COST', 'CRM', 'CSCO', 'DIS', 'GOOGL', 'HD', 'IBM', 'INTU', 'KO', 'MCD', 'META', 'MSFT', 'NFLX', 'NOW', 'NVDA', 'ORCL', 'PG', 'PLTR', 'PM', 'QCOM', 'T', 'TSLA', 'TXN', 'VZ', 'WMT']\n"
     ]
    },
    {
     "name": "stderr",
     "output_type": "stream",
     "text": [
      "/opt/anaconda3/lib/python3.12/site-packages/cvxpy/reductions/solvers/solving_chain.py:356: FutureWarning: \n",
      "    You specified your problem should be solved by ECOS. Starting in\n",
      "    CXVPY 1.6.0, ECOS will no longer be installed by default with CVXPY.\n",
      "    Please either add ECOS as an explicit install dependency to your project\n",
      "    or switch to our new default solver, Clarabel, by either not specifying a\n",
      "    solver argument or specifying ``solver=cp.CLARABEL``. To suppress this\n",
      "    warning while continuing to use ECOS, you can filter this warning using\n",
      "    Python's ``warnings`` module until you are using 1.6.0.\n",
      "    \n",
      "  warnings.warn(ECOS_DEP_DEPRECATION_MSG, FutureWarning)\n",
      "/opt/anaconda3/lib/python3.12/site-packages/cvxpy/problems/problem.py:1407: UserWarning: Solution may be inaccurate. Try another solver, adjusting the solver settings, or solve with verbose=True for more information.\n",
      "  warnings.warn(\n"
     ]
    },
    {
     "name": "stdout",
     "output_type": "stream",
     "text": [
      "[t=3033 | 2023-08-17] active: ['AAPL', 'ACN', 'ADBE', 'AMAT', 'AMD', 'AMZN', 'AVGO', 'BKNG', 'COST', 'CRM', 'CSCO', 'DIS', 'GOOGL', 'HD', 'IBM', 'INTU', 'KO', 'MCD', 'META', 'MSFT', 'NFLX', 'NOW', 'NVDA', 'ORCL', 'PG', 'PLTR', 'PM', 'QCOM', 'T', 'TSLA', 'TXN', 'VZ', 'WMT']\n"
     ]
    },
    {
     "name": "stderr",
     "output_type": "stream",
     "text": [
      "/opt/anaconda3/lib/python3.12/site-packages/cvxpy/reductions/solvers/solving_chain.py:356: FutureWarning: \n",
      "    You specified your problem should be solved by ECOS. Starting in\n",
      "    CXVPY 1.6.0, ECOS will no longer be installed by default with CVXPY.\n",
      "    Please either add ECOS as an explicit install dependency to your project\n",
      "    or switch to our new default solver, Clarabel, by either not specifying a\n",
      "    solver argument or specifying ``solver=cp.CLARABEL``. To suppress this\n",
      "    warning while continuing to use ECOS, you can filter this warning using\n",
      "    Python's ``warnings`` module until you are using 1.6.0.\n",
      "    \n",
      "  warnings.warn(ECOS_DEP_DEPRECATION_MSG, FutureWarning)\n",
      "/opt/anaconda3/lib/python3.12/site-packages/cvxpy/problems/problem.py:1407: UserWarning: Solution may be inaccurate. Try another solver, adjusting the solver settings, or solve with verbose=True for more information.\n",
      "  warnings.warn(\n"
     ]
    },
    {
     "name": "stdout",
     "output_type": "stream",
     "text": [
      "[t=3059 | 2023-09-22] active: ['AAPL', 'ACN', 'ADBE', 'AMAT', 'AMD', 'AMZN', 'AVGO', 'BKNG', 'COST', 'CRM', 'CSCO', 'DIS', 'GOOGL', 'HD', 'IBM', 'INTU', 'KO', 'MCD', 'META', 'MSFT', 'NFLX', 'NOW', 'NVDA', 'ORCL', 'PG', 'PLTR', 'PM', 'QCOM', 'T', 'TSLA', 'TXN', 'VZ', 'WMT']\n"
     ]
    },
    {
     "name": "stderr",
     "output_type": "stream",
     "text": [
      "/opt/anaconda3/lib/python3.12/site-packages/cvxpy/reductions/solvers/solving_chain.py:356: FutureWarning: \n",
      "    You specified your problem should be solved by ECOS. Starting in\n",
      "    CXVPY 1.6.0, ECOS will no longer be installed by default with CVXPY.\n",
      "    Please either add ECOS as an explicit install dependency to your project\n",
      "    or switch to our new default solver, Clarabel, by either not specifying a\n",
      "    solver argument or specifying ``solver=cp.CLARABEL``. To suppress this\n",
      "    warning while continuing to use ECOS, you can filter this warning using\n",
      "    Python's ``warnings`` module until you are using 1.6.0.\n",
      "    \n",
      "  warnings.warn(ECOS_DEP_DEPRECATION_MSG, FutureWarning)\n",
      "/opt/anaconda3/lib/python3.12/site-packages/cvxpy/problems/problem.py:1407: UserWarning: Solution may be inaccurate. Try another solver, adjusting the solver settings, or solve with verbose=True for more information.\n",
      "  warnings.warn(\n"
     ]
    },
    {
     "name": "stdout",
     "output_type": "stream",
     "text": [
      "[t=3079 | 2023-10-20] active: ['AAPL', 'ACN', 'ADBE', 'AMAT', 'AMD', 'AMZN', 'AVGO', 'BKNG', 'COST', 'CRM', 'CSCO', 'DIS', 'GOOGL', 'HD', 'IBM', 'INTU', 'KO', 'MCD', 'META', 'MSFT', 'NFLX', 'NOW', 'NVDA', 'ORCL', 'PG', 'PLTR', 'PM', 'QCOM', 'T', 'TSLA', 'TXN', 'VZ', 'WMT']\n"
     ]
    },
    {
     "name": "stderr",
     "output_type": "stream",
     "text": [
      "/opt/anaconda3/lib/python3.12/site-packages/cvxpy/reductions/solvers/solving_chain.py:356: FutureWarning: \n",
      "    You specified your problem should be solved by ECOS. Starting in\n",
      "    CXVPY 1.6.0, ECOS will no longer be installed by default with CVXPY.\n",
      "    Please either add ECOS as an explicit install dependency to your project\n",
      "    or switch to our new default solver, Clarabel, by either not specifying a\n",
      "    solver argument or specifying ``solver=cp.CLARABEL``. To suppress this\n",
      "    warning while continuing to use ECOS, you can filter this warning using\n",
      "    Python's ``warnings`` module until you are using 1.6.0.\n",
      "    \n",
      "  warnings.warn(ECOS_DEP_DEPRECATION_MSG, FutureWarning)\n",
      "/opt/anaconda3/lib/python3.12/site-packages/cvxpy/problems/problem.py:1407: UserWarning: Solution may be inaccurate. Try another solver, adjusting the solver settings, or solve with verbose=True for more information.\n",
      "  warnings.warn(\n"
     ]
    },
    {
     "name": "stdout",
     "output_type": "stream",
     "text": [
      "[t=3080 | 2023-10-23] active: ['AAPL', 'ACN', 'ADBE', 'AMAT', 'AMD', 'AMZN', 'AVGO', 'BKNG', 'COST', 'CRM', 'CSCO', 'DIS', 'GOOGL', 'HD', 'IBM', 'INTU', 'KO', 'MCD', 'META', 'MSFT', 'NFLX', 'NOW', 'NVDA', 'ORCL', 'PG', 'PLTR', 'PM', 'QCOM', 'T', 'TSLA', 'TXN', 'VZ', 'WMT']\n"
     ]
    },
    {
     "name": "stderr",
     "output_type": "stream",
     "text": [
      "/opt/anaconda3/lib/python3.12/site-packages/cvxpy/reductions/solvers/solving_chain.py:356: FutureWarning: \n",
      "    You specified your problem should be solved by ECOS. Starting in\n",
      "    CXVPY 1.6.0, ECOS will no longer be installed by default with CVXPY.\n",
      "    Please either add ECOS as an explicit install dependency to your project\n",
      "    or switch to our new default solver, Clarabel, by either not specifying a\n",
      "    solver argument or specifying ``solver=cp.CLARABEL``. To suppress this\n",
      "    warning while continuing to use ECOS, you can filter this warning using\n",
      "    Python's ``warnings`` module until you are using 1.6.0.\n",
      "    \n",
      "  warnings.warn(ECOS_DEP_DEPRECATION_MSG, FutureWarning)\n",
      "/opt/anaconda3/lib/python3.12/site-packages/cvxpy/problems/problem.py:1407: UserWarning: Solution may be inaccurate. Try another solver, adjusting the solver settings, or solve with verbose=True for more information.\n",
      "  warnings.warn(\n"
     ]
    },
    {
     "name": "stdout",
     "output_type": "stream",
     "text": [
      "[t=3083 | 2023-10-26] active: ['AAPL', 'ACN', 'ADBE', 'AMAT', 'AMD', 'AMZN', 'AVGO', 'BKNG', 'COST', 'CRM', 'CSCO', 'DIS', 'GOOGL', 'HD', 'IBM', 'INTU', 'KO', 'MCD', 'META', 'MSFT', 'NFLX', 'NOW', 'NVDA', 'ORCL', 'PG', 'PLTR', 'PM', 'QCOM', 'T', 'TSLA', 'TXN', 'VZ', 'WMT']\n"
     ]
    },
    {
     "name": "stderr",
     "output_type": "stream",
     "text": [
      "/opt/anaconda3/lib/python3.12/site-packages/cvxpy/reductions/solvers/solving_chain.py:356: FutureWarning: \n",
      "    You specified your problem should be solved by ECOS. Starting in\n",
      "    CXVPY 1.6.0, ECOS will no longer be installed by default with CVXPY.\n",
      "    Please either add ECOS as an explicit install dependency to your project\n",
      "    or switch to our new default solver, Clarabel, by either not specifying a\n",
      "    solver argument or specifying ``solver=cp.CLARABEL``. To suppress this\n",
      "    warning while continuing to use ECOS, you can filter this warning using\n",
      "    Python's ``warnings`` module until you are using 1.6.0.\n",
      "    \n",
      "  warnings.warn(ECOS_DEP_DEPRECATION_MSG, FutureWarning)\n",
      "/opt/anaconda3/lib/python3.12/site-packages/cvxpy/problems/problem.py:1407: UserWarning: Solution may be inaccurate. Try another solver, adjusting the solver settings, or solve with verbose=True for more information.\n",
      "  warnings.warn(\n"
     ]
    },
    {
     "name": "stdout",
     "output_type": "stream",
     "text": [
      "[t=3096 | 2023-11-14] active: ['AAPL', 'ACN', 'ADBE', 'AMAT', 'AMD', 'AMZN', 'AVGO', 'BKNG', 'COST', 'CRM', 'CSCO', 'DIS', 'GOOGL', 'HD', 'IBM', 'INTU', 'KO', 'MCD', 'META', 'MSFT', 'NFLX', 'NOW', 'NVDA', 'ORCL', 'PG', 'PLTR', 'PM', 'QCOM', 'T', 'TSLA', 'TXN', 'VZ', 'WMT']\n"
     ]
    },
    {
     "name": "stderr",
     "output_type": "stream",
     "text": [
      "/opt/anaconda3/lib/python3.12/site-packages/cvxpy/reductions/solvers/solving_chain.py:356: FutureWarning: \n",
      "    You specified your problem should be solved by ECOS. Starting in\n",
      "    CXVPY 1.6.0, ECOS will no longer be installed by default with CVXPY.\n",
      "    Please either add ECOS as an explicit install dependency to your project\n",
      "    or switch to our new default solver, Clarabel, by either not specifying a\n",
      "    solver argument or specifying ``solver=cp.CLARABEL``. To suppress this\n",
      "    warning while continuing to use ECOS, you can filter this warning using\n",
      "    Python's ``warnings`` module until you are using 1.6.0.\n",
      "    \n",
      "  warnings.warn(ECOS_DEP_DEPRECATION_MSG, FutureWarning)\n",
      "/opt/anaconda3/lib/python3.12/site-packages/cvxpy/problems/problem.py:1407: UserWarning: Solution may be inaccurate. Try another solver, adjusting the solver settings, or solve with verbose=True for more information.\n",
      "  warnings.warn(\n"
     ]
    },
    {
     "name": "stdout",
     "output_type": "stream",
     "text": [
      "[t=3101 | 2023-11-21] active: ['AAPL', 'ACN', 'ADBE', 'AMAT', 'AMD', 'AMZN', 'AVGO', 'BKNG', 'COST', 'CRM', 'CSCO', 'DIS', 'GOOGL', 'HD', 'IBM', 'INTU', 'KO', 'MCD', 'META', 'MSFT', 'NFLX', 'NOW', 'NVDA', 'ORCL', 'PG', 'PLTR', 'PM', 'QCOM', 'T', 'TSLA', 'TXN', 'VZ', 'WMT']\n"
     ]
    },
    {
     "name": "stderr",
     "output_type": "stream",
     "text": [
      "/opt/anaconda3/lib/python3.12/site-packages/cvxpy/reductions/solvers/solving_chain.py:356: FutureWarning: \n",
      "    You specified your problem should be solved by ECOS. Starting in\n",
      "    CXVPY 1.6.0, ECOS will no longer be installed by default with CVXPY.\n",
      "    Please either add ECOS as an explicit install dependency to your project\n",
      "    or switch to our new default solver, Clarabel, by either not specifying a\n",
      "    solver argument or specifying ``solver=cp.CLARABEL``. To suppress this\n",
      "    warning while continuing to use ECOS, you can filter this warning using\n",
      "    Python's ``warnings`` module until you are using 1.6.0.\n",
      "    \n",
      "  warnings.warn(ECOS_DEP_DEPRECATION_MSG, FutureWarning)\n",
      "/opt/anaconda3/lib/python3.12/site-packages/cvxpy/problems/problem.py:1407: UserWarning: Solution may be inaccurate. Try another solver, adjusting the solver settings, or solve with verbose=True for more information.\n",
      "  warnings.warn(\n"
     ]
    },
    {
     "name": "stdout",
     "output_type": "stream",
     "text": [
      "[t=3105 | 2023-11-27] active: ['AAPL', 'ACN', 'ADBE', 'AMAT', 'AMD', 'AMZN', 'AVGO', 'BKNG', 'COST', 'CRM', 'CSCO', 'DIS', 'GOOGL', 'HD', 'IBM', 'INTU', 'KO', 'MCD', 'META', 'MSFT', 'NFLX', 'NOW', 'NVDA', 'ORCL', 'PG', 'PLTR', 'PM', 'QCOM', 'T', 'TSLA', 'TXN', 'VZ', 'WMT']\n"
     ]
    },
    {
     "name": "stderr",
     "output_type": "stream",
     "text": [
      "/opt/anaconda3/lib/python3.12/site-packages/cvxpy/reductions/solvers/solving_chain.py:356: FutureWarning: \n",
      "    You specified your problem should be solved by ECOS. Starting in\n",
      "    CXVPY 1.6.0, ECOS will no longer be installed by default with CVXPY.\n",
      "    Please either add ECOS as an explicit install dependency to your project\n",
      "    or switch to our new default solver, Clarabel, by either not specifying a\n",
      "    solver argument or specifying ``solver=cp.CLARABEL``. To suppress this\n",
      "    warning while continuing to use ECOS, you can filter this warning using\n",
      "    Python's ``warnings`` module until you are using 1.6.0.\n",
      "    \n",
      "  warnings.warn(ECOS_DEP_DEPRECATION_MSG, FutureWarning)\n",
      "/opt/anaconda3/lib/python3.12/site-packages/cvxpy/problems/problem.py:1407: UserWarning: Solution may be inaccurate. Try another solver, adjusting the solver settings, or solve with verbose=True for more information.\n",
      "  warnings.warn(\n"
     ]
    },
    {
     "name": "stdout",
     "output_type": "stream",
     "text": [
      "[t=3108 | 2023-11-30] active: ['AAPL', 'ACN', 'ADBE', 'AMAT', 'AMD', 'AMZN', 'AVGO', 'BKNG', 'COST', 'CRM', 'CSCO', 'DIS', 'GOOGL', 'HD', 'IBM', 'INTU', 'KO', 'MCD', 'META', 'MSFT', 'NFLX', 'NOW', 'NVDA', 'ORCL', 'PG', 'PLTR', 'PM', 'QCOM', 'T', 'TSLA', 'TXN', 'VZ', 'WMT']\n"
     ]
    },
    {
     "name": "stderr",
     "output_type": "stream",
     "text": [
      "/opt/anaconda3/lib/python3.12/site-packages/cvxpy/reductions/solvers/solving_chain.py:356: FutureWarning: \n",
      "    You specified your problem should be solved by ECOS. Starting in\n",
      "    CXVPY 1.6.0, ECOS will no longer be installed by default with CVXPY.\n",
      "    Please either add ECOS as an explicit install dependency to your project\n",
      "    or switch to our new default solver, Clarabel, by either not specifying a\n",
      "    solver argument or specifying ``solver=cp.CLARABEL``. To suppress this\n",
      "    warning while continuing to use ECOS, you can filter this warning using\n",
      "    Python's ``warnings`` module until you are using 1.6.0.\n",
      "    \n",
      "  warnings.warn(ECOS_DEP_DEPRECATION_MSG, FutureWarning)\n",
      "/opt/anaconda3/lib/python3.12/site-packages/cvxpy/problems/problem.py:1407: UserWarning: Solution may be inaccurate. Try another solver, adjusting the solver settings, or solve with verbose=True for more information.\n",
      "  warnings.warn(\n"
     ]
    },
    {
     "name": "stdout",
     "output_type": "stream",
     "text": [
      "[t=3113 | 2023-12-07] active: ['AAPL', 'ACN', 'ADBE', 'AMAT', 'AMD', 'AMZN', 'AVGO', 'BKNG', 'COST', 'CRM', 'CSCO', 'DIS', 'GOOGL', 'HD', 'IBM', 'INTU', 'KO', 'MCD', 'META', 'MSFT', 'NFLX', 'NOW', 'NVDA', 'ORCL', 'PG', 'PLTR', 'PM', 'QCOM', 'T', 'TSLA', 'TXN', 'VZ', 'WMT']\n"
     ]
    },
    {
     "name": "stderr",
     "output_type": "stream",
     "text": [
      "/opt/anaconda3/lib/python3.12/site-packages/cvxpy/reductions/solvers/solving_chain.py:356: FutureWarning: \n",
      "    You specified your problem should be solved by ECOS. Starting in\n",
      "    CXVPY 1.6.0, ECOS will no longer be installed by default with CVXPY.\n",
      "    Please either add ECOS as an explicit install dependency to your project\n",
      "    or switch to our new default solver, Clarabel, by either not specifying a\n",
      "    solver argument or specifying ``solver=cp.CLARABEL``. To suppress this\n",
      "    warning while continuing to use ECOS, you can filter this warning using\n",
      "    Python's ``warnings`` module until you are using 1.6.0.\n",
      "    \n",
      "  warnings.warn(ECOS_DEP_DEPRECATION_MSG, FutureWarning)\n",
      "/opt/anaconda3/lib/python3.12/site-packages/cvxpy/problems/problem.py:1407: UserWarning: Solution may be inaccurate. Try another solver, adjusting the solver settings, or solve with verbose=True for more information.\n",
      "  warnings.warn(\n"
     ]
    },
    {
     "name": "stdout",
     "output_type": "stream",
     "text": [
      "[t=3117 | 2023-12-13] active: ['AAPL', 'ACN', 'ADBE', 'AMAT', 'AMD', 'AMZN', 'AVGO', 'BKNG', 'COST', 'CRM', 'CSCO', 'DIS', 'GOOGL', 'HD', 'IBM', 'INTU', 'KO', 'MCD', 'META', 'MSFT', 'NFLX', 'NOW', 'NVDA', 'ORCL', 'PG', 'PLTR', 'PM', 'QCOM', 'T', 'TSLA', 'TXN', 'VZ', 'WMT']\n"
     ]
    },
    {
     "name": "stderr",
     "output_type": "stream",
     "text": [
      "/opt/anaconda3/lib/python3.12/site-packages/cvxpy/reductions/solvers/solving_chain.py:356: FutureWarning: \n",
      "    You specified your problem should be solved by ECOS. Starting in\n",
      "    CXVPY 1.6.0, ECOS will no longer be installed by default with CVXPY.\n",
      "    Please either add ECOS as an explicit install dependency to your project\n",
      "    or switch to our new default solver, Clarabel, by either not specifying a\n",
      "    solver argument or specifying ``solver=cp.CLARABEL``. To suppress this\n",
      "    warning while continuing to use ECOS, you can filter this warning using\n",
      "    Python's ``warnings`` module until you are using 1.6.0.\n",
      "    \n",
      "  warnings.warn(ECOS_DEP_DEPRECATION_MSG, FutureWarning)\n",
      "/opt/anaconda3/lib/python3.12/site-packages/cvxpy/problems/problem.py:1407: UserWarning: Solution may be inaccurate. Try another solver, adjusting the solver settings, or solve with verbose=True for more information.\n",
      "  warnings.warn(\n"
     ]
    },
    {
     "name": "stdout",
     "output_type": "stream",
     "text": [
      "[t=3137 | 2024-01-10] active: ['AAPL', 'ACN', 'ADBE', 'AMAT', 'AMD', 'AMZN', 'AVGO', 'BKNG', 'COST', 'CRM', 'CSCO', 'DIS', 'GOOGL', 'HD', 'IBM', 'INTU', 'KO', 'MCD', 'META', 'MSFT', 'NFLX', 'NOW', 'NVDA', 'ORCL', 'PG', 'PLTR', 'PM', 'QCOM', 'T', 'TSLA', 'TXN', 'VZ', 'WMT']\n"
     ]
    },
    {
     "name": "stderr",
     "output_type": "stream",
     "text": [
      "/opt/anaconda3/lib/python3.12/site-packages/cvxpy/reductions/solvers/solving_chain.py:356: FutureWarning: \n",
      "    You specified your problem should be solved by ECOS. Starting in\n",
      "    CXVPY 1.6.0, ECOS will no longer be installed by default with CVXPY.\n",
      "    Please either add ECOS as an explicit install dependency to your project\n",
      "    or switch to our new default solver, Clarabel, by either not specifying a\n",
      "    solver argument or specifying ``solver=cp.CLARABEL``. To suppress this\n",
      "    warning while continuing to use ECOS, you can filter this warning using\n",
      "    Python's ``warnings`` module until you are using 1.6.0.\n",
      "    \n",
      "  warnings.warn(ECOS_DEP_DEPRECATION_MSG, FutureWarning)\n",
      "/opt/anaconda3/lib/python3.12/site-packages/cvxpy/problems/problem.py:1407: UserWarning: Solution may be inaccurate. Try another solver, adjusting the solver settings, or solve with verbose=True for more information.\n",
      "  warnings.warn(\n"
     ]
    },
    {
     "name": "stdout",
     "output_type": "stream",
     "text": [
      "[t=3209 | 2024-04-19] active: ['AAPL', 'ACN', 'ADBE', 'AMAT', 'AMD', 'AMZN', 'AVGO', 'BKNG', 'COST', 'CRM', 'CSCO', 'DIS', 'GOOGL', 'HD', 'IBM', 'INTU', 'KO', 'MCD', 'META', 'MSFT', 'NFLX', 'NOW', 'NVDA', 'ORCL', 'PG', 'PLTR', 'PM', 'QCOM', 'T', 'TSLA', 'TXN', 'VZ', 'WMT']\n"
     ]
    },
    {
     "name": "stderr",
     "output_type": "stream",
     "text": [
      "/opt/anaconda3/lib/python3.12/site-packages/cvxpy/reductions/solvers/solving_chain.py:356: FutureWarning: \n",
      "    You specified your problem should be solved by ECOS. Starting in\n",
      "    CXVPY 1.6.0, ECOS will no longer be installed by default with CVXPY.\n",
      "    Please either add ECOS as an explicit install dependency to your project\n",
      "    or switch to our new default solver, Clarabel, by either not specifying a\n",
      "    solver argument or specifying ``solver=cp.CLARABEL``. To suppress this\n",
      "    warning while continuing to use ECOS, you can filter this warning using\n",
      "    Python's ``warnings`` module until you are using 1.6.0.\n",
      "    \n",
      "  warnings.warn(ECOS_DEP_DEPRECATION_MSG, FutureWarning)\n",
      "/opt/anaconda3/lib/python3.12/site-packages/cvxpy/problems/problem.py:1407: UserWarning: Solution may be inaccurate. Try another solver, adjusting the solver settings, or solve with verbose=True for more information.\n",
      "  warnings.warn(\n"
     ]
    },
    {
     "name": "stdout",
     "output_type": "stream",
     "text": [
      "[t=3234 | 2024-05-24] active: ['AAPL', 'ACN', 'ADBE', 'AMAT', 'AMD', 'AMZN', 'AVGO', 'BKNG', 'COST', 'CRM', 'CSCO', 'DIS', 'GOOGL', 'HD', 'IBM', 'INTU', 'KO', 'MCD', 'META', 'MSFT', 'NFLX', 'NOW', 'NVDA', 'ORCL', 'PG', 'PLTR', 'PM', 'QCOM', 'T', 'TSLA', 'TXN', 'VZ', 'WMT']\n"
     ]
    },
    {
     "name": "stderr",
     "output_type": "stream",
     "text": [
      "/opt/anaconda3/lib/python3.12/site-packages/cvxpy/reductions/solvers/solving_chain.py:356: FutureWarning: \n",
      "    You specified your problem should be solved by ECOS. Starting in\n",
      "    CXVPY 1.6.0, ECOS will no longer be installed by default with CVXPY.\n",
      "    Please either add ECOS as an explicit install dependency to your project\n",
      "    or switch to our new default solver, Clarabel, by either not specifying a\n",
      "    solver argument or specifying ``solver=cp.CLARABEL``. To suppress this\n",
      "    warning while continuing to use ECOS, you can filter this warning using\n",
      "    Python's ``warnings`` module until you are using 1.6.0.\n",
      "    \n",
      "  warnings.warn(ECOS_DEP_DEPRECATION_MSG, FutureWarning)\n",
      "/opt/anaconda3/lib/python3.12/site-packages/cvxpy/problems/problem.py:1407: UserWarning: Solution may be inaccurate. Try another solver, adjusting the solver settings, or solve with verbose=True for more information.\n",
      "  warnings.warn(\n"
     ]
    },
    {
     "name": "stdout",
     "output_type": "stream",
     "text": [
      "[t=3242 | 2024-06-05] active: ['AAPL', 'ACN', 'ADBE', 'AMAT', 'AMD', 'AMZN', 'AVGO', 'BKNG', 'COST', 'CRM', 'CSCO', 'DIS', 'GOOGL', 'HD', 'IBM', 'INTU', 'KO', 'MCD', 'META', 'MSFT', 'NFLX', 'NOW', 'NVDA', 'ORCL', 'PG', 'PLTR', 'PM', 'QCOM', 'T', 'TSLA', 'TXN', 'VZ', 'WMT']\n"
     ]
    },
    {
     "name": "stderr",
     "output_type": "stream",
     "text": [
      "/opt/anaconda3/lib/python3.12/site-packages/cvxpy/reductions/solvers/solving_chain.py:356: FutureWarning: \n",
      "    You specified your problem should be solved by ECOS. Starting in\n",
      "    CXVPY 1.6.0, ECOS will no longer be installed by default with CVXPY.\n",
      "    Please either add ECOS as an explicit install dependency to your project\n",
      "    or switch to our new default solver, Clarabel, by either not specifying a\n",
      "    solver argument or specifying ``solver=cp.CLARABEL``. To suppress this\n",
      "    warning while continuing to use ECOS, you can filter this warning using\n",
      "    Python's ``warnings`` module until you are using 1.6.0.\n",
      "    \n",
      "  warnings.warn(ECOS_DEP_DEPRECATION_MSG, FutureWarning)\n",
      "/opt/anaconda3/lib/python3.12/site-packages/cvxpy/problems/problem.py:1407: UserWarning: Solution may be inaccurate. Try another solver, adjusting the solver settings, or solve with verbose=True for more information.\n",
      "  warnings.warn(\n"
     ]
    },
    {
     "name": "stdout",
     "output_type": "stream",
     "text": [
      "[t=3245 | 2024-06-10] active: ['AAPL', 'ACN', 'ADBE', 'AMAT', 'AMD', 'AMZN', 'AVGO', 'BKNG', 'COST', 'CRM', 'CSCO', 'DIS', 'GOOGL', 'HD', 'IBM', 'INTU', 'KO', 'MCD', 'META', 'MSFT', 'NFLX', 'NOW', 'NVDA', 'ORCL', 'PG', 'PLTR', 'PM', 'QCOM', 'T', 'TSLA', 'TXN', 'VZ', 'WMT']\n"
     ]
    },
    {
     "name": "stderr",
     "output_type": "stream",
     "text": [
      "/opt/anaconda3/lib/python3.12/site-packages/cvxpy/reductions/solvers/solving_chain.py:356: FutureWarning: \n",
      "    You specified your problem should be solved by ECOS. Starting in\n",
      "    CXVPY 1.6.0, ECOS will no longer be installed by default with CVXPY.\n",
      "    Please either add ECOS as an explicit install dependency to your project\n",
      "    or switch to our new default solver, Clarabel, by either not specifying a\n",
      "    solver argument or specifying ``solver=cp.CLARABEL``. To suppress this\n",
      "    warning while continuing to use ECOS, you can filter this warning using\n",
      "    Python's ``warnings`` module until you are using 1.6.0.\n",
      "    \n",
      "  warnings.warn(ECOS_DEP_DEPRECATION_MSG, FutureWarning)\n",
      "/opt/anaconda3/lib/python3.12/site-packages/cvxpy/problems/problem.py:1407: UserWarning: Solution may be inaccurate. Try another solver, adjusting the solver settings, or solve with verbose=True for more information.\n",
      "  warnings.warn(\n"
     ]
    },
    {
     "name": "stdout",
     "output_type": "stream",
     "text": [
      "[t=3250 | 2024-06-17] active: ['AAPL', 'ACN', 'ADBE', 'AMAT', 'AMD', 'AMZN', 'AVGO', 'BKNG', 'COST', 'CRM', 'CSCO', 'DIS', 'GOOGL', 'HD', 'IBM', 'INTU', 'KO', 'MCD', 'META', 'MSFT', 'NFLX', 'NOW', 'NVDA', 'ORCL', 'PG', 'PLTR', 'PM', 'QCOM', 'T', 'TSLA', 'TXN', 'VZ', 'WMT']\n"
     ]
    },
    {
     "name": "stderr",
     "output_type": "stream",
     "text": [
      "/opt/anaconda3/lib/python3.12/site-packages/cvxpy/reductions/solvers/solving_chain.py:356: FutureWarning: \n",
      "    You specified your problem should be solved by ECOS. Starting in\n",
      "    CXVPY 1.6.0, ECOS will no longer be installed by default with CVXPY.\n",
      "    Please either add ECOS as an explicit install dependency to your project\n",
      "    or switch to our new default solver, Clarabel, by either not specifying a\n",
      "    solver argument or specifying ``solver=cp.CLARABEL``. To suppress this\n",
      "    warning while continuing to use ECOS, you can filter this warning using\n",
      "    Python's ``warnings`` module until you are using 1.6.0.\n",
      "    \n",
      "  warnings.warn(ECOS_DEP_DEPRECATION_MSG, FutureWarning)\n",
      "/opt/anaconda3/lib/python3.12/site-packages/cvxpy/problems/problem.py:1407: UserWarning: Solution may be inaccurate. Try another solver, adjusting the solver settings, or solve with verbose=True for more information.\n",
      "  warnings.warn(\n"
     ]
    },
    {
     "name": "stdout",
     "output_type": "stream",
     "text": [
      "[t=3255 | 2024-06-24] active: ['AAPL', 'ACN', 'ADBE', 'AMAT', 'AMD', 'AMZN', 'AVGO', 'BKNG', 'COST', 'CRM', 'CSCO', 'DIS', 'GOOGL', 'HD', 'IBM', 'INTU', 'KO', 'MCD', 'META', 'MSFT', 'NFLX', 'NOW', 'NVDA', 'ORCL', 'PG', 'PLTR', 'PM', 'QCOM', 'T', 'TSLA', 'TXN', 'VZ', 'WMT']\n"
     ]
    },
    {
     "name": "stderr",
     "output_type": "stream",
     "text": [
      "/opt/anaconda3/lib/python3.12/site-packages/cvxpy/reductions/solvers/solving_chain.py:356: FutureWarning: \n",
      "    You specified your problem should be solved by ECOS. Starting in\n",
      "    CXVPY 1.6.0, ECOS will no longer be installed by default with CVXPY.\n",
      "    Please either add ECOS as an explicit install dependency to your project\n",
      "    or switch to our new default solver, Clarabel, by either not specifying a\n",
      "    solver argument or specifying ``solver=cp.CLARABEL``. To suppress this\n",
      "    warning while continuing to use ECOS, you can filter this warning using\n",
      "    Python's ``warnings`` module until you are using 1.6.0.\n",
      "    \n",
      "  warnings.warn(ECOS_DEP_DEPRECATION_MSG, FutureWarning)\n",
      "/opt/anaconda3/lib/python3.12/site-packages/cvxpy/problems/problem.py:1407: UserWarning: Solution may be inaccurate. Try another solver, adjusting the solver settings, or solve with verbose=True for more information.\n",
      "  warnings.warn(\n"
     ]
    },
    {
     "name": "stdout",
     "output_type": "stream",
     "text": [
      "[t=3257 | 2024-06-26] active: ['AAPL', 'ACN', 'ADBE', 'AMAT', 'AMD', 'AMZN', 'AVGO', 'BKNG', 'COST', 'CRM', 'CSCO', 'DIS', 'GOOGL', 'HD', 'IBM', 'INTU', 'KO', 'MCD', 'META', 'MSFT', 'NFLX', 'NOW', 'NVDA', 'ORCL', 'PG', 'PLTR', 'PM', 'QCOM', 'T', 'TSLA', 'TXN', 'VZ', 'WMT']\n"
     ]
    },
    {
     "name": "stderr",
     "output_type": "stream",
     "text": [
      "/opt/anaconda3/lib/python3.12/site-packages/cvxpy/reductions/solvers/solving_chain.py:356: FutureWarning: \n",
      "    You specified your problem should be solved by ECOS. Starting in\n",
      "    CXVPY 1.6.0, ECOS will no longer be installed by default with CVXPY.\n",
      "    Please either add ECOS as an explicit install dependency to your project\n",
      "    or switch to our new default solver, Clarabel, by either not specifying a\n",
      "    solver argument or specifying ``solver=cp.CLARABEL``. To suppress this\n",
      "    warning while continuing to use ECOS, you can filter this warning using\n",
      "    Python's ``warnings`` module until you are using 1.6.0.\n",
      "    \n",
      "  warnings.warn(ECOS_DEP_DEPRECATION_MSG, FutureWarning)\n",
      "/opt/anaconda3/lib/python3.12/site-packages/cvxpy/problems/problem.py:1407: UserWarning: Solution may be inaccurate. Try another solver, adjusting the solver settings, or solve with verbose=True for more information.\n",
      "  warnings.warn(\n"
     ]
    },
    {
     "name": "stdout",
     "output_type": "stream",
     "text": [
      "[t=3259 | 2024-06-28] active: ['AAPL', 'ACN', 'ADBE', 'AMAT', 'AMD', 'AMZN', 'AVGO', 'BKNG', 'COST', 'CRM', 'CSCO', 'DIS', 'GOOGL', 'HD', 'IBM', 'INTU', 'KO', 'MCD', 'META', 'MSFT', 'NFLX', 'NOW', 'NVDA', 'ORCL', 'PG', 'PLTR', 'PM', 'QCOM', 'T', 'TSLA', 'TXN', 'VZ', 'WMT']\n"
     ]
    },
    {
     "name": "stderr",
     "output_type": "stream",
     "text": [
      "/opt/anaconda3/lib/python3.12/site-packages/cvxpy/reductions/solvers/solving_chain.py:356: FutureWarning: \n",
      "    You specified your problem should be solved by ECOS. Starting in\n",
      "    CXVPY 1.6.0, ECOS will no longer be installed by default with CVXPY.\n",
      "    Please either add ECOS as an explicit install dependency to your project\n",
      "    or switch to our new default solver, Clarabel, by either not specifying a\n",
      "    solver argument or specifying ``solver=cp.CLARABEL``. To suppress this\n",
      "    warning while continuing to use ECOS, you can filter this warning using\n",
      "    Python's ``warnings`` module until you are using 1.6.0.\n",
      "    \n",
      "  warnings.warn(ECOS_DEP_DEPRECATION_MSG, FutureWarning)\n",
      "/opt/anaconda3/lib/python3.12/site-packages/cvxpy/problems/problem.py:1407: UserWarning: Solution may be inaccurate. Try another solver, adjusting the solver settings, or solve with verbose=True for more information.\n",
      "  warnings.warn(\n"
     ]
    },
    {
     "name": "stdout",
     "output_type": "stream",
     "text": [
      "[t=3267 | 2024-07-10] active: ['AAPL', 'ACN', 'ADBE', 'AMAT', 'AMD', 'AMZN', 'AVGO', 'BKNG', 'COST', 'CRM', 'CSCO', 'DIS', 'GOOGL', 'HD', 'IBM', 'INTU', 'KO', 'MCD', 'META', 'MSFT', 'NFLX', 'NOW', 'NVDA', 'ORCL', 'PG', 'PLTR', 'PM', 'QCOM', 'T', 'TSLA', 'TXN', 'VZ', 'WMT']\n"
     ]
    },
    {
     "name": "stderr",
     "output_type": "stream",
     "text": [
      "/opt/anaconda3/lib/python3.12/site-packages/cvxpy/reductions/solvers/solving_chain.py:356: FutureWarning: \n",
      "    You specified your problem should be solved by ECOS. Starting in\n",
      "    CXVPY 1.6.0, ECOS will no longer be installed by default with CVXPY.\n",
      "    Please either add ECOS as an explicit install dependency to your project\n",
      "    or switch to our new default solver, Clarabel, by either not specifying a\n",
      "    solver argument or specifying ``solver=cp.CLARABEL``. To suppress this\n",
      "    warning while continuing to use ECOS, you can filter this warning using\n",
      "    Python's ``warnings`` module until you are using 1.6.0.\n",
      "    \n",
      "  warnings.warn(ECOS_DEP_DEPRECATION_MSG, FutureWarning)\n",
      "/opt/anaconda3/lib/python3.12/site-packages/cvxpy/problems/problem.py:1407: UserWarning: Solution may be inaccurate. Try another solver, adjusting the solver settings, or solve with verbose=True for more information.\n",
      "  warnings.warn(\n"
     ]
    },
    {
     "name": "stdout",
     "output_type": "stream",
     "text": [
      "[t=3269 | 2024-07-12] active: ['AAPL', 'ACN', 'ADBE', 'AMAT', 'AMD', 'AMZN', 'AVGO', 'BKNG', 'COST', 'CRM', 'CSCO', 'DIS', 'GOOGL', 'HD', 'IBM', 'INTU', 'KO', 'MCD', 'META', 'MSFT', 'NFLX', 'NOW', 'NVDA', 'ORCL', 'PG', 'PLTR', 'PM', 'QCOM', 'T', 'TSLA', 'TXN', 'VZ', 'WMT']\n"
     ]
    },
    {
     "name": "stderr",
     "output_type": "stream",
     "text": [
      "/opt/anaconda3/lib/python3.12/site-packages/cvxpy/reductions/solvers/solving_chain.py:356: FutureWarning: \n",
      "    You specified your problem should be solved by ECOS. Starting in\n",
      "    CXVPY 1.6.0, ECOS will no longer be installed by default with CVXPY.\n",
      "    Please either add ECOS as an explicit install dependency to your project\n",
      "    or switch to our new default solver, Clarabel, by either not specifying a\n",
      "    solver argument or specifying ``solver=cp.CLARABEL``. To suppress this\n",
      "    warning while continuing to use ECOS, you can filter this warning using\n",
      "    Python's ``warnings`` module until you are using 1.6.0.\n",
      "    \n",
      "  warnings.warn(ECOS_DEP_DEPRECATION_MSG, FutureWarning)\n",
      "/opt/anaconda3/lib/python3.12/site-packages/cvxpy/problems/problem.py:1407: UserWarning: Solution may be inaccurate. Try another solver, adjusting the solver settings, or solve with verbose=True for more information.\n",
      "  warnings.warn(\n"
     ]
    },
    {
     "name": "stdout",
     "output_type": "stream",
     "text": [
      "[t=3272 | 2024-07-17] active: ['AAPL', 'ACN', 'ADBE', 'AMAT', 'AMD', 'AMZN', 'AVGO', 'BKNG', 'COST', 'CRM', 'CSCO', 'DIS', 'GOOGL', 'HD', 'IBM', 'INTU', 'KO', 'MCD', 'META', 'MSFT', 'NFLX', 'NOW', 'NVDA', 'ORCL', 'PG', 'PLTR', 'PM', 'QCOM', 'T', 'TSLA', 'TXN', 'VZ', 'WMT']\n"
     ]
    },
    {
     "name": "stderr",
     "output_type": "stream",
     "text": [
      "/opt/anaconda3/lib/python3.12/site-packages/cvxpy/reductions/solvers/solving_chain.py:356: FutureWarning: \n",
      "    You specified your problem should be solved by ECOS. Starting in\n",
      "    CXVPY 1.6.0, ECOS will no longer be installed by default with CVXPY.\n",
      "    Please either add ECOS as an explicit install dependency to your project\n",
      "    or switch to our new default solver, Clarabel, by either not specifying a\n",
      "    solver argument or specifying ``solver=cp.CLARABEL``. To suppress this\n",
      "    warning while continuing to use ECOS, you can filter this warning using\n",
      "    Python's ``warnings`` module until you are using 1.6.0.\n",
      "    \n",
      "  warnings.warn(ECOS_DEP_DEPRECATION_MSG, FutureWarning)\n",
      "/opt/anaconda3/lib/python3.12/site-packages/cvxpy/problems/problem.py:1407: UserWarning: Solution may be inaccurate. Try another solver, adjusting the solver settings, or solve with verbose=True for more information.\n",
      "  warnings.warn(\n"
     ]
    },
    {
     "name": "stdout",
     "output_type": "stream",
     "text": [
      "[t=3273 | 2024-07-18] active: ['AAPL', 'ACN', 'ADBE', 'AMAT', 'AMD', 'AMZN', 'AVGO', 'BKNG', 'COST', 'CRM', 'CSCO', 'DIS', 'GOOGL', 'HD', 'IBM', 'INTU', 'KO', 'MCD', 'META', 'MSFT', 'NFLX', 'NOW', 'NVDA', 'ORCL', 'PG', 'PLTR', 'PM', 'QCOM', 'T', 'TSLA', 'TXN', 'VZ', 'WMT']\n"
     ]
    },
    {
     "name": "stderr",
     "output_type": "stream",
     "text": [
      "/opt/anaconda3/lib/python3.12/site-packages/cvxpy/reductions/solvers/solving_chain.py:356: FutureWarning: \n",
      "    You specified your problem should be solved by ECOS. Starting in\n",
      "    CXVPY 1.6.0, ECOS will no longer be installed by default with CVXPY.\n",
      "    Please either add ECOS as an explicit install dependency to your project\n",
      "    or switch to our new default solver, Clarabel, by either not specifying a\n",
      "    solver argument or specifying ``solver=cp.CLARABEL``. To suppress this\n",
      "    warning while continuing to use ECOS, you can filter this warning using\n",
      "    Python's ``warnings`` module until you are using 1.6.0.\n",
      "    \n",
      "  warnings.warn(ECOS_DEP_DEPRECATION_MSG, FutureWarning)\n",
      "/opt/anaconda3/lib/python3.12/site-packages/cvxpy/problems/problem.py:1407: UserWarning: Solution may be inaccurate. Try another solver, adjusting the solver settings, or solve with verbose=True for more information.\n",
      "  warnings.warn(\n"
     ]
    },
    {
     "name": "stdout",
     "output_type": "stream",
     "text": [
      "[t=3274 | 2024-07-19] active: ['AAPL', 'ACN', 'ADBE', 'AMAT', 'AMD', 'AMZN', 'AVGO', 'BKNG', 'COST', 'CRM', 'CSCO', 'DIS', 'GOOGL', 'HD', 'IBM', 'INTU', 'KO', 'MCD', 'META', 'MSFT', 'NFLX', 'NOW', 'NVDA', 'ORCL', 'PG', 'PLTR', 'PM', 'QCOM', 'T', 'TSLA', 'TXN', 'VZ', 'WMT']\n"
     ]
    },
    {
     "name": "stderr",
     "output_type": "stream",
     "text": [
      "/opt/anaconda3/lib/python3.12/site-packages/cvxpy/reductions/solvers/solving_chain.py:356: FutureWarning: \n",
      "    You specified your problem should be solved by ECOS. Starting in\n",
      "    CXVPY 1.6.0, ECOS will no longer be installed by default with CVXPY.\n",
      "    Please either add ECOS as an explicit install dependency to your project\n",
      "    or switch to our new default solver, Clarabel, by either not specifying a\n",
      "    solver argument or specifying ``solver=cp.CLARABEL``. To suppress this\n",
      "    warning while continuing to use ECOS, you can filter this warning using\n",
      "    Python's ``warnings`` module until you are using 1.6.0.\n",
      "    \n",
      "  warnings.warn(ECOS_DEP_DEPRECATION_MSG, FutureWarning)\n",
      "/opt/anaconda3/lib/python3.12/site-packages/cvxpy/problems/problem.py:1407: UserWarning: Solution may be inaccurate. Try another solver, adjusting the solver settings, or solve with verbose=True for more information.\n",
      "  warnings.warn(\n"
     ]
    },
    {
     "name": "stdout",
     "output_type": "stream",
     "text": [
      "[t=3277 | 2024-07-24] active: ['AAPL', 'ACN', 'ADBE', 'AMAT', 'AMD', 'AMZN', 'AVGO', 'BKNG', 'COST', 'CRM', 'CSCO', 'DIS', 'GOOGL', 'HD', 'IBM', 'INTU', 'KO', 'MCD', 'META', 'MSFT', 'NFLX', 'NOW', 'NVDA', 'ORCL', 'PG', 'PLTR', 'PM', 'QCOM', 'T', 'TSLA', 'TXN', 'VZ', 'WMT']\n"
     ]
    },
    {
     "name": "stderr",
     "output_type": "stream",
     "text": [
      "/opt/anaconda3/lib/python3.12/site-packages/cvxpy/reductions/solvers/solving_chain.py:356: FutureWarning: \n",
      "    You specified your problem should be solved by ECOS. Starting in\n",
      "    CXVPY 1.6.0, ECOS will no longer be installed by default with CVXPY.\n",
      "    Please either add ECOS as an explicit install dependency to your project\n",
      "    or switch to our new default solver, Clarabel, by either not specifying a\n",
      "    solver argument or specifying ``solver=cp.CLARABEL``. To suppress this\n",
      "    warning while continuing to use ECOS, you can filter this warning using\n",
      "    Python's ``warnings`` module until you are using 1.6.0.\n",
      "    \n",
      "  warnings.warn(ECOS_DEP_DEPRECATION_MSG, FutureWarning)\n",
      "/opt/anaconda3/lib/python3.12/site-packages/cvxpy/problems/problem.py:1407: UserWarning: Solution may be inaccurate. Try another solver, adjusting the solver settings, or solve with verbose=True for more information.\n",
      "  warnings.warn(\n"
     ]
    },
    {
     "name": "stdout",
     "output_type": "stream",
     "text": [
      "[t=3279 | 2024-07-26] active: ['AAPL', 'ACN', 'ADBE', 'AMAT', 'AMD', 'AMZN', 'AVGO', 'BKNG', 'COST', 'CRM', 'CSCO', 'DIS', 'GOOGL', 'HD', 'IBM', 'INTU', 'KO', 'MCD', 'META', 'MSFT', 'NFLX', 'NOW', 'NVDA', 'ORCL', 'PG', 'PLTR', 'PM', 'QCOM', 'T', 'TSLA', 'TXN', 'VZ', 'WMT']\n"
     ]
    },
    {
     "name": "stderr",
     "output_type": "stream",
     "text": [
      "/opt/anaconda3/lib/python3.12/site-packages/cvxpy/reductions/solvers/solving_chain.py:356: FutureWarning: \n",
      "    You specified your problem should be solved by ECOS. Starting in\n",
      "    CXVPY 1.6.0, ECOS will no longer be installed by default with CVXPY.\n",
      "    Please either add ECOS as an explicit install dependency to your project\n",
      "    or switch to our new default solver, Clarabel, by either not specifying a\n",
      "    solver argument or specifying ``solver=cp.CLARABEL``. To suppress this\n",
      "    warning while continuing to use ECOS, you can filter this warning using\n",
      "    Python's ``warnings`` module until you are using 1.6.0.\n",
      "    \n",
      "  warnings.warn(ECOS_DEP_DEPRECATION_MSG, FutureWarning)\n",
      "/opt/anaconda3/lib/python3.12/site-packages/cvxpy/problems/problem.py:1407: UserWarning: Solution may be inaccurate. Try another solver, adjusting the solver settings, or solve with verbose=True for more information.\n",
      "  warnings.warn(\n"
     ]
    },
    {
     "name": "stdout",
     "output_type": "stream",
     "text": [
      "[t=3283 | 2024-08-01] active: ['AAPL', 'ACN', 'ADBE', 'AMAT', 'AMD', 'AMZN', 'AVGO', 'BKNG', 'COST', 'CRM', 'CSCO', 'DIS', 'GOOGL', 'HD', 'IBM', 'INTU', 'KO', 'MCD', 'META', 'MSFT', 'NFLX', 'NOW', 'NVDA', 'ORCL', 'PG', 'PLTR', 'PM', 'QCOM', 'T', 'TSLA', 'TXN', 'VZ', 'WMT']\n"
     ]
    },
    {
     "name": "stderr",
     "output_type": "stream",
     "text": [
      "/opt/anaconda3/lib/python3.12/site-packages/cvxpy/reductions/solvers/solving_chain.py:356: FutureWarning: \n",
      "    You specified your problem should be solved by ECOS. Starting in\n",
      "    CXVPY 1.6.0, ECOS will no longer be installed by default with CVXPY.\n",
      "    Please either add ECOS as an explicit install dependency to your project\n",
      "    or switch to our new default solver, Clarabel, by either not specifying a\n",
      "    solver argument or specifying ``solver=cp.CLARABEL``. To suppress this\n",
      "    warning while continuing to use ECOS, you can filter this warning using\n",
      "    Python's ``warnings`` module until you are using 1.6.0.\n",
      "    \n",
      "  warnings.warn(ECOS_DEP_DEPRECATION_MSG, FutureWarning)\n",
      "/opt/anaconda3/lib/python3.12/site-packages/cvxpy/problems/problem.py:1407: UserWarning: Solution may be inaccurate. Try another solver, adjusting the solver settings, or solve with verbose=True for more information.\n",
      "  warnings.warn(\n"
     ]
    },
    {
     "name": "stdout",
     "output_type": "stream",
     "text": [
      "[t=3284 | 2024-08-02] active: ['AAPL', 'ACN', 'ADBE', 'AMAT', 'AMD', 'AMZN', 'AVGO', 'BKNG', 'COST', 'CRM', 'CSCO', 'DIS', 'GOOGL', 'HD', 'IBM', 'INTU', 'KO', 'MCD', 'META', 'MSFT', 'NFLX', 'NOW', 'NVDA', 'ORCL', 'PG', 'PLTR', 'PM', 'QCOM', 'T', 'TSLA', 'TXN', 'VZ', 'WMT']\n"
     ]
    },
    {
     "name": "stderr",
     "output_type": "stream",
     "text": [
      "/opt/anaconda3/lib/python3.12/site-packages/cvxpy/reductions/solvers/solving_chain.py:356: FutureWarning: \n",
      "    You specified your problem should be solved by ECOS. Starting in\n",
      "    CXVPY 1.6.0, ECOS will no longer be installed by default with CVXPY.\n",
      "    Please either add ECOS as an explicit install dependency to your project\n",
      "    or switch to our new default solver, Clarabel, by either not specifying a\n",
      "    solver argument or specifying ``solver=cp.CLARABEL``. To suppress this\n",
      "    warning while continuing to use ECOS, you can filter this warning using\n",
      "    Python's ``warnings`` module until you are using 1.6.0.\n",
      "    \n",
      "  warnings.warn(ECOS_DEP_DEPRECATION_MSG, FutureWarning)\n",
      "/opt/anaconda3/lib/python3.12/site-packages/cvxpy/problems/problem.py:1407: UserWarning: Solution may be inaccurate. Try another solver, adjusting the solver settings, or solve with verbose=True for more information.\n",
      "  warnings.warn(\n"
     ]
    },
    {
     "name": "stdout",
     "output_type": "stream",
     "text": [
      "[t=3285 | 2024-08-05] active: ['AAPL', 'ACN', 'ADBE', 'AMAT', 'AMD', 'AMZN', 'AVGO', 'BKNG', 'COST', 'CRM', 'CSCO', 'DIS', 'GOOGL', 'HD', 'IBM', 'INTU', 'KO', 'MCD', 'META', 'MSFT', 'NFLX', 'NOW', 'NVDA', 'ORCL', 'PG', 'PLTR', 'PM', 'QCOM', 'T', 'TSLA', 'TXN', 'VZ', 'WMT']\n"
     ]
    },
    {
     "name": "stderr",
     "output_type": "stream",
     "text": [
      "/opt/anaconda3/lib/python3.12/site-packages/cvxpy/reductions/solvers/solving_chain.py:356: FutureWarning: \n",
      "    You specified your problem should be solved by ECOS. Starting in\n",
      "    CXVPY 1.6.0, ECOS will no longer be installed by default with CVXPY.\n",
      "    Please either add ECOS as an explicit install dependency to your project\n",
      "    or switch to our new default solver, Clarabel, by either not specifying a\n",
      "    solver argument or specifying ``solver=cp.CLARABEL``. To suppress this\n",
      "    warning while continuing to use ECOS, you can filter this warning using\n",
      "    Python's ``warnings`` module until you are using 1.6.0.\n",
      "    \n",
      "  warnings.warn(ECOS_DEP_DEPRECATION_MSG, FutureWarning)\n",
      "/opt/anaconda3/lib/python3.12/site-packages/cvxpy/problems/problem.py:1407: UserWarning: Solution may be inaccurate. Try another solver, adjusting the solver settings, or solve with verbose=True for more information.\n",
      "  warnings.warn(\n"
     ]
    },
    {
     "name": "stdout",
     "output_type": "stream",
     "text": [
      "[t=3286 | 2024-08-06] active: ['AAPL', 'ACN', 'ADBE', 'AMAT', 'AMD', 'AMZN', 'AVGO', 'BKNG', 'COST', 'CRM', 'CSCO', 'DIS', 'GOOGL', 'HD', 'IBM', 'INTU', 'KO', 'MCD', 'META', 'MSFT', 'NFLX', 'NOW', 'NVDA', 'ORCL', 'PG', 'PLTR', 'PM', 'QCOM', 'T', 'TSLA', 'TXN', 'VZ', 'WMT']\n"
     ]
    },
    {
     "name": "stderr",
     "output_type": "stream",
     "text": [
      "/opt/anaconda3/lib/python3.12/site-packages/cvxpy/reductions/solvers/solving_chain.py:356: FutureWarning: \n",
      "    You specified your problem should be solved by ECOS. Starting in\n",
      "    CXVPY 1.6.0, ECOS will no longer be installed by default with CVXPY.\n",
      "    Please either add ECOS as an explicit install dependency to your project\n",
      "    or switch to our new default solver, Clarabel, by either not specifying a\n",
      "    solver argument or specifying ``solver=cp.CLARABEL``. To suppress this\n",
      "    warning while continuing to use ECOS, you can filter this warning using\n",
      "    Python's ``warnings`` module until you are using 1.6.0.\n",
      "    \n",
      "  warnings.warn(ECOS_DEP_DEPRECATION_MSG, FutureWarning)\n",
      "/opt/anaconda3/lib/python3.12/site-packages/cvxpy/problems/problem.py:1407: UserWarning: Solution may be inaccurate. Try another solver, adjusting the solver settings, or solve with verbose=True for more information.\n",
      "  warnings.warn(\n"
     ]
    },
    {
     "name": "stdout",
     "output_type": "stream",
     "text": [
      "[t=3287 | 2024-08-07] active: ['AAPL', 'ACN', 'ADBE', 'AMAT', 'AMD', 'AMZN', 'AVGO', 'BKNG', 'COST', 'CRM', 'CSCO', 'DIS', 'GOOGL', 'HD', 'IBM', 'INTU', 'KO', 'MCD', 'META', 'MSFT', 'NFLX', 'NOW', 'NVDA', 'ORCL', 'PG', 'PLTR', 'PM', 'QCOM', 'T', 'TSLA', 'TXN', 'VZ', 'WMT']\n"
     ]
    },
    {
     "name": "stderr",
     "output_type": "stream",
     "text": [
      "/opt/anaconda3/lib/python3.12/site-packages/cvxpy/reductions/solvers/solving_chain.py:356: FutureWarning: \n",
      "    You specified your problem should be solved by ECOS. Starting in\n",
      "    CXVPY 1.6.0, ECOS will no longer be installed by default with CVXPY.\n",
      "    Please either add ECOS as an explicit install dependency to your project\n",
      "    or switch to our new default solver, Clarabel, by either not specifying a\n",
      "    solver argument or specifying ``solver=cp.CLARABEL``. To suppress this\n",
      "    warning while continuing to use ECOS, you can filter this warning using\n",
      "    Python's ``warnings`` module until you are using 1.6.0.\n",
      "    \n",
      "  warnings.warn(ECOS_DEP_DEPRECATION_MSG, FutureWarning)\n",
      "/opt/anaconda3/lib/python3.12/site-packages/cvxpy/problems/problem.py:1407: UserWarning: Solution may be inaccurate. Try another solver, adjusting the solver settings, or solve with verbose=True for more information.\n",
      "  warnings.warn(\n"
     ]
    },
    {
     "name": "stdout",
     "output_type": "stream",
     "text": [
      "[t=3288 | 2024-08-08] active: ['AAPL', 'ACN', 'ADBE', 'AMAT', 'AMD', 'AMZN', 'AVGO', 'BKNG', 'COST', 'CRM', 'CSCO', 'DIS', 'GOOGL', 'HD', 'IBM', 'INTU', 'KO', 'MCD', 'META', 'MSFT', 'NFLX', 'NOW', 'NVDA', 'ORCL', 'PG', 'PLTR', 'PM', 'QCOM', 'T', 'TSLA', 'TXN', 'VZ', 'WMT']\n"
     ]
    },
    {
     "name": "stderr",
     "output_type": "stream",
     "text": [
      "/opt/anaconda3/lib/python3.12/site-packages/cvxpy/reductions/solvers/solving_chain.py:356: FutureWarning: \n",
      "    You specified your problem should be solved by ECOS. Starting in\n",
      "    CXVPY 1.6.0, ECOS will no longer be installed by default with CVXPY.\n",
      "    Please either add ECOS as an explicit install dependency to your project\n",
      "    or switch to our new default solver, Clarabel, by either not specifying a\n",
      "    solver argument or specifying ``solver=cp.CLARABEL``. To suppress this\n",
      "    warning while continuing to use ECOS, you can filter this warning using\n",
      "    Python's ``warnings`` module until you are using 1.6.0.\n",
      "    \n",
      "  warnings.warn(ECOS_DEP_DEPRECATION_MSG, FutureWarning)\n",
      "/opt/anaconda3/lib/python3.12/site-packages/cvxpy/problems/problem.py:1407: UserWarning: Solution may be inaccurate. Try another solver, adjusting the solver settings, or solve with verbose=True for more information.\n",
      "  warnings.warn(\n"
     ]
    },
    {
     "name": "stdout",
     "output_type": "stream",
     "text": [
      "[t=3308 | 2024-09-05] active: ['AAPL', 'ACN', 'ADBE', 'AMAT', 'AMD', 'AMZN', 'AVGO', 'BKNG', 'COST', 'CRM', 'CSCO', 'DIS', 'GOOGL', 'HD', 'IBM', 'INTU', 'KO', 'MCD', 'META', 'MSFT', 'NFLX', 'NOW', 'NVDA', 'ORCL', 'PG', 'PLTR', 'PM', 'QCOM', 'T', 'TSLA', 'TXN', 'VZ', 'WMT']\n"
     ]
    },
    {
     "name": "stderr",
     "output_type": "stream",
     "text": [
      "/opt/anaconda3/lib/python3.12/site-packages/cvxpy/reductions/solvers/solving_chain.py:356: FutureWarning: \n",
      "    You specified your problem should be solved by ECOS. Starting in\n",
      "    CXVPY 1.6.0, ECOS will no longer be installed by default with CVXPY.\n",
      "    Please either add ECOS as an explicit install dependency to your project\n",
      "    or switch to our new default solver, Clarabel, by either not specifying a\n",
      "    solver argument or specifying ``solver=cp.CLARABEL``. To suppress this\n",
      "    warning while continuing to use ECOS, you can filter this warning using\n",
      "    Python's ``warnings`` module until you are using 1.6.0.\n",
      "    \n",
      "  warnings.warn(ECOS_DEP_DEPRECATION_MSG, FutureWarning)\n",
      "/opt/anaconda3/lib/python3.12/site-packages/cvxpy/problems/problem.py:1407: UserWarning: Solution may be inaccurate. Try another solver, adjusting the solver settings, or solve with verbose=True for more information.\n",
      "  warnings.warn(\n"
     ]
    },
    {
     "name": "stdout",
     "output_type": "stream",
     "text": [
      "[t=3352 | 2024-11-06] active: ['AAPL', 'ACN', 'ADBE', 'AMAT', 'AMD', 'AMZN', 'AVGO', 'BKNG', 'COST', 'CRM', 'CSCO', 'DIS', 'GOOGL', 'HD', 'IBM', 'INTU', 'KO', 'MCD', 'META', 'MSFT', 'NFLX', 'NOW', 'NVDA', 'ORCL', 'PG', 'PLTR', 'PM', 'QCOM', 'T', 'TSLA', 'TXN', 'VZ', 'WMT']\n"
     ]
    },
    {
     "name": "stderr",
     "output_type": "stream",
     "text": [
      "/opt/anaconda3/lib/python3.12/site-packages/cvxpy/reductions/solvers/solving_chain.py:356: FutureWarning: \n",
      "    You specified your problem should be solved by ECOS. Starting in\n",
      "    CXVPY 1.6.0, ECOS will no longer be installed by default with CVXPY.\n",
      "    Please either add ECOS as an explicit install dependency to your project\n",
      "    or switch to our new default solver, Clarabel, by either not specifying a\n",
      "    solver argument or specifying ``solver=cp.CLARABEL``. To suppress this\n",
      "    warning while continuing to use ECOS, you can filter this warning using\n",
      "    Python's ``warnings`` module until you are using 1.6.0.\n",
      "    \n",
      "  warnings.warn(ECOS_DEP_DEPRECATION_MSG, FutureWarning)\n",
      "/opt/anaconda3/lib/python3.12/site-packages/cvxpy/problems/problem.py:1407: UserWarning: Solution may be inaccurate. Try another solver, adjusting the solver settings, or solve with verbose=True for more information.\n",
      "  warnings.warn(\n"
     ]
    },
    {
     "name": "stdout",
     "output_type": "stream",
     "text": [
      "[t=3353 | 2024-11-07] active: ['AAPL', 'ACN', 'ADBE', 'AMAT', 'AMD', 'AMZN', 'AVGO', 'BKNG', 'COST', 'CRM', 'CSCO', 'DIS', 'GOOGL', 'HD', 'IBM', 'INTU', 'KO', 'MCD', 'META', 'MSFT', 'NFLX', 'NOW', 'NVDA', 'ORCL', 'PG', 'PLTR', 'PM', 'QCOM', 'T', 'TSLA', 'TXN', 'VZ', 'WMT']\n"
     ]
    },
    {
     "name": "stderr",
     "output_type": "stream",
     "text": [
      "/opt/anaconda3/lib/python3.12/site-packages/cvxpy/reductions/solvers/solving_chain.py:356: FutureWarning: \n",
      "    You specified your problem should be solved by ECOS. Starting in\n",
      "    CXVPY 1.6.0, ECOS will no longer be installed by default with CVXPY.\n",
      "    Please either add ECOS as an explicit install dependency to your project\n",
      "    or switch to our new default solver, Clarabel, by either not specifying a\n",
      "    solver argument or specifying ``solver=cp.CLARABEL``. To suppress this\n",
      "    warning while continuing to use ECOS, you can filter this warning using\n",
      "    Python's ``warnings`` module until you are using 1.6.0.\n",
      "    \n",
      "  warnings.warn(ECOS_DEP_DEPRECATION_MSG, FutureWarning)\n",
      "/opt/anaconda3/lib/python3.12/site-packages/cvxpy/problems/problem.py:1407: UserWarning: Solution may be inaccurate. Try another solver, adjusting the solver settings, or solve with verbose=True for more information.\n",
      "  warnings.warn(\n"
     ]
    },
    {
     "name": "stdout",
     "output_type": "stream",
     "text": [
      "[t=3354 | 2024-11-08] active: ['AAPL', 'ACN', 'ADBE', 'AMAT', 'AMD', 'AMZN', 'AVGO', 'BKNG', 'COST', 'CRM', 'CSCO', 'DIS', 'GOOGL', 'HD', 'IBM', 'INTU', 'KO', 'MCD', 'META', 'MSFT', 'NFLX', 'NOW', 'NVDA', 'ORCL', 'PG', 'PLTR', 'PM', 'QCOM', 'T', 'TSLA', 'TXN', 'VZ', 'WMT']\n"
     ]
    },
    {
     "name": "stderr",
     "output_type": "stream",
     "text": [
      "/opt/anaconda3/lib/python3.12/site-packages/cvxpy/reductions/solvers/solving_chain.py:356: FutureWarning: \n",
      "    You specified your problem should be solved by ECOS. Starting in\n",
      "    CXVPY 1.6.0, ECOS will no longer be installed by default with CVXPY.\n",
      "    Please either add ECOS as an explicit install dependency to your project\n",
      "    or switch to our new default solver, Clarabel, by either not specifying a\n",
      "    solver argument or specifying ``solver=cp.CLARABEL``. To suppress this\n",
      "    warning while continuing to use ECOS, you can filter this warning using\n",
      "    Python's ``warnings`` module until you are using 1.6.0.\n",
      "    \n",
      "  warnings.warn(ECOS_DEP_DEPRECATION_MSG, FutureWarning)\n",
      "/opt/anaconda3/lib/python3.12/site-packages/cvxpy/problems/problem.py:1407: UserWarning: Solution may be inaccurate. Try another solver, adjusting the solver settings, or solve with verbose=True for more information.\n",
      "  warnings.warn(\n"
     ]
    },
    {
     "name": "stdout",
     "output_type": "stream",
     "text": [
      "[t=3355 | 2024-11-11] active: ['AAPL', 'ACN', 'ADBE', 'AMAT', 'AMD', 'AMZN', 'AVGO', 'BKNG', 'COST', 'CRM', 'CSCO', 'DIS', 'GOOGL', 'HD', 'IBM', 'INTU', 'KO', 'MCD', 'META', 'MSFT', 'NFLX', 'NOW', 'NVDA', 'ORCL', 'PG', 'PLTR', 'PM', 'QCOM', 'T', 'TSLA', 'TXN', 'VZ', 'WMT']\n"
     ]
    },
    {
     "name": "stderr",
     "output_type": "stream",
     "text": [
      "/opt/anaconda3/lib/python3.12/site-packages/cvxpy/reductions/solvers/solving_chain.py:356: FutureWarning: \n",
      "    You specified your problem should be solved by ECOS. Starting in\n",
      "    CXVPY 1.6.0, ECOS will no longer be installed by default with CVXPY.\n",
      "    Please either add ECOS as an explicit install dependency to your project\n",
      "    or switch to our new default solver, Clarabel, by either not specifying a\n",
      "    solver argument or specifying ``solver=cp.CLARABEL``. To suppress this\n",
      "    warning while continuing to use ECOS, you can filter this warning using\n",
      "    Python's ``warnings`` module until you are using 1.6.0.\n",
      "    \n",
      "  warnings.warn(ECOS_DEP_DEPRECATION_MSG, FutureWarning)\n",
      "/opt/anaconda3/lib/python3.12/site-packages/cvxpy/problems/problem.py:1407: UserWarning: Solution may be inaccurate. Try another solver, adjusting the solver settings, or solve with verbose=True for more information.\n",
      "  warnings.warn(\n"
     ]
    },
    {
     "name": "stdout",
     "output_type": "stream",
     "text": [
      "[t=3382 | 2024-12-18] active: ['AAPL', 'ACN', 'ADBE', 'AMAT', 'AMD', 'AMZN', 'AVGO', 'BKNG', 'COST', 'CRM', 'CSCO', 'DIS', 'GOOGL', 'HD', 'IBM', 'INTU', 'KO', 'MCD', 'META', 'MSFT', 'NFLX', 'NOW', 'NVDA', 'ORCL', 'PG', 'PLTR', 'PM', 'QCOM', 'T', 'TSLA', 'TXN', 'VZ', 'WMT']\n"
     ]
    },
    {
     "name": "stderr",
     "output_type": "stream",
     "text": [
      "/opt/anaconda3/lib/python3.12/site-packages/cvxpy/reductions/solvers/solving_chain.py:356: FutureWarning: \n",
      "    You specified your problem should be solved by ECOS. Starting in\n",
      "    CXVPY 1.6.0, ECOS will no longer be installed by default with CVXPY.\n",
      "    Please either add ECOS as an explicit install dependency to your project\n",
      "    or switch to our new default solver, Clarabel, by either not specifying a\n",
      "    solver argument or specifying ``solver=cp.CLARABEL``. To suppress this\n",
      "    warning while continuing to use ECOS, you can filter this warning using\n",
      "    Python's ``warnings`` module until you are using 1.6.0.\n",
      "    \n",
      "  warnings.warn(ECOS_DEP_DEPRECATION_MSG, FutureWarning)\n",
      "/opt/anaconda3/lib/python3.12/site-packages/cvxpy/problems/problem.py:1407: UserWarning: Solution may be inaccurate. Try another solver, adjusting the solver settings, or solve with verbose=True for more information.\n",
      "  warnings.warn(\n"
     ]
    },
    {
     "name": "stdout",
     "output_type": "stream",
     "text": [
      "[t=3383 | 2024-12-19] active: ['AAPL', 'ACN', 'ADBE', 'AMAT', 'AMD', 'AMZN', 'AVGO', 'BKNG', 'COST', 'CRM', 'CSCO', 'DIS', 'GOOGL', 'HD', 'IBM', 'INTU', 'KO', 'MCD', 'META', 'MSFT', 'NFLX', 'NOW', 'NVDA', 'ORCL', 'PG', 'PLTR', 'PM', 'QCOM', 'T', 'TSLA', 'TXN', 'VZ', 'WMT']\n"
     ]
    },
    {
     "name": "stderr",
     "output_type": "stream",
     "text": [
      "/opt/anaconda3/lib/python3.12/site-packages/cvxpy/reductions/solvers/solving_chain.py:356: FutureWarning: \n",
      "    You specified your problem should be solved by ECOS. Starting in\n",
      "    CXVPY 1.6.0, ECOS will no longer be installed by default with CVXPY.\n",
      "    Please either add ECOS as an explicit install dependency to your project\n",
      "    or switch to our new default solver, Clarabel, by either not specifying a\n",
      "    solver argument or specifying ``solver=cp.CLARABEL``. To suppress this\n",
      "    warning while continuing to use ECOS, you can filter this warning using\n",
      "    Python's ``warnings`` module until you are using 1.6.0.\n",
      "    \n",
      "  warnings.warn(ECOS_DEP_DEPRECATION_MSG, FutureWarning)\n",
      "/opt/anaconda3/lib/python3.12/site-packages/cvxpy/problems/problem.py:1407: UserWarning: Solution may be inaccurate. Try another solver, adjusting the solver settings, or solve with verbose=True for more information.\n",
      "  warnings.warn(\n"
     ]
    },
    {
     "name": "stdout",
     "output_type": "stream",
     "text": [
      "[t=3384 | 2024-12-20] active: ['AAPL', 'ACN', 'ADBE', 'AMAT', 'AMD', 'AMZN', 'AVGO', 'BKNG', 'COST', 'CRM', 'CSCO', 'DIS', 'GOOGL', 'HD', 'IBM', 'INTU', 'KO', 'MCD', 'META', 'MSFT', 'NFLX', 'NOW', 'NVDA', 'ORCL', 'PG', 'PLTR', 'PM', 'QCOM', 'T', 'TSLA', 'TXN', 'VZ', 'WMT']\n"
     ]
    },
    {
     "name": "stderr",
     "output_type": "stream",
     "text": [
      "/opt/anaconda3/lib/python3.12/site-packages/cvxpy/reductions/solvers/solving_chain.py:356: FutureWarning: \n",
      "    You specified your problem should be solved by ECOS. Starting in\n",
      "    CXVPY 1.6.0, ECOS will no longer be installed by default with CVXPY.\n",
      "    Please either add ECOS as an explicit install dependency to your project\n",
      "    or switch to our new default solver, Clarabel, by either not specifying a\n",
      "    solver argument or specifying ``solver=cp.CLARABEL``. To suppress this\n",
      "    warning while continuing to use ECOS, you can filter this warning using\n",
      "    Python's ``warnings`` module until you are using 1.6.0.\n",
      "    \n",
      "  warnings.warn(ECOS_DEP_DEPRECATION_MSG, FutureWarning)\n",
      "/opt/anaconda3/lib/python3.12/site-packages/cvxpy/problems/problem.py:1407: UserWarning: Solution may be inaccurate. Try another solver, adjusting the solver settings, or solve with verbose=True for more information.\n",
      "  warnings.warn(\n"
     ]
    },
    {
     "name": "stdout",
     "output_type": "stream",
     "text": [
      "[t=3400 | 2025-01-13] active: ['AAPL', 'ACN', 'ADBE', 'AMAT', 'AMD', 'AMZN', 'AVGO', 'BKNG', 'COST', 'CRM', 'CSCO', 'DIS', 'GOOGL', 'HD', 'IBM', 'INTU', 'KO', 'MCD', 'META', 'MSFT', 'NFLX', 'NOW', 'NVDA', 'ORCL', 'PG', 'PLTR', 'PM', 'QCOM', 'T', 'TSLA', 'TXN', 'VZ', 'WMT']\n"
     ]
    },
    {
     "name": "stderr",
     "output_type": "stream",
     "text": [
      "/opt/anaconda3/lib/python3.12/site-packages/cvxpy/reductions/solvers/solving_chain.py:356: FutureWarning: \n",
      "    You specified your problem should be solved by ECOS. Starting in\n",
      "    CXVPY 1.6.0, ECOS will no longer be installed by default with CVXPY.\n",
      "    Please either add ECOS as an explicit install dependency to your project\n",
      "    or switch to our new default solver, Clarabel, by either not specifying a\n",
      "    solver argument or specifying ``solver=cp.CLARABEL``. To suppress this\n",
      "    warning while continuing to use ECOS, you can filter this warning using\n",
      "    Python's ``warnings`` module until you are using 1.6.0.\n",
      "    \n",
      "  warnings.warn(ECOS_DEP_DEPRECATION_MSG, FutureWarning)\n",
      "/opt/anaconda3/lib/python3.12/site-packages/cvxpy/problems/problem.py:1407: UserWarning: Solution may be inaccurate. Try another solver, adjusting the solver settings, or solve with verbose=True for more information.\n",
      "  warnings.warn(\n"
     ]
    },
    {
     "name": "stdout",
     "output_type": "stream",
     "text": [
      "[t=3458 | 2025-04-03] active: ['AAPL', 'ACN', 'ADBE', 'AMAT', 'AMD', 'AMZN', 'AVGO', 'BKNG', 'COST', 'CRM', 'CSCO', 'DIS', 'GOOGL', 'HD', 'IBM', 'INTU', 'KO', 'MCD', 'META', 'MSFT', 'NFLX', 'NOW', 'NVDA', 'ORCL', 'PG', 'PLTR', 'PM', 'QCOM', 'T', 'TSLA', 'TXN', 'VZ', 'WMT']\n"
     ]
    },
    {
     "name": "stderr",
     "output_type": "stream",
     "text": [
      "/opt/anaconda3/lib/python3.12/site-packages/cvxpy/reductions/solvers/solving_chain.py:356: FutureWarning: \n",
      "    You specified your problem should be solved by ECOS. Starting in\n",
      "    CXVPY 1.6.0, ECOS will no longer be installed by default with CVXPY.\n",
      "    Please either add ECOS as an explicit install dependency to your project\n",
      "    or switch to our new default solver, Clarabel, by either not specifying a\n",
      "    solver argument or specifying ``solver=cp.CLARABEL``. To suppress this\n",
      "    warning while continuing to use ECOS, you can filter this warning using\n",
      "    Python's ``warnings`` module until you are using 1.6.0.\n",
      "    \n",
      "  warnings.warn(ECOS_DEP_DEPRECATION_MSG, FutureWarning)\n",
      "/opt/anaconda3/lib/python3.12/site-packages/cvxpy/problems/problem.py:1407: UserWarning: Solution may be inaccurate. Try another solver, adjusting the solver settings, or solve with verbose=True for more information.\n",
      "  warnings.warn(\n"
     ]
    },
    {
     "name": "stdout",
     "output_type": "stream",
     "text": [
      "[t=3459 | 2025-04-04] active: ['AAPL', 'ACN', 'ADBE', 'AMAT', 'AMD', 'AMZN', 'AVGO', 'BKNG', 'COST', 'CRM', 'CSCO', 'DIS', 'GOOGL', 'HD', 'IBM', 'INTU', 'KO', 'MCD', 'META', 'MSFT', 'NFLX', 'NOW', 'NVDA', 'ORCL', 'PG', 'PLTR', 'PM', 'QCOM', 'T', 'TSLA', 'TXN', 'VZ', 'WMT']\n"
     ]
    },
    {
     "name": "stderr",
     "output_type": "stream",
     "text": [
      "/opt/anaconda3/lib/python3.12/site-packages/cvxpy/reductions/solvers/solving_chain.py:356: FutureWarning: \n",
      "    You specified your problem should be solved by ECOS. Starting in\n",
      "    CXVPY 1.6.0, ECOS will no longer be installed by default with CVXPY.\n",
      "    Please either add ECOS as an explicit install dependency to your project\n",
      "    or switch to our new default solver, Clarabel, by either not specifying a\n",
      "    solver argument or specifying ``solver=cp.CLARABEL``. To suppress this\n",
      "    warning while continuing to use ECOS, you can filter this warning using\n",
      "    Python's ``warnings`` module until you are using 1.6.0.\n",
      "    \n",
      "  warnings.warn(ECOS_DEP_DEPRECATION_MSG, FutureWarning)\n",
      "/opt/anaconda3/lib/python3.12/site-packages/cvxpy/problems/problem.py:1407: UserWarning: Solution may be inaccurate. Try another solver, adjusting the solver settings, or solve with verbose=True for more information.\n",
      "  warnings.warn(\n"
     ]
    },
    {
     "name": "stdout",
     "output_type": "stream",
     "text": [
      "[t=3460 | 2025-04-07] active: ['AAPL', 'ACN', 'ADBE', 'AMAT', 'AMD', 'AMZN', 'AVGO', 'BKNG', 'COST', 'CRM', 'CSCO', 'DIS', 'GOOGL', 'HD', 'IBM', 'INTU', 'KO', 'MCD', 'META', 'MSFT', 'NFLX', 'NOW', 'NVDA', 'ORCL', 'PG', 'PLTR', 'PM', 'QCOM', 'T', 'TSLA', 'TXN', 'VZ', 'WMT']\n"
     ]
    },
    {
     "name": "stderr",
     "output_type": "stream",
     "text": [
      "/opt/anaconda3/lib/python3.12/site-packages/cvxpy/reductions/solvers/solving_chain.py:356: FutureWarning: \n",
      "    You specified your problem should be solved by ECOS. Starting in\n",
      "    CXVPY 1.6.0, ECOS will no longer be installed by default with CVXPY.\n",
      "    Please either add ECOS as an explicit install dependency to your project\n",
      "    or switch to our new default solver, Clarabel, by either not specifying a\n",
      "    solver argument or specifying ``solver=cp.CLARABEL``. To suppress this\n",
      "    warning while continuing to use ECOS, you can filter this warning using\n",
      "    Python's ``warnings`` module until you are using 1.6.0.\n",
      "    \n",
      "  warnings.warn(ECOS_DEP_DEPRECATION_MSG, FutureWarning)\n",
      "/opt/anaconda3/lib/python3.12/site-packages/cvxpy/problems/problem.py:1407: UserWarning: Solution may be inaccurate. Try another solver, adjusting the solver settings, or solve with verbose=True for more information.\n",
      "  warnings.warn(\n"
     ]
    },
    {
     "name": "stdout",
     "output_type": "stream",
     "text": [
      "[t=3461 | 2025-04-08] active: ['AAPL', 'ACN', 'ADBE', 'AMAT', 'AMD', 'AMZN', 'AVGO', 'BKNG', 'COST', 'CRM', 'CSCO', 'DIS', 'GOOGL', 'HD', 'IBM', 'INTU', 'KO', 'MCD', 'META', 'MSFT', 'NFLX', 'NOW', 'NVDA', 'ORCL', 'PG', 'PLTR', 'PM', 'QCOM', 'T', 'TSLA', 'TXN', 'VZ', 'WMT']\n"
     ]
    },
    {
     "name": "stderr",
     "output_type": "stream",
     "text": [
      "/opt/anaconda3/lib/python3.12/site-packages/cvxpy/reductions/solvers/solving_chain.py:356: FutureWarning: \n",
      "    You specified your problem should be solved by ECOS. Starting in\n",
      "    CXVPY 1.6.0, ECOS will no longer be installed by default with CVXPY.\n",
      "    Please either add ECOS as an explicit install dependency to your project\n",
      "    or switch to our new default solver, Clarabel, by either not specifying a\n",
      "    solver argument or specifying ``solver=cp.CLARABEL``. To suppress this\n",
      "    warning while continuing to use ECOS, you can filter this warning using\n",
      "    Python's ``warnings`` module until you are using 1.6.0.\n",
      "    \n",
      "  warnings.warn(ECOS_DEP_DEPRECATION_MSG, FutureWarning)\n",
      "/opt/anaconda3/lib/python3.12/site-packages/cvxpy/problems/problem.py:1407: UserWarning: Solution may be inaccurate. Try another solver, adjusting the solver settings, or solve with verbose=True for more information.\n",
      "  warnings.warn(\n"
     ]
    },
    {
     "name": "stdout",
     "output_type": "stream",
     "text": [
      "[t=3462 | 2025-04-09] active: ['AAPL', 'ACN', 'ADBE', 'AMAT', 'AMD', 'AMZN', 'AVGO', 'BKNG', 'COST', 'CRM', 'CSCO', 'DIS', 'GOOGL', 'HD', 'IBM', 'INTU', 'KO', 'MCD', 'META', 'MSFT', 'NFLX', 'NOW', 'NVDA', 'ORCL', 'PG', 'PLTR', 'PM', 'QCOM', 'T', 'TSLA', 'TXN', 'VZ', 'WMT']\n"
     ]
    },
    {
     "name": "stderr",
     "output_type": "stream",
     "text": [
      "/opt/anaconda3/lib/python3.12/site-packages/cvxpy/reductions/solvers/solving_chain.py:356: FutureWarning: \n",
      "    You specified your problem should be solved by ECOS. Starting in\n",
      "    CXVPY 1.6.0, ECOS will no longer be installed by default with CVXPY.\n",
      "    Please either add ECOS as an explicit install dependency to your project\n",
      "    or switch to our new default solver, Clarabel, by either not specifying a\n",
      "    solver argument or specifying ``solver=cp.CLARABEL``. To suppress this\n",
      "    warning while continuing to use ECOS, you can filter this warning using\n",
      "    Python's ``warnings`` module until you are using 1.6.0.\n",
      "    \n",
      "  warnings.warn(ECOS_DEP_DEPRECATION_MSG, FutureWarning)\n",
      "/opt/anaconda3/lib/python3.12/site-packages/cvxpy/problems/problem.py:1407: UserWarning: Solution may be inaccurate. Try another solver, adjusting the solver settings, or solve with verbose=True for more information.\n",
      "  warnings.warn(\n"
     ]
    },
    {
     "name": "stdout",
     "output_type": "stream",
     "text": [
      "[t=3463 | 2025-04-10] active: ['AAPL', 'ACN', 'ADBE', 'AMAT', 'AMD', 'AMZN', 'AVGO', 'BKNG', 'COST', 'CRM', 'CSCO', 'DIS', 'GOOGL', 'HD', 'IBM', 'INTU', 'KO', 'MCD', 'META', 'MSFT', 'NFLX', 'NOW', 'NVDA', 'ORCL', 'PG', 'PLTR', 'PM', 'QCOM', 'T', 'TSLA', 'TXN', 'VZ', 'WMT']\n"
     ]
    },
    {
     "name": "stderr",
     "output_type": "stream",
     "text": [
      "/opt/anaconda3/lib/python3.12/site-packages/cvxpy/reductions/solvers/solving_chain.py:356: FutureWarning: \n",
      "    You specified your problem should be solved by ECOS. Starting in\n",
      "    CXVPY 1.6.0, ECOS will no longer be installed by default with CVXPY.\n",
      "    Please either add ECOS as an explicit install dependency to your project\n",
      "    or switch to our new default solver, Clarabel, by either not specifying a\n",
      "    solver argument or specifying ``solver=cp.CLARABEL``. To suppress this\n",
      "    warning while continuing to use ECOS, you can filter this warning using\n",
      "    Python's ``warnings`` module until you are using 1.6.0.\n",
      "    \n",
      "  warnings.warn(ECOS_DEP_DEPRECATION_MSG, FutureWarning)\n",
      "/opt/anaconda3/lib/python3.12/site-packages/cvxpy/problems/problem.py:1407: UserWarning: Solution may be inaccurate. Try another solver, adjusting the solver settings, or solve with verbose=True for more information.\n",
      "  warnings.warn(\n"
     ]
    },
    {
     "name": "stdout",
     "output_type": "stream",
     "text": [
      "[t=3464 | 2025-04-11] active: ['AAPL', 'ACN', 'ADBE', 'AMAT', 'AMD', 'AMZN', 'AVGO', 'BKNG', 'COST', 'CRM', 'CSCO', 'DIS', 'GOOGL', 'HD', 'IBM', 'INTU', 'KO', 'MCD', 'META', 'MSFT', 'NFLX', 'NOW', 'NVDA', 'ORCL', 'PG', 'PLTR', 'PM', 'QCOM', 'T', 'TSLA', 'TXN', 'VZ', 'WMT']\n"
     ]
    },
    {
     "name": "stderr",
     "output_type": "stream",
     "text": [
      "/opt/anaconda3/lib/python3.12/site-packages/cvxpy/reductions/solvers/solving_chain.py:356: FutureWarning: \n",
      "    You specified your problem should be solved by ECOS. Starting in\n",
      "    CXVPY 1.6.0, ECOS will no longer be installed by default with CVXPY.\n",
      "    Please either add ECOS as an explicit install dependency to your project\n",
      "    or switch to our new default solver, Clarabel, by either not specifying a\n",
      "    solver argument or specifying ``solver=cp.CLARABEL``. To suppress this\n",
      "    warning while continuing to use ECOS, you can filter this warning using\n",
      "    Python's ``warnings`` module until you are using 1.6.0.\n",
      "    \n",
      "  warnings.warn(ECOS_DEP_DEPRECATION_MSG, FutureWarning)\n",
      "/opt/anaconda3/lib/python3.12/site-packages/cvxpy/problems/problem.py:1407: UserWarning: Solution may be inaccurate. Try another solver, adjusting the solver settings, or solve with verbose=True for more information.\n",
      "  warnings.warn(\n"
     ]
    },
    {
     "name": "stdout",
     "output_type": "stream",
     "text": [
      "[t=3465 | 2025-04-14] active: ['AAPL', 'ACN', 'ADBE', 'AMAT', 'AMD', 'AMZN', 'AVGO', 'BKNG', 'COST', 'CRM', 'CSCO', 'DIS', 'GOOGL', 'HD', 'IBM', 'INTU', 'KO', 'MCD', 'META', 'MSFT', 'NFLX', 'NOW', 'NVDA', 'ORCL', 'PG', 'PLTR', 'PM', 'QCOM', 'T', 'TSLA', 'TXN', 'VZ', 'WMT']\n"
     ]
    },
    {
     "name": "stderr",
     "output_type": "stream",
     "text": [
      "/opt/anaconda3/lib/python3.12/site-packages/cvxpy/reductions/solvers/solving_chain.py:356: FutureWarning: \n",
      "    You specified your problem should be solved by ECOS. Starting in\n",
      "    CXVPY 1.6.0, ECOS will no longer be installed by default with CVXPY.\n",
      "    Please either add ECOS as an explicit install dependency to your project\n",
      "    or switch to our new default solver, Clarabel, by either not specifying a\n",
      "    solver argument or specifying ``solver=cp.CLARABEL``. To suppress this\n",
      "    warning while continuing to use ECOS, you can filter this warning using\n",
      "    Python's ``warnings`` module until you are using 1.6.0.\n",
      "    \n",
      "  warnings.warn(ECOS_DEP_DEPRECATION_MSG, FutureWarning)\n",
      "/opt/anaconda3/lib/python3.12/site-packages/cvxpy/problems/problem.py:1407: UserWarning: Solution may be inaccurate. Try another solver, adjusting the solver settings, or solve with verbose=True for more information.\n",
      "  warnings.warn(\n"
     ]
    },
    {
     "name": "stdout",
     "output_type": "stream",
     "text": [
      "[t=3499 | 2025-05-30] active: ['AAPL', 'ACN', 'ADBE', 'AMAT', 'AMD', 'AMZN', 'AVGO', 'BKNG', 'COST', 'CRM', 'CSCO', 'DIS', 'GOOGL', 'HD', 'IBM', 'INTU', 'KO', 'MCD', 'META', 'MSFT', 'NFLX', 'NOW', 'NVDA', 'ORCL', 'PG', 'PLTR', 'PM', 'QCOM', 'T', 'TSLA', 'TXN', 'VZ', 'WMT']\n",
      "\n",
      "[MVO]    MVO baseline summary:\n",
      " mu_ann                0.8495\n",
      "sigma_ann             0.7019\n",
      "sharpe_ann            1.2265\n",
      "vol_breach            0.4019\n",
      "max_drawdown         -0.7918\n",
      "gross_exp             3.3480\n",
      "gap                   0.0000\n",
      "kappa                 0.0000\n",
      "delta                 0.0000\n",
      "avg_holding_per    1239.0000\n",
      "dtype: float64\n",
      "\n",
      "[DRO]    Static DRO summary:\n",
      " mu_ann                0.8495\n",
      "sigma_ann             0.7019\n",
      "sharpe_ann            1.2265\n",
      "vol_breach            0.4019\n",
      "max_drawdown         -0.7918\n",
      "gross_exp             3.3480\n",
      "gap                   0.0000\n",
      "kappa                    NaN\n",
      "delta                 0.0000\n",
      "avg_holding_per    1239.0000\n",
      "dtype: float64\n",
      "\n",
      "[RegDRO] Regime-DRO summary:\n",
      " mu_ann                 NaN\n",
      "sigma_ann              NaN\n",
      "sharpe_ann             NaN\n",
      "vol_breach             NaN\n",
      "max_drawdown           NaN\n",
      "                    ...   \n",
      "delta_k313          0.0000\n",
      "delta_k314          0.0000\n",
      "delta_k315          0.0000\n",
      "delta_k316          0.0000\n",
      "avg_holding_per    11.1424\n",
      "Length: 326, dtype: float64\n",
      "\n",
      "[DRO]    weights:\n",
      " [-0.0379 0.0464 0.0987 0.0943 0.0357 0.0604 0.1175 0.0853 0.0740 0.0192\n",
      " 0.0653 -0.0000 0.1774 0.1309 0.1181 0.0978 0.2656 -0.0887 0.0704 0.0635\n",
      " 0.1099 0.0876 0.1589 0.1031 0.0683 0.1816 0.0671 0.1178 -0.0532 0.2387\n",
      " 0.1766 -0.0161 0.2221]\n",
      "\n",
      "[RegDRO] piecewise weights:\n",
      "  k=1: [0.0000 0.0000 0.0000 0.0000 0.0000 0.0000 0.0000 0.0000 0.0000 0.0000\n",
      " 0.0000 0.0000 0.0000 0.0000 0.0000 0.0000 0.0000 0.0000 0.0000 0.0000\n",
      " 0.0000 0.0000 0.0000 0.0000 0.0000 0.0000 0.0000 0.0000 0.0000 0.0000\n",
      " 0.0000 0.0000 0.0000]\n",
      "  k=2: [nan nan nan nan nan nan nan nan nan nan nan nan nan nan nan nan nan nan\n",
      " nan nan nan nan nan nan nan 0.0000 nan nan nan nan nan nan nan]\n",
      "  k=3: [nan nan nan nan nan nan nan nan nan nan nan nan nan nan nan nan nan nan\n",
      " nan nan nan nan nan nan nan 0.0000 nan nan nan nan nan nan nan]\n",
      "  k=4: [nan nan nan nan nan nan nan nan nan nan nan nan nan nan nan nan nan nan\n",
      " nan nan nan nan nan nan nan 0.0000 nan nan nan nan nan nan nan]\n",
      "  k=5: [nan nan nan nan nan nan nan nan nan nan nan nan nan nan nan nan nan nan\n",
      " nan nan nan nan nan nan nan 0.0000 nan nan nan nan nan nan nan]\n",
      "  k=6: [nan nan nan nan nan nan nan nan nan nan nan nan nan nan nan nan nan nan\n",
      " nan nan nan nan nan nan nan 0.0000 nan nan nan nan nan nan nan]\n",
      "  k=7: [nan nan nan nan nan nan nan nan nan nan nan nan nan nan nan nan nan nan\n",
      " nan nan nan nan nan nan nan 0.0000 nan nan nan nan nan nan nan]\n",
      "  k=8: [nan nan nan nan nan nan nan nan nan nan nan nan nan nan nan nan nan nan\n",
      " nan nan nan nan nan nan nan 0.0000 nan nan nan nan nan nan nan]\n",
      "  k=9: [nan nan nan nan nan nan nan nan nan nan nan nan nan nan nan nan nan nan\n",
      " nan nan nan nan nan nan nan 0.0000 nan nan nan nan nan nan nan]\n",
      "  k=10: [nan nan nan nan nan nan nan nan nan nan nan nan nan nan nan nan nan nan\n",
      " nan nan nan nan nan nan nan 0.0000 nan nan nan nan nan nan nan]\n",
      "  k=11: [nan nan nan nan nan nan nan nan nan nan nan nan nan nan nan nan nan nan\n",
      " nan nan nan nan nan nan nan 0.0000 nan nan nan nan nan nan nan]\n",
      "  k=12: [nan nan nan nan nan nan nan nan nan nan nan nan nan nan nan nan nan nan\n",
      " nan nan nan nan nan nan nan 0.0000 nan nan nan nan nan nan nan]\n",
      "  k=13: [nan nan nan nan nan nan nan nan nan nan nan nan nan nan nan nan nan nan\n",
      " nan nan nan nan nan nan nan 0.0000 nan nan nan nan nan nan nan]\n",
      "  k=14: [nan nan nan nan nan nan nan nan nan nan nan nan nan nan nan nan nan nan\n",
      " nan nan nan nan nan nan nan 0.0000 nan nan nan nan nan nan nan]\n",
      "  k=15: [nan nan nan nan nan nan nan nan nan nan nan nan nan nan nan nan nan nan\n",
      " nan nan nan nan nan nan nan 0.0000 nan nan nan nan nan nan nan]\n",
      "  k=16: [nan nan nan nan nan nan nan nan nan nan nan nan nan nan nan nan nan nan\n",
      " nan nan nan nan nan nan nan 0.0000 nan nan nan nan nan nan nan]\n",
      "  k=17: [nan nan nan nan nan nan nan nan nan nan nan nan nan nan nan nan nan nan\n",
      " nan nan nan nan nan nan nan 0.0000 nan nan nan nan nan nan nan]\n",
      "  k=18: [nan nan nan nan nan nan nan nan nan nan nan nan nan nan nan nan nan nan\n",
      " nan nan nan nan nan nan nan 0.0000 nan nan nan nan nan nan nan]\n",
      "  k=19: [nan nan nan nan nan nan nan nan nan nan nan nan nan nan nan nan nan nan\n",
      " nan nan nan nan nan nan nan 0.0000 nan nan nan nan nan nan nan]\n",
      "  k=20: [nan nan nan nan nan nan nan nan nan nan nan nan nan nan nan nan nan nan\n",
      " nan nan nan nan nan nan nan 0.0000 nan nan nan nan nan nan nan]\n",
      "  k=21: [nan nan nan nan nan nan nan nan nan nan nan nan nan nan nan nan nan nan\n",
      " nan nan nan nan nan nan nan 0.0000 nan nan nan nan nan nan nan]\n",
      "  k=22: [nan nan nan nan nan nan nan nan nan nan nan nan nan nan nan nan nan nan\n",
      " nan nan nan nan nan nan nan 0.0000 nan nan nan nan nan nan nan]\n",
      "  k=23: [nan nan nan nan nan nan nan nan nan nan nan nan nan nan nan nan nan nan\n",
      " nan nan nan nan nan nan nan 0.0000 nan nan nan nan nan nan nan]\n",
      "  k=24: [nan nan nan nan nan nan nan nan nan nan nan nan nan nan nan nan nan nan\n",
      " nan nan nan nan nan nan nan 0.0000 nan nan nan nan nan nan nan]\n",
      "  k=25: [nan nan nan nan nan nan nan nan nan nan nan nan nan nan nan nan nan nan\n",
      " nan nan nan nan nan nan nan 0.0000 nan nan nan nan nan nan nan]\n",
      "  k=26: [nan nan nan nan nan nan nan nan nan nan nan nan nan nan nan nan nan nan\n",
      " nan nan nan nan nan nan nan 0.0000 nan nan nan nan nan nan nan]\n",
      "  k=27: [nan nan nan nan nan nan nan nan nan nan nan nan nan nan nan nan nan nan\n",
      " nan nan nan nan nan nan nan 0.0000 nan nan nan nan nan nan nan]\n",
      "  k=28: [nan nan nan nan nan nan nan nan nan nan nan nan nan nan nan nan nan nan\n",
      " nan nan nan nan nan nan nan 0.0000 nan nan nan nan nan nan nan]\n",
      "  k=29: [nan nan nan nan nan nan nan nan nan nan nan nan nan nan nan nan nan nan\n",
      " nan nan nan nan nan nan nan 0.0000 nan nan nan nan nan nan nan]\n",
      "  k=30: [nan nan nan nan nan nan nan nan nan nan nan nan nan nan nan nan nan nan\n",
      " nan nan nan nan nan nan nan 0.0000 nan nan nan nan nan nan nan]\n",
      "  k=31: [nan nan nan nan nan nan nan nan nan nan nan nan nan nan nan nan nan nan\n",
      " nan nan nan nan nan nan nan 0.0000 nan nan nan nan nan nan nan]\n",
      "  k=32: [nan nan nan nan nan nan nan nan nan nan nan nan nan nan nan nan nan nan\n",
      " nan nan nan nan nan nan nan 0.0000 nan nan nan nan nan nan nan]\n",
      "  k=33: [nan nan nan nan nan nan nan nan nan nan nan nan nan nan nan nan nan nan\n",
      " nan nan nan nan nan nan nan 0.0000 nan nan nan nan nan nan nan]\n",
      "  k=34: [nan nan nan nan nan nan nan nan nan nan nan nan nan nan nan nan nan nan\n",
      " nan nan nan nan nan nan nan 0.0000 nan nan nan nan nan nan nan]\n",
      "  k=35: [nan nan nan nan nan nan nan nan nan nan nan nan nan nan nan nan nan nan\n",
      " nan nan nan nan nan nan nan 0.0000 nan nan nan nan nan nan nan]\n",
      "  k=36: [nan nan nan nan nan nan nan nan nan nan nan nan nan nan nan nan nan nan\n",
      " nan nan nan nan nan nan nan 0.0000 nan nan nan nan nan nan nan]\n",
      "  k=37: [nan nan nan nan nan nan nan nan nan nan nan nan nan nan nan nan nan nan\n",
      " nan nan nan nan nan nan nan 0.0000 nan nan nan nan nan nan nan]\n",
      "  k=38: [nan nan nan nan nan nan nan nan nan nan nan nan nan nan nan nan nan nan\n",
      " nan nan nan nan nan nan nan 0.0000 nan nan nan nan nan nan nan]\n",
      "  k=39: [nan nan nan nan nan nan nan nan nan nan nan nan nan nan nan nan nan nan\n",
      " nan nan nan nan nan nan nan 0.0000 nan nan nan nan nan nan nan]\n",
      "  k=40: [nan nan nan nan nan nan nan nan nan nan nan nan nan nan nan nan nan nan\n",
      " nan nan nan nan nan nan nan 0.0000 nan nan nan nan nan nan nan]\n",
      "  k=41: [nan nan nan nan nan nan nan nan nan nan nan nan nan nan nan nan nan nan\n",
      " nan nan nan nan nan nan nan 0.0000 nan nan nan nan nan nan nan]\n",
      "  k=42: [nan nan nan nan nan nan nan nan nan nan nan nan nan nan nan nan nan nan\n",
      " nan nan nan nan nan nan nan 0.0000 nan nan nan nan nan nan nan]\n",
      "  k=43: [nan nan nan nan nan nan nan nan nan nan nan nan nan nan nan nan nan nan\n",
      " nan nan nan nan nan nan nan 0.0000 nan nan nan nan nan nan nan]\n",
      "  k=44: [nan nan nan nan nan nan nan nan nan nan nan nan nan nan nan nan nan nan\n",
      " nan nan nan nan nan nan nan 0.0000 nan nan nan nan nan nan nan]\n",
      "  k=45: [nan nan nan nan nan nan nan nan nan nan nan nan nan nan nan nan nan nan\n",
      " nan nan nan nan nan nan nan 0.0000 nan nan nan nan nan nan nan]\n",
      "  k=46: [nan nan nan nan nan nan nan nan nan nan nan nan nan nan nan nan nan nan\n",
      " nan nan nan nan nan nan nan 0.0000 nan nan nan nan nan nan nan]\n",
      "  k=47: [nan nan nan nan nan nan nan nan nan nan nan nan nan nan nan nan nan nan\n",
      " nan nan nan nan nan nan nan 0.0000 nan nan nan nan nan nan nan]\n",
      "  k=48: [nan nan nan nan nan nan nan nan nan nan nan nan nan nan nan nan nan nan\n",
      " nan nan nan nan nan nan nan 0.0000 nan nan nan nan nan nan nan]\n",
      "  k=49: [nan nan nan nan nan nan nan nan nan nan nan nan nan nan nan nan nan nan\n",
      " nan nan nan nan nan nan nan 0.0000 nan nan nan nan nan nan nan]\n",
      "  k=50: [nan nan nan nan nan nan nan nan nan nan nan nan nan nan nan nan nan nan\n",
      " nan nan nan nan nan nan nan 0.0000 nan nan nan nan nan nan nan]\n",
      "  k=51: [nan nan nan nan nan nan nan nan nan nan nan nan nan nan nan nan nan nan\n",
      " nan nan nan nan nan nan nan 0.0000 nan nan nan nan nan nan nan]\n",
      "  k=52: [nan nan nan nan nan nan nan nan nan nan nan nan nan nan nan nan nan nan\n",
      " nan nan nan nan nan nan nan 0.0000 nan nan nan nan nan nan nan]\n",
      "  k=53: [nan nan nan nan nan nan nan nan nan nan nan nan nan nan nan nan nan nan\n",
      " nan nan nan nan nan nan nan 0.0000 nan nan nan nan nan nan nan]\n",
      "  k=54: [nan nan nan nan nan nan nan nan nan nan nan nan nan nan nan nan nan nan\n",
      " nan nan nan nan nan nan nan 0.0000 nan nan nan nan nan nan nan]\n",
      "  k=55: [nan nan nan nan nan nan nan nan nan nan nan nan nan nan nan nan nan nan\n",
      " nan nan nan nan nan nan nan 0.0000 nan nan nan nan nan nan nan]\n",
      "  k=56: [nan nan nan nan nan nan nan nan nan nan nan nan nan nan nan nan nan nan\n",
      " nan nan nan nan nan nan nan 0.0000 nan nan nan nan nan nan nan]\n",
      "  k=57: [nan nan nan nan nan nan nan nan nan nan nan nan nan nan nan nan nan nan\n",
      " nan nan nan nan nan nan nan 0.0000 nan nan nan nan nan nan nan]\n",
      "  k=58: [nan nan nan nan nan nan nan nan nan nan nan nan nan nan nan nan nan nan\n",
      " nan nan nan nan nan nan nan 0.0000 nan nan nan nan nan nan nan]\n",
      "  k=59: [nan nan nan nan nan nan nan nan nan nan nan nan nan nan nan nan nan nan\n",
      " nan nan nan nan nan nan nan 0.0000 nan nan nan nan nan nan nan]\n",
      "  k=60: [nan nan nan nan nan nan nan nan nan nan nan nan nan nan nan nan nan nan\n",
      " nan nan nan nan nan nan nan 0.0000 nan nan nan nan nan nan nan]\n",
      "  k=61: [nan nan nan nan nan nan nan nan nan nan nan nan nan nan nan nan nan nan\n",
      " nan nan nan nan nan nan nan 0.0000 nan nan nan nan nan nan nan]\n",
      "  k=62: [nan nan nan nan nan nan nan nan nan nan nan nan nan nan nan nan nan nan\n",
      " nan nan nan nan nan nan nan 0.0000 nan nan nan nan nan nan nan]\n",
      "  k=63: [nan nan nan nan nan nan nan nan nan nan nan nan nan nan nan nan nan nan\n",
      " nan nan nan nan nan nan nan 0.0000 nan nan nan nan nan nan nan]\n",
      "  k=64: [nan nan nan nan nan nan nan nan nan nan nan nan nan nan nan nan nan nan\n",
      " nan nan nan nan nan nan nan 0.0000 nan nan nan nan nan nan nan]\n",
      "  k=65: [nan nan nan nan nan nan nan nan nan nan nan nan nan nan nan nan nan nan\n",
      " nan nan nan nan nan nan nan 0.0000 nan nan nan nan nan nan nan]\n",
      "  k=66: [nan nan nan nan nan nan nan nan nan nan nan nan nan nan nan nan nan nan\n",
      " nan nan nan nan nan nan nan 0.0000 nan nan nan nan nan nan nan]\n",
      "  k=67: [nan nan nan nan nan nan nan nan nan nan nan nan nan nan nan nan nan nan\n",
      " nan nan nan nan nan nan nan 0.0000 nan nan nan nan nan nan nan]\n",
      "  k=68: [nan nan nan nan nan nan nan nan nan nan nan nan nan nan nan nan nan nan\n",
      " nan nan nan nan nan nan nan 0.0000 nan nan nan nan nan nan nan]\n",
      "  k=69: [nan nan nan nan nan nan nan nan nan nan nan nan nan nan nan nan nan nan\n",
      " nan nan nan nan nan nan nan 0.0000 nan nan nan nan nan nan nan]\n",
      "  k=70: [nan nan nan nan nan nan nan nan nan nan nan nan nan nan nan nan nan nan\n",
      " nan nan nan nan nan nan nan 0.0000 nan nan nan nan nan nan nan]\n",
      "  k=71: [nan nan nan nan nan nan nan nan nan nan nan nan nan nan nan nan nan nan\n",
      " nan nan nan nan nan nan nan 0.0000 nan nan nan nan nan nan nan]\n",
      "  k=72: [nan nan nan nan nan nan nan nan nan nan nan nan nan nan nan nan nan nan\n",
      " nan nan nan nan nan nan nan 0.0000 nan nan nan nan nan nan nan]\n",
      "  k=73: [nan nan nan nan nan nan nan nan nan nan nan nan nan nan nan nan nan nan\n",
      " nan nan nan nan nan nan nan 0.0000 nan nan nan nan nan nan nan]\n",
      "  k=74: [nan nan nan nan nan nan nan nan nan nan nan nan nan nan nan nan nan nan\n",
      " nan nan nan nan nan nan nan 0.0000 nan nan nan nan nan nan nan]\n",
      "  k=75: [nan nan nan nan nan nan nan nan nan nan nan nan nan nan nan nan nan nan\n",
      " nan nan nan nan nan nan nan 0.0000 nan nan nan nan nan nan nan]\n",
      "  k=76: [nan nan nan nan nan nan nan nan nan nan nan nan nan nan nan nan nan nan\n",
      " nan nan nan nan nan nan nan 0.0000 nan nan nan nan nan nan nan]\n",
      "  k=77: [nan nan nan nan nan nan nan nan nan nan nan nan nan nan nan nan nan nan\n",
      " nan nan nan nan nan nan nan 0.0000 nan nan nan nan nan nan nan]\n",
      "  k=78: [nan nan nan nan nan nan nan nan nan nan nan nan nan nan nan nan nan nan\n",
      " nan nan nan nan nan nan nan 0.0000 nan nan nan nan nan nan nan]\n",
      "  k=79: [nan nan nan nan nan nan nan nan nan nan nan nan nan nan nan nan nan nan\n",
      " nan nan nan nan nan nan nan 0.0000 nan nan nan nan nan nan nan]\n",
      "  k=80: [nan nan nan nan nan nan nan nan nan nan nan nan nan nan nan nan nan nan\n",
      " nan nan nan nan nan nan nan 0.0000 nan nan nan nan nan nan nan]\n",
      "  k=81: [nan nan nan nan nan nan nan nan nan nan nan nan nan nan nan nan nan nan\n",
      " nan nan nan nan nan nan nan 0.0000 nan nan nan nan nan nan nan]\n",
      "  k=82: [nan nan nan nan nan nan nan nan nan nan nan nan nan nan nan nan nan nan\n",
      " nan nan nan nan nan nan nan 0.0000 nan nan nan nan nan nan nan]\n",
      "  k=83: [nan nan nan nan nan nan nan nan nan nan nan nan nan nan nan nan nan nan\n",
      " nan nan nan nan nan nan nan 0.0000 nan nan nan nan nan nan nan]\n",
      "  k=84: [nan nan nan nan nan nan nan nan nan nan nan nan nan nan nan nan nan nan\n",
      " nan nan nan nan nan nan nan 0.0000 nan nan nan nan nan nan nan]\n",
      "  k=85: [nan nan nan nan nan nan nan nan nan nan nan nan nan nan nan nan nan nan\n",
      " nan nan nan nan nan nan nan 0.0000 nan nan nan nan nan nan nan]\n",
      "  k=86: [nan nan nan nan nan nan nan nan nan nan nan nan nan nan nan nan nan nan\n",
      " nan nan nan nan nan nan nan 0.0000 nan nan nan nan nan nan nan]\n",
      "  k=87: [nan nan nan nan nan nan nan nan nan nan nan nan nan nan nan nan nan nan\n",
      " nan nan nan nan nan nan nan 0.0000 nan nan nan nan nan nan nan]\n",
      "  k=88: [nan nan nan nan nan nan nan nan nan nan nan nan nan nan nan nan nan nan\n",
      " nan nan nan nan nan nan nan nan nan nan nan nan nan nan nan]\n",
      "  k=89: [nan nan nan nan nan nan nan nan nan nan nan nan nan nan nan nan nan nan\n",
      " nan nan nan nan nan nan nan nan nan nan nan nan nan nan nan]\n",
      "  k=90: [nan nan nan nan nan nan nan nan nan nan nan nan nan nan nan nan nan nan\n",
      " nan nan nan nan nan nan nan nan nan nan nan nan nan nan nan]\n",
      "  k=91: [nan nan nan nan nan nan nan nan nan nan nan nan nan nan nan nan nan nan\n",
      " nan nan nan nan nan nan nan nan nan nan nan nan nan nan nan]\n",
      "  k=92: [nan nan nan nan nan nan nan nan nan nan nan nan nan nan nan nan nan nan\n",
      " nan nan nan nan nan nan nan nan nan nan nan nan nan nan nan]\n",
      "  k=93: [nan nan nan nan nan nan nan nan nan nan nan nan nan nan nan nan nan nan\n",
      " nan nan nan nan nan nan nan nan nan nan nan nan nan nan nan]\n",
      "  k=94: [nan nan nan nan nan nan nan nan nan nan nan nan nan nan nan nan nan nan\n",
      " nan nan nan nan nan nan nan nan nan nan nan nan nan nan nan]\n",
      "  k=95: [nan nan nan nan nan nan nan nan nan nan nan nan nan nan nan nan nan nan\n",
      " nan nan nan nan nan nan nan nan nan nan nan nan nan nan nan]\n",
      "  k=96: [nan nan nan nan nan nan nan nan nan nan nan nan nan nan nan nan nan nan\n",
      " nan nan nan nan nan nan nan nan nan nan nan nan nan nan nan]\n",
      "  k=97: [nan nan nan nan nan nan nan nan nan nan nan nan nan nan nan nan nan nan\n",
      " nan nan nan nan nan nan nan nan nan nan nan nan nan nan nan]\n",
      "  k=98: [nan nan nan nan nan nan nan nan nan nan nan nan nan nan nan nan nan nan\n",
      " nan nan nan nan nan nan nan nan nan nan nan nan nan nan nan]\n",
      "  k=99: [nan nan nan nan nan nan nan nan nan nan nan nan nan nan nan nan nan nan\n",
      " nan nan nan nan nan nan nan nan nan nan nan nan nan nan nan]\n",
      "  k=100: [nan nan nan nan nan nan nan nan nan nan nan nan nan nan nan nan nan nan\n",
      " nan nan nan nan nan nan nan nan nan nan nan nan nan nan nan]\n",
      "  k=101: [nan nan nan nan nan nan nan nan nan nan nan nan nan nan nan nan nan nan\n",
      " nan nan nan nan nan nan nan nan nan nan nan nan nan nan nan]\n",
      "  k=102: [nan nan nan nan nan nan nan nan nan nan nan nan nan nan nan nan nan nan\n",
      " nan nan nan nan nan nan nan nan nan nan nan nan nan nan nan]\n",
      "  k=103: [nan nan nan nan nan nan nan nan nan nan nan nan nan nan nan nan nan nan\n",
      " nan nan nan nan nan nan nan nan nan nan nan nan nan nan nan]\n",
      "  k=104: [nan nan nan nan nan nan nan nan nan nan nan nan nan nan nan nan nan nan\n",
      " nan nan nan nan nan nan nan nan nan nan nan nan nan nan nan]\n",
      "  k=105: [nan nan nan nan nan nan nan nan nan nan nan nan nan nan nan nan nan nan\n",
      " nan nan nan nan nan nan nan nan nan nan nan nan nan nan nan]\n",
      "  k=106: [nan nan nan nan nan nan nan nan nan nan nan nan nan nan nan nan nan nan\n",
      " nan nan nan nan nan nan nan nan nan nan nan nan nan nan nan]\n",
      "  k=107: [nan nan nan nan nan nan nan nan nan nan nan nan nan nan nan nan nan nan\n",
      " nan nan nan nan nan nan nan nan nan nan nan nan nan nan nan]\n",
      "  k=108: [nan nan nan nan nan nan nan nan nan nan nan nan nan nan nan nan nan nan\n",
      " nan nan nan nan nan nan nan nan nan nan nan nan nan nan nan]\n",
      "  k=109: [nan nan nan nan nan nan nan nan nan nan nan nan nan nan nan nan nan nan\n",
      " nan nan nan nan nan nan nan nan nan nan nan nan nan nan nan]\n",
      "  k=110: [nan nan nan nan nan nan nan nan nan nan nan nan nan nan nan nan nan nan\n",
      " nan nan nan nan nan nan nan nan nan nan nan nan nan nan nan]\n",
      "  k=111: [nan nan nan nan nan nan nan nan nan nan nan nan nan nan nan nan nan nan\n",
      " nan nan nan nan nan nan nan nan nan nan nan nan nan nan nan]\n",
      "  k=112: [nan nan nan nan nan nan nan nan nan nan nan nan nan nan nan nan nan nan\n",
      " nan nan nan nan nan nan nan nan nan nan nan nan nan nan nan]\n",
      "  k=113: [nan nan nan nan nan nan nan nan nan nan nan nan nan nan nan nan nan nan\n",
      " nan nan nan nan nan nan nan nan nan nan nan nan nan nan nan]\n",
      "  k=114: [nan nan nan nan nan nan nan nan nan nan nan nan nan nan nan nan nan nan\n",
      " nan nan nan nan nan nan nan nan nan nan nan nan nan nan nan]\n",
      "  k=115: [nan nan nan nan nan nan nan nan nan nan nan nan nan nan nan nan nan nan\n",
      " nan nan nan nan nan nan nan nan nan nan nan nan nan nan nan]\n",
      "  k=116: [nan nan nan nan nan nan nan nan nan nan nan nan nan nan nan nan nan nan\n",
      " nan nan nan nan nan nan nan nan nan nan nan nan nan nan nan]\n",
      "  k=117: [nan nan nan nan nan nan nan nan nan nan nan nan nan nan nan nan nan nan\n",
      " nan nan nan nan nan nan nan nan nan nan nan nan nan nan nan]\n",
      "  k=118: [nan nan nan nan nan nan nan nan nan nan nan nan nan nan nan nan nan nan\n",
      " nan nan nan nan nan nan nan nan nan nan nan nan nan nan nan]\n",
      "  k=119: [nan nan nan nan nan nan nan nan nan nan nan nan nan nan nan nan nan nan\n",
      " nan nan nan nan nan nan nan nan nan nan nan nan nan nan nan]\n",
      "  k=120: [nan nan nan nan nan nan nan nan nan nan nan nan nan nan nan nan nan nan\n",
      " nan nan nan nan nan nan nan nan nan nan nan nan nan nan nan]\n",
      "  k=121: [nan nan nan nan nan nan nan nan nan nan nan nan nan nan nan nan nan nan\n",
      " nan nan nan nan nan nan nan nan nan nan nan nan nan nan nan]\n",
      "  k=122: [nan nan nan nan nan nan nan nan nan nan nan nan nan nan nan nan nan nan\n",
      " nan nan nan nan nan nan nan nan nan nan nan nan nan nan nan]\n",
      "  k=123: [nan nan nan nan nan nan nan nan nan nan nan nan nan nan nan nan nan nan\n",
      " nan nan nan nan nan nan nan nan nan nan nan nan nan nan nan]\n",
      "  k=124: [nan nan nan nan nan nan nan nan nan nan nan nan nan nan nan nan nan nan\n",
      " nan nan nan nan nan nan nan nan nan nan nan nan nan nan nan]\n",
      "  k=125: [nan nan nan nan nan nan nan nan nan nan nan nan nan nan nan nan nan nan\n",
      " nan nan nan nan nan nan nan nan nan nan nan nan nan nan nan]\n",
      "  k=126: [nan nan nan nan nan nan nan nan nan nan nan nan nan nan nan nan nan nan\n",
      " nan nan nan nan nan nan nan nan nan nan nan nan nan nan nan]\n",
      "  k=127: [nan nan nan nan nan nan nan nan nan nan nan nan nan nan nan nan nan nan\n",
      " nan nan nan nan nan nan nan nan nan nan nan nan nan nan nan]\n",
      "  k=128: [nan nan nan nan nan nan nan nan nan nan nan nan nan nan nan nan nan nan\n",
      " nan nan nan nan nan nan nan nan nan nan nan nan nan nan nan]\n",
      "  k=129: [nan nan nan nan nan nan nan nan nan nan nan nan nan nan nan nan nan nan\n",
      " nan nan nan nan nan nan nan nan nan nan nan nan nan nan nan]\n",
      "  k=130: [nan nan nan nan nan nan nan nan nan nan nan nan nan nan nan nan nan nan\n",
      " nan nan nan nan nan nan nan nan nan nan nan nan nan nan nan]\n",
      "  k=131: [nan nan nan nan nan nan nan nan nan nan nan nan nan nan nan nan nan nan\n",
      " nan nan nan nan nan nan nan nan nan nan nan nan nan nan nan]\n",
      "  k=132: [nan nan nan nan nan nan nan nan nan nan nan nan nan nan nan nan nan nan\n",
      " nan nan nan nan nan nan nan nan nan nan nan nan nan nan nan]\n",
      "  k=133: [nan nan nan nan nan nan nan nan nan nan nan nan nan nan nan nan nan nan\n",
      " nan nan nan nan nan nan nan nan nan nan nan nan nan nan nan]\n",
      "  k=134: [nan nan nan nan nan nan nan nan nan nan nan nan nan nan nan nan nan nan\n",
      " nan nan nan nan nan nan nan nan nan nan nan nan nan nan nan]\n",
      "  k=135: [nan nan nan nan nan nan nan nan nan nan nan nan nan nan nan nan nan nan\n",
      " nan nan nan nan nan nan nan nan nan nan nan nan nan nan nan]\n",
      "  k=136: [nan nan nan nan nan nan nan nan nan nan nan nan nan nan nan nan nan nan\n",
      " nan nan nan nan nan nan nan nan nan nan nan nan nan nan nan]\n"
     ]
    },
    {
     "name": "stderr",
     "output_type": "stream",
     "text": [
      "/opt/anaconda3/lib/python3.12/site-packages/cvxpy/reductions/solvers/solving_chain.py:356: FutureWarning: \n",
      "    You specified your problem should be solved by ECOS. Starting in\n",
      "    CXVPY 1.6.0, ECOS will no longer be installed by default with CVXPY.\n",
      "    Please either add ECOS as an explicit install dependency to your project\n",
      "    or switch to our new default solver, Clarabel, by either not specifying a\n",
      "    solver argument or specifying ``solver=cp.CLARABEL``. To suppress this\n",
      "    warning while continuing to use ECOS, you can filter this warning using\n",
      "    Python's ``warnings`` module until you are using 1.6.0.\n",
      "    \n",
      "  warnings.warn(ECOS_DEP_DEPRECATION_MSG, FutureWarning)\n",
      "/opt/anaconda3/lib/python3.12/site-packages/cvxpy/problems/problem.py:1407: UserWarning: Solution may be inaccurate. Try another solver, adjusting the solver settings, or solve with verbose=True for more information.\n",
      "  warnings.warn(\n"
     ]
    },
    {
     "name": "stdout",
     "output_type": "stream",
     "text": [
      "  k=137: [nan nan nan nan nan nan nan nan nan nan nan nan nan nan nan nan nan nan\n",
      " nan nan nan nan nan nan nan nan nan nan nan nan nan nan nan]\n",
      "  k=138: [nan nan nan nan nan nan nan nan nan nan nan nan nan nan nan nan nan nan\n",
      " nan nan nan nan nan nan nan nan nan nan nan nan nan nan nan]\n",
      "  k=139: [nan nan nan nan nan nan nan nan nan nan nan nan nan nan nan nan nan nan\n",
      " nan nan nan nan nan nan nan nan nan nan nan nan nan nan nan]\n",
      "  k=140: [nan nan nan nan nan nan nan nan nan nan nan nan nan nan nan nan nan nan\n",
      " nan nan nan nan nan nan nan nan nan nan nan nan nan nan nan]\n",
      "  k=141: [nan nan nan nan nan nan nan nan nan nan nan nan nan nan nan nan nan nan\n",
      " nan nan nan nan nan nan nan nan nan nan nan nan nan nan nan]\n",
      "  k=142: [nan nan nan nan nan nan nan nan nan nan nan nan nan nan nan nan nan nan\n",
      " nan nan nan nan nan nan nan nan nan nan nan nan nan nan nan]\n",
      "  k=143: [nan nan nan nan nan nan nan nan nan nan nan nan nan nan nan nan nan nan\n",
      " nan nan nan nan nan nan nan nan nan nan nan nan nan nan nan]\n",
      "  k=144: [nan nan nan nan nan nan nan nan nan nan nan nan nan nan nan nan nan nan\n",
      " nan nan nan nan nan nan nan nan nan nan nan nan nan nan nan]\n",
      "  k=145: [nan nan nan nan nan nan nan nan nan nan nan nan nan nan nan nan nan nan\n",
      " nan nan nan nan nan nan nan nan nan nan nan nan nan nan nan]\n",
      "  k=146: [nan nan nan nan nan nan nan nan nan nan nan nan nan nan nan nan nan nan\n",
      " nan nan nan nan nan nan nan nan nan nan nan nan nan nan nan]\n",
      "  k=147: [nan nan nan nan nan nan nan nan nan nan nan nan nan nan nan nan nan nan\n",
      " nan nan nan nan nan nan nan nan nan nan nan nan nan nan nan]\n",
      "  k=148: [nan nan nan nan nan nan nan nan nan nan nan nan nan nan nan nan nan nan\n",
      " nan nan nan nan nan nan nan nan nan nan nan nan nan nan nan]\n",
      "  k=149: [nan nan nan nan nan nan nan nan nan nan nan nan nan nan nan nan nan nan\n",
      " nan nan nan nan nan nan nan nan nan nan nan nan nan nan nan]\n",
      "  k=150: [nan nan nan nan nan nan nan nan nan nan nan nan nan nan nan nan nan nan\n",
      " nan nan nan nan nan nan nan nan nan nan nan nan nan nan nan]\n",
      "  k=151: [nan nan nan nan nan nan nan nan nan nan nan nan nan nan nan nan nan nan\n",
      " nan nan nan nan nan nan nan nan nan nan nan nan nan nan nan]\n",
      "  k=152: [nan nan nan nan nan nan nan nan nan nan nan nan nan nan nan nan nan nan\n",
      " nan nan nan nan nan nan nan nan nan nan nan nan nan nan nan]\n",
      "  k=153: [nan nan nan nan nan nan nan nan nan nan nan nan nan nan nan nan nan nan\n",
      " nan nan nan nan nan nan nan nan nan nan nan nan nan nan nan]\n",
      "  k=154: [nan nan nan nan nan nan nan nan nan nan nan nan nan nan nan nan nan nan\n",
      " nan nan nan nan nan nan nan nan nan nan nan nan nan nan nan]\n",
      "  k=155: [nan nan nan nan nan nan nan nan nan nan nan nan nan nan nan nan nan nan\n",
      " nan nan nan nan nan nan nan nan nan nan nan nan nan nan nan]\n",
      "  k=156: [nan nan nan nan nan nan nan nan nan nan nan nan nan nan nan nan nan nan\n",
      " nan nan nan nan nan nan nan nan nan nan nan nan nan nan nan]\n",
      "  k=157: [nan nan nan nan nan nan nan nan nan nan nan nan nan nan nan nan nan nan\n",
      " nan nan nan nan nan nan nan nan nan nan nan nan nan nan nan]\n",
      "  k=158: [nan nan nan nan nan nan nan nan nan nan nan nan nan nan nan nan nan nan\n",
      " nan nan nan nan nan nan nan nan nan nan nan nan nan nan nan]\n",
      "  k=159: [nan nan nan nan nan nan nan nan nan nan nan nan nan nan nan nan nan nan\n",
      " nan nan nan nan nan nan nan nan nan nan nan nan nan nan nan]\n",
      "  k=160: [nan nan nan nan nan nan nan nan nan nan nan nan nan nan nan nan nan nan\n",
      " nan nan nan nan nan nan nan nan nan nan nan nan nan nan nan]\n",
      "  k=161: [nan nan nan nan nan nan nan nan nan nan nan nan nan nan nan nan nan nan\n",
      " nan nan nan nan nan nan nan nan nan nan nan nan nan nan nan]\n",
      "  k=162: [nan nan nan nan nan nan nan nan nan nan nan nan nan nan nan nan nan nan\n",
      " nan nan nan nan nan nan nan nan nan nan nan nan nan nan nan]\n",
      "  k=163: [nan nan nan nan nan nan nan nan nan nan nan nan nan nan nan nan nan nan\n",
      " nan nan nan nan nan nan nan nan nan nan nan nan nan nan nan]\n",
      "  k=164: [nan nan nan nan nan nan nan nan nan nan nan nan nan nan nan nan nan nan\n",
      " nan nan nan nan nan nan nan nan nan nan nan nan nan nan nan]\n",
      "  k=165: [nan nan nan nan nan nan nan nan nan nan nan nan nan nan nan nan nan nan\n",
      " nan nan nan nan nan nan nan nan nan nan nan nan nan nan nan]\n",
      "  k=166: [nan nan nan nan nan nan nan nan nan nan nan nan nan nan nan nan nan nan\n",
      " nan nan nan nan nan nan nan nan nan nan nan nan nan nan nan]\n",
      "  k=167: [nan nan nan nan nan nan nan nan nan nan nan nan nan nan nan nan nan nan\n",
      " nan nan nan nan nan nan nan nan nan nan nan nan nan nan nan]\n",
      "  k=168: [nan nan nan nan nan nan nan nan nan nan nan nan nan nan nan nan nan nan\n",
      " nan nan nan nan nan nan nan nan nan nan nan nan nan nan nan]\n",
      "  k=169: [nan nan nan nan nan nan nan nan nan nan nan nan nan nan nan nan nan nan\n",
      " nan nan nan nan nan nan nan nan nan nan nan nan nan nan nan]\n",
      "  k=170: [nan nan nan nan nan nan nan nan nan nan nan nan nan nan nan nan nan nan\n",
      " nan nan nan nan nan nan nan nan nan nan nan nan nan nan nan]\n",
      "  k=171: [nan nan nan nan nan nan nan nan nan nan nan nan nan nan nan nan nan nan\n",
      " nan nan nan nan nan nan nan nan nan nan nan nan nan nan nan]\n",
      "  k=172: [nan nan nan nan nan nan nan nan nan nan nan nan nan nan nan nan nan nan\n",
      " nan nan nan nan nan nan nan nan nan nan nan nan nan nan nan]\n",
      "  k=173: [nan nan nan nan nan nan nan nan nan nan nan nan nan nan nan nan nan nan\n",
      " nan nan nan nan nan nan nan nan nan nan nan nan nan nan nan]\n",
      "  k=174: [nan nan nan nan nan nan nan nan nan nan nan nan nan nan nan nan nan nan\n",
      " nan nan nan nan nan nan nan nan nan nan nan nan nan nan nan]\n",
      "  k=175: [nan nan nan nan nan nan nan nan nan nan nan nan nan nan nan nan nan nan\n",
      " nan nan nan nan nan nan nan nan nan nan nan nan nan nan nan]\n",
      "  k=176: [nan nan nan nan nan nan nan nan nan nan nan nan nan nan nan nan nan nan\n",
      " nan nan nan nan nan nan nan nan nan nan nan nan nan nan nan]\n",
      "  k=177: [nan nan nan nan nan nan nan nan nan nan nan nan nan nan nan nan nan nan\n",
      " nan nan nan nan nan nan nan nan nan nan nan nan nan nan nan]\n",
      "  k=178: [nan nan nan nan nan nan nan nan nan nan nan nan nan nan nan nan nan nan\n",
      " nan nan nan nan nan nan nan nan nan nan nan nan nan nan nan]\n",
      "  k=179: [nan nan nan nan nan nan nan nan nan nan nan nan nan nan nan nan nan nan\n",
      " nan nan nan nan nan nan nan nan nan nan nan nan nan nan nan]\n",
      "  k=180: [nan nan nan nan nan nan nan nan nan nan nan nan nan nan nan nan nan nan\n",
      " nan nan nan nan nan nan nan nan nan nan nan nan nan nan nan]\n",
      "  k=181: [nan nan nan nan nan nan nan nan nan nan nan nan nan nan nan nan nan nan\n",
      " nan nan nan nan nan nan nan nan nan nan nan nan nan nan nan]\n",
      "  k=182: [nan nan nan nan nan nan nan nan nan nan nan nan nan nan nan nan nan nan\n",
      " nan nan nan nan nan nan nan nan nan nan nan nan nan nan nan]\n",
      "  k=183: [nan nan nan nan nan nan nan nan nan nan nan nan nan nan nan nan nan nan\n",
      " nan nan nan nan nan nan nan nan nan nan nan nan nan nan nan]\n",
      "  k=184: [nan nan nan nan nan nan nan nan nan nan nan nan nan nan nan nan nan nan\n",
      " nan nan nan nan nan nan nan nan nan nan nan nan nan nan nan]\n",
      "  k=185: [nan nan nan nan nan nan nan nan nan nan nan nan nan nan nan nan nan nan\n",
      " nan nan nan nan nan nan nan nan nan nan nan nan nan nan nan]\n",
      "  k=186: [nan nan nan nan nan nan nan nan nan nan nan nan nan nan nan nan nan nan\n",
      " nan nan nan nan nan nan nan nan nan nan nan nan nan nan nan]\n",
      "  k=187: [nan nan nan nan nan nan nan nan nan nan nan nan nan nan nan nan nan nan\n",
      " nan nan nan nan nan nan nan nan nan nan nan nan nan nan nan]\n",
      "  k=188: [nan nan nan nan nan nan nan nan nan nan nan nan nan nan nan nan nan nan\n",
      " nan nan nan nan nan nan nan nan nan nan nan nan nan nan nan]\n",
      "  k=189: [nan nan nan nan nan nan nan nan nan nan nan nan nan nan nan nan nan nan\n",
      " nan nan nan nan nan nan nan nan nan nan nan nan nan nan nan]\n",
      "  k=190: [nan nan nan nan nan nan nan nan nan nan nan nan nan nan nan nan nan nan\n",
      " nan nan nan nan nan nan nan nan nan nan nan nan nan nan nan]\n",
      "  k=191: [nan nan nan nan nan nan nan nan nan nan nan nan nan nan nan nan nan nan\n",
      " nan nan nan nan nan nan nan nan nan nan nan nan nan nan nan]\n",
      "  k=192: [nan nan nan nan nan nan nan nan nan nan nan nan nan nan nan nan nan nan\n",
      " nan nan nan nan nan nan nan nan nan nan nan nan nan nan nan]\n",
      "  k=193: [nan nan nan nan nan nan nan nan nan nan nan nan nan nan nan nan nan nan\n",
      " nan nan nan nan nan nan nan nan nan nan nan nan nan nan nan]\n",
      "  k=194: [nan nan nan nan nan nan nan nan nan nan nan nan nan nan nan nan nan nan\n",
      " nan nan nan nan nan nan nan nan nan nan nan nan nan nan nan]\n",
      "  k=195: [nan nan nan nan nan nan nan nan nan nan nan nan nan nan nan nan nan nan\n",
      " nan nan nan nan nan nan nan nan nan nan nan nan nan nan nan]\n",
      "  k=196: [nan nan nan nan nan nan nan nan nan nan nan nan nan nan nan nan nan nan\n",
      " nan nan nan nan nan nan nan nan nan nan nan nan nan nan nan]\n",
      "  k=197: [nan nan nan nan nan nan nan nan nan nan nan nan nan nan nan nan nan nan\n",
      " nan nan nan nan nan nan nan nan nan nan nan nan nan nan nan]\n",
      "  k=198: [nan nan nan nan nan nan nan nan nan nan nan nan nan nan nan nan nan nan\n",
      " nan nan nan nan nan nan nan nan nan nan nan nan nan nan nan]\n",
      "  k=199: [nan nan nan nan nan nan nan nan nan nan nan nan nan nan nan nan nan nan\n",
      " nan nan nan nan nan nan nan nan nan nan nan nan nan nan nan]\n",
      "  k=200: [nan nan nan nan nan nan nan nan nan nan nan nan nan nan nan nan nan nan\n",
      " nan nan nan nan nan nan nan nan nan nan nan nan nan nan nan]\n",
      "  k=201: [nan nan nan nan nan nan nan nan nan nan nan nan nan nan nan nan nan nan\n",
      " nan nan nan nan nan nan nan nan nan nan nan nan nan nan nan]\n",
      "  k=202: [nan nan nan nan nan nan nan nan nan nan nan nan nan nan nan nan nan nan\n",
      " nan nan nan nan nan nan nan nan nan nan nan nan nan nan nan]\n",
      "  k=203: [nan nan nan nan nan nan nan nan nan nan nan nan nan nan nan nan nan nan\n",
      " nan nan nan nan nan nan nan nan nan nan nan nan nan nan nan]\n",
      "  k=204: [nan nan nan nan nan nan nan nan nan nan nan nan nan nan nan nan nan nan\n",
      " nan nan nan nan nan nan nan nan nan nan nan nan nan nan nan]\n",
      "  k=205: [nan nan nan nan nan nan nan nan nan nan nan nan nan nan nan nan nan nan\n",
      " nan nan nan nan nan nan nan nan nan nan nan nan nan nan nan]\n",
      "  k=206: [nan nan nan nan nan nan nan nan nan nan nan nan nan nan nan nan nan nan\n",
      " nan nan nan nan nan nan nan nan nan nan nan nan nan nan nan]\n",
      "  k=207: [nan nan nan nan nan nan nan nan nan nan nan nan nan nan nan nan nan nan\n",
      " nan nan nan nan nan nan nan nan nan nan nan nan nan nan nan]\n",
      "  k=208: [nan nan nan nan nan nan nan nan nan nan nan nan nan nan nan nan nan nan\n",
      " nan nan nan nan nan nan nan nan nan nan nan nan nan nan nan]\n",
      "  k=209: [nan nan nan nan nan nan nan nan nan nan nan nan nan nan nan nan nan nan\n",
      " nan nan nan nan nan nan nan nan nan nan nan nan nan nan nan]\n",
      "  k=210: [nan nan nan nan nan nan nan nan nan nan nan nan nan nan nan nan nan nan\n",
      " nan nan nan nan nan nan nan nan nan nan nan nan nan nan nan]\n",
      "  k=211: [nan nan nan nan nan nan nan nan nan nan nan nan nan nan nan nan nan nan\n",
      " nan nan nan nan nan nan nan nan nan nan nan nan nan nan nan]\n",
      "  k=212: [nan nan nan nan nan nan nan nan nan nan nan nan nan nan nan nan nan nan\n",
      " nan nan nan nan nan nan nan nan nan nan nan nan nan nan nan]\n",
      "  k=213: [nan nan nan nan nan nan nan nan nan nan nan nan nan nan nan nan nan nan\n",
      " nan nan nan nan nan nan nan nan nan nan nan nan nan nan nan]\n",
      "  k=214: [nan nan nan nan nan nan nan nan nan nan nan nan nan nan nan nan nan nan\n",
      " nan nan nan nan nan nan nan nan nan nan nan nan nan nan nan]\n",
      "  k=215: [nan nan nan nan nan nan nan nan nan nan nan nan nan nan nan nan nan nan\n",
      " nan nan nan nan nan nan nan nan nan nan nan nan nan nan nan]\n",
      "  k=216: [nan nan nan nan nan nan nan nan nan nan nan nan nan nan nan nan nan nan\n",
      " nan nan nan nan nan nan nan nan nan nan nan nan nan nan nan]\n",
      "  k=217: [nan nan nan nan nan nan nan nan nan nan nan nan nan nan nan nan nan nan\n",
      " nan nan nan nan nan nan nan nan nan nan nan nan nan nan nan]\n",
      "  k=218: [nan nan nan nan nan nan nan nan nan nan nan nan nan nan nan nan nan nan\n",
      " nan nan nan nan nan nan nan nan nan nan nan nan nan nan nan]\n",
      "  k=219: [nan nan nan nan nan nan nan nan nan nan nan nan nan nan nan nan nan nan\n",
      " nan nan nan nan nan nan nan nan nan nan nan nan nan nan nan]\n",
      "  k=220: [nan nan nan nan nan nan nan nan nan nan nan nan nan nan nan nan nan nan\n",
      " nan nan nan nan nan nan nan nan nan nan nan nan nan nan nan]\n",
      "  k=221: [nan nan nan nan nan nan nan nan nan nan nan nan nan nan nan nan nan nan\n",
      " nan nan nan nan nan nan nan nan nan nan nan nan nan nan nan]\n",
      "  k=222: [nan nan nan nan nan nan nan nan nan nan nan nan nan nan nan nan nan nan\n",
      " nan nan nan nan nan nan nan nan nan nan nan nan nan nan nan]\n",
      "  k=223: [nan nan nan nan nan nan nan nan nan nan nan nan nan nan nan nan nan nan\n",
      " nan nan nan nan nan nan nan nan nan nan nan nan nan nan nan]\n",
      "  k=224: [nan nan nan nan nan nan nan nan nan nan nan nan nan nan nan nan nan nan\n",
      " nan nan nan nan nan nan nan nan nan nan nan nan nan nan nan]\n",
      "  k=225: [nan nan nan nan nan nan nan nan nan nan nan nan nan nan nan nan nan nan\n",
      " nan nan nan nan nan nan nan nan nan nan nan nan nan nan nan]\n",
      "  k=226: [nan nan nan nan nan nan nan nan nan nan nan nan nan nan nan nan nan nan\n",
      " nan nan nan nan nan nan nan nan nan nan nan nan nan nan nan]\n",
      "  k=227: [nan nan nan nan nan nan nan nan nan nan nan nan nan nan nan nan nan nan\n",
      " nan nan nan nan nan nan nan nan nan nan nan nan nan nan nan]\n",
      "  k=228: [nan nan nan nan nan nan nan nan nan nan nan nan nan nan nan nan nan nan\n",
      " nan nan nan nan nan nan nan nan nan nan nan nan nan nan nan]\n",
      "  k=229: [nan nan nan nan nan nan nan nan nan nan nan nan nan nan nan nan nan nan\n",
      " nan nan nan nan nan nan nan nan nan nan nan nan nan nan nan]\n",
      "  k=230: [nan nan nan nan nan nan nan nan nan nan nan nan nan nan nan nan nan nan\n",
      " nan nan nan nan nan nan nan nan nan nan nan nan nan nan nan]\n",
      "  k=231: [nan nan nan nan nan nan nan nan nan nan nan nan nan nan nan nan nan nan\n",
      " nan nan nan nan nan nan nan nan nan nan nan nan nan nan nan]\n",
      "  k=232: [nan nan nan nan nan nan nan nan nan nan nan nan nan nan nan nan nan nan\n",
      " nan nan nan nan nan nan nan nan nan nan nan nan nan nan nan]\n",
      "  k=233: [nan nan nan nan nan nan nan nan nan nan nan nan nan nan nan nan nan nan\n",
      " nan nan nan nan nan nan nan nan nan nan nan nan nan nan nan]\n",
      "  k=234: [nan nan nan nan nan nan nan nan nan nan nan nan nan nan nan nan nan nan\n",
      " nan nan nan nan nan nan nan nan nan nan nan nan nan nan nan]\n",
      "  k=235: [nan nan nan nan nan nan nan nan nan nan nan nan nan nan nan nan nan nan\n",
      " nan nan nan nan nan nan nan nan nan nan nan nan nan nan nan]\n",
      "  k=236: [nan nan nan nan nan nan nan nan nan nan nan nan nan nan nan nan nan nan\n",
      " nan nan nan nan nan nan nan nan nan nan nan nan nan nan nan]\n",
      "  k=237: [nan nan nan nan nan nan nan nan nan nan nan nan nan nan nan nan nan nan\n",
      " nan nan nan nan nan nan nan nan nan nan nan nan nan nan nan]\n",
      "  k=238: [nan nan nan nan nan nan nan nan nan nan nan nan nan nan nan nan nan nan\n",
      " nan nan nan nan nan nan nan nan nan nan nan nan nan nan nan]\n",
      "  k=239: [nan nan nan nan nan nan nan nan nan nan nan nan nan nan nan nan nan nan\n",
      " nan nan nan nan nan nan nan nan nan nan nan nan nan nan nan]\n",
      "  k=240: [nan nan nan nan nan nan nan nan nan nan nan nan nan nan nan nan nan nan\n",
      " nan nan nan nan nan nan nan nan nan nan nan nan nan nan nan]\n",
      "  k=241: [nan nan nan nan nan nan nan nan nan nan nan nan nan nan nan nan nan nan\n",
      " nan nan nan nan nan nan nan nan nan nan nan nan nan nan nan]\n",
      "  k=242: [nan nan nan nan nan nan nan nan nan nan nan nan nan nan nan nan nan nan\n",
      " nan nan nan nan nan nan nan nan nan nan nan nan nan nan nan]\n",
      "  k=243: [nan nan nan nan nan nan nan nan nan nan nan nan nan nan nan nan nan nan\n",
      " nan nan nan nan nan nan nan nan nan nan nan nan nan nan nan]\n",
      "  k=244: [nan nan nan nan nan nan nan nan nan nan nan nan nan nan nan nan nan nan\n",
      " nan nan nan nan nan nan nan nan nan nan nan nan nan nan nan]\n",
      "  k=245: [nan nan nan nan nan nan nan nan nan nan nan nan nan nan nan nan nan nan\n",
      " nan nan nan nan nan nan nan nan nan nan nan nan nan nan nan]\n",
      "  k=246: [nan nan nan nan nan nan nan nan nan nan nan nan nan nan nan nan nan nan\n",
      " nan nan nan nan nan nan nan nan nan nan nan nan nan nan nan]\n",
      "  k=247: [nan nan nan nan nan nan nan nan nan nan nan nan nan nan nan nan nan nan\n",
      " nan nan nan nan nan nan nan nan nan nan nan nan nan nan nan]\n",
      "  k=248: [nan nan nan nan nan nan nan nan nan nan nan nan nan nan nan nan nan nan\n",
      " nan nan nan nan nan nan nan nan nan nan nan nan nan nan nan]\n",
      "  k=249: [nan nan nan nan nan nan nan nan nan nan nan nan nan nan nan nan nan nan\n",
      " nan nan nan nan nan nan nan nan nan nan nan nan nan nan nan]\n",
      "  k=250: [nan nan nan nan nan nan nan nan nan nan nan nan nan nan nan nan nan nan\n",
      " nan nan nan nan nan nan nan nan nan nan nan nan nan nan nan]\n",
      "  k=251: [nan nan nan nan nan nan nan nan nan nan nan nan nan nan nan nan nan nan\n",
      " nan nan nan nan nan nan nan nan nan nan nan nan nan nan nan]\n",
      "  k=252: [nan nan nan nan nan nan nan nan nan nan nan nan nan nan nan nan nan nan\n",
      " nan nan nan nan nan nan nan nan nan nan nan nan nan nan nan]\n",
      "  k=253: [nan nan nan nan nan nan nan nan nan nan nan nan nan nan nan nan nan nan\n",
      " nan nan nan nan nan nan nan nan nan nan nan nan nan nan nan]\n",
      "  k=254: [nan nan nan nan nan nan nan nan nan nan nan nan nan nan nan nan nan nan\n",
      " nan nan nan nan nan nan nan nan nan nan nan nan nan nan nan]\n",
      "  k=255: [nan nan nan nan nan nan nan nan nan nan nan nan nan nan nan nan nan nan\n",
      " nan nan nan nan nan nan nan nan nan nan nan nan nan nan nan]\n",
      "  k=256: [nan nan nan nan nan nan nan nan nan nan nan nan nan nan nan nan nan nan\n",
      " nan nan nan nan nan nan nan nan nan nan nan nan nan nan nan]\n",
      "  k=257: [nan nan nan nan nan nan nan nan nan nan nan nan nan nan nan nan nan nan\n",
      " nan nan nan nan nan nan nan nan nan nan nan nan nan nan nan]\n",
      "  k=258: [nan nan nan nan nan nan nan nan nan nan nan nan nan nan nan nan nan nan\n",
      " nan nan nan nan nan nan nan nan nan nan nan nan nan nan nan]\n",
      "  k=259: [nan nan nan nan nan nan nan nan nan nan nan nan nan nan nan nan nan nan\n",
      " nan nan nan nan nan nan nan nan nan nan nan nan nan nan nan]\n",
      "  k=260: [nan nan nan nan nan nan nan nan nan nan nan nan nan nan nan nan nan nan\n",
      " nan nan nan nan nan nan nan nan nan nan nan nan nan nan nan]\n",
      "  k=261: [nan nan nan nan nan nan nan nan nan nan nan nan nan nan nan nan nan nan\n",
      " nan nan nan nan nan nan nan nan nan nan nan nan nan nan nan]\n",
      "  k=262: [nan nan nan nan nan nan nan nan nan nan nan nan nan nan nan nan nan nan\n",
      " nan nan nan nan nan nan nan nan nan nan nan nan nan nan nan]\n",
      "  k=263: [nan nan nan nan nan nan nan nan nan nan nan nan nan nan nan nan nan nan\n",
      " nan nan nan nan nan nan nan nan nan nan nan nan nan nan nan]\n",
      "  k=264: [nan nan nan nan nan nan nan nan nan nan nan nan nan nan nan nan nan nan\n",
      " nan nan nan nan nan nan nan nan nan nan nan nan nan nan nan]\n",
      "  k=265: [nan nan nan nan nan nan nan nan nan nan nan nan nan nan nan nan nan nan\n",
      " nan nan nan nan nan nan nan nan nan nan nan nan nan nan nan]\n",
      "  k=266: [nan nan nan nan nan nan nan nan nan nan nan nan nan nan nan nan nan nan\n",
      " nan nan nan nan nan nan nan nan nan nan nan nan nan nan nan]\n",
      "  k=267: [nan nan nan nan nan nan nan nan nan nan nan nan nan nan nan nan nan nan\n",
      " nan nan nan nan nan nan nan nan nan nan nan nan nan nan nan]\n",
      "  k=268: [nan nan nan nan nan nan nan nan nan nan nan nan nan nan nan nan nan nan\n",
      " nan nan nan nan nan nan nan nan nan nan nan nan nan nan nan]\n",
      "  k=269: [nan nan nan nan nan nan nan nan nan nan nan nan nan nan nan nan nan nan\n",
      " nan nan nan nan nan nan nan nan nan nan nan nan nan nan nan]\n",
      "  k=270: [nan nan nan nan nan nan nan nan nan nan nan nan nan nan nan nan nan nan\n",
      " nan nan nan nan nan nan nan nan nan nan nan nan nan nan nan]\n",
      "  k=271: [nan nan nan nan nan nan nan nan nan nan nan nan nan nan nan nan nan nan\n",
      " nan nan nan nan nan nan nan nan nan nan nan nan nan nan nan]\n",
      "  k=272: [nan nan nan nan nan nan nan nan nan nan nan nan nan nan nan nan nan nan\n",
      " nan nan nan nan nan nan nan nan nan nan nan nan nan nan nan]\n",
      "  k=273: [nan nan nan nan nan nan nan nan nan nan nan nan nan nan nan nan nan nan\n",
      " nan nan nan nan nan nan nan nan nan nan nan nan nan nan nan]\n",
      "  k=274: [nan nan nan nan nan nan nan nan nan nan nan nan nan nan nan nan nan nan\n",
      " nan nan nan nan nan nan nan nan nan nan nan nan nan nan nan]\n",
      "  k=275: [nan nan nan nan nan nan nan nan nan nan nan nan nan nan nan nan nan nan\n",
      " nan nan nan nan nan nan nan nan nan nan nan nan nan nan nan]\n",
      "  k=276: [nan nan nan nan nan nan nan nan nan nan nan nan nan nan nan nan nan nan\n",
      " nan nan nan nan nan nan nan nan nan nan nan nan nan nan nan]\n",
      "  k=277: [nan nan nan nan nan nan nan nan nan nan nan nan nan nan nan nan nan nan\n",
      " nan nan nan nan nan nan nan nan nan nan nan nan nan nan nan]\n",
      "  k=278: [nan nan nan nan nan nan nan nan nan nan nan nan nan nan nan nan nan nan\n",
      " nan nan nan nan nan nan nan nan nan nan nan nan nan nan nan]\n",
      "  k=279: [nan nan nan nan nan nan nan nan nan nan nan nan nan nan nan nan nan nan\n",
      " nan nan nan nan nan nan nan nan nan nan nan nan nan nan nan]\n",
      "  k=280: [nan nan nan nan nan nan nan nan nan nan nan nan nan nan nan nan nan nan\n",
      " nan nan nan nan nan nan nan nan nan nan nan nan nan nan nan]\n",
      "  k=281: [nan nan nan nan nan nan nan nan nan nan nan nan nan nan nan nan nan nan\n",
      " nan nan nan nan nan nan nan nan nan nan nan nan nan nan nan]\n",
      "  k=282: [nan nan nan nan nan nan nan nan nan nan nan nan nan nan nan nan nan nan\n",
      " nan nan nan nan nan nan nan nan nan nan nan nan nan nan nan]\n",
      "  k=283: [nan nan nan nan nan nan nan nan nan nan nan nan nan nan nan nan nan nan\n",
      " nan nan nan nan nan nan nan nan nan nan nan nan nan nan nan]\n",
      "  k=284: [nan nan nan nan nan nan nan nan nan nan nan nan nan nan nan nan nan nan\n",
      " nan nan nan nan nan nan nan nan nan nan nan nan nan nan nan]\n",
      "  k=285: [nan nan nan nan nan nan nan nan nan nan nan nan nan nan nan nan nan nan\n",
      " nan nan nan nan nan nan nan nan nan nan nan nan nan nan nan]\n",
      "  k=286: [nan nan nan nan nan nan nan nan nan nan nan nan nan nan nan nan nan nan\n",
      " nan nan nan nan nan nan nan nan nan nan nan nan nan nan nan]\n",
      "  k=287: [nan nan nan nan nan nan nan nan nan nan nan nan nan nan nan nan nan nan\n",
      " nan nan nan nan nan nan nan nan nan nan nan nan nan nan nan]\n",
      "  k=288: [nan nan nan nan nan nan nan nan nan nan nan nan nan nan nan nan nan nan\n",
      " nan nan nan nan nan nan nan nan nan nan nan nan nan nan nan]\n",
      "  k=289: [nan nan nan nan nan nan nan nan nan nan nan nan nan nan nan nan nan nan\n",
      " nan nan nan nan nan nan nan nan nan nan nan nan nan nan nan]\n",
      "  k=290: [nan nan nan nan nan nan nan nan nan nan nan nan nan nan nan nan nan nan\n",
      " nan nan nan nan nan nan nan nan nan nan nan nan nan nan nan]\n",
      "  k=291: [nan nan nan nan nan nan nan nan nan nan nan nan nan nan nan nan nan nan\n",
      " nan nan nan nan nan nan nan nan nan nan nan nan nan nan nan]\n",
      "  k=292: [nan nan nan nan nan nan nan nan nan nan nan nan nan nan nan nan nan nan\n",
      " nan nan nan nan nan nan nan nan nan nan nan nan nan nan nan]\n",
      "  k=293: [nan nan nan nan nan nan nan nan nan nan nan nan nan nan nan nan nan nan\n",
      " nan nan nan nan nan nan nan nan nan nan nan nan nan nan nan]\n",
      "  k=294: [nan nan nan nan nan nan nan nan nan nan nan nan nan nan nan nan nan nan\n",
      " nan nan nan nan nan nan nan nan nan nan nan nan nan nan nan]\n",
      "  k=295: [nan nan nan nan nan nan nan nan nan nan nan nan nan nan nan nan nan nan\n",
      " nan nan nan nan nan nan nan nan nan nan nan nan nan nan nan]\n",
      "  k=296: [nan nan nan nan nan nan nan nan nan nan nan nan nan nan nan nan nan nan\n",
      " nan nan nan nan nan nan nan nan nan nan nan nan nan nan nan]\n",
      "  k=297: [nan nan nan nan nan nan nan nan nan nan nan nan nan nan nan nan nan nan\n",
      " nan nan nan nan nan nan nan nan nan nan nan nan nan nan nan]\n",
      "  k=298: [nan nan nan nan nan nan nan nan nan nan nan nan nan nan nan nan nan nan\n",
      " nan nan nan nan nan nan nan nan nan nan nan nan nan nan nan]\n",
      "  k=299: [nan nan nan nan nan nan nan nan nan nan nan nan nan nan nan nan nan nan\n",
      " nan nan nan nan nan nan nan nan nan nan nan nan nan nan nan]\n",
      "  k=300: [nan nan nan nan nan nan nan nan nan nan nan nan nan nan nan nan nan nan\n",
      " nan nan nan nan nan nan nan nan nan nan nan nan nan nan nan]\n",
      "  k=301: [nan nan nan nan nan nan nan nan nan nan nan nan nan nan nan nan nan nan\n",
      " nan nan nan nan nan nan nan nan nan nan nan nan nan nan nan]\n",
      "  k=302: [nan nan nan nan nan nan nan nan nan nan nan nan nan nan nan nan nan nan\n",
      " nan nan nan nan nan nan nan nan nan nan nan nan nan nan nan]\n",
      "  k=303: [nan nan nan nan nan nan nan nan nan nan nan nan nan nan nan nan nan nan\n",
      " nan nan nan nan nan nan nan nan nan nan nan nan nan nan nan]\n",
      "  k=304: [nan nan nan nan nan nan nan nan nan nan nan nan nan nan nan nan nan nan\n",
      " nan nan nan nan nan nan nan nan nan nan nan nan nan nan nan]\n",
      "  k=305: [nan nan nan nan nan nan nan nan nan nan nan nan nan nan nan nan nan nan\n",
      " nan nan nan nan nan nan nan nan nan nan nan nan nan nan nan]\n",
      "  k=306: [nan nan nan nan nan nan nan nan nan nan nan nan nan nan nan nan nan nan\n",
      " nan nan nan nan nan nan nan nan nan nan nan nan nan nan nan]\n",
      "  k=307: [nan nan nan nan nan nan nan nan nan nan nan nan nan nan nan nan nan nan\n",
      " nan nan nan nan nan nan nan nan nan nan nan nan nan nan nan]\n",
      "  k=308: [nan nan nan nan nan nan nan nan nan nan nan nan nan nan nan nan nan nan\n",
      " nan nan nan nan nan nan nan nan nan nan nan nan nan nan nan]\n",
      "  k=309: [nan nan nan nan nan nan nan nan nan nan nan nan nan nan nan nan nan nan\n",
      " nan nan nan nan nan nan nan nan nan nan nan nan nan nan nan]\n",
      "  k=310: [nan nan nan nan nan nan nan nan nan nan nan nan nan nan nan nan nan nan\n",
      " nan nan nan nan nan nan nan nan nan nan nan nan nan nan nan]\n",
      "  k=311: [nan nan nan nan nan nan nan nan nan nan nan nan nan nan nan nan nan nan\n",
      " nan nan nan nan nan nan nan nan nan nan nan nan nan nan nan]\n",
      "  k=312: [nan nan nan nan nan nan nan nan nan nan nan nan nan nan nan nan nan nan\n",
      " nan nan nan nan nan nan nan nan nan nan nan nan nan nan nan]\n",
      "  k=313: [nan nan nan nan nan nan nan nan nan nan nan nan nan nan nan nan nan nan\n",
      " nan nan nan nan nan nan nan nan nan nan nan nan nan nan nan]\n",
      "  k=314: [nan nan nan nan nan nan nan nan nan nan nan nan nan nan nan nan nan nan\n",
      " nan nan nan nan nan nan nan nan nan nan nan nan nan nan nan]\n",
      "  k=315: [nan nan nan nan nan nan nan nan nan nan nan nan nan nan nan nan nan nan\n",
      " nan nan nan nan nan nan nan nan nan nan nan nan nan nan nan]\n",
      "  k=316: [nan nan nan nan nan nan nan nan nan nan nan nan nan nan nan nan nan nan\n",
      " nan nan nan nan nan nan nan nan nan nan nan nan nan nan nan]\n"
     ]
    }
   ],
   "source": [
    "# -------------------------\n",
    "# Execute\n",
    "# -------------------------\n",
    "\n",
    "# res = pd.read_excel(CONFIG[\"data_excel\"])\n",
    "# securities = list(res[\"Ticker\"].unique())\n",
    "# securities = ['NVDA', 'AAPL', 'AVGO', 'GOOGL', 'ORCL', 'IBM', 'CSCO', 'CRM']\n",
    "securities = None\n",
    "\n",
    "out = dro_pipeline(securities, CONFIG, verbose=True)\n"
   ]
  }
 ],
 "metadata": {
  "kernelspec": {
   "display_name": "Python [conda env:base] *",
   "language": "python",
   "name": "conda-base-py"
  },
  "language_info": {
   "codemirror_mode": {
    "name": "ipython",
    "version": 3
   },
   "file_extension": ".py",
   "mimetype": "text/x-python",
   "name": "python",
   "nbconvert_exporter": "python",
   "pygments_lexer": "ipython3",
   "version": "3.12.2"
  }
 },
 "nbformat": 4,
 "nbformat_minor": 5
}
