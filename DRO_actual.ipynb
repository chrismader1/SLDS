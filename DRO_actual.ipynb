{
 "cells": [
  {
   "cell_type": "code",
   "execution_count": 2,
   "id": "188e075e-79f2-4614-9716-9ff9fec1dd0b",
   "metadata": {},
   "outputs": [],
   "source": [
    "# DRO actual data "
   ]
  },
  {
   "cell_type": "code",
   "execution_count": 3,
   "id": "0fbf7e72-690a-4972-a119-06358bcff833",
   "metadata": {},
   "outputs": [],
   "source": [
    "IN_COLAB = False\n",
    "REMOUNT = False"
   ]
  },
  {
   "cell_type": "code",
   "execution_count": 4,
   "id": "8be9334d-ef15-465a-a8cf-d5f8939d6853",
   "metadata": {},
   "outputs": [],
   "source": [
    "# RUN IN COLAB ONLY: mount Google drive\n",
    "if IN_COLAB:\n",
    "    from google.colab import drive\n",
    "    drive.mount('/content/drive')"
   ]
  },
  {
   "cell_type": "code",
   "execution_count": 5,
   "id": "591443f8-a593-46b4-aa25-1a4377dac01f",
   "metadata": {},
   "outputs": [],
   "source": [
    "# RUN IN COLAB ONLY: unmount, remount Google drive - if required\n",
    "if REMOUNT:\n",
    "    !fusermount -u /content/drive 2>/dev/null || true\n",
    "    !rm -rf /content/drive\n",
    "    from google.colab import auth\n",
    "    auth.authenticate_user()\n",
    "    from google.colab import drive\n",
    "    drive.mount('/content/drive', force_remount=True)"
   ]
  },
  {
   "cell_type": "code",
   "execution_count": 6,
   "id": "67c0c92b-1d1b-4dca-9cba-28d3e9520bd3",
   "metadata": {},
   "outputs": [],
   "source": [
    "# RUN IN COLAB ONLY: force-fetch latest files from GitHub (overwrite local copies)\n",
    "if IN_COLAB:\n",
    "    !rm -rf /content/SLDS\n",
    "    !git clone --depth=1 https://github.com/chrismader1/SLDS.git /content/SLDS\n",
    "    import sys\n",
    "    sys.path.append(\"/content/SLDS\")"
   ]
  },
  {
   "cell_type": "code",
   "execution_count": 7,
   "id": "e26ef41f-d8a5-4518-8ecb-9fc759476dcb",
   "metadata": {},
   "outputs": [],
   "source": [
    "# RUN IN COLAB ONLY: prevent timeouts\n",
    "if IN_COLAB:\n",
    "    from IPython.display import Javascript, display\n",
    "    display(Javascript(\"\"\"\n",
    "    (function keepAlive(){\n",
    "      function clickConnect(){\n",
    "        // Try shadow-root button (newer Colab)\n",
    "        const el = document.querySelector('colab-connect-button');\n",
    "        if (el && el.shadowRoot){\n",
    "          const btn = el.shadowRoot.querySelector('#connect');\n",
    "          if (btn){ btn.click(); console.log('keepAlive: clicked shadow connect'); return; }\n",
    "        }\n",
    "        // Fallbacks\n",
    "        const btn2 = document.querySelector('#connect, button#connect');\n",
    "        if (btn2){ btn2.click(); console.log('keepAlive: clicked #connect'); return; }\n",
    "        console.log('keepAlive: connect button not found');\n",
    "      }\n",
    "      setInterval(clickConnect, 60 * 1000);\n",
    "      console.log('keepAlive: armed');\n",
    "    })();\n",
    "    \"\"\"))"
   ]
  },
  {
   "cell_type": "code",
   "execution_count": 8,
   "id": "1b7322c9-41a3-4ca5-b9c7-f441f8dd36cf",
   "metadata": {},
   "outputs": [],
   "source": [
    "# RUN IN COLAB ONLY: clear cache\n",
    "if IN_COLAB:\n",
    "    !rm -f \"/content/drive/MyDrive/Colab Notebooks/SLDS/Data/gridsearch_results.csv\"\n",
    "    !rm -f \"/content/drive/MyDrive/Colab Notebooks/SLDS/Data/gridsearch_segments.csv\"\n",
    "    !echo \"Reset done.\""
   ]
  },
  {
   "cell_type": "code",
   "execution_count": 9,
   "id": "25a07c9a-2391-44b4-b262-7041049ff74c",
   "metadata": {},
   "outputs": [],
   "source": [
    "if IN_COLAB:\n",
    "    !pip -q install -U \"cupy-cuda12x>=13.0.0\"\n",
    "    !pip -q install -U cvxpy clarabel"
   ]
  },
  {
   "cell_type": "code",
   "execution_count": 10,
   "id": "c058756c-7cd1-4692-82e1-dad06bdd4b67",
   "metadata": {},
   "outputs": [],
   "source": [
    "if IN_COLAB:\n",
    "    import cupy as cp\n",
    "    assert cp.cuda.runtime.getDeviceCount() > 0\n",
    "    print(cp.cuda.runtime.getDeviceProperties(0)['name'])"
   ]
  },
  {
   "cell_type": "code",
   "execution_count": 11,
   "id": "8f1017d1-2f8c-4bbd-bfb1-02913d37990d",
   "metadata": {},
   "outputs": [
    {
     "name": "stdout",
     "output_type": "stream",
     "text": [
      "GPU=False\n",
      "cvxpy: 1.5.3 | clarabel available? True\n",
      "\n"
     ]
    }
   ],
   "source": [
    "import numpy as np\n",
    "import pandas as pd\n",
    "import matplotlib.pyplot as plt\n",
    "import itertools, warnings, os\n",
    "from dro import *\n",
    "\n",
    "# import warnings\n",
    "# warnings.filterwarnings(\"ignore\", message=r\"Argument (sub|subj) .* Incorrect array format causing data to be copied\")\n",
    "# pd.set_option('future.no_silent_downcasting', True)"
   ]
  },
  {
   "cell_type": "code",
   "execution_count": 12,
   "id": "02b6377d-fd20-47e2-8a95-c0dae09afa62",
   "metadata": {},
   "outputs": [],
   "source": [
    "# paths\n",
    "\n",
    "res = \"gridsearch_results1\"\n",
    "par = \"gridsearch_segments1\"\n",
    "\n",
    "COLAB_PATHS = {\n",
    "    \"data_excel\": \"/content/drive/MyDrive/Colab Notebooks/SLDS/Data/bbg_data.xlsx\",  # Google Drive\n",
    "    \"results_csv\": f\"/content/drive/MyDrive/Colab Notebooks/SLDS/Out/{res}.csv\",            # Google Drive\n",
    "    \"segments_parquet\": f\"/content/drive/MyDrive/Colab Notebooks/SLDS/Out/{par}.parquet\",  # Google Drive\n",
    "    \"dro_pickle\": \"/content/drive/MyDrive/Colab Notebooks/SLDS/Out/dro_run.pkl.gz\"\n",
    "}\n",
    "\n",
    "LOCAL_PATHS = {\n",
    "    \"data_excel\": \"/Users/chrismader/Python/SLDS/Data/bbg_data.xlsx\",\n",
    "    \"results_csv\": f\"/Users/chrismader/Python/SLDS/Output/{res}.csv\",\n",
    "    \"segments_parquet\": f\"/Users/chrismader/Python/SLDS/Output/{par}.parquet\",\n",
    "    \"dro_pickle\": \"/Users/chrismader/Python/SLDS/Output/dro_run.pkl.gz\"\n",
    "}"
   ]
  },
  {
   "cell_type": "code",
   "execution_count": 13,
   "id": "bc089055-a415-4653-8c80-d04fec68cd5d",
   "metadata": {},
   "outputs": [],
   "source": [
    "# -------------------------\n",
    "# CONFIG\n",
    "# -------------------------\n",
    "\n",
    "CONFIG = {\n",
    "    # rSLDS model preferences\n",
    "    \"prefer_configs\": [\n",
    "        # {'config': '[g,v,h]',        'n_regimes': 3, 'dim_latent': 2},\n",
    "        # {'config': '[g,v]',          'n_regimes': 3, 'dim_latent': 2},\n",
    "        # {'config': '[y,g,v,h]',      'n_regimes': 3, 'dim_latent': 3},\n",
    "        # {'config': '[y,h]',          'n_regimes': 3, 'dim_latent': 2},\n",
    "        # {'config': '[y]',            'n_regimes': 3, 'dim_latent': 1},\n",
    "        # {'config': 'factor1',        'n_regimes': 3, 'dim_latent': 2},\n",
    "        # {'config': 'factor1_vix',    'n_regimes': 3, 'dim_latent': 3},\n",
    "        {'config': 'factor2_ff3',    'n_regimes': 3, 'dim_latent': 3},\n",
    "        # {'config': 'factor2_ff3mom', 'n_regimes': 3, 'dim_latent': 4},\n",
    "        # {'config': 'factor2_ff5',    'n_regimes': 3, 'dim_latent': 5},\n",
    "        # {'config': 'factor2_ff5mom', 'n_regimes': 3, 'dim_latent': 6},\n",
    "        # {'config': 'fund1',          'n_regimes': 3, 'dim_latent': 2},\n",
    "        # {'config': 'fund1_vix',      'n_regimes': 3, 'dim_latent': 3},\n",
    "        # {'config': 'fund2',          'n_regimes': 3, 'dim_latent': 2},\n",
    "        # {'config': 'fund2_vix',      'n_regimes': 3, 'dim_latent': 3},\n",
    "        # {'config': 'fund3',          'n_regimes': 3, 'dim_latent': 2},\n",
    "        # {'config': 'fund3_vix',      'n_regimes': 3, 'dim_latent': 3},\n",
    "    ],\n",
    "\n",
    "    # Optimizer\n",
    "    \"seed\": None,\n",
    "    \"start_dt\": None,\n",
    "    \"end_dt\": None,\n",
    "    \"min_assets\": 3,\n",
    "    \"GLOBAL\": {\"risk_budget\": 0.30, \"risk_free_rate\": 0.0, \"epsilon_sigma\": 1e-6},\n",
    "    \"delta_name\": \"bootstrap_gaussian\",\n",
    "\n",
    "    # Delta defaults (flat under CONFIG)\n",
    "    \"delta_defaults\": {\n",
    "        \"kappa_l2\":           {\"delta_method\": \"kappa_l2\",           \"kappa\": 1.0},\n",
    "        \"kappa_rate\":         {\"delta_method\": \"kappa_rate\",         \"kappa\": 1.0},\n",
    "        \"bound_ek\":           {\"delta_method\": \"bound_ek\",           \"alpha\": 0.05, \"c1\": 3.0, \"c2\": 1.0, \"a\": 2.0},\n",
    "        \"bootstrap_np\":       {\"delta_method\": \"bootstrap_np\",       \"alpha\": 0.05, \"B\": 100, \"seed\": 0},\n",
    "        \"bootstrap_gaussian\": {\"delta_method\": \"bootstrap_gaussian\", \"alpha\": 0.05, \"B\": 100, \"seed\": 0},\n",
    "    },}\n",
    "\n",
    "PATHS = COLAB_PATHS if IN_COLAB else LOCAL_PATHS\n",
    "for k, v in PATHS.items(): \n",
    "    CONFIG[k] = v\n"
   ]
  },
  {
   "cell_type": "code",
   "execution_count": 14,
   "id": "3a61ed89-6a80-4b31-bcf0-6fe577869f31",
   "metadata": {},
   "outputs": [
    {
     "name": "stdout",
     "output_type": "stream",
     "text": [
      "[AAPL] raw segments: [0, 1308, 1569, 1831, 2092, 2353, 2613, 2734, 2735, 2833, 2834, 2835, 2875, 2893, 2923, 2957, 2967, 3079, 3105, 3137, 3400, 3463, 3464, 3521]\n",
      "[ACN] raw segments: [0, 1308, 1569, 1831, 2092, 2353, 2367, 2370, 2388, 2389, 2391, 2442, 2443, 2587, 2588, 2613, 2834, 2835, 2893, 2897, 2919, 2923, 2958, 2964, 3080, 3096, 3137, 3400, 3463, 3464, 3521]\n",
      "[ADBE] raw segments: [0, 1308, 1569, 1831, 2353, 2613, 3137, 3209, 3255, 3273, 3283, 3284, 3287, 3383, 3400, 3463, 3464, 3521]\n",
      "[AMAT] raw segments: [0, 1308, 1831, 2125, 2127, 2128, 2130, 2135, 2137, 2138, 2141, 2144, 2147, 2148, 2149, 2155, 2156, 2166, 2167, 2875, 3137, 3272, 3274, 3277, 3279, 3285, 3287, 3308, 3352, 3355, 3382, 3384, 3521]\n",
      "[AMD] raw segments: [0, 1308, 1569, 2092, 2140, 2141, 2148, 2150, 2353, 2613, 3209, 3273, 3283, 3284, 3285, 3384, 3400, 3463, 3464, 3521]\n",
      "[AMZN] raw segments: [0, 1569, 1831, 2135, 2137, 2138, 2142, 2367, 2372, 2388, 2391, 2442, 2445, 2490, 2492, 2535, 2537, 2589, 2613, 2875, 3137, 3209, 3242, 3273, 3283, 3284, 3287, 3383, 3462, 3464, 3521]\n",
      "[AVGO] raw segments: [0, 1569, 2092, 2125, 2131, 2132, 2138, 2140, 2142, 2144, 2147, 2148, 2149, 2152, 2154, 2155, 2156, 2166, 2168, 2174, 2175, 2182, 2183, 2203, 2205, 2212, 2213, 2268, 2302, 2303, 2353, 2367, 2373, 2388, 2396, 2442, 2445, 2541, 2543, 2594, 2612, 2875, 3137, 3400, 3521]\n",
      "[BKNG] raw segments: [0, 1308, 1831, 2092, 2125, 2127, 2128, 2130, 2135, 2137, 2138, 2140, 2141, 2142, 2144, 2147, 2148, 2149, 2155, 2156, 2166, 2167, 2174, 2175, 2302, 2303, 2353, 2613, 2834, 2835, 2875, 2893, 2923, 2957, 2967, 3033, 3117, 3137, 3400, 3463, 3464, 3521]\n",
      "[COST] raw segments: [0, 1308, 1569, 2092, 2125, 2127, 2128, 2131, 2135, 2137, 2138, 2142, 2146, 2147, 2148, 2149, 2155, 2156, 2166, 2167, 2302, 2303, 2613, 2875, 3137, 3400, 3463, 3464, 3521]\n",
      "[CRM] raw segments: [0, 1569, 1831, 2092, 2125, 2127, 2128, 2131, 2135, 2137, 2138, 2140, 2141, 2142, 2146, 2147, 2148, 2149, 2155, 2156, 2194, 2203, 2204, 2214, 2224, 2263, 2274, 2302, 2303, 2353, 2367, 2368, 2388, 2390, 2392, 2396, 2437, 2440, 2442, 2444, 2541, 2544, 2585, 2587, 2590, 2612, 2875, 3137, 3209, 3245, 3273, 3283, 3284, 3288, 3383, 3400, 3521]\n",
      "[CSCO] raw segments: [0, 1308, 1569, 1831, 2092, 2135, 2136, 2138, 2142, 2875, 2893, 2923, 2957, 2967, 3059, 3113, 3137, 3400, 3463, 3464, 3521]\n",
      "[DIS] raw segments: [0, 1308, 1831, 2092, 2125, 2131, 2132, 2142, 2144, 2149, 2152, 2154, 2155, 2156, 2161, 2162, 2166, 2168, 2174, 2176, 2181, 2183, 2203, 2205, 2212, 2214, 2268, 2302, 2304, 2353, 2613, 2834, 2835, 2920, 2924, 3400, 3463, 3464, 3521]\n",
      "[GOOGL] raw segments: [0, 1569, 1831, 2092, 2105, 2107, 2125, 2149, 2150, 2154, 2155, 2165, 2166, 2168, 2172, 2173, 2174, 2178, 2181, 2184, 2203, 2205, 2212, 2216, 2263, 2269, 2277, 2279, 2300, 2304, 2353, 2388, 2389, 2392, 2395, 2437, 2439, 2541, 2543, 2612, 2613, 3353, 3354, 3400, 3463, 3464, 3521]\n",
      "[HD] raw segments: [0, 1308, 1569, 1831, 2177, 2180, 2353, 2613, 2630, 2632, 2648, 2650, 2691, 2692, 2698, 2699, 2700, 2701, 2707, 2708, 2725, 2726, 2728, 2732, 2733, 2735, 2779, 2780, 2791, 2792, 2809, 2810, 2833, 2834, 2835, 2875, 2920, 2925, 3137, 3521]\n",
      "[IBM] raw segments: [0, 1308, 1569, 2092, 2125, 2147, 2148, 2156, 2157, 2178, 2182, 2203, 2208, 2212, 2218, 2263, 2272, 2277, 2281, 2302, 2311, 2353, 2367, 2370, 2388, 2391, 2393, 2395, 2397, 2437, 2440, 2442, 2444, 2490, 2492, 2588, 2612, 2613, 2629, 2630, 2638, 2639, 2648, 2654, 2657, 2659, 2661, 2662, 2666, 2677, 2691, 2699, 2703, 2714, 2719, 2723, 2728, 2733, 2751, 2753, 2757, 2759, 2768, 2775, 2803, 2804, 2805, 2806, 2815, 2818, 2833, 2834, 2847, 2851, 2874, 2875, 3400, 3521]\n",
      "[INTU] raw segments: [0, 1569, 1831, 2092, 2125, 2129, 2135, 2137, 2138, 2140, 2141, 2142, 2146, 2147, 2148, 2149, 2152, 2153, 2155, 2156, 2353, 2367, 2370, 2373, 2388, 2391, 2393, 2395, 2403, 2405, 2442, 2444, 2446, 2490, 2492, 2535, 2537, 2589, 2590, 2591, 2593, 2612, 2613, 2875, 3137, 3209, 3234, 3273, 3283, 3284, 3287, 3383, 3463, 3464, 3521]\n",
      "[KO] raw segments: [0, 1569, 1831, 2092, 2125, 2127, 2128, 2131, 2135, 2137, 2138, 2141, 2145, 2147, 2148, 2149, 2152, 2153, 2156, 2161, 2613, 2725, 2726, 2791, 2792, 2833, 2835, 2875, 3137, 3209, 3257, 3273, 3283, 3284, 3288, 3383, 3463, 3464, 3521]\n",
      "[MCD] raw segments: [0, 1569, 2092, 2139, 2140, 2353, 2367, 2368, 2389, 2394, 2541, 2543, 2587, 2588, 2612, 2613, 2875, 2920, 2923, 3137, 3209, 3259, 3273, 3283, 3284, 3288, 3383, 3400, 3521]\n",
      "[META] raw segments: [0, 1929, 2451, 2691, 2692, 2707, 2708, 2711, 2719, 2723, 2728, 2734, 2751, 2753, 2757, 2759, 2767, 2775, 2803, 2804, 2805, 2806, 2814, 2816, 2833, 2834, 2837, 2851, 2874, 2893, 2923, 2957, 2967, 2973, 3285, 3287, 3458, 3461, 3462, 3465, 3499, 3521]\n",
      "[MSFT] raw segments: [0, 1308, 1569, 1831, 2092, 2125, 2127, 2135, 2136, 2138, 2139, 2146, 2147, 2353, 2396, 2397, 2613, 2834, 2835, 3137, 3400, 3521]\n",
      "[NFLX] raw segments: [0, 1308, 1569, 1831, 2092, 2139, 2140, 2142, 2143, 2149, 2150, 2353, 2390, 2391, 2587, 2588, 2613, 2834, 2835, 2875, 3137, 3463, 3464, 3521]\n",
      "[NOW] raw segments: [0, 1960, 2221, 2725, 2726, 2743, 3005, 3267, 3521]\n",
      "[NVDA] raw segments: [0, 1569, 2125, 2127, 2128, 2130, 2135, 2137, 2138, 2142, 2146, 2147, 2148, 2149, 2155, 2156, 2166, 2167, 2302, 2303, 2588, 2613, 2725, 2726, 2834, 2835, 2875, 3287, 3288, 3400, 3463, 3464, 3521]\n",
      "[ORCL] raw segments: [0, 1308, 2092, 2125, 2141, 2142, 2147, 2148, 2156, 2157, 2180, 2182, 2203, 2208, 2212, 2218, 2263, 2272, 2277, 2282, 2302, 2311, 2353, 2367, 2371, 2388, 2391, 2396, 2442, 2444, 2541, 2543, 2589, 2590, 2612, 2875, 2893, 2923, 2957, 2967, 3079, 3101, 3137, 3209, 3269, 3273, 3283, 3284, 3287, 3383, 3400, 3463, 3464, 3521]\n",
      "[PG] raw segments: [0, 1308, 2092, 2125, 2127, 2135, 2137, 2138, 2139, 2140, 2141, 2142, 2146, 2147, 2148, 2149, 2155, 2156, 2393, 2397, 2541, 2546, 2612, 2613, 2875, 3137, 3463, 3464, 3521]\n",
      "[PLTR] raw segments: [0, 3521]\n",
      "[PM] raw segments: [0, 1308, 1569, 1831, 2092, 2125, 2133, 2135, 2142, 2146, 2147, 2148, 2149, 2152, 2154, 2155, 2156, 2166, 2168, 2174, 2176, 2203, 2205, 2302, 2304, 2353, 2389, 2391, 2392, 2395, 2442, 2470, 2541, 2546, 2587, 2589, 2592, 2601, 2612, 2613, 2875, 2920, 2925, 3137, 3463, 3464, 3521]\n",
      "[QCOM] raw segments: [0, 1308, 1831, 2092, 2138, 2139, 2140, 2141, 2142, 2353, 2613, 2629, 2630, 2638, 2639, 2648, 2655, 2657, 2659, 2661, 2662, 2666, 2677, 2687, 2689, 2691, 2699, 2703, 2708, 2719, 2723, 2728, 2734, 2751, 2753, 2757, 2758, 2767, 2775, 2803, 2804, 2805, 2806, 2814, 2816, 2833, 2834, 2835, 2841, 2851, 2874, 2875, 2893, 2923, 2958, 2967, 3083, 3096, 3400, 3521]\n",
      "[T] raw segments: [0, 1569, 1831, 2092, 2125, 2138, 2142, 2147, 2148, 2156, 2157, 2180, 2185, 2194, 2203, 2209, 2212, 2223, 2263, 2274, 2277, 2283, 2287, 2291, 2302, 2312, 2353, 2389, 2391, 2392, 2395, 2541, 2546, 2587, 2589, 2592, 2598, 2893, 2923, 2957, 2981, 3033, 3117, 3137, 3400, 3521]\n",
      "[TSLA] raw segments: [0, 1308, 1569, 2092, 2125, 2131, 2135, 2142, 2144, 2147, 2148, 2149, 2152, 2154, 2155, 2156, 2161, 2166, 2167, 2174, 2176, 2203, 2205, 2267, 2302, 2303, 2353, 2354, 2385, 2386, 2394, 2397, 2436, 2439, 2540, 2543, 2580, 2582, 2589, 2590, 2611, 2613, 2648, 2650, 2875, 3137, 3400, 3521]\n",
      "[TXN] raw segments: [0, 1308, 1569, 1831, 2125, 2127, 2128, 2131, 2135, 2137, 2138, 2142, 2146, 2147, 2148, 2149, 2155, 2156, 2166, 2167, 2203, 2205, 2302, 2303, 2353, 2613, 2875, 3137, 3209, 3250, 3273, 3283, 3284, 3285, 3286, 3288, 3383, 3400, 3459, 3460, 3463, 3464, 3521]\n",
      "[VZ] raw segments: [0, 1308, 1569, 1831, 2092, 2138, 2140, 2141, 2142, 2146, 2147, 2148, 2149, 2353, 2392, 2395, 2541, 2546, 2587, 2589, 2592, 2601, 2612, 2834, 2835, 2875, 3400, 3463, 3464, 3521]\n",
      "[WMT] raw segments: [0, 1569, 1831, 2105, 2107, 2125, 2131, 2132, 2140, 2141, 2142, 2143, 2144, 2149, 2150, 2151, 2152, 2154, 2155, 2156, 2157, 2158, 2161, 2164, 2166, 2168, 2174, 2176, 2177, 2181, 2184, 2188, 2203, 2205, 2212, 2216, 2217, 2263, 2268, 2270, 2277, 2279, 2302, 2304, 2306, 2307, 2308, 2309, 2313, 2353, 2369, 2374, 2392, 2400, 2490, 2491, 2612, 2613, 2626, 2627, 2630, 2632, 2633, 2634, 2648, 2650, 2655, 2656, 2661, 2665, 2689, 2692, 2694, 2695, 2698, 2699, 2700, 2701, 2702, 2703, 2704, 2706, 2707, 2708, 2724, 2726, 2728, 2735, 2779, 2780, 2791, 2792, 2809, 2810, 2815, 2817, 2827, 2828, 2833, 2834, 2847, 2848, 2858, 2859, 2893, 2923, 2957, 2967, 3079, 3108, 3137, 3400, 3459, 3461, 3521]\n",
      "\n",
      "[UNION] segments: [0, 1308, 1569, 1831, 1929, 1960, 2092, 2105, 2107, 2125, 2127, 2128, 2129, 2130, 2131, 2132, 2133, 2135, 2136, 2137, 2138, 2139, 2140, 2141, 2142, 2143, 2144, 2145, 2146, 2147, 2148, 2149, 2150, 2151, 2152, 2153, 2154, 2155, 2156, 2157, 2158, 2161, 2162, 2164, 2165, 2166, 2167, 2168, 2172, 2173, 2174, 2175, 2176, 2177, 2178, 2180, 2181, 2182, 2183, 2184, 2185, 2188, 2194, 2203, 2204, 2205, 2208, 2209, 2212, 2213, 2214, 2216, 2217, 2218, 2221, 2223, 2224, 2263, 2267, 2268, 2269, 2270, 2272, 2274, 2277, 2279, 2281, 2282, 2283, 2287, 2291, 2300, 2302, 2303, 2304, 2306, 2307, 2308, 2309, 2311, 2312, 2313, 2353, 2354, 2367, 2368, 2369, 2370, 2371, 2372, 2373, 2374, 2385, 2386, 2388, 2389, 2390, 2391, 2392, 2393, 2394, 2395, 2396, 2397, 2400, 2403, 2405, 2436, 2437, 2439, 2440, 2442, 2443, 2444, 2445, 2446, 2451, 2470, 2490, 2491, 2492, 2535, 2537, 2540, 2541, 2543, 2544, 2546, 2580, 2582, 2585, 2587, 2588, 2589, 2590, 2591, 2592, 2593, 2594, 2598, 2601, 2611, 2612, 2613, 2626, 2627, 2629, 2630, 2632, 2633, 2634, 2638, 2639, 2648, 2650, 2654, 2655, 2656, 2657, 2659, 2661, 2662, 2665, 2666, 2677, 2687, 2689, 2691, 2692, 2694, 2695, 2698, 2699, 2700, 2701, 2702, 2703, 2704, 2706, 2707, 2708, 2711, 2714, 2719, 2723, 2724, 2725, 2726, 2728, 2732, 2733, 2734, 2735, 2743, 2751, 2753, 2757, 2758, 2759, 2767, 2768, 2775, 2779, 2780, 2791, 2792, 2803, 2804, 2805, 2806, 2809, 2810, 2814, 2815, 2816, 2817, 2818, 2827, 2828, 2833, 2834, 2835, 2837, 2841, 2847, 2848, 2851, 2858, 2859, 2874, 2875, 2893, 2897, 2919, 2920, 2923, 2924, 2925, 2957, 2958, 2964, 2967, 2973, 2981, 3005, 3033, 3059, 3079, 3080, 3083, 3096, 3101, 3105, 3108, 3113, 3117, 3137, 3209, 3234, 3242, 3245, 3250, 3255, 3257, 3259, 3267, 3269, 3272, 3273, 3274, 3277, 3279, 3283, 3284, 3285, 3286, 3287, 3288, 3308, 3352, 3353, 3354, 3355, 3382, 3383, 3384, 3400, 3458, 3459, 3460, 3461, 3462, 3463, 3464, 3465, 3499, 3521]\n",
      "[t=0 | 2012-01-02] active: []\n",
      "[WARN][t=0 | 2012-01-02] only 0 active assets (<3).\n",
      "[t=1308 | 2017-01-05] active: ['AAPL', 'ACN', 'ADBE', 'AMAT', 'AMD', 'AMZN', 'AVGO', 'BKNG', 'COST', 'CRM', 'CSCO', 'DIS', 'GOOGL', 'HD', 'IBM', 'INTU', 'KO', 'MCD', 'META', 'MSFT', 'NFLX', 'NOW', 'NVDA', 'ORCL', 'PG', 'PM', 'QCOM', 'T', 'TSLA', 'TXN', 'VZ', 'WMT']\n",
      "Error in LDL factorization when computing the nonzero elements. The problem seems to be non-convex.\n",
      "factor_status: 1, num_vars: 34\n",
      "Error in LDL initial factorization.\n",
      "ERROR: init_lin_sys_work failure\n"
     ]
    },
    {
     "ename": "ValueError",
     "evalue": "ScsWork allocation error!",
     "output_type": "error",
     "traceback": [
      "\u001b[0;31m---------------------------------------------------------------------------\u001b[0m",
      "\u001b[0;31mValueError\u001b[0m                                Traceback (most recent call last)",
      "Cell \u001b[0;32mIn[14], line 10\u001b[0m\n\u001b[1;32m      1\u001b[0m \u001b[38;5;66;03m# -------------------------\u001b[39;00m\n\u001b[1;32m      2\u001b[0m \u001b[38;5;66;03m# Execute\u001b[39;00m\n\u001b[1;32m      3\u001b[0m \u001b[38;5;66;03m# -------------------------\u001b[39;00m\n\u001b[0;32m   (...)\u001b[0m\n\u001b[1;32m      6\u001b[0m \u001b[38;5;66;03m# securities = list(res[\"Ticker\"].unique())\u001b[39;00m\n\u001b[1;32m      7\u001b[0m \u001b[38;5;66;03m# securities = ['NVDA', 'AAPL', 'AVGO', 'GOOGL', 'ORCL', 'IBM', 'CSCO', 'CRM']\u001b[39;00m\n\u001b[1;32m      8\u001b[0m securities \u001b[38;5;241m=\u001b[39m \u001b[38;5;28;01mNone\u001b[39;00m\n\u001b[0;32m---> 10\u001b[0m out \u001b[38;5;241m=\u001b[39m dro_pipeline(securities, CONFIG, verbose\u001b[38;5;241m=\u001b[39m\u001b[38;5;28;01mTrue\u001b[39;00m)\n",
      "File \u001b[0;32m~/Python/SLDS/dro.py:1652\u001b[0m, in \u001b[0;36mdro_pipeline\u001b[0;34m(securities, CONFIG, verbose)\u001b[0m\n\u001b[1;32m   1649\u001b[0m paramsR \u001b[38;5;241m=\u001b[39m \u001b[38;5;28mdict\u001b[39m(CONFIG[\u001b[38;5;124m\"\u001b[39m\u001b[38;5;124mdelta_defaults\u001b[39m\u001b[38;5;124m\"\u001b[39m][CONFIG[\u001b[38;5;124m\"\u001b[39m\u001b[38;5;124mdelta_name\u001b[39m\u001b[38;5;124m\"\u001b[39m]])\n\u001b[1;32m   1650\u001b[0m paramsR[\u001b[38;5;124m\"\u001b[39m\u001b[38;5;124muse_moments_override\u001b[39m\u001b[38;5;124m\"\u001b[39m] \u001b[38;5;241m=\u001b[39m \u001b[38;5;28;01mTrue\u001b[39;00m\n\u001b[0;32m-> 1652\u001b[0m fit_k \u001b[38;5;241m=\u001b[39m fit_dro(data_k, paramsR, CONFIG[\u001b[38;5;124m\"\u001b[39m\u001b[38;5;124mGLOBAL\u001b[39m\u001b[38;5;124m\"\u001b[39m])\n\u001b[1;32m   1653\u001b[0m w_sub \u001b[38;5;241m=\u001b[39m xp\u001b[38;5;241m.\u001b[39masarray(fit_k[\u001b[38;5;124m\"\u001b[39m\u001b[38;5;124mw\u001b[39m\u001b[38;5;124m\"\u001b[39m])\u001b[38;5;241m.\u001b[39mreshape(\u001b[38;5;241m-\u001b[39m\u001b[38;5;241m1\u001b[39m)\n\u001b[1;32m   1654\u001b[0m delta_k \u001b[38;5;241m=\u001b[39m \u001b[38;5;28mfloat\u001b[39m(fit_k\u001b[38;5;241m.\u001b[39mget(\u001b[38;5;124m\"\u001b[39m\u001b[38;5;124mdelta\u001b[39m\u001b[38;5;124m\"\u001b[39m, xp\u001b[38;5;241m.\u001b[39mnan))\n",
      "File \u001b[0;32m~/Python/SLDS/dro.py:499\u001b[0m, in \u001b[0;36mfit_dro\u001b[0;34m(data, params, G)\u001b[0m\n\u001b[1;32m    496\u001b[0m \u001b[38;5;28;01mdef\u001b[39;00m \u001b[38;5;21mfit_dro\u001b[39m(data, params, G):\n\u001b[1;32m    497\u001b[0m     delta \u001b[38;5;241m=\u001b[39m compute_delta(params\u001b[38;5;241m.\u001b[39mget(\u001b[38;5;124m\"\u001b[39m\u001b[38;5;124mkappa\u001b[39m\u001b[38;5;124m\"\u001b[39m, \u001b[38;5;241m1.0\u001b[39m),\n\u001b[1;32m    498\u001b[0m                           data[\u001b[38;5;124m\"\u001b[39m\u001b[38;5;124mmu_ann_full\u001b[39m\u001b[38;5;124m\"\u001b[39m], data[\u001b[38;5;124m\"\u001b[39m\u001b[38;5;124mSigma_ann_full\u001b[39m\u001b[38;5;124m\"\u001b[39m], data[\u001b[38;5;124m\"\u001b[39m\u001b[38;5;124mtrain\u001b[39m\u001b[38;5;124m\"\u001b[39m], params)\n\u001b[0;32m--> 499\u001b[0m     w \u001b[38;5;241m=\u001b[39m solve_optimizer(data[\u001b[38;5;124m\"\u001b[39m\u001b[38;5;124mmu_ann_full\u001b[39m\u001b[38;5;124m\"\u001b[39m], data[\u001b[38;5;124m\"\u001b[39m\u001b[38;5;124mSigma_ann_full\u001b[39m\u001b[38;5;124m\"\u001b[39m], delta,\n\u001b[1;32m    500\u001b[0m                         {\u001b[38;5;124m\"\u001b[39m\u001b[38;5;124mrisk_budget\u001b[39m\u001b[38;5;124m\"\u001b[39m: G[\u001b[38;5;124m\"\u001b[39m\u001b[38;5;124mrisk_budget\u001b[39m\u001b[38;5;124m\"\u001b[39m], \u001b[38;5;124m\"\u001b[39m\u001b[38;5;124mepsilon_sigma\u001b[39m\u001b[38;5;124m\"\u001b[39m: G[\u001b[38;5;124m\"\u001b[39m\u001b[38;5;124mepsilon_sigma\u001b[39m\u001b[38;5;124m\"\u001b[39m]})\n\u001b[1;32m    501\u001b[0m     \u001b[38;5;28;01mreturn\u001b[39;00m {\u001b[38;5;124m\"\u001b[39m\u001b[38;5;124mtype\u001b[39m\u001b[38;5;124m\"\u001b[39m: \u001b[38;5;124m\"\u001b[39m\u001b[38;5;124mstatic\u001b[39m\u001b[38;5;124m\"\u001b[39m, \u001b[38;5;124m\"\u001b[39m\u001b[38;5;124mw\u001b[39m\u001b[38;5;124m\"\u001b[39m: w, \u001b[38;5;124m\"\u001b[39m\u001b[38;5;124mkappa\u001b[39m\u001b[38;5;124m\"\u001b[39m: params\u001b[38;5;241m.\u001b[39mget(\u001b[38;5;124m\"\u001b[39m\u001b[38;5;124mkappa\u001b[39m\u001b[38;5;124m\"\u001b[39m, xp\u001b[38;5;241m.\u001b[39mnan), \u001b[38;5;124m\"\u001b[39m\u001b[38;5;124mdelta\u001b[39m\u001b[38;5;124m\"\u001b[39m: \u001b[38;5;28mfloat\u001b[39m(delta)}\n",
      "File \u001b[0;32m~/Python/SLDS/dro.py:470\u001b[0m, in \u001b[0;36msolve_optimizer\u001b[0;34m(mu, Sigma, delta, config, verbose)\u001b[0m\n\u001b[1;32m    468\u001b[0m \u001b[38;5;66;03m# Fallback: SCS (robust for SOCP), tuned for accuracy\u001b[39;00m\n\u001b[1;32m    469\u001b[0m \u001b[38;5;28;01mif\u001b[39;00m (w\u001b[38;5;241m.\u001b[39mvalue \u001b[38;5;129;01mis\u001b[39;00m \u001b[38;5;28;01mNone\u001b[39;00m) \u001b[38;5;129;01mor\u001b[39;00m (prob\u001b[38;5;241m.\u001b[39mstatus \u001b[38;5;129;01mnot\u001b[39;00m \u001b[38;5;129;01min\u001b[39;00m (cp\u001b[38;5;241m.\u001b[39mOPTIMAL, cp\u001b[38;5;241m.\u001b[39mOPTIMAL_INACCURATE)):\n\u001b[0;32m--> 470\u001b[0m     prob\u001b[38;5;241m.\u001b[39msolve(\n\u001b[1;32m    471\u001b[0m         solver\u001b[38;5;241m=\u001b[39mcp\u001b[38;5;241m.\u001b[39mSCS,\n\u001b[1;32m    472\u001b[0m         verbose\u001b[38;5;241m=\u001b[39mverbose,\n\u001b[1;32m    473\u001b[0m         max_iters\u001b[38;5;241m=\u001b[39m\u001b[38;5;241m40000\u001b[39m,\n\u001b[1;32m    474\u001b[0m         eps\u001b[38;5;241m=\u001b[39m\u001b[38;5;241m1e-5\u001b[39m,\n\u001b[1;32m    475\u001b[0m         acceleration_lookback\u001b[38;5;241m=\u001b[39m\u001b[38;5;241m20\u001b[39m,\n\u001b[1;32m    476\u001b[0m         scale\u001b[38;5;241m=\u001b[39m\u001b[38;5;241m0.8\u001b[39m,\n\u001b[1;32m    477\u001b[0m     )\n\u001b[1;32m    479\u001b[0m \u001b[38;5;66;03m# Final guard\u001b[39;00m\n\u001b[1;32m    480\u001b[0m \u001b[38;5;28;01mif\u001b[39;00m (w\u001b[38;5;241m.\u001b[39mvalue \u001b[38;5;129;01mis\u001b[39;00m \u001b[38;5;28;01mNone\u001b[39;00m) \u001b[38;5;129;01mor\u001b[39;00m (prob\u001b[38;5;241m.\u001b[39mstatus \u001b[38;5;129;01mnot\u001b[39;00m \u001b[38;5;129;01min\u001b[39;00m (cp\u001b[38;5;241m.\u001b[39mOPTIMAL, cp\u001b[38;5;241m.\u001b[39mOPTIMAL_INACCURATE)):\n",
      "File \u001b[0;32m/opt/anaconda3/lib/python3.12/site-packages/cvxpy/problems/problem.py:503\u001b[0m, in \u001b[0;36mProblem.solve\u001b[0;34m(self, *args, **kwargs)\u001b[0m\n\u001b[1;32m    501\u001b[0m \u001b[38;5;28;01melse\u001b[39;00m:\n\u001b[1;32m    502\u001b[0m     solve_func \u001b[38;5;241m=\u001b[39m Problem\u001b[38;5;241m.\u001b[39m_solve\n\u001b[0;32m--> 503\u001b[0m \u001b[38;5;28;01mreturn\u001b[39;00m solve_func(\u001b[38;5;28mself\u001b[39m, \u001b[38;5;241m*\u001b[39margs, \u001b[38;5;241m*\u001b[39m\u001b[38;5;241m*\u001b[39mkwargs)\n",
      "File \u001b[0;32m/opt/anaconda3/lib/python3.12/site-packages/cvxpy/problems/problem.py:1086\u001b[0m, in \u001b[0;36mProblem._solve\u001b[0;34m(self, solver, warm_start, verbose, gp, qcp, requires_grad, enforce_dpp, ignore_dpp, canon_backend, **kwargs)\u001b[0m\n\u001b[1;32m   1084\u001b[0m \u001b[38;5;28;01mif\u001b[39;00m solver_verbose \u001b[38;5;129;01mand\u001b[39;00m (\u001b[38;5;129;01mnot\u001b[39;00m verbose):\n\u001b[1;32m   1085\u001b[0m     \u001b[38;5;28mprint\u001b[39m(_NUM_SOLVER_STR)\n\u001b[0;32m-> 1086\u001b[0m solution \u001b[38;5;241m=\u001b[39m solving_chain\u001b[38;5;241m.\u001b[39msolve_via_data(\n\u001b[1;32m   1087\u001b[0m     \u001b[38;5;28mself\u001b[39m, data, warm_start, solver_verbose, kwargs)\n\u001b[1;32m   1088\u001b[0m end \u001b[38;5;241m=\u001b[39m time\u001b[38;5;241m.\u001b[39mtime()\n\u001b[1;32m   1089\u001b[0m \u001b[38;5;28mself\u001b[39m\u001b[38;5;241m.\u001b[39m_solve_time \u001b[38;5;241m=\u001b[39m end \u001b[38;5;241m-\u001b[39m start\n",
      "File \u001b[0;32m/opt/anaconda3/lib/python3.12/site-packages/cvxpy/reductions/solvers/solving_chain.py:475\u001b[0m, in \u001b[0;36mSolvingChain.solve_via_data\u001b[0;34m(self, problem, data, warm_start, verbose, solver_opts)\u001b[0m\n\u001b[1;32m    439\u001b[0m \u001b[38;5;28;01mdef\u001b[39;00m \u001b[38;5;21msolve_via_data\u001b[39m(\u001b[38;5;28mself\u001b[39m, problem, data, warm_start: \u001b[38;5;28mbool\u001b[39m \u001b[38;5;241m=\u001b[39m \u001b[38;5;28;01mFalse\u001b[39;00m, verbose: \u001b[38;5;28mbool\u001b[39m \u001b[38;5;241m=\u001b[39m \u001b[38;5;28;01mFalse\u001b[39;00m,\n\u001b[1;32m    440\u001b[0m                    solver_opts\u001b[38;5;241m=\u001b[39m{}):\n\u001b[1;32m    441\u001b[0m \u001b[38;5;250m    \u001b[39m\u001b[38;5;124;03m\"\"\"Solves the problem using the data output by the an apply invocation.\u001b[39;00m\n\u001b[1;32m    442\u001b[0m \n\u001b[1;32m    443\u001b[0m \u001b[38;5;124;03m    The semantics are:\u001b[39;00m\n\u001b[0;32m   (...)\u001b[0m\n\u001b[1;32m    473\u001b[0m \u001b[38;5;124;03m        a Solution object.\u001b[39;00m\n\u001b[1;32m    474\u001b[0m \u001b[38;5;124;03m    \"\"\"\u001b[39;00m\n\u001b[0;32m--> 475\u001b[0m     \u001b[38;5;28;01mreturn\u001b[39;00m \u001b[38;5;28mself\u001b[39m\u001b[38;5;241m.\u001b[39msolver\u001b[38;5;241m.\u001b[39msolve_via_data(data, warm_start, verbose,\n\u001b[1;32m    476\u001b[0m                                       solver_opts, problem\u001b[38;5;241m.\u001b[39m_solver_cache)\n",
      "File \u001b[0;32m/opt/anaconda3/lib/python3.12/site-packages/cvxpy/reductions/solvers/conic_solvers/scs_conif.py:342\u001b[0m, in \u001b[0;36mSCS.solve_via_data\u001b[0;34m(self, data, warm_start, verbose, solver_opts, solver_cache)\u001b[0m\n\u001b[1;32m    339\u001b[0m     \u001b[38;5;28;01mreturn\u001b[39;00m _results, _status\n\u001b[1;32m    341\u001b[0m solver_opts \u001b[38;5;241m=\u001b[39m SCS\u001b[38;5;241m.\u001b[39mparse_solver_options(solver_opts)\n\u001b[0;32m--> 342\u001b[0m results, status \u001b[38;5;241m=\u001b[39m solve(solver_opts)\n\u001b[1;32m    343\u001b[0m \u001b[38;5;28;01mif\u001b[39;00m (status \u001b[38;5;129;01min\u001b[39;00m s\u001b[38;5;241m.\u001b[39mINACCURATE \u001b[38;5;129;01mand\u001b[39;00m scs_version\u001b[38;5;241m.\u001b[39mmajor \u001b[38;5;241m==\u001b[39m \u001b[38;5;241m2\u001b[39m\n\u001b[1;32m    344\u001b[0m         \u001b[38;5;129;01mand\u001b[39;00m \u001b[38;5;124m\"\u001b[39m\u001b[38;5;124macceleration_lookback\u001b[39m\u001b[38;5;124m\"\u001b[39m \u001b[38;5;129;01mnot\u001b[39;00m \u001b[38;5;129;01min\u001b[39;00m solver_opts):\n\u001b[1;32m    345\u001b[0m     \u001b[38;5;28;01mimport\u001b[39;00m \u001b[38;5;21;01mwarnings\u001b[39;00m\n",
      "File \u001b[0;32m/opt/anaconda3/lib/python3.12/site-packages/cvxpy/reductions/solvers/conic_solvers/scs_conif.py:337\u001b[0m, in \u001b[0;36mSCS.solve_via_data.<locals>.solve\u001b[0;34m(_solver_opts)\u001b[0m\n\u001b[1;32m    335\u001b[0m     _status \u001b[38;5;241m=\u001b[39m \u001b[38;5;28mself\u001b[39m\u001b[38;5;241m.\u001b[39mSTATUS_MAP[_results[\u001b[38;5;124m\"\u001b[39m\u001b[38;5;124minfo\u001b[39m\u001b[38;5;124m\"\u001b[39m][\u001b[38;5;124m\"\u001b[39m\u001b[38;5;124mstatusVal\u001b[39m\u001b[38;5;124m\"\u001b[39m]]\n\u001b[1;32m    336\u001b[0m \u001b[38;5;28;01melse\u001b[39;00m:\n\u001b[0;32m--> 337\u001b[0m     _results \u001b[38;5;241m=\u001b[39m scs\u001b[38;5;241m.\u001b[39msolve(args, cones, verbose\u001b[38;5;241m=\u001b[39mverbose, \u001b[38;5;241m*\u001b[39m\u001b[38;5;241m*\u001b[39m_solver_opts)\n\u001b[1;32m    338\u001b[0m     _status \u001b[38;5;241m=\u001b[39m \u001b[38;5;28mself\u001b[39m\u001b[38;5;241m.\u001b[39mSTATUS_MAP[_results[\u001b[38;5;124m\"\u001b[39m\u001b[38;5;124minfo\u001b[39m\u001b[38;5;124m\"\u001b[39m][\u001b[38;5;124m\"\u001b[39m\u001b[38;5;124mstatus_val\u001b[39m\u001b[38;5;124m\"\u001b[39m]]\n\u001b[1;32m    339\u001b[0m \u001b[38;5;28;01mreturn\u001b[39;00m _results, _status\n",
      "File \u001b[0;32m/opt/anaconda3/lib/python3.12/site-packages/scs/__init__.py:177\u001b[0m, in \u001b[0;36msolve\u001b[0;34m(data, cone, **settings)\u001b[0m\n\u001b[1;32m    176\u001b[0m \u001b[38;5;28;01mdef\u001b[39;00m \u001b[38;5;21msolve\u001b[39m(data, cone, \u001b[38;5;241m*\u001b[39m\u001b[38;5;241m*\u001b[39msettings):\n\u001b[0;32m--> 177\u001b[0m     solver \u001b[38;5;241m=\u001b[39m SCS(data, cone, \u001b[38;5;241m*\u001b[39m\u001b[38;5;241m*\u001b[39msettings)\n\u001b[1;32m    179\u001b[0m     \u001b[38;5;66;03m# Hack out the warm start data from old API\u001b[39;00m\n\u001b[1;32m    180\u001b[0m     x \u001b[38;5;241m=\u001b[39m y \u001b[38;5;241m=\u001b[39m s \u001b[38;5;241m=\u001b[39m \u001b[38;5;28;01mNone\u001b[39;00m\n",
      "File \u001b[0;32m/opt/anaconda3/lib/python3.12/site-packages/scs/__init__.py:129\u001b[0m, in \u001b[0;36mSCS.__init__\u001b[0;34m(self, data, cone, **settings)\u001b[0m\n\u001b[1;32m    126\u001b[0m _scs \u001b[38;5;241m=\u001b[39m _select_scs_module(\u001b[38;5;28mself\u001b[39m\u001b[38;5;241m.\u001b[39m_settings)\n\u001b[1;32m    128\u001b[0m \u001b[38;5;66;03m# Initialize solver\u001b[39;00m\n\u001b[0;32m--> 129\u001b[0m \u001b[38;5;28mself\u001b[39m\u001b[38;5;241m.\u001b[39m_solver \u001b[38;5;241m=\u001b[39m _scs\u001b[38;5;241m.\u001b[39mSCS(\n\u001b[1;32m    130\u001b[0m     (m, n),\n\u001b[1;32m    131\u001b[0m     Adata,\n\u001b[1;32m    132\u001b[0m     Aindices,\n\u001b[1;32m    133\u001b[0m     Acolptr,\n\u001b[1;32m    134\u001b[0m     Pdata,\n\u001b[1;32m    135\u001b[0m     Pindices,\n\u001b[1;32m    136\u001b[0m     Pcolptr,\n\u001b[1;32m    137\u001b[0m     b,\n\u001b[1;32m    138\u001b[0m     c,\n\u001b[1;32m    139\u001b[0m     cone,\n\u001b[1;32m    140\u001b[0m     \u001b[38;5;241m*\u001b[39m\u001b[38;5;241m*\u001b[39m\u001b[38;5;28mself\u001b[39m\u001b[38;5;241m.\u001b[39m_settings\n\u001b[1;32m    141\u001b[0m )\n",
      "\u001b[0;31mValueError\u001b[0m: ScsWork allocation error!"
     ]
    }
   ],
   "source": [
    "# -------------------------\n",
    "# Execute\n",
    "# -------------------------\n",
    "\n",
    "# res = pd.read_excel(CONFIG[\"data_excel\"])\n",
    "# securities = list(res[\"Ticker\"].unique())\n",
    "# securities = ['NVDA', 'AAPL', 'AVGO', 'GOOGL', 'ORCL', 'IBM', 'CSCO', 'CRM']\n",
    "securities = None\n",
    "\n",
    "out = dro_pipeline(securities, CONFIG, verbose=True)\n"
   ]
  }
 ],
 "metadata": {
  "kernelspec": {
   "display_name": "Python [conda env:base] *",
   "language": "python",
   "name": "conda-base-py"
  },
  "language_info": {
   "codemirror_mode": {
    "name": "ipython",
    "version": 3
   },
   "file_extension": ".py",
   "mimetype": "text/x-python",
   "name": "python",
   "nbconvert_exporter": "python",
   "pygments_lexer": "ipython3",
   "version": "3.12.2"
  }
 },
 "nbformat": 4,
 "nbformat_minor": 5
}
