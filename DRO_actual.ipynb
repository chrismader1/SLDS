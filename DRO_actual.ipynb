{
 "cells": [
  {
   "cell_type": "code",
   "execution_count": 6,
   "id": "188e075e-79f2-4614-9716-9ff9fec1dd0b",
   "metadata": {},
   "outputs": [],
   "source": [
    "# DRO actual data "
   ]
  },
  {
   "cell_type": "code",
   "execution_count": 8,
   "id": "0fbf7e72-690a-4972-a119-06358bcff833",
   "metadata": {},
   "outputs": [],
   "source": [
    "IN_COLAB = False\n",
    "REMOUNT = False"
   ]
  },
  {
   "cell_type": "code",
   "execution_count": 10,
   "id": "8be9334d-ef15-465a-a8cf-d5f8939d6853",
   "metadata": {},
   "outputs": [],
   "source": [
    "# RUN IN COLAB ONLY: mount Google drive\n",
    "if IN_COLAB:\n",
    "    from google.colab import drive\n",
    "    drive.mount('/content/drive')"
   ]
  },
  {
   "cell_type": "code",
   "execution_count": 12,
   "id": "591443f8-a593-46b4-aa25-1a4377dac01f",
   "metadata": {},
   "outputs": [],
   "source": [
    "# RUN IN COLAB ONLY: unmount, remount Google drive - if required\n",
    "if REMOUNT:\n",
    "    !fusermount -u /content/drive 2>/dev/null || true\n",
    "    !rm -rf /content/drive\n",
    "    from google.colab import auth\n",
    "    auth.authenticate_user()\n",
    "    from google.colab import drive\n",
    "    drive.mount('/content/drive', force_remount=True)"
   ]
  },
  {
   "cell_type": "code",
   "execution_count": 14,
   "id": "67c0c92b-1d1b-4dca-9cba-28d3e9520bd3",
   "metadata": {},
   "outputs": [],
   "source": [
    "# RUN IN COLAB ONLY: force-fetch latest files from GitHub (overwrite local copies)\n",
    "if IN_COLAB:\n",
    "    !rm -rf /content/SLDS\n",
    "    !git clone --depth=1 https://github.com/chrismader1/SLDS.git /content/SLDS\n",
    "    import sys\n",
    "    sys.path.append(\"/content/SLDS\")"
   ]
  },
  {
   "cell_type": "code",
   "execution_count": 16,
   "id": "e26ef41f-d8a5-4518-8ecb-9fc759476dcb",
   "metadata": {},
   "outputs": [],
   "source": [
    "# RUN IN COLAB ONLY: prevent timeouts\n",
    "if IN_COLAB:\n",
    "    from IPython.display import Javascript, display\n",
    "    display(Javascript(\"\"\"\n",
    "    (function keepAlive(){\n",
    "      function clickConnect(){\n",
    "        // Try shadow-root button (newer Colab)\n",
    "        const el = document.querySelector('colab-connect-button');\n",
    "        if (el && el.shadowRoot){\n",
    "          const btn = el.shadowRoot.querySelector('#connect');\n",
    "          if (btn){ btn.click(); console.log('keepAlive: clicked shadow connect'); return; }\n",
    "        }\n",
    "        // Fallbacks\n",
    "        const btn2 = document.querySelector('#connect, button#connect');\n",
    "        if (btn2){ btn2.click(); console.log('keepAlive: clicked #connect'); return; }\n",
    "        console.log('keepAlive: connect button not found');\n",
    "      }\n",
    "      setInterval(clickConnect, 60 * 1000);\n",
    "      console.log('keepAlive: armed');\n",
    "    })();\n",
    "    \"\"\"))"
   ]
  },
  {
   "cell_type": "code",
   "execution_count": 18,
   "id": "1b7322c9-41a3-4ca5-b9c7-f441f8dd36cf",
   "metadata": {},
   "outputs": [],
   "source": [
    "# RUN IN COLAB ONLY: clear cache\n",
    "if IN_COLAB:\n",
    "    !rm -f \"/content/drive/MyDrive/Colab Notebooks/SLDS/Data/gridsearch_results.csv\"\n",
    "    !rm -f \"/content/drive/MyDrive/Colab Notebooks/SLDS/Data/gridsearch_segments.csv\"\n",
    "    !echo \"Reset done.\""
   ]
  },
  {
   "cell_type": "code",
   "execution_count": 20,
   "id": "25a07c9a-2391-44b4-b262-7041049ff74c",
   "metadata": {},
   "outputs": [],
   "source": [
    "if IN_COLAB:\n",
    "    !pip -q install \"cupy-cuda12x>=13.0.0\""
   ]
  },
  {
   "cell_type": "code",
   "execution_count": 22,
   "id": "c058756c-7cd1-4692-82e1-dad06bdd4b67",
   "metadata": {},
   "outputs": [],
   "source": [
    "if IN_COLAB:\n",
    "    import cupy as cp\n",
    "    assert cp.cuda.runtime.getDeviceCount() > 0\n",
    "    print(cp.cuda.runtime.getDeviceProperties(0)['name'])"
   ]
  },
  {
   "cell_type": "code",
   "execution_count": 24,
   "id": "8f1017d1-2f8c-4bbd-bfb1-02913d37990d",
   "metadata": {},
   "outputs": [
    {
     "name": "stdout",
     "output_type": "stream",
     "text": [
      "GPU=False\n"
     ]
    }
   ],
   "source": [
    "import numpy as np, pandas as pd, matplotlib.pyplot as plt\n",
    "import itertools, warnings, os\n",
    "from dro import *\n",
    "\n",
    "# import warnings\n",
    "# warnings.filterwarnings(\"ignore\", message=r\"Argument (sub|subj) .* Incorrect array format causing data to be copied\")\n",
    "# pd.set_option('future.no_silent_downcasting', True)"
   ]
  },
  {
   "cell_type": "code",
   "execution_count": 25,
   "id": "02b6377d-fd20-47e2-8a95-c0dae09afa62",
   "metadata": {},
   "outputs": [],
   "source": [
    "# paths\n",
    "\n",
    "res = \"gridsearch_results1\"\n",
    "par = \"gridsearch_segments1\"\n",
    "\n",
    "COLAB_PATHS = {\n",
    "    \"data_excel\": \"/content/drive/MyDrive/Colab Notebooks/SLDS/Data/bbg_data.xlsx\",  # Google Drive\n",
    "    \"ff_dir\": \"/content/drive/MyDrive/Colab Notebooks/SLDS/Data/\",                   # Google Drive\n",
    "    \"ff_files\": {\n",
    "        \"ff5\": \"F-F_Research_Data_5_Factors_2x3_daily.csv\",\n",
    "        \"ff3\": \"F-F_Research_Data_Factors_daily.csv\",\n",
    "        \"mom\": \"F-F_Momentum_Factor_daily.csv\",},\n",
    "    \"results_csv\": f\"/content/drive/MyDrive/Colab Notebooks/SLDS/Out/{res}.csv\",            # Google Drive\n",
    "    \"segments_parquet\": f\"/content/drive/MyDrive/Colab Notebooks/SLDS/Out/{par}.parquet\",  # Google Drive\n",
    "    \"tmp_dir\":          \"/content/tmp_slds/\",                      # Colab local\n",
    "    \"segments_tmp_csv\": \"/content/tmp_slds/segments_tmp.csv\",      # Colab local\n",
    "}\n",
    "\n",
    "LOCAL_PATHS = {\n",
    "    \"data_excel\": \"/Users/chrismader/Python/SLDS/Data/bbg_data.xlsx\",\n",
    "    \"ff_dir\": \"/Users/chrismader/Python/SLDS/Data/\",\n",
    "    \"ff_files\": {\n",
    "        \"ff5\": \"F-F_Research_Data_5_Factors_2x3_daily.csv\",\n",
    "        \"ff3\": \"F-F_Research_Data_Factors_daily.csv\",\n",
    "        \"mom\": \"F-F_Momentum_Factor_daily.csv\",},\n",
    "    \"results_csv\": f\"/Users/chrismader/Python/SLDS/Output/{res}.csv\",\n",
    "    \"segments_parquet\": f\"/Users/chrismader/Python/SLDS/Output/{par}.parquet\",\n",
    "    \"tmp_dir\":          \"/Users/chrismader/Python/SLDS/tmp_slds/\",\n",
    "    \"segments_tmp_csv\": \"/Users/chrismader/Python/SLDS/tmp_slds/segments_tmp.csv\",\n",
    "}"
   ]
  },
  {
   "cell_type": "code",
   "execution_count": 26,
   "id": "bc089055-a415-4653-8c80-d04fec68cd5d",
   "metadata": {},
   "outputs": [],
   "source": [
    "# -------------------------\n",
    "# CONFIG\n",
    "# -------------------------\n",
    "\n",
    "CONFIG = {\n",
    "    # rSLDS model preferences\n",
    "    \"prefer_configs\": [\n",
    "        # {'config': '[g,v,h]',        'n_regimes': 3, 'dim_latent': 2},\n",
    "        # {'config': '[g,v]',          'n_regimes': 3, 'dim_latent': 2},\n",
    "        # {'config': '[y,g,v,h]',      'n_regimes': 3, 'dim_latent': 3},\n",
    "        # {'config': '[y,h]',          'n_regimes': 3, 'dim_latent': 2},\n",
    "        # {'config': '[y]',            'n_regimes': 3, 'dim_latent': 1},\n",
    "        # {'config': 'factor1',        'n_regimes': 3, 'dim_latent': 2},\n",
    "        # {'config': 'factor1_vix',    'n_regimes': 3, 'dim_latent': 3},\n",
    "        {'config': 'factor2_ff3',    'n_regimes': 3, 'dim_latent': 3},\n",
    "        # {'config': 'factor2_ff3mom', 'n_regimes': 3, 'dim_latent': 4},\n",
    "        # {'config': 'factor2_ff5',    'n_regimes': 3, 'dim_latent': 5},\n",
    "        # {'config': 'factor2_ff5mom', 'n_regimes': 3, 'dim_latent': 6},\n",
    "        # {'config': 'fund1',          'n_regimes': 3, 'dim_latent': 2},\n",
    "        # {'config': 'fund1_vix',      'n_regimes': 3, 'dim_latent': 3},\n",
    "        # {'config': 'fund2',          'n_regimes': 3, 'dim_latent': 2},\n",
    "        # {'config': 'fund2_vix',      'n_regimes': 3, 'dim_latent': 3},\n",
    "        # {'config': 'fund3',          'n_regimes': 3, 'dim_latent': 2},\n",
    "        # {'config': 'fund3_vix',      'n_regimes': 3, 'dim_latent': 3},\n",
    "    ],\n",
    "\n",
    "    # Optimizer\n",
    "    \"seed\": None,\n",
    "    \"start_dt\": None,\n",
    "    \"end_dt\": None,\n",
    "    \"min_assets\": 3,\n",
    "    \"GLOBAL\": {\"risk_budget\": 0.30, \"risk_free_rate\": 0.0, \"epsilon_sigma\": 1e-6},\n",
    "    \"delta_name\": \"bootstrap_np\",\n",
    "\n",
    "    # Delta defaults (flat under CONFIG)\n",
    "    \"delta_defaults\": {\n",
    "        \"kappa_l2\":           {\"delta_method\": \"kappa_l2\",           \"kappa\": 1.0},\n",
    "        \"kappa_rate\":         {\"delta_method\": \"kappa_rate\",         \"kappa\": 1.0},\n",
    "        \"bound_ek\":           {\"delta_method\": \"bound_ek\",           \"alpha\": 0.05, \"c1\": 3.0, \"c2\": 1.0, \"a\": 2.0},\n",
    "        \"bootstrap_np\":       {\"delta_method\": \"bootstrap_np\",       \"alpha\": 0.05, \"B\": 100, \"seed\": 0},\n",
    "        \"bootstrap_gaussian\": {\"delta_method\": \"bootstrap_gaussian\", \"alpha\": 0.05, \"B\": 100, \"seed\": 0},\n",
    "    },}\n",
    "\n",
    "\n",
    "PATHS = COLAB_PATHS if IN_COLAB else LOCAL_PATHS\n",
    "for k, v in PATHS.items(): \n",
    "    CONFIG[k] = v\n",
    "# per-security temp file templates used by IOManager\n",
    "CONFIG[\"tmp_results_fmt\"]  = \"{tmp_dir}/tmp_res_{security}.csv\"\n",
    "CONFIG[\"tmp_segments_fmt\"] = \"{tmp_dir}/tmp_seg_{security}.csv\"\n"
   ]
  },
  {
   "cell_type": "code",
   "execution_count": null,
   "id": "3a61ed89-6a80-4b31-bcf0-6fe577869f31",
   "metadata": {},
   "outputs": [
    {
     "name": "stderr",
     "output_type": "stream",
     "text": [
      "/opt/anaconda3/lib/python3.12/site-packages/mosek/__init__.py:18617: UserWarning: Argument sub in putvarboundlist: Incorrect array format causing data to be copied\n",
      "  warnings.warn(\"Argument sub in putvarboundlist: Incorrect array format causing data to be copied\");\n",
      "/opt/anaconda3/lib/python3.12/site-packages/mosek/__init__.py:18925: UserWarning: Argument subj in putclist: Incorrect array format causing data to be copied\n",
      "  warnings.warn(\"Argument subj in putclist: Incorrect array format causing data to be copied\");\n",
      "/opt/anaconda3/lib/python3.12/site-packages/mosek/__init__.py:18349: UserWarning: Argument sub in putconboundlist: Incorrect array format causing data to be copied\n",
      "  warnings.warn(\"Argument sub in putconboundlist: Incorrect array format causing data to be copied\");\n"
     ]
    },
    {
     "name": "stdout",
     "output_type": "stream",
     "text": [
      "[AAPL] raw segments: [0, 1308, 1569, 1831, 2092, 2353, 2613, 2734, 2735, 2833, 2834, 2835, 2875, 2893, 2923, 2957, 2967, 3079, 3105, 3137, 3400, 3463, 3464, 3521]\n",
      "[ACN] raw segments: [0, 1308, 1569, 1831, 2092, 2353, 2367, 2370, 2388, 2389, 2391, 2442, 2443, 2587, 2588, 2613, 2834, 2835, 2893, 2897, 2919, 2923, 2958, 2964, 3080, 3096, 3137, 3400, 3463, 3464, 3521]\n",
      "[ADBE] raw segments: [0, 1308, 1569, 1831, 2353, 2613, 3137, 3209, 3255, 3273, 3283, 3284, 3287, 3383, 3400, 3463, 3464, 3521]\n",
      "[AMAT] raw segments: [0, 1308, 1831, 2125, 2127, 2128, 2130, 2135, 2137, 2138, 2141, 2144, 2147, 2148, 2149, 2155, 2156, 2166, 2167, 2875, 3137, 3272, 3274, 3277, 3279, 3285, 3287, 3308, 3352, 3355, 3382, 3384, 3521]\n",
      "[AMD] raw segments: [0, 1308, 1569, 2092, 2140, 2141, 2148, 2150, 2353, 2613, 3209, 3273, 3283, 3284, 3285, 3384, 3400, 3463, 3464, 3521]\n",
      "[AMZN] raw segments: [0, 1569, 1831, 2135, 2137, 2138, 2142, 2367, 2372, 2388, 2391, 2442, 2445, 2490, 2492, 2535, 2537, 2589, 2613, 2875, 3137, 3209, 3242, 3273, 3283, 3284, 3287, 3383, 3462, 3464, 3521]\n",
      "[AVGO] raw segments: [0, 1569, 2092, 2125, 2131, 2132, 2138, 2140, 2142, 2144, 2147, 2148, 2149, 2152, 2154, 2155, 2156, 2166, 2168, 2174, 2175, 2182, 2183, 2203, 2205, 2212, 2213, 2268, 2302, 2303, 2353, 2367, 2373, 2388, 2396, 2442, 2445, 2541, 2543, 2594, 2612, 2875, 3137, 3400, 3521]\n",
      "[BKNG] raw segments: [0, 1308, 1831, 2092, 2125, 2127, 2128, 2130, 2135, 2137, 2138, 2140, 2141, 2142, 2144, 2147, 2148, 2149, 2155, 2156, 2166, 2167, 2174, 2175, 2302, 2303, 2353, 2613, 2834, 2835, 2875, 2893, 2923, 2957, 2967, 3033, 3117, 3137, 3400, 3463, 3464, 3521]\n",
      "[COST] raw segments: [0, 1308, 1569, 2092, 2125, 2127, 2128, 2131, 2135, 2137, 2138, 2142, 2146, 2147, 2148, 2149, 2155, 2156, 2166, 2167, 2302, 2303, 2613, 2875, 3137, 3400, 3463, 3464, 3521]\n",
      "[CRM] raw segments: [0, 1569, 1831, 2092, 2125, 2127, 2128, 2131, 2135, 2137, 2138, 2140, 2141, 2142, 2146, 2147, 2148, 2149, 2155, 2156, 2194, 2203, 2204, 2214, 2224, 2263, 2274, 2302, 2303, 2353, 2367, 2368, 2388, 2390, 2392, 2396, 2437, 2440, 2442, 2444, 2541, 2544, 2585, 2587, 2590, 2612, 2875, 3137, 3209, 3245, 3273, 3283, 3284, 3288, 3383, 3400, 3521]\n",
      "[CSCO] raw segments: [0, 1308, 1569, 1831, 2092, 2135, 2136, 2138, 2142, 2875, 2893, 2923, 2957, 2967, 3059, 3113, 3137, 3400, 3463, 3464, 3521]\n",
      "[DIS] raw segments: [0, 1308, 1831, 2092, 2125, 2131, 2132, 2142, 2144, 2149, 2152, 2154, 2155, 2156, 2161, 2162, 2166, 2168, 2174, 2176, 2181, 2183, 2203, 2205, 2212, 2214, 2268, 2302, 2304, 2353, 2613, 2834, 2835, 2920, 2924, 3400, 3463, 3464, 3521]\n",
      "[GOOGL] raw segments: [0, 1569, 1831, 2092, 2105, 2107, 2125, 2149, 2150, 2154, 2155, 2165, 2166, 2168, 2172, 2173, 2174, 2178, 2181, 2184, 2203, 2205, 2212, 2216, 2263, 2269, 2277, 2279, 2300, 2304, 2353, 2388, 2389, 2392, 2395, 2437, 2439, 2541, 2543, 2612, 2613, 3353, 3354, 3400, 3463, 3464, 3521]\n",
      "[HD] raw segments: [0, 1308, 1569, 1831, 2177, 2180, 2353, 2613, 2630, 2632, 2648, 2650, 2691, 2692, 2698, 2699, 2700, 2701, 2707, 2708, 2725, 2726, 2728, 2732, 2733, 2735, 2779, 2780, 2791, 2792, 2809, 2810, 2833, 2834, 2835, 2875, 2920, 2925, 3137, 3521]\n",
      "[IBM] raw segments: [0, 1308, 1569, 2092, 2125, 2147, 2148, 2156, 2157, 2178, 2182, 2203, 2208, 2212, 2218, 2263, 2272, 2277, 2281, 2302, 2311, 2353, 2367, 2370, 2388, 2391, 2393, 2395, 2397, 2437, 2440, 2442, 2444, 2490, 2492, 2588, 2612, 2613, 2629, 2630, 2638, 2639, 2648, 2654, 2657, 2659, 2661, 2662, 2666, 2677, 2691, 2699, 2703, 2714, 2719, 2723, 2728, 2733, 2751, 2753, 2757, 2759, 2768, 2775, 2803, 2804, 2805, 2806, 2815, 2818, 2833, 2834, 2847, 2851, 2874, 2875, 3400, 3521]\n",
      "[INTU] raw segments: [0, 1569, 1831, 2092, 2125, 2129, 2135, 2137, 2138, 2140, 2141, 2142, 2146, 2147, 2148, 2149, 2152, 2153, 2155, 2156, 2353, 2367, 2370, 2373, 2388, 2391, 2393, 2395, 2403, 2405, 2442, 2444, 2446, 2490, 2492, 2535, 2537, 2589, 2590, 2591, 2593, 2612, 2613, 2875, 3137, 3209, 3234, 3273, 3283, 3284, 3287, 3383, 3463, 3464, 3521]\n",
      "[KO] raw segments: [0, 1569, 1831, 2092, 2125, 2127, 2128, 2131, 2135, 2137, 2138, 2141, 2145, 2147, 2148, 2149, 2152, 2153, 2156, 2161, 2613, 2725, 2726, 2791, 2792, 2833, 2835, 2875, 3137, 3209, 3257, 3273, 3283, 3284, 3288, 3383, 3463, 3464, 3521]\n",
      "[MCD] raw segments: [0, 1569, 2092, 2139, 2140, 2353, 2367, 2368, 2389, 2394, 2541, 2543, 2587, 2588, 2612, 2613, 2875, 2920, 2923, 3137, 3209, 3259, 3273, 3283, 3284, 3288, 3383, 3400, 3521]\n",
      "[META] raw segments: [0, 1929, 2451, 2691, 2692, 2707, 2708, 2711, 2719, 2723, 2728, 2734, 2751, 2753, 2757, 2759, 2767, 2775, 2803, 2804, 2805, 2806, 2814, 2816, 2833, 2834, 2837, 2851, 2874, 2893, 2923, 2957, 2967, 2973, 3285, 3287, 3458, 3461, 3462, 3465, 3499, 3521]\n",
      "[MSFT] raw segments: [0, 1308, 1569, 1831, 2092, 2125, 2127, 2135, 2136, 2138, 2139, 2146, 2147, 2353, 2396, 2397, 2613, 2834, 2835, 3137, 3400, 3521]\n",
      "[NFLX] raw segments: [0, 1308, 1569, 1831, 2092, 2139, 2140, 2142, 2143, 2149, 2150, 2353, 2390, 2391, 2587, 2588, 2613, 2834, 2835, 2875, 3137, 3463, 3464, 3521]\n",
      "[NOW] raw segments: [0, 1960, 2221, 2725, 2726, 2743, 3005, 3267, 3521]\n",
      "[NVDA] raw segments: [0, 1569, 2125, 2127, 2128, 2130, 2135, 2137, 2138, 2142, 2146, 2147, 2148, 2149, 2155, 2156, 2166, 2167, 2302, 2303, 2588, 2613, 2725, 2726, 2834, 2835, 2875, 3287, 3288, 3400, 3463, 3464, 3521]\n",
      "[ORCL] raw segments: [0, 1308, 2092, 2125, 2141, 2142, 2147, 2148, 2156, 2157, 2180, 2182, 2203, 2208, 2212, 2218, 2263, 2272, 2277, 2282, 2302, 2311, 2353, 2367, 2371, 2388, 2391, 2396, 2442, 2444, 2541, 2543, 2589, 2590, 2612, 2875, 2893, 2923, 2957, 2967, 3079, 3101, 3137, 3209, 3269, 3273, 3283, 3284, 3287, 3383, 3400, 3463, 3464, 3521]\n",
      "[PG] raw segments: [0, 1308, 2092, 2125, 2127, 2135, 2137, 2138, 2139, 2140, 2141, 2142, 2146, 2147, 2148, 2149, 2155, 2156, 2393, 2397, 2541, 2546, 2612, 2613, 2875, 3137, 3463, 3464, 3521]\n",
      "[PLTR] raw segments: [0, 3521]\n",
      "[PM] raw segments: [0, 1308, 1569, 1831, 2092, 2125, 2133, 2135, 2142, 2146, 2147, 2148, 2149, 2152, 2154, 2155, 2156, 2166, 2168, 2174, 2176, 2203, 2205, 2302, 2304, 2353, 2389, 2391, 2392, 2395, 2442, 2470, 2541, 2546, 2587, 2589, 2592, 2601, 2612, 2613, 2875, 2920, 2925, 3137, 3463, 3464, 3521]\n",
      "[QCOM] raw segments: [0, 1308, 1831, 2092, 2138, 2139, 2140, 2141, 2142, 2353, 2613, 2629, 2630, 2638, 2639, 2648, 2655, 2657, 2659, 2661, 2662, 2666, 2677, 2687, 2689, 2691, 2699, 2703, 2708, 2719, 2723, 2728, 2734, 2751, 2753, 2757, 2758, 2767, 2775, 2803, 2804, 2805, 2806, 2814, 2816, 2833, 2834, 2835, 2841, 2851, 2874, 2875, 2893, 2923, 2958, 2967, 3083, 3096, 3400, 3521]\n",
      "[T] raw segments: [0, 1569, 1831, 2092, 2125, 2138, 2142, 2147, 2148, 2156, 2157, 2180, 2185, 2194, 2203, 2209, 2212, 2223, 2263, 2274, 2277, 2283, 2287, 2291, 2302, 2312, 2353, 2389, 2391, 2392, 2395, 2541, 2546, 2587, 2589, 2592, 2598, 2893, 2923, 2957, 2981, 3033, 3117, 3137, 3400, 3521]\n",
      "[TSLA] raw segments: [0, 1308, 1569, 2092, 2125, 2131, 2135, 2142, 2144, 2147, 2148, 2149, 2152, 2154, 2155, 2156, 2161, 2166, 2167, 2174, 2176, 2203, 2205, 2267, 2302, 2303, 2353, 2354, 2385, 2386, 2394, 2397, 2436, 2439, 2540, 2543, 2580, 2582, 2589, 2590, 2611, 2613, 2648, 2650, 2875, 3137, 3400, 3521]\n",
      "[TXN] raw segments: [0, 1308, 1569, 1831, 2125, 2127, 2128, 2131, 2135, 2137, 2138, 2142, 2146, 2147, 2148, 2149, 2155, 2156, 2166, 2167, 2203, 2205, 2302, 2303, 2353, 2613, 2875, 3137, 3209, 3250, 3273, 3283, 3284, 3285, 3286, 3288, 3383, 3400, 3459, 3460, 3463, 3464, 3521]\n",
      "[VZ] raw segments: [0, 1308, 1569, 1831, 2092, 2138, 2140, 2141, 2142, 2146, 2147, 2148, 2149, 2353, 2392, 2395, 2541, 2546, 2587, 2589, 2592, 2601, 2612, 2834, 2835, 2875, 3400, 3463, 3464, 3521]\n",
      "[WMT] raw segments: [0, 1569, 1831, 2105, 2107, 2125, 2131, 2132, 2140, 2141, 2142, 2143, 2144, 2149, 2150, 2151, 2152, 2154, 2155, 2156, 2157, 2158, 2161, 2164, 2166, 2168, 2174, 2176, 2177, 2181, 2184, 2188, 2203, 2205, 2212, 2216, 2217, 2263, 2268, 2270, 2277, 2279, 2302, 2304, 2306, 2307, 2308, 2309, 2313, 2353, 2369, 2374, 2392, 2400, 2490, 2491, 2612, 2613, 2626, 2627, 2630, 2632, 2633, 2634, 2648, 2650, 2655, 2656, 2661, 2665, 2689, 2692, 2694, 2695, 2698, 2699, 2700, 2701, 2702, 2703, 2704, 2706, 2707, 2708, 2724, 2726, 2728, 2735, 2779, 2780, 2791, 2792, 2809, 2810, 2815, 2817, 2827, 2828, 2833, 2834, 2847, 2848, 2858, 2859, 2893, 2923, 2957, 2967, 3079, 3108, 3137, 3400, 3459, 3461, 3521]\n",
      "\n",
      "[UNION] segments: [0, 1308, 1569, 1831, 1929, 1960, 2092, 2105, 2107, 2125, 2127, 2128, 2129, 2130, 2131, 2132, 2133, 2135, 2136, 2137, 2138, 2139, 2140, 2141, 2142, 2143, 2144, 2145, 2146, 2147, 2148, 2149, 2150, 2151, 2152, 2153, 2154, 2155, 2156, 2157, 2158, 2161, 2162, 2164, 2165, 2166, 2167, 2168, 2172, 2173, 2174, 2175, 2176, 2177, 2178, 2180, 2181, 2182, 2183, 2184, 2185, 2188, 2194, 2203, 2204, 2205, 2208, 2209, 2212, 2213, 2214, 2216, 2217, 2218, 2221, 2223, 2224, 2263, 2267, 2268, 2269, 2270, 2272, 2274, 2277, 2279, 2281, 2282, 2283, 2287, 2291, 2300, 2302, 2303, 2304, 2306, 2307, 2308, 2309, 2311, 2312, 2313, 2353, 2354, 2367, 2368, 2369, 2370, 2371, 2372, 2373, 2374, 2385, 2386, 2388, 2389, 2390, 2391, 2392, 2393, 2394, 2395, 2396, 2397, 2400, 2403, 2405, 2436, 2437, 2439, 2440, 2442, 2443, 2444, 2445, 2446, 2451, 2470, 2490, 2491, 2492, 2535, 2537, 2540, 2541, 2543, 2544, 2546, 2580, 2582, 2585, 2587, 2588, 2589, 2590, 2591, 2592, 2593, 2594, 2598, 2601, 2611, 2612, 2613, 2626, 2627, 2629, 2630, 2632, 2633, 2634, 2638, 2639, 2648, 2650, 2654, 2655, 2656, 2657, 2659, 2661, 2662, 2665, 2666, 2677, 2687, 2689, 2691, 2692, 2694, 2695, 2698, 2699, 2700, 2701, 2702, 2703, 2704, 2706, 2707, 2708, 2711, 2714, 2719, 2723, 2724, 2725, 2726, 2728, 2732, 2733, 2734, 2735, 2743, 2751, 2753, 2757, 2758, 2759, 2767, 2768, 2775, 2779, 2780, 2791, 2792, 2803, 2804, 2805, 2806, 2809, 2810, 2814, 2815, 2816, 2817, 2818, 2827, 2828, 2833, 2834, 2835, 2837, 2841, 2847, 2848, 2851, 2858, 2859, 2874, 2875, 2893, 2897, 2919, 2920, 2923, 2924, 2925, 2957, 2958, 2964, 2967, 2973, 2981, 3005, 3033, 3059, 3079, 3080, 3083, 3096, 3101, 3105, 3108, 3113, 3117, 3137, 3209, 3234, 3242, 3245, 3250, 3255, 3257, 3259, 3267, 3269, 3272, 3273, 3274, 3277, 3279, 3283, 3284, 3285, 3286, 3287, 3288, 3308, 3352, 3353, 3354, 3355, 3382, 3383, 3384, 3400, 3458, 3459, 3460, 3461, 3462, 3463, 3464, 3465, 3499, 3521]\n",
      "[t=0 | 2012-01-02] active: []\n",
      "[WARN][t=0 | 2012-01-02] only 0 active assets (<3).\n",
      "[t=1308 | 2017-01-05] active: ['AAPL', 'ACN', 'ADBE', 'AMAT', 'AMD', 'AMZN', 'AVGO', 'BKNG', 'COST', 'CRM', 'CSCO', 'DIS', 'GOOGL', 'HD', 'IBM', 'INTU', 'KO', 'MCD', 'META', 'MSFT', 'NFLX', 'NOW', 'NVDA', 'ORCL', 'PG', 'PM', 'QCOM', 'T', 'TSLA', 'TXN', 'VZ', 'WMT']\n"
     ]
    },
    {
     "name": "stderr",
     "output_type": "stream",
     "text": [
      "/opt/anaconda3/lib/python3.12/site-packages/mosek/__init__.py:18617: UserWarning: Argument sub in putvarboundlist: Incorrect array format causing data to be copied\n",
      "  warnings.warn(\"Argument sub in putvarboundlist: Incorrect array format causing data to be copied\");\n",
      "/opt/anaconda3/lib/python3.12/site-packages/mosek/__init__.py:18925: UserWarning: Argument subj in putclist: Incorrect array format causing data to be copied\n",
      "  warnings.warn(\"Argument subj in putclist: Incorrect array format causing data to be copied\");\n",
      "/opt/anaconda3/lib/python3.12/site-packages/mosek/__init__.py:18349: UserWarning: Argument sub in putconboundlist: Incorrect array format causing data to be copied\n",
      "  warnings.warn(\"Argument sub in putconboundlist: Incorrect array format causing data to be copied\");\n"
     ]
    },
    {
     "name": "stdout",
     "output_type": "stream",
     "text": [
      "[t=1569 | 2018-01-05] active: ['AAPL', 'ACN', 'ADBE', 'AMAT', 'AMD', 'AMZN', 'AVGO', 'BKNG', 'COST', 'CRM', 'CSCO', 'DIS', 'GOOGL', 'HD', 'IBM', 'INTU', 'KO', 'MCD', 'META', 'MSFT', 'NFLX', 'NOW', 'NVDA', 'ORCL', 'PG', 'PM', 'QCOM', 'T', 'TSLA', 'TXN', 'VZ', 'WMT']\n"
     ]
    }
   ],
   "source": [
    "# -------------------------\n",
    "# Execute\n",
    "# -------------------------\n",
    "\n",
    "# filename_results = '/Users/chrismader/Python/SLDS/Output/gridsearch_results.csv'\n",
    "# res = pd.read_csv(filename_results)\n",
    "# securities = list(res.security.unique())\n",
    "# securities = ['NVDA', 'AAPL', 'AVGO', 'GOOGL', 'ORCL', 'IBM', 'CSCO', 'CRM']\n",
    "securities = None\n",
    "\n",
    "out = dro_pipeline(securities, CONFIG, verbose=True)\n",
    "save_out(out, \"/Output/dro_run.pkl.gz\")"
   ]
  },
  {
   "cell_type": "code",
   "execution_count": null,
   "id": "328fe96a-0b0c-4e62-a88e-18dd728ffe9d",
   "metadata": {},
   "outputs": [],
   "source": []
  }
 ],
 "metadata": {
  "kernelspec": {
   "display_name": "Python [conda env:base] *",
   "language": "python",
   "name": "conda-base-py"
  },
  "language_info": {
   "codemirror_mode": {
    "name": "ipython",
    "version": 3
   },
   "file_extension": ".py",
   "mimetype": "text/x-python",
   "name": "python",
   "nbconvert_exporter": "python",
   "pygments_lexer": "ipython3",
   "version": "3.12.2"
  }
 },
 "nbformat": 4,
 "nbformat_minor": 5
}
