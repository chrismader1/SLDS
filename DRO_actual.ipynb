{
 "cells": [
  {
   "cell_type": "code",
   "execution_count": null,
   "id": "188e075e-79f2-4614-9716-9ff9fec1dd0b",
   "metadata": {},
   "outputs": [],
   "source": [
    "# DRO actual data "
   ]
  },
  {
   "cell_type": "code",
   "execution_count": null,
   "id": "0fbf7e72-690a-4972-a119-06358bcff833",
   "metadata": {},
   "outputs": [],
   "source": [
    "IN_COLAB = True\n",
    "REMOUNT = False"
   ]
  },
  {
   "cell_type": "code",
   "execution_count": null,
   "id": "8be9334d-ef15-465a-a8cf-d5f8939d6853",
   "metadata": {},
   "outputs": [],
   "source": [
    "# RUN IN COLAB ONLY: mount Google drive\n",
    "if IN_COLAB:\n",
    "    from google.colab import drive\n",
    "    drive.mount('/content/drive')"
   ]
  },
  {
   "cell_type": "code",
   "execution_count": null,
   "id": "591443f8-a593-46b4-aa25-1a4377dac01f",
   "metadata": {},
   "outputs": [],
   "source": [
    "# RUN IN COLAB ONLY: unmount, remount Google drive - if required\n",
    "if REMOUNT:\n",
    "    !fusermount -u /content/drive 2>/dev/null || true\n",
    "    !rm -rf /content/drive\n",
    "    from google.colab import auth\n",
    "    auth.authenticate_user()\n",
    "    from google.colab import drive\n",
    "    drive.mount('/content/drive', force_remount=True)"
   ]
  },
  {
   "cell_type": "code",
   "execution_count": null,
   "id": "67c0c92b-1d1b-4dca-9cba-28d3e9520bd3",
   "metadata": {},
   "outputs": [],
   "source": [
    "# RUN IN COLAB ONLY: force-fetch latest files from GitHub (overwrite local copies)\n",
    "if IN_COLAB:\n",
    "    !rm -rf /content/SLDS\n",
    "    !git clone --depth=1 https://github.com/chrismader1/SLDS.git /content/SLDS\n",
    "    import sys\n",
    "    sys.path.append(\"/content/SLDS\")"
   ]
  },
  {
   "cell_type": "code",
   "execution_count": null,
   "id": "e26ef41f-d8a5-4518-8ecb-9fc759476dcb",
   "metadata": {},
   "outputs": [],
   "source": [
    "# RUN IN COLAB ONLY: prevent timeouts\n",
    "if IN_COLAB:\n",
    "    from IPython.display import Javascript, display\n",
    "    display(Javascript(\"\"\"\n",
    "    (function keepAlive(){\n",
    "      function clickConnect(){\n",
    "        // Try shadow-root button (newer Colab)\n",
    "        const el = document.querySelector('colab-connect-button');\n",
    "        if (el && el.shadowRoot){\n",
    "          const btn = el.shadowRoot.querySelector('#connect');\n",
    "          if (btn){ btn.click(); console.log('keepAlive: clicked shadow connect'); return; }\n",
    "        }\n",
    "        // Fallbacks\n",
    "        const btn2 = document.querySelector('#connect, button#connect');\n",
    "        if (btn2){ btn2.click(); console.log('keepAlive: clicked #connect'); return; }\n",
    "        console.log('keepAlive: connect button not found');\n",
    "      }\n",
    "      setInterval(clickConnect, 60 * 1000);\n",
    "      console.log('keepAlive: armed');\n",
    "    })();\n",
    "    \"\"\"))"
   ]
  },
  {
   "cell_type": "code",
   "execution_count": null,
   "id": "1b7322c9-41a3-4ca5-b9c7-f441f8dd36cf",
   "metadata": {},
   "outputs": [],
   "source": [
    "# RUN IN COLAB ONLY: clear cache\n",
    "if IN_COLAB:\n",
    "    !rm -f \"/content/drive/MyDrive/Colab Notebooks/SLDS/Data/gridsearch_results.csv\"\n",
    "    !rm -f \"/content/drive/MyDrive/Colab Notebooks/SLDS/Data/gridsearch_segments.csv\"\n",
    "    !echo \"Reset done.\""
   ]
  },
  {
   "cell_type": "code",
   "execution_count": null,
   "id": "25a07c9a-2391-44b4-b262-7041049ff74c",
   "metadata": {},
   "outputs": [],
   "source": [
    "if IN_COLAB:\n",
    "    !pip -q install \"cupy-cuda12x>=13.0.0\""
   ]
  },
  {
   "cell_type": "code",
   "execution_count": null,
   "id": "c058756c-7cd1-4692-82e1-dad06bdd4b67",
   "metadata": {},
   "outputs": [],
   "source": [
    "if IN_COLAB:\n",
    "    import cupy as cp\n",
    "    assert cp.cuda.runtime.getDeviceCount() > 0\n",
    "    print(cp.cuda.runtime.getDeviceProperties(0)['name'])"
   ]
  },
  {
   "cell_type": "code",
   "execution_count": null,
   "id": "8f1017d1-2f8c-4bbd-bfb1-02913d37990d",
   "metadata": {},
   "outputs": [],
   "source": [
    "import numpy as np, pandas as pd, matplotlib.pyplot as plt\n",
    "import itertools, warnings, os\n",
    "from dro import *\n",
    "\n",
    "# import warnings\n",
    "# warnings.filterwarnings(\"ignore\", message=r\"Argument (sub|subj) .* Incorrect array format causing data to be copied\")\n",
    "# pd.set_option('future.no_silent_downcasting', True)"
   ]
  },
  {
   "cell_type": "code",
   "execution_count": null,
   "id": "02b6377d-fd20-47e2-8a95-c0dae09afa62",
   "metadata": {},
   "outputs": [],
   "source": [
    "# paths\n",
    "\n",
    "COLAB_PATHS = {\n",
    "    \"data_excel\": \"/content/drive/MyDrive/Colab Notebooks/SLDS/Data/bbg_data.xlsx\",  # Google Drive\n",
    "    \"ff_dir\": \"/content/drive/MyDrive/Colab Notebooks/SLDS/Data/\",                   # Google Drive\n",
    "    \"ff_files\": {\n",
    "        \"ff5\": \"F-F_Research_Data_5_Factors_2x3_daily.csv\",\n",
    "        \"ff3\": \"F-F_Research_Data_Factors_daily.csv\",\n",
    "        \"mom\": \"F-F_Momentum_Factor_daily.csv\",},\n",
    "    \"results_csv\": \"/content/drive/MyDrive/Colab Notebooks/SLDS/Out/gridsearch_results.csv\",            # Google Drive\n",
    "    \"segments_parquet\": \"/content/drive/MyDrive/Colab Notebooks/SLDS/Out/gridsearch_segments.parquet\",  # Google Drive\n",
    "    \"tmp_dir\":          \"/content/tmp_slds/\",                      # Colab local\n",
    "    \"segments_tmp_csv\": \"/content/tmp_slds/segments_tmp.csv\",      # Colab local\n",
    "}\n",
    "\n",
    "LOCAL_PATHS = {\n",
    "    \"data_excel\": \"/Users/chrismader/Python/SLDS/Data/bbg_data.xlsx\",\n",
    "    \"ff_dir\": \"/Users/chrismader/Python/SLDS/Data/\",\n",
    "    \"ff_files\": {\n",
    "        \"ff5\": \"F-F_Research_Data_5_Factors_2x3_daily.csv\",\n",
    "        \"ff3\": \"F-F_Research_Data_Factors_daily.csv\",\n",
    "        \"mom\": \"F-F_Momentum_Factor_daily.csv\",},\n",
    "    \"results_csv\": \"/Users/chrismader/Python/SLDS/Output/gridsearch_results1.csv\",\n",
    "    \"segments_parquet\": \"/Users/chrismader/Python/SLDS/Output/gridsearch_segments1.parquet\",\n",
    "    \"tmp_dir\":          \"/Users/chrismader/Python/SLDS/tmp_slds/\",\n",
    "    \"segments_tmp_csv\": \"/Users/chrismader/Python/SLDS/tmp_slds/segments_tmp.csv\",\n",
    "}"
   ]
  },
  {
   "cell_type": "code",
   "execution_count": null,
   "id": "bc089055-a415-4653-8c80-d04fec68cd5d",
   "metadata": {},
   "outputs": [],
   "source": [
    "# -------------------------\n",
    "# CONFIG\n",
    "# -------------------------\n",
    "\n",
    "CONFIG = {\n",
    "    # rSLDS model preferences\n",
    "    \"prefer_configs\": [\n",
    "        # {'config': '[g,v,h]',        'n_regimes': 3, 'dim_latent': 2},\n",
    "        # {'config': '[g,v]',          'n_regimes': 3, 'dim_latent': 2},\n",
    "        # {'config': '[y,g,v,h]',      'n_regimes': 3, 'dim_latent': 3},\n",
    "        # {'config': '[y,h]',          'n_regimes': 3, 'dim_latent': 2},\n",
    "        # {'config': '[y]',            'n_regimes': 3, 'dim_latent': 1},\n",
    "        # {'config': 'factor1',        'n_regimes': 3, 'dim_latent': 2},\n",
    "        # {'config': 'factor1_vix',    'n_regimes': 3, 'dim_latent': 3},\n",
    "        {'config': 'factor2_ff3',    'n_regimes': 3, 'dim_latent': 3},\n",
    "        # {'config': 'factor2_ff3mom', 'n_regimes': 3, 'dim_latent': 4},\n",
    "        # {'config': 'factor2_ff5',    'n_regimes': 3, 'dim_latent': 5},\n",
    "        # {'config': 'factor2_ff5mom', 'n_regimes': 3, 'dim_latent': 6},\n",
    "        # {'config': 'fund1',          'n_regimes': 3, 'dim_latent': 2},\n",
    "        # {'config': 'fund1_vix',      'n_regimes': 3, 'dim_latent': 3},\n",
    "        # {'config': 'fund2',          'n_regimes': 3, 'dim_latent': 2},\n",
    "        # {'config': 'fund2_vix',      'n_regimes': 3, 'dim_latent': 3},\n",
    "        # {'config': 'fund3',          'n_regimes': 3, 'dim_latent': 2},\n",
    "        # {'config': 'fund3_vix',      'n_regimes': 3, 'dim_latent': 3},\n",
    "    ],\n",
    "\n",
    "    # Optimizer\n",
    "    \"seed\": None\n",
    "    \"start_dt\": None,\n",
    "    \"end_dt\": None,\n",
    "    \"min_assets\": 3,\n",
    "    \"GLOBAL\": {\"risk_budget\": 0.30, \"risk_free_rate\": 0.0, \"epsilon_sigma\": 1e-6},\n",
    "    \"delta_name\": \"bootstrap_np\",\n",
    "\n",
    "    # Delta defaults (flat under CONFIG)\n",
    "    \"delta_defaults\": {\n",
    "        \"kappa_l2\":           {\"delta_method\": \"kappa_l2\",           \"kappa\": 1.0},\n",
    "        \"kappa_rate\":         {\"delta_method\": \"kappa_rate\",         \"kappa\": 1.0},\n",
    "        \"bound_ek\":           {\"delta_method\": \"bound_ek\",           \"alpha\": 0.05, \"c1\": 3.0, \"c2\": 1.0, \"a\": 2.0},\n",
    "        \"bootstrap_np\":       {\"delta_method\": \"bootstrap_np\",       \"alpha\": 0.05, \"B\": 100, \"seed\": 0},\n",
    "        \"bootstrap_gaussian\": {\"delta_method\": \"bootstrap_gaussian\", \"alpha\": 0.05, \"B\": 100, \"seed\": 0},\n",
    "    },}\n",
    "\n",
    "\n",
    "PATHS = COLAB_PATHS if IN_COLAB else LOCAL_PATHS\n",
    "for k, v in PATHS.items(): \n",
    "    CONFIG[k] = v\n",
    "# per-security temp file templates used by IOManager\n",
    "CONFIG[\"tmp_results_fmt\"]  = \"{tmp_dir}/tmp_res_{security}.csv\"\n",
    "CONFIG[\"tmp_segments_fmt\"] = \"{tmp_dir}/tmp_seg_{security}.csv\"\n"
   ]
  },
  {
   "cell_type": "code",
   "execution_count": null,
   "id": "3a61ed89-6a80-4b31-bcf0-6fe577869f31",
   "metadata": {},
   "outputs": [],
   "source": [
    "# -------------------------\n",
    "# Execute\n",
    "# -------------------------\n",
    "\n",
    "# filename_results = '/Users/chrismader/Python/SLDS/Output/gridsearch_results.csv'\n",
    "# res = pd.read_csv(filename_results)\n",
    "# securities = list(res.security.unique())\n",
    "# securities = ['NVDA', 'AAPL', 'AVGO', 'GOOGL', 'ORCL', 'IBM', 'CSCO', 'CRM']\n",
    "securities = None\n",
    "\n",
    "out = dro_pipeline(securities, CONFIG)\n",
    "save_out(out, \"/Output/dro_run.pkl.gz\")"
   ]
  }
 ],
 "metadata": {
  "kernelspec": {
   "display_name": "Python [conda env:base] *",
   "language": "python",
   "name": "conda-base-py"
  },
  "language_info": {
   "codemirror_mode": {
    "name": "ipython",
    "version": 3
   },
   "file_extension": ".py",
   "mimetype": "text/x-python",
   "name": "python",
   "nbconvert_exporter": "python",
   "pygments_lexer": "ipython3",
   "version": "3.12.2"
  }
 },
 "nbformat": 4,
 "nbformat_minor": 5
}
