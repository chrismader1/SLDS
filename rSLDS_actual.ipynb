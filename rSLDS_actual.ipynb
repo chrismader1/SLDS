{
 "cells": [
  {
   "cell_type": "code",
   "execution_count": null,
   "id": "d385aab8-5d1c-4eca-9d09-a5a09aba3c8a",
   "metadata": {},
   "outputs": [],
   "source": [
    "# rSLDS actual data "
   ]
  },
  {
   "cell_type": "code",
   "execution_count": null,
   "id": "e9e5a008-3f82-48f5-bcdd-488262fb59f8",
   "metadata": {},
   "outputs": [],
   "source": [
    "# RUN IN COLAB ONLY: mount Google drive\n",
    "from google.colab import drive\n",
    "drive.mount('/content/drive')"
   ]
  },
  {
   "cell_type": "code",
   "execution_count": null,
   "id": "07588c50-f9f3-4ca0-8378-fbd709c8fb5b",
   "metadata": {},
   "outputs": [],
   "source": [
    "# RUN IN COLAB ONLY: unmount, remount Google drive - if required\n",
    "# !fusermount -u /content/drive 2>/dev/null || true\n",
    "# !rm -rf /content/drive\n",
    "# from google.colab import auth\n",
    "# auth.authenticate_user()\n",
    "# from google.colab import drive\n",
    "# drive.mount('/content/drive', force_remount=True)"
   ]
  },
  {
   "cell_type": "code",
   "execution_count": null,
   "id": "9e837ee6-3c0e-456e-a8bd-ad9511e03faa",
   "metadata": {},
   "outputs": [],
   "source": [
    "# RUN IN COLAB ONLY: install required modules: ssm, openpyxl\n",
    "!pip -q install git+https://github.com/lindermanlab/ssm.git #egg=ssm\n",
    "!pip -q install openpyxl"
   ]
  },
  {
   "cell_type": "code",
   "execution_count": null,
   "id": "31a31f6a-783a-4ab5-9fb3-e9a1292ff436",
   "metadata": {},
   "outputs": [],
   "source": [
    "# RUN IN COLAB ONLY: force-fetch latest files from GitHub (overwrite local copies)\n",
    "!curl -L -H \"Cache-Control: no-cache\" -o gridsearch.py https://raw.githubusercontent.com/chrismader1/SLDS/main/gridsearch.py\n",
    "!curl -L -H \"Cache-Control: no-cache\" -o rSLDS.py https://raw.githubusercontent.com/chrismader1/SLDS/main/rSLDS.py"
   ]
  },
  {
   "cell_type": "code",
   "execution_count": null,
   "id": "389702de-656b-447b-9d80-bc16db7776c5",
   "metadata": {},
   "outputs": [],
   "source": [
    "# RUN IN COLAB ONLY: prevent timeouts\n",
    "%%javascript\n",
    "// Ping the backend + re-click the connect button every 60s\n",
    "(function keepAlive(){\n",
    "  const clickConnect = () => {\n",
    "    const btn = document.querySelector('colab-connect-button') || document.querySelector('#connect');\n",
    "    if (btn) btn.click();\n",
    "    console.log('keepAlive: ping');\n",
    "  };\n",
    "  setInterval(clickConnect, 60000);\n",
    "})();"
   ]
  },
  {
   "cell_type": "code",
   "execution_count": null,
   "id": "d9631a52-e0de-43ab-9acc-947e33363845",
   "metadata": {},
   "outputs": [],
   "source": [
    "# RUN IN COLAB ONLY: clear cache\n",
    "!rm -f \"/content/drive/MyDrive/Colab Notebooks/SLDS/Data/gridsearch_results.csv\"\n",
    "!rm -f \"/content/drive/MyDrive/Colab Notebooks/SLDS/Data/gridsearch_segments.csv\"\n",
    "!echo \"Reset done.\""
   ]
  },
  {
   "cell_type": "code",
   "execution_count": null,
   "id": "00e70b11-7caf-4c21-a449-4dff24b0709b",
   "metadata": {},
   "outputs": [],
   "source": [
    "import numpy as np\n",
    "import pandas as pd\n",
    "from gridsearch import pipeline_actual"
   ]
  },
  {
   "cell_type": "code",
   "execution_count": null,
   "id": "3abc2feb-0867-4f40-ab6a-d75ad2a5cc9d",
   "metadata": {},
   "outputs": [],
   "source": [
    "# --------------------------------------------------------------------------------------\n",
    "# CONFIG\n",
    "# --------------------------------------------------------------------------------------\n",
    "\n",
    "CONFIG = {\n",
    "    \n",
    "    # Core defaults\n",
    "    \"n_jobs\": -1,  # multi-threading\n",
    "    \"dt\": 1.0 / 252.0,\n",
    "    \"n_iters\": 50,\n",
    "    \"h_z\": 3.0,  # CUSUM parameter\n",
    "    \n",
    "    # Batch windows\n",
    "    \"batch_grid\": [\n",
    "        {\"train_window\": 756, \"overlap_window\": 5},\n",
    "        # {\"train_window\": 256, \"overlap_window\": 63},\n",
    "        # {\"train_window\": 504, \"overlap_window\": 63},\n",
    "        # {\"train_window\": 756, \"overlap_window\": 63},\n",
    "        # {\"train_window\": 1260, \"overlap_window\": 63},\n",
    "    ],\n",
    "\n",
    "    # Number of regimes\n",
    "    \"K_grid\": [2, 3, 4],\n",
    "    \n",
    "    # Unrestricted models: \n",
    "    \"unrestricted_models\": [\n",
    "        {\"label\": \"[y]\",         \"channels\": [\"y\"],                \"dim_latent\": [1]},\n",
    "        {\"label\": \"[y,h]\",       \"channels\": [\"y\",\"h\"],            \"dim_latent\": [2]},\n",
    "        {\"label\": \"[g,v]\",       \"channels\": [\"g\",\"v\"],            \"dim_latent\": [2]},\n",
    "        {\"label\": \"[g,v,h]\",     \"channels\": [\"g\",\"v\",\"h\"],        \"dim_latent\": [2,3]},\n",
    "        {\"label\": \"[y,g,v,h]\",   \"channels\": [\"y\",\"g\",\"v\",\"h\"],    \"dim_latent\": [3,4]},\n",
    "    ],\n",
    "\n",
    "    # Restricted models: \n",
    "    \"restricted_models\": [\n",
    "        {\"label\": \"fund1\",        \"channels\": [\"y\"],                 \"dim_latent\": [2],    \"C_type\": \"fund1\"},\n",
    "        {\"label\": \"fund1_vix\",    \"channels\": [\"y\",\"h\"],             \"dim_latent\": [3],    \"C_type\": \"fund1_vix\"},\n",
    "        {\"label\": \"fund2\",        \"channels\": [\"y\",\"g\"],             \"dim_latent\": [2],    \"C_type\": \"fund2\"},\n",
    "        {\"label\": \"fund2_vix\",    \"channels\": [\"y\",\"g\",\"h\"],         \"dim_latent\": [3],    \"C_type\": \"fund2_vix\"},\n",
    "        {\"label\": \"fund3\",        \"channels\": [\"y\",\"v\",\"g\"],         \"dim_latent\": [2],    \"C_type\": \"fund3\"},\n",
    "        {\"label\": \"fund3_vix\",    \"channels\": [\"y\",\"v\",\"g\",\"h\"],     \"dim_latent\": [3],    \"C_type\": \"fund3_vix\"},   \n",
    "\n",
    "        {\"label\": \"factor1\",      \"channels\": [\"y\"],                 \"dim_latent\": [2],    \"C_type\": \"factor1\"},\n",
    "        {\"label\": \"factor1_vix\",  \"channels\": [\"y\",\"h\"],             \"dim_latent\": [3],    \"C_type\": \"factor1_vix\"},\n",
    "\n",
    "        {\"label\": \"factor2_ff3\",   \"channels\": [\"y\",\"mkt\",\"smb\",\"hml\"],                   \"dim_latent\": [3], \"C_type\": \"factor2\"},\n",
    "        {\"label\": \"factor2_ff3mom\",\"channels\": [\"y\",\"mkt\",\"smb\",\"hml\",\"mom\"],             \"dim_latent\": [4], \"C_type\": \"factor2\"},\n",
    "        {\"label\": \"factor2_ff5\",   \"channels\": [\"y\",\"mkt\",\"smb\",\"hml\",\"rmw\",\"cma\"],       \"dim_latent\": [5], \"C_type\": \"factor2\"},\n",
    "        {\"label\": \"factor2_ff5mom\",\"channels\": [\"y\",\"mkt\",\"smb\",\"hml\",\"rmw\",\"cma\",\"mom\"], \"dim_latent\": [6], \"C_type\": \"factor2\"},\n",
    "    ],\n",
    "\n",
    "    # Model selection\n",
    "    \"run_unrestricted\": True,\n",
    "    \"run_restricted\": True,\n",
    "\n",
    "    # Output\n",
    "    \"display\": False,\n",
    "    \"verbose\": False,    \n",
    "}\n"
   ]
  },
  {
   "cell_type": "code",
   "execution_count": null,
   "id": "739c8c81-bfe2-4ee2-a569-f9e0e6c3247a",
   "metadata": {},
   "outputs": [],
   "source": [
    "# --------------------------------------------------------------------------------------\n",
    "# Execute\n",
    "# --------------------------------------------------------------------------------------\n",
    "\n",
    "def main():\n",
    "    \n",
    "    import os\n",
    "    import pandas as pd\n",
    "\n",
    "    filename = \"/content/drive/MyDrive/Colab Notebooks/SLDS/Data/bbg_data.xlsx\"\n",
    "    out_path = \"/content/drive/MyDrive/Colab Notebooks/SLDS/Output/\"\n",
    "    csv_path = f\"{out_path}/gridsearch_results.csv\"\n",
    "    \n",
    "    # df = pd.read_excel(filename, sheet_name=\"SPX_PX\", skiprows=4, index_col=0)\n",
    "    # df = df.iloc[3:, :]\n",
    "    # securities_master = df.columns.to_list()\n",
    "    \n",
    "    # securities_master = ['MSFT', 'NVDA', 'AAPL', 'AMZN', 'META', 'AVGO', 'GOOGL', 'TSLA']\n",
    "\n",
    "    securities_master = [\n",
    "        \"MSFT\",\"NVDA\",\"AAPL\",\"AVGO\",\"GOOGL\",\"ORCL\",\"IBM\",\"CSCO\",\"CRM\",\"AMD\",\"INTU\",\"NOW\",\"TXN\",\"QCOM\",\n",
    "        \"ADBE\",\"AMAT\",\"PLTR\",\"ACN\",\"META\",\"NFLX\",\"GOOGL\",\"GOOG\",\"DIS\",\"VZ\",\"T\",\"UBER\",\"AMZN\",\"TSLA\",\"HD\",\n",
    "        \"MCD\",\"BKNG\",\"COST\",\"WMT\",\"PG\",\"KO\",\"PM\",\"PEP\",\"BRK/B\",\"JPM\",\"V\",\"MA\",\"BAC\",\"WFC\",\"GS\",\"MS\",\"SPGI\",\n",
    "        \"SCHW\",\"AXP\",\"BLK\",\"C\",\"PGR\",\"LLY\",\"JNJ\",\"ABBV\",\"UNH\",\"ABT\",\"MRK\",\"ISRG\",\"BSX\",\"TMO\",\"AMGN\",\"RTX\",\n",
    "        \"XOM\",\"CVX\",\"GE\",\"CAT\",\"BA\",\"HON\",\"LIN\",\"NEE\",\"DUK\",\"SO\",\"AEP\",\"D\",\"AMT\",\"PLD\",\"EQIX\",\"O\",\"CBRE\"\n",
    "    ]\n",
    "\n",
    "    # resume if CSV exists; otherwise start from beginning\n",
    "    if os.path.exists(csv_path) and os.path.getsize(csv_path) > 0:\n",
    "        df = pd.read_csv(csv_path)\n",
    "        if \"security\" in df.columns and len(df) > 0:\n",
    "            last_done = df[\"security\"].iloc[-1]\n",
    "            start_idx = securities_master.index(last_done)\n",
    "            securities = securities_master[start_idx:]       # inclusive; use +1 to start after\n",
    "            print(\"Resuming from:\", last_done)\n",
    "        else:\n",
    "            securities = securities_master\n",
    "            print(\"Resuming from: START (empty CSV or missing column)\")\n",
    "    else:\n",
    "        securities = securities_master\n",
    "        print(\"Resuming from: START (no CSV)\")\n",
    "\n",
    "    print(\"Remaining tickers:\", len(securities))\n",
    "    _ = pipeline_actual(securities=securities, CONFIG=CONFIG, filename=filename, out_path=out_path)\n",
    "\n",
    "if __name__ == \"__main__\":\n",
    "    main()\n"
   ]
  },
  {
   "cell_type": "code",
   "execution_count": null,
   "id": "d6b5071b-8e50-4388-ba2d-0625e1e40363",
   "metadata": {},
   "outputs": [],
   "source": []
  }
 ],
 "metadata": {
  "kernelspec": {
   "display_name": "Python [conda env:base] *",
   "language": "python",
   "name": "conda-base-py"
  },
  "language_info": {
   "codemirror_mode": {
    "name": "ipython",
    "version": 3
   },
   "file_extension": ".py",
   "mimetype": "text/x-python",
   "name": "python",
   "nbconvert_exporter": "python",
   "pygments_lexer": "ipython3",
   "version": "3.12.2"
  }
 },
 "nbformat": 4,
 "nbformat_minor": 5
}
